{
 "cells": [
  {
   "cell_type": "markdown",
   "metadata": {},
   "source": [
    "Importamos librerias"
   ]
  },
  {
   "cell_type": "code",
   "execution_count": 3,
   "metadata": {},
   "outputs": [],
   "source": [
    "import numpy as np\n",
    "import pandas as pd\n",
    "from sklearn.model_selection import train_test_split\n",
    "from sklearn.linear_model import LinearRegression\n",
    "from sklearn.preprocessing import StandardScaler\n",
    "from sklearn.compose import make_column_selector\n",
    "from sklearn.model_selection import cross_val_score\n",
    "from sklearn import metrics"
   ]
  },
  {
   "cell_type": "markdown",
   "metadata": {},
   "source": [
    "Función de One Hot Enconding"
   ]
  },
  {
   "cell_type": "code",
   "execution_count": 30,
   "metadata": {},
   "outputs": [],
   "source": [
    "# Archivo utilizado para crear la función de One Hot Encoding\n",
    "############################################################# \n",
    "\n",
    "# Función auxiliar: Toma un df de variables categoricas y selección el top_x de categorias\n",
    "def one_hot_top_x(cat_df, variable,top_x_labels):\n",
    "    for label in top_x_labels:\n",
    "        cat_df[str(variable)+'_'+str(label)] = np.where(cat_df[variable]==label,1,0)\n",
    "\n",
    "# Función One Hot Encoder: Toma un DF y le hace una transformación de One Hot Encoder para con las categorias más repetidas \n",
    "def one_hot_encoder(df,top_x):\n",
    "    # Separo variables categoricas de númericas\n",
    "    num_cols = df.select_dtypes(include=['float64', 'int']).columns.to_list()\n",
    "    cat_cols = df.select_dtypes(include=['object', 'category']).columns.to_list()\n",
    "    \n",
    "    # Armo un DF solo con variables categoricas\n",
    "    cat_df = df.drop(num_cols,axis=1)\n",
    "    # Armo un DF solo con variables categoricas\n",
    "    num_df = df.drop(cat_cols,axis=1)\n",
    "   \n",
    "    # Itero entre las variables categoricas y me quedo con el top 10 variables\n",
    "    for variable in cat_cols:\n",
    "        top_10 = [x for x in cat_df[variable].value_counts().sort_values(ascending=False).head(top_x).index]\n",
    "        one_hot_top_x(cat_df,variable,top_10)\n",
    "    \n",
    "    cat_df = cat_df.drop(cat_cols,axis=1)\n",
    "    df = pd.concat([cat_df,num_df], axis =1)\n",
    "    \n",
    "    return df"
   ]
  },
  {
   "cell_type": "markdown",
   "metadata": {},
   "source": [
    "Importamos datos"
   ]
  },
  {
   "cell_type": "code",
   "execution_count": 31,
   "metadata": {},
   "outputs": [
    {
     "name": "stderr",
     "output_type": "stream",
     "text": [
      "C:\\Users\\LUCIA~1.LOP\\AppData\\Local\\Temp/ipykernel_28492/187505526.py:7: PerformanceWarning: DataFrame is highly fragmented.  This is usually the result of calling `frame.insert` many times, which has poor performance.  Consider joining all columns at once using pd.concat(axis=1) instead.  To get a de-fragmented frame, use `newframe = frame.copy()`\n",
      "  cat_df[str(variable)+'_'+str(label)] = np.where(cat_df[variable]==label,1,0)\n"
     ]
    }
   ],
   "source": [
    "# Levantamos los datos procesados\n",
    "datos_meli = pd.read_excel('data_ready_to_model_api_simple.xlsx')\n",
    "datos_meli['type'] = 'meli'\n",
    "\n",
    "datos_kavak = pd.read_excel('base_kavak.xlsx')\n",
    "datos_kavak['type'] = 'kavak' \n",
    "\n",
    "# Edito el motor a número\n",
    "datos_kavak['Motor'] = datos_kavak['Motor'].astype(str)\n",
    "\n",
    "# Uno los DF\n",
    "frames = [datos_meli, datos_kavak]\n",
    "datos = pd.concat(frames)\n",
    "\n",
    "# Los paso por One Hot Encoder\n",
    "datos = one_hot_encoder(datos,100)\n",
    "\n",
    "# Separo los datos de Meli\n",
    "datos_meli = datos[(datos['type_meli'] == 1)] \n",
    "datos_meli = datos_meli.drop('type_kavak',axis=1)\n",
    "datos_meli = datos_meli.drop('type_meli',axis=1)"
   ]
  },
  {
   "cell_type": "markdown",
   "metadata": {},
   "source": [
    "Creamos grupos de Train & Test"
   ]
  },
  {
   "cell_type": "code",
   "execution_count": 32,
   "metadata": {},
   "outputs": [
    {
     "name": "stdout",
     "output_type": "stream",
     "text": [
      "Partición de entrenamiento\n",
      "-----------------------\n",
      "count    4.547000e+03\n",
      "mean     3.363625e+06\n",
      "std      1.742930e+06\n",
      "min      5.500000e+05\n",
      "25%      2.130000e+06\n",
      "50%      2.950000e+06\n",
      "75%      4.200000e+06\n",
      "max      3.070000e+07\n",
      "Name: price, dtype: float64\n",
      "Partición de test\n",
      "-----------------------\n",
      "count    1.137000e+03\n",
      "mean     3.289235e+06\n",
      "std      1.658179e+06\n",
      "min      4.336800e+05\n",
      "25%      2.100000e+06\n",
      "50%      2.899900e+06\n",
      "75%      4.250000e+06\n",
      "max      1.250000e+07\n",
      "Name: price, dtype: float64\n"
     ]
    }
   ],
   "source": [
    "x = datos_meli.drop('price',axis=1)\n",
    "\n",
    "#separte the predicting attribute into Y for model training \n",
    "y = datos_meli['price']\n",
    "y_ln = np.log(datos_meli['price'])\n",
    "\n",
    "X_train, X_test, y_train, y_test = train_test_split(\n",
    "                                        x,\n",
    "                                        y,\n",
    "                                        train_size   = 0.8,\n",
    "                                        random_state = 1234,\n",
    "                                        shuffle      = True\n",
    "                                    )\n",
    "\n",
    "#%%\n",
    "print(\"Partición de entrenamiento\")\n",
    "print(\"-----------------------\")\n",
    "print(y_train.describe())\n",
    "\n",
    "print(\"Partición de test\")\n",
    "print(\"-----------------------\")\n",
    "print(y_test.describe())"
   ]
  },
  {
   "cell_type": "markdown",
   "metadata": {},
   "source": [
    "Entrenamos el modelo"
   ]
  },
  {
   "cell_type": "code",
   "execution_count": 21,
   "metadata": {},
   "outputs": [],
   "source": [
    "model = LinearRegression()\n",
    "model.fit(X_train, y_train)\n",
    "y_pred = model.predict(X_test)"
   ]
  },
  {
   "cell_type": "markdown",
   "metadata": {},
   "source": [
    "Miramos resultados"
   ]
  },
  {
   "cell_type": "code",
   "execution_count": 22,
   "metadata": {},
   "outputs": [
    {
     "name": "stdout",
     "output_type": "stream",
     "text": [
      "Mean Absolute Error: 417.3\n",
      "Mean Squared Error: 405827913.16\n",
      "Root Mean Squared Error: 637.05\n"
     ]
    }
   ],
   "source": [
    "print('Mean Absolute Error:', round(metrics.mean_absolute_error(y_test, y_pred)/1000,2))\n",
    "\n",
    "# MAE: Mean Absolute Error: 1.03 --> Con outliers\n",
    "# MAE: Mean Absolute Error: 0.56 --> Sin ourliers\n",
    "# Mean Absolute Error: 0.48 --> Aplicando LN a Precio (error)\n",
    "# Mean Absolute Error: 0.86\n",
    "\n",
    "print('Mean Squared Error:', round(metrics.mean_squared_error(y_test, y_pred)/1000,2))\n",
    "# MSE: Mean Squared Error: 3,732,143.07\n",
    "# MSE: Mean Squared Error: 6,599,540.41 --> Con LN  \n",
    "\n",
    "print('Root Mean Squared Error:', round(np.sqrt(metrics.mean_squared_error(y_test, y_pred))/1000,2))\n",
    "# Root Mean Squared Error: 1.93\n",
    "# Root Mean Squared Error: 0.74\n",
    "# Root Mean Squared Error: 2.57 --> Con LN\n",
    "\n",
    "\n",
    "# Con Api\n",
    "# Mean Absolute Error: 0.42\n",
    "# Mean Squared Error: 405827.91\n",
    "# Root Mean Squared Error: 0.64\n"
   ]
  },
  {
   "cell_type": "markdown",
   "metadata": {},
   "source": [
    "Entrenamos un Modelo con Logaritmo y vemos sus resultados"
   ]
  },
  {
   "cell_type": "code",
   "execution_count": 33,
   "metadata": {},
   "outputs": [
    {
     "name": "stdout",
     "output_type": "stream",
     "text": [
      "Partición de entrenamiento\n",
      "-----------------------\n",
      "count    4547.000000\n",
      "mean       14.909771\n",
      "std         0.487622\n",
      "min        13.217674\n",
      "25%        14.571633\n",
      "50%        14.897316\n",
      "75%        15.250595\n",
      "max        17.239773\n",
      "Name: price, dtype: float64\n",
      "Partición de test\n",
      "-----------------------\n",
      "count    1137.000000\n",
      "mean       14.886646\n",
      "std         0.494426\n",
      "min        12.980062\n",
      "25%        14.557448\n",
      "50%        14.880187\n",
      "75%        15.262430\n",
      "max        16.341239\n",
      "Name: price, dtype: float64\n",
      "Mean Absolute Error: 322.44\n",
      "Mean Squared Error: 273942342.62\n",
      "Root Mean Squared Error: 523.4\n"
     ]
    }
   ],
   "source": [
    "# Separamos en Train & Test\n",
    "\n",
    "X_train, X_test, y_train_ln, y_test_ln = train_test_split(\n",
    "                                        x,\n",
    "                                        y_ln,\n",
    "                                        train_size   = 0.8,\n",
    "                                        random_state = 1234,\n",
    "                                        shuffle      = True\n",
    "                                    )\n",
    "\n",
    "#%%\n",
    "print(\"Partición de entrenamiento\")\n",
    "print(\"-----------------------\")\n",
    "print(y_train_ln.describe())\n",
    "\n",
    "print(\"Partición de test\")\n",
    "print(\"-----------------------\")\n",
    "print(y_test_ln.describe())\n",
    "\n",
    "# Entrenamos el modelo\n",
    "\n",
    "model = LinearRegression()\n",
    "model.fit(X_train, y_train_ln)\n",
    "y_pred_ln = model.predict(X_test)\n",
    "\n",
    "#  Saco exponencial de los valores de Y\n",
    "y_test = np.exp(y_test_ln)\n",
    "y_pred = np.exp(y_pred_ln)\n",
    "\n",
    "print('Mean Absolute Error:', round(metrics.mean_absolute_error(y_test, y_pred)/1000,2))\n",
    "\n",
    "print('Mean Squared Error:', round(metrics.mean_squared_error(y_test, y_pred)/1000,2))\n",
    "\n",
    "print('Root Mean Squared Error:', round(np.sqrt(metrics.mean_squared_error(y_test, y_pred))/1000,2))\n",
    "\n",
    "\n",
    "# Mean Absolute Error: 331.45\n",
    "# Mean Squared Error: 274555797.78\n",
    "# Root Mean Squared Error: 523.98"
   ]
  },
  {
   "cell_type": "markdown",
   "metadata": {},
   "source": [
    "Medimos los datos de Kavak"
   ]
  },
  {
   "cell_type": "code",
   "execution_count": 34,
   "metadata": {},
   "outputs": [
    {
     "name": "stdout",
     "output_type": "stream",
     "text": [
      "Mean Absolute Error: 3414.87\n",
      "Mean Squared Error: 13674680874.97\n",
      "Root Mean Squared Error: 3697.93\n"
     ]
    }
   ],
   "source": [
    "####################################################\n",
    "#### Prueba de datos de Kavak\n",
    "#%%\n",
    "# Separo en Y y X\n",
    "datos_kavak = datos[(datos['type_kavak'] == 1)] \n",
    "datos_kavak = datos_kavak.drop('type_kavak',axis=1)\n",
    "datos_kavak = datos_kavak.drop('type_meli',axis=1)\n",
    "\n",
    "#separate the other attributes from the predicting attribute\n",
    "x_kavak = datos_kavak.drop('price',axis=1)\n",
    "\n",
    "#separte the predicting attribute into Y for model training \n",
    "y_kavak = np.log(datos_kavak['price'])\n",
    "\n",
    "# Predigo las x_kavak\n",
    "y_pred_kavak_ln = model.predict(x_kavak)\n",
    "\n",
    "#  Saco exponencial de los valores de Y\n",
    "y_pred_kavak = np.exp(y_pred_kavak_ln)\n",
    "\n",
    "print('Mean Absolute Error:', round(metrics.mean_absolute_error(y_kavak, y_pred_kavak)/1000,2))\n",
    "print('Mean Squared Error:', round(metrics.mean_squared_error(y_kavak, y_pred_kavak)/1000,2))\n",
    "print('Root Mean Squared Error:', round(np.sqrt(metrics.mean_squared_error(y_kavak, y_pred_kavak))/1000,2))\n",
    "# Mean Absolute Error: 3030.07\n",
    "# Mean Squared Error: 10459841498.76\n",
    "# Root Mean Squared Error: 3234.17"
   ]
  }
 ],
 "metadata": {
  "interpreter": {
   "hash": "e3e9a750fc05e5a08aac5c7f68a373d320e024e5143e44a9c92a2cb2852add95"
  },
  "kernelspec": {
   "display_name": "Python 3.9.7 ('base')",
   "language": "python",
   "name": "python3"
  },
  "language_info": {
   "codemirror_mode": {
    "name": "ipython",
    "version": 3
   },
   "file_extension": ".py",
   "mimetype": "text/x-python",
   "name": "python",
   "nbconvert_exporter": "python",
   "pygments_lexer": "ipython3",
   "version": "3.9.7"
  },
  "orig_nbformat": 4
 },
 "nbformat": 4,
 "nbformat_minor": 2
}
