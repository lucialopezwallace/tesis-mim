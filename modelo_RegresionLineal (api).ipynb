{
 "cells": [
  {
   "cell_type": "markdown",
   "metadata": {},
   "source": [
    "Importamos librerias"
   ]
  },
  {
   "cell_type": "code",
   "execution_count": 43,
   "metadata": {},
   "outputs": [],
   "source": [
    "import numpy as np\n",
    "import pandas as pd\n",
    "from sklearn.model_selection import train_test_split\n",
    "from sklearn.linear_model import LinearRegression\n",
    "from sklearn.preprocessing import StandardScaler\n",
    "from sklearn.compose import make_column_selector\n",
    "from sklearn.model_selection import cross_val_score\n",
    "from sklearn import metrics"
   ]
  },
  {
   "cell_type": "markdown",
   "metadata": {},
   "source": [
    "Función de One Hot Enconding"
   ]
  },
  {
   "cell_type": "code",
   "execution_count": 57,
   "metadata": {},
   "outputs": [],
   "source": [
    "# Archivo utilizado para crear la función de One Hot Encoding\n",
    "############################################################# \n",
    "\n",
    "# Función auxiliar: Toma un df de variables categoricas y selección el top_x de categorias\n",
    "def one_hot_top_x(cat_df, variable,top_x_labels):\n",
    "    for label in top_x_labels:\n",
    "        cat_df[str(variable)+'_'+str(label)] = np.where(cat_df[variable]==label,1,0)\n",
    "\n",
    "# Función One Hot Encoder: Toma un DF y le hace una transformación de One Hot Encoder para con las categorias más repetidas \n",
    "def one_hot_encoder(df,top_x):\n",
    "    # Separo variables categoricas de númericas\n",
    "    num_cols = df.select_dtypes(include=['float64', 'int']).columns.to_list()\n",
    "    cat_cols = df.select_dtypes(include=['object', 'category']).columns.to_list()\n",
    "    \n",
    "    # Armo un DF solo con variables categoricas\n",
    "    cat_df = df.drop(num_cols,axis=1)\n",
    "    # Armo un DF solo con variables categoricas\n",
    "    num_df = df.drop(cat_cols,axis=1)\n",
    "   \n",
    "    # Itero entre las variables categoricas y me quedo con el top 10 variables\n",
    "    for variable in cat_cols:\n",
    "        top_10 = [x for x in cat_df[variable].value_counts().sort_values(ascending=False).head(top_x).index]\n",
    "        one_hot_top_x(cat_df,variable,top_10)\n",
    "    \n",
    "    cat_df = cat_df.drop(cat_cols,axis=1)\n",
    "    df = pd.concat([cat_df,num_df], axis =1)\n",
    "    \n",
    "    return df"
   ]
  },
  {
   "cell_type": "markdown",
   "metadata": {},
   "source": [
    "Importamos datos"
   ]
  },
  {
   "cell_type": "code",
   "execution_count": 86,
   "metadata": {},
   "outputs": [
    {
     "name": "stderr",
     "output_type": "stream",
     "text": [
      "C:\\Users\\LUCIA~1.LOP\\AppData\\Local\\Temp/ipykernel_19604/187505526.py:7: PerformanceWarning: DataFrame is highly fragmented.  This is usually the result of calling `frame.insert` many times, which has poor performance.  Consider joining all columns at once using pd.concat(axis=1) instead.  To get a de-fragmented frame, use `newframe = frame.copy()`\n",
      "  cat_df[str(variable)+'_'+str(label)] = np.where(cat_df[variable]==label,1,0)\n"
     ]
    }
   ],
   "source": [
    "# Levantamos los datos procesados\n",
    "datos_meli = pd.read_excel('data_ready_to_model_api_simple.xlsx')\n",
    "datos_meli['type'] = 'meli'\n",
    "\n",
    "datos_kavak = pd.read_excel('base_kavak.xlsx')\n",
    "datos_kavak['type'] = 'kavak' \n",
    "\n",
    "# Edito el motor a número\n",
    "datos_kavak['Motor'] = datos_kavak['Motor'].astype(str)\n",
    "\n",
    "# Uno los DF\n",
    "frames = [datos_meli, datos_kavak]\n",
    "datos = pd.concat(frames)\n",
    "\n",
    "# Los paso por One Hot Encoder\n",
    "datos = one_hot_encoder(datos,100)\n",
    "\n",
    "# Separo los datos de Meli\n",
    "datos_meli = datos[(datos['type_meli'] == 1)] \n",
    "datos_meli = datos_meli.drop('type_kavak',axis=1)\n",
    "datos_meli = datos_meli.drop('type_meli',axis=1)"
   ]
  },
  {
   "cell_type": "markdown",
   "metadata": {},
   "source": [
    "MODELO DE REGRESION - Logaritmo de Precio (Base)"
   ]
  },
  {
   "cell_type": "code",
   "execution_count": 59,
   "metadata": {},
   "outputs": [
    {
     "name": "stdout",
     "output_type": "stream",
     "text": [
      "Partición de entrenamiento\n",
      "-----------------------\n",
      "count    3.957900e+04\n",
      "mean     2.876519e+06\n",
      "std      2.615258e+06\n",
      "min      1.000000e+05\n",
      "25%      1.550000e+06\n",
      "50%      2.350000e+06\n",
      "75%      3.590000e+06\n",
      "max      1.300000e+08\n",
      "Name: price, dtype: float64\n",
      "Partición de test\n",
      "-----------------------\n",
      "count    9.895000e+03\n",
      "mean     2.933694e+06\n",
      "std      3.277476e+06\n",
      "min      1.000000e+05\n",
      "25%      1.550000e+06\n",
      "50%      2.360010e+06\n",
      "75%      3.580000e+06\n",
      "max      1.500000e+08\n",
      "Name: price, dtype: float64\n"
     ]
    }
   ],
   "source": [
    "x = datos_meli.drop('price',axis=1)\n",
    "\n",
    "#separte the predicting attribute into Y for model training \n",
    "y = datos_meli['price']\n",
    "\n",
    "X_train, X_test, y_train, y_test = train_test_split(\n",
    "                                        x,\n",
    "                                        y,\n",
    "                                        train_size   = 0.8,\n",
    "                                        random_state = 1234,\n",
    "                                        shuffle      = True\n",
    "                                    )\n",
    "\n",
    "\n",
    "print(\"Partición de entrenamiento\")\n",
    "print(\"-----------------------\")\n",
    "print(y_train.describe())\n",
    "\n",
    "print(\"Partición de test\")\n",
    "print(\"-----------------------\")\n",
    "print(y_test.describe())"
   ]
  },
  {
   "cell_type": "markdown",
   "metadata": {},
   "source": [
    "Entrenamos el modelo"
   ]
  },
  {
   "cell_type": "code",
   "execution_count": 60,
   "metadata": {},
   "outputs": [],
   "source": [
    "model = LinearRegression()\n",
    "model.fit(X_train, y_train)\n",
    "y_pred = model.predict(X_test)"
   ]
  },
  {
   "cell_type": "markdown",
   "metadata": {},
   "source": [
    "Miramos resultados"
   ]
  },
  {
   "cell_type": "code",
   "execution_count": 61,
   "metadata": {},
   "outputs": [
    {
     "name": "stdout",
     "output_type": "stream",
     "text": [
      "Mean Absolute Error: 667.89\n",
      "Mean Squared Error: 7512690477.07\n",
      "Root Mean Squared Error: 2740.93\n"
     ]
    }
   ],
   "source": [
    "print('Mean Absolute Error:', round(metrics.mean_absolute_error(y_test, y_pred)/1000,2))\n",
    "\n",
    "# MAE: Mean Absolute Error: 1.03 --> Con outliers\n",
    "# MAE: Mean Absolute Error: 0.56 --> Sin ourliers\n",
    "# Mean Absolute Error: 0.48 --> Aplicando LN a Precio (error)\n",
    "# Mean Absolute Error: 0.86\n",
    "\n",
    "print('Mean Squared Error:', round(metrics.mean_squared_error(y_test, y_pred)/1000,2))\n",
    "# MSE: Mean Squared Error: 3,732,143.07\n",
    "# MSE: Mean Squared Error: 6,599,540.41 --> Con LN  \n",
    "\n",
    "print('Root Mean Squared Error:', round(np.sqrt(metrics.mean_squared_error(y_test, y_pred))/1000,2))\n",
    "# Root Mean Squared Error: 1.93\n",
    "# Root Mean Squared Error: 0.74\n",
    "# Root Mean Squared Error: 2.57 --> Con LN\n",
    "\n",
    "\n",
    "# Con Api\n",
    "# Mean Absolute Error: 0.42\n",
    "# Mean Squared Error: 405827.91\n",
    "# Root Mean Squared Error: 0.64\n",
    "\n",
    "# Con API New\n",
    "# Mean Absolute Error: 668.52\n",
    "# Mean Squared Error: 7513732110.61\n",
    "# Root Mean Squared Error: 2741.12\n"
   ]
  },
  {
   "cell_type": "markdown",
   "metadata": {},
   "source": [
    "MODELO DE REGRESION - Logaritmo de Precio (Logaritmo)"
   ]
  },
  {
   "cell_type": "code",
   "execution_count": 62,
   "metadata": {},
   "outputs": [
    {
     "name": "stdout",
     "output_type": "stream",
     "text": [
      "Mean Absolute Error: 494.89\n",
      "Mean Squared Error: 7094296315.81\n",
      "Root Mean Squared Error: 2663.51\n"
     ]
    }
   ],
   "source": [
    "# Separamos en Train & Test\n",
    "\n",
    "y_ln = np.log(datos_meli['price'])\n",
    "X_train, X_test, y_train_ln, y_test_ln = train_test_split(\n",
    "                                        x,\n",
    "                                        y_ln,\n",
    "                                        train_size   = 0.8,\n",
    "                                        random_state = 1234,\n",
    "                                        shuffle      = True\n",
    "                                    )\n",
    "\n",
    "# Entrenamos el modelo\n",
    "\n",
    "model_ln = LinearRegression()\n",
    "model_ln.fit(X_train, y_train_ln)\n",
    "y_pred_ln = model_ln.predict(X_test)\n",
    "\n",
    "#  Saco exponencial de los valores de Y\n",
    "y_test = np.exp(y_test_ln)\n",
    "y_pred = np.exp(y_pred_ln)\n",
    "\n",
    "print('Mean Absolute Error:', round(metrics.mean_absolute_error(y_test, y_pred)/1000,2))\n",
    "\n",
    "print('Mean Squared Error:', round(metrics.mean_squared_error(y_test, y_pred)/1000,2))\n",
    "\n",
    "print('Root Mean Squared Error:', round(np.sqrt(metrics.mean_squared_error(y_test, y_pred))/1000,2))\n",
    "\n",
    "\n",
    "# Mean Absolute Error: 331.45\n",
    "# Mean Squared Error: 274555797.78\n",
    "# Root Mean Squared Error: 523.98\n",
    "\n",
    "# Con api New\n",
    "# Mean Absolute Error: 494.75\n",
    "# Mean Squared Error: 7094414830.74\n",
    "# Root Mean Squared Error: 2663.53"
   ]
  },
  {
   "cell_type": "markdown",
   "metadata": {},
   "source": [
    "Medimos los datos de Kavak"
   ]
  },
  {
   "cell_type": "code",
   "execution_count": 87,
   "metadata": {},
   "outputs": [],
   "source": [
    "####################################################\n",
    "#### Prueba de datos de Kavak\n",
    "#%%\n",
    "# Separo en Y y X\n",
    "datos_kavak = datos[(datos['type_kavak'] == 1)] \n",
    "datos_kavak = datos_kavak.drop('type_kavak',axis=1)\n",
    "datos_kavak = datos_kavak.drop('type_meli',axis=1)\n",
    "\n",
    "#separate the other attributes from the predicting attribute\n",
    "x_kavak = datos_kavak.drop('price',axis=1)\n",
    "\n",
    "#separte the predicting attribute into Y for model training \n",
    "y_kavak = datos_kavak['price']\n",
    "\n",
    "# Predigo las x_kavak\n",
    "y_pred_kavak_ln = model_ln.predict(x_kavak)\n",
    "\n",
    "#  Saco exponencial de los valores de Y\n",
    "y_pred_kavak = np.exp(y_pred_kavak_ln)\n",
    "\n",
    "#print('Mean Absolute Error:', round(metrics.mean_absolute_error(y_kavak, y_pred_kavak)/1000,2))\n",
    "#print('Mean Squared Error:', round(metrics.mean_squared_error(y_kavak, y_pred_kavak)/1000,2))\n",
    "#print('Root Mean Squared Error:', round(np.sqrt(metrics.mean_squared_error(y_kavak, y_pred_kavak))/1000,2))\n",
    "# Mean Absolute Error: 3030.07\n",
    "# Mean Squared Error: 10459841498.76\n",
    "# Root Mean Squared Error: 3234.17\n",
    "\n",
    "print('Mean Absolute Error:', round(metrics.mean_absolute_error(y_kavak, y_pred_kavak)/1000,2))\n",
    "print('Mean Squared Error:', round(metrics.mean_squared_error(y_kavak, y_pred_kavak)/1000,2))\n",
    "print('Root Mean Squared Error:', round(np.sqrt(metrics.mean_squared_error(y_kavak, y_pred_kavak))/1000,2))"
   ]
  },
  {
   "cell_type": "code",
   "execution_count": 90,
   "metadata": {},
   "outputs": [
    {
     "name": "stdout",
     "output_type": "stream",
     "text": [
      "Mean Absolute Error: 688.24\n",
      "Mean Squared Error: 755715179.67\n",
      "Root Mean Squared Error: 869.32\n"
     ]
    }
   ],
   "source": [
    "####################################################\n",
    "#### Prueba de datos de Kavak\n",
    "#%%\n",
    "# Separo en Y y X\n",
    "datos_kavak = datos[(datos['type_kavak'] == 1)] \n",
    "datos_kavak = datos_kavak.drop('type_kavak',axis=1)\n",
    "datos_kavak = datos_kavak.drop('type_meli',axis=1)\n",
    "\n",
    "#separate the other attributes from the predicting attribute\n",
    "x_kavak = datos_kavak.drop('price',axis=1)\n",
    "\n",
    "#separte the predicting attribute into Y for model training \n",
    "y_kavak = datos_kavak['price']\n",
    "\n",
    "# Predigo las x_kavak\n",
    "y_pred_kavak = model.predict(x_kavak)\n",
    "\n",
    "#print('Mean Absolute Error:', round(metrics.mean_absolute_error(y_kavak, y_pred_kavak)/1000,2))\n",
    "#print('Mean Squared Error:', round(metrics.mean_squared_error(y_kavak, y_pred_kavak)/1000,2))\n",
    "#print('Root Mean Squared Error:', round(np.sqrt(metrics.mean_squared_error(y_kavak, y_pred_kavak))/1000,2))\n",
    "# Mean Absolute Error: 3030.07\n",
    "# Mean Squared Error: 10459841498.76\n",
    "# Root Mean Squared Error: 3234.17\n",
    "\n",
    "print('Mean Absolute Error:', round(metrics.mean_absolute_error(y_kavak, y_pred_kavak)/1000,2))\n",
    "print('Mean Squared Error:', round(metrics.mean_squared_error(y_kavak, y_pred_kavak)/1000,2))\n",
    "print('Root Mean Squared Error:', round(np.sqrt(metrics.mean_squared_error(y_kavak, y_pred_kavak))/1000,2))"
   ]
  }
 ],
 "metadata": {
  "interpreter": {
   "hash": "8cf70fa425c1af7ec2a70e768ac357c0906a7df2aaa6930987a347744fc5cd8d"
  },
  "kernelspec": {
   "display_name": "Python 3.9.7 ('base')",
   "language": "python",
   "name": "python3"
  },
  "language_info": {
   "codemirror_mode": {
    "name": "ipython",
    "version": 3
   },
   "file_extension": ".py",
   "mimetype": "text/x-python",
   "name": "python",
   "nbconvert_exporter": "python",
   "pygments_lexer": "ipython3",
   "version": "3.9.7"
  },
  "orig_nbformat": 4
 },
 "nbformat": 4,
 "nbformat_minor": 2
}
