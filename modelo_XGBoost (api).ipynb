{
 "cells": [
  {
   "cell_type": "markdown",
   "metadata": {},
   "source": [
    "Importamos librerias"
   ]
  },
  {
   "cell_type": "code",
   "execution_count": 1,
   "metadata": {},
   "outputs": [],
   "source": [
    "from sklearn.model_selection import train_test_split\n",
    "import xgboost as xgb\n",
    "from sklearn import metrics\n",
    "from sklearn.model_selection import RandomizedSearchCV\n",
    "import pandas as pd\n",
    "import matplotlib.pyplot as plt\n",
    "import numpy as np\n",
    "from sklearn.model_selection import GridSearchCV\n",
    "from matplotlib import pyplot"
   ]
  },
  {
   "cell_type": "markdown",
   "metadata": {},
   "source": [
    "Funcion de One Hot Encoder"
   ]
  },
  {
   "cell_type": "code",
   "execution_count": 2,
   "metadata": {},
   "outputs": [],
   "source": [
    "# Archivo utilizado para crear la función de One Hot Encoding\n",
    "############################################################# \n",
    "\n",
    "# Función auxiliar: Toma un df de variables categoricas y selección el top_x de categorias\n",
    "def one_hot_top_x(cat_df, variable,top_x_labels):\n",
    "    for label in top_x_labels:\n",
    "        cat_df[str(variable)+'_'+str(label)] = np.where(cat_df[variable]==label,1,0)\n",
    "\n",
    "# Función One Hot Encoder: Toma un DF y le hace una transformación de One Hot Encoder para con las categorias más repetidas \n",
    "def one_hot_encoder(df,top_x):\n",
    "    # Separo variables categoricas de númericas\n",
    "    num_cols = df.select_dtypes(include=['float64', 'int']).columns.to_list()\n",
    "    cat_cols = df.select_dtypes(include=['object', 'category']).columns.to_list()\n",
    "    \n",
    "    # Armo un DF solo con variables categoricas\n",
    "    cat_df = df.drop(num_cols,axis=1)\n",
    "    # Armo un DF solo con variables categoricas\n",
    "    num_df = df.drop(cat_cols,axis=1)\n",
    "   \n",
    "    # Itero entre las variables categoricas y me quedo con el top 10 variables\n",
    "    for variable in cat_cols:\n",
    "        top_10 = [x for x in cat_df[variable].value_counts().sort_values(ascending=False).head(top_x).index]\n",
    "        one_hot_top_x(cat_df,variable,top_10)\n",
    "    \n",
    "    cat_df = cat_df.drop(cat_cols,axis=1)\n",
    "    df = pd.concat([cat_df,num_df], axis =1)\n",
    "    \n",
    "    return df"
   ]
  },
  {
   "cell_type": "markdown",
   "metadata": {},
   "source": [
    "Importamos datos"
   ]
  },
  {
   "cell_type": "code",
   "execution_count": 8,
   "metadata": {},
   "outputs": [],
   "source": [
    "# Levantamos los datos procesados\n",
    "datos_meli = pd.read_excel('data_ready_to_model_api_simple.xlsx')\n",
    "datos_meli['type'] = 'meli'\n",
    "\n",
    "datos_kavak = pd.read_excel('base_kavak.xlsx')\n",
    "datos_kavak['type'] = 'kavak' \n",
    "\n",
    "# Edito el motor a número\n",
    "datos_kavak['Motor'] = datos_kavak['Motor'].astype(str)\n",
    "\n",
    "# Uno los DF\n",
    "frames = [datos_meli, datos_kavak]\n",
    "datos = pd.concat(frames)\n",
    "\n",
    "# Los paso por One Hot Encoder\n",
    "# datos = one_hot_encoder(datos,100)\n",
    "\n",
    "# Separo los datos de Meli\n",
    "datos_meli = datos[(datos['type'] == 'meli')] \n",
    "datos_meli = datos_meli.drop('type',axis=1)\n"
   ]
  },
  {
   "cell_type": "markdown",
   "metadata": {},
   "source": [
    "Separamos en Train & Test"
   ]
  },
  {
   "cell_type": "code",
   "execution_count": 9,
   "metadata": {},
   "outputs": [],
   "source": [
    "#separate the other attributes from the predicting attribute\n",
    "x = datos_meli.drop('price',axis=1)\n",
    "\n",
    "#separte the predicting attribute into Y for model training \n",
    "y = np.log(datos_meli['price'])\n",
    "\n",
    "X_train, X_test, y_train, y_test = train_test_split(x, y, test_size=0.2, random_state=123)"
   ]
  },
  {
   "cell_type": "markdown",
   "metadata": {},
   "source": [
    "Entrenamos el modelo"
   ]
  },
  {
   "cell_type": "code",
   "execution_count": 12,
   "metadata": {},
   "outputs": [
    {
     "ename": "ValueError",
     "evalue": "DataFrame.dtypes for data must be int, float, bool or category.  When\ncategorical type is supplied, DMatrix parameter `enable_categorical` must\nbe set to `True`. Invalid columns:currency_id, condition, Marca, Motor, Tipo de combustible, Modelo, Transmisión, Versión, adressstate_name, adresscity_name",
     "output_type": "error",
     "traceback": [
      "\u001b[1;31m---------------------------------------------------------------------------\u001b[0m",
      "\u001b[1;31mValueError\u001b[0m                                Traceback (most recent call last)",
      "\u001b[1;32mC:\\Users\\LUCIA~1.LOP\\AppData\\Local\\Temp/ipykernel_204/870428558.py\u001b[0m in \u001b[0;36m<module>\u001b[1;34m\u001b[0m\n\u001b[0;32m      2\u001b[0m xg_reg = xgb.XGBRegressor(objective ='reg:linear', enable_categorical = True , colsample_bytree = 0.7999999999999999, learning_rate = 0.1,\n\u001b[0;32m      3\u001b[0m                 max_depth = 6, alpha = 10, n_estimators = 1000, colsample_bylevel =  0.6, subsample = 0.8999999999999999)\n\u001b[1;32m----> 4\u001b[1;33m \u001b[0mxg_reg\u001b[0m\u001b[1;33m.\u001b[0m\u001b[0mfit\u001b[0m\u001b[1;33m(\u001b[0m\u001b[0mX_train\u001b[0m\u001b[1;33m,\u001b[0m\u001b[0my_train\u001b[0m\u001b[1;33m)\u001b[0m\u001b[1;33m\u001b[0m\u001b[1;33m\u001b[0m\u001b[0m\n\u001b[0m",
      "\u001b[1;32mc:\\Users\\lucia.lopez_kavak\\anaconda3\\lib\\site-packages\\xgboost\\core.py\u001b[0m in \u001b[0;36minner_f\u001b[1;34m(*args, **kwargs)\u001b[0m\n\u001b[0;32m    504\u001b[0m         \u001b[1;32mfor\u001b[0m \u001b[0mk\u001b[0m\u001b[1;33m,\u001b[0m \u001b[0marg\u001b[0m \u001b[1;32min\u001b[0m \u001b[0mzip\u001b[0m\u001b[1;33m(\u001b[0m\u001b[0msig\u001b[0m\u001b[1;33m.\u001b[0m\u001b[0mparameters\u001b[0m\u001b[1;33m,\u001b[0m \u001b[0margs\u001b[0m\u001b[1;33m)\u001b[0m\u001b[1;33m:\u001b[0m\u001b[1;33m\u001b[0m\u001b[1;33m\u001b[0m\u001b[0m\n\u001b[0;32m    505\u001b[0m             \u001b[0mkwargs\u001b[0m\u001b[1;33m[\u001b[0m\u001b[0mk\u001b[0m\u001b[1;33m]\u001b[0m \u001b[1;33m=\u001b[0m \u001b[0marg\u001b[0m\u001b[1;33m\u001b[0m\u001b[1;33m\u001b[0m\u001b[0m\n\u001b[1;32m--> 506\u001b[1;33m         \u001b[1;32mreturn\u001b[0m \u001b[0mf\u001b[0m\u001b[1;33m(\u001b[0m\u001b[1;33m**\u001b[0m\u001b[0mkwargs\u001b[0m\u001b[1;33m)\u001b[0m\u001b[1;33m\u001b[0m\u001b[1;33m\u001b[0m\u001b[0m\n\u001b[0m\u001b[0;32m    507\u001b[0m \u001b[1;33m\u001b[0m\u001b[0m\n\u001b[0;32m    508\u001b[0m     \u001b[1;32mreturn\u001b[0m \u001b[0minner_f\u001b[0m\u001b[1;33m\u001b[0m\u001b[1;33m\u001b[0m\u001b[0m\n",
      "\u001b[1;32mc:\\Users\\lucia.lopez_kavak\\anaconda3\\lib\\site-packages\\xgboost\\sklearn.py\u001b[0m in \u001b[0;36mfit\u001b[1;34m(self, X, y, sample_weight, base_margin, eval_set, eval_metric, early_stopping_rounds, verbose, xgb_model, sample_weight_eval_set, base_margin_eval_set, feature_weights, callbacks)\u001b[0m\n\u001b[0;32m    759\u001b[0m         \"\"\"\n\u001b[0;32m    760\u001b[0m         \u001b[0mevals_result\u001b[0m\u001b[1;33m:\u001b[0m \u001b[0mTrainingCallback\u001b[0m\u001b[1;33m.\u001b[0m\u001b[0mEvalsLog\u001b[0m \u001b[1;33m=\u001b[0m \u001b[1;33m{\u001b[0m\u001b[1;33m}\u001b[0m\u001b[1;33m\u001b[0m\u001b[1;33m\u001b[0m\u001b[0m\n\u001b[1;32m--> 761\u001b[1;33m         train_dmatrix, evals = _wrap_evaluation_matrices(\n\u001b[0m\u001b[0;32m    762\u001b[0m             \u001b[0mmissing\u001b[0m\u001b[1;33m=\u001b[0m\u001b[0mself\u001b[0m\u001b[1;33m.\u001b[0m\u001b[0mmissing\u001b[0m\u001b[1;33m,\u001b[0m\u001b[1;33m\u001b[0m\u001b[1;33m\u001b[0m\u001b[0m\n\u001b[0;32m    763\u001b[0m             \u001b[0mX\u001b[0m\u001b[1;33m=\u001b[0m\u001b[0mX\u001b[0m\u001b[1;33m,\u001b[0m\u001b[1;33m\u001b[0m\u001b[1;33m\u001b[0m\u001b[0m\n",
      "\u001b[1;32mc:\\Users\\lucia.lopez_kavak\\anaconda3\\lib\\site-packages\\xgboost\\sklearn.py\u001b[0m in \u001b[0;36m_wrap_evaluation_matrices\u001b[1;34m(missing, X, y, group, qid, sample_weight, base_margin, feature_weights, eval_set, sample_weight_eval_set, base_margin_eval_set, eval_group, eval_qid, create_dmatrix, enable_categorical, label_transform)\u001b[0m\n\u001b[0;32m    284\u001b[0m \u001b[1;33m\u001b[0m\u001b[0m\n\u001b[0;32m    285\u001b[0m     \"\"\"\n\u001b[1;32m--> 286\u001b[1;33m     train_dmatrix = create_dmatrix(\n\u001b[0m\u001b[0;32m    287\u001b[0m         \u001b[0mdata\u001b[0m\u001b[1;33m=\u001b[0m\u001b[0mX\u001b[0m\u001b[1;33m,\u001b[0m\u001b[1;33m\u001b[0m\u001b[1;33m\u001b[0m\u001b[0m\n\u001b[0;32m    288\u001b[0m         \u001b[0mlabel\u001b[0m\u001b[1;33m=\u001b[0m\u001b[0mlabel_transform\u001b[0m\u001b[1;33m(\u001b[0m\u001b[0my\u001b[0m\u001b[1;33m)\u001b[0m\u001b[1;33m,\u001b[0m\u001b[1;33m\u001b[0m\u001b[1;33m\u001b[0m\u001b[0m\n",
      "\u001b[1;32mc:\\Users\\lucia.lopez_kavak\\anaconda3\\lib\\site-packages\\xgboost\\sklearn.py\u001b[0m in \u001b[0;36m<lambda>\u001b[1;34m(**kwargs)\u001b[0m\n\u001b[0;32m    773\u001b[0m             \u001b[0meval_group\u001b[0m\u001b[1;33m=\u001b[0m\u001b[1;32mNone\u001b[0m\u001b[1;33m,\u001b[0m\u001b[1;33m\u001b[0m\u001b[1;33m\u001b[0m\u001b[0m\n\u001b[0;32m    774\u001b[0m             \u001b[0meval_qid\u001b[0m\u001b[1;33m=\u001b[0m\u001b[1;32mNone\u001b[0m\u001b[1;33m,\u001b[0m\u001b[1;33m\u001b[0m\u001b[1;33m\u001b[0m\u001b[0m\n\u001b[1;32m--> 775\u001b[1;33m             \u001b[0mcreate_dmatrix\u001b[0m\u001b[1;33m=\u001b[0m\u001b[1;32mlambda\u001b[0m \u001b[1;33m**\u001b[0m\u001b[0mkwargs\u001b[0m\u001b[1;33m:\u001b[0m \u001b[0mDMatrix\u001b[0m\u001b[1;33m(\u001b[0m\u001b[0mnthread\u001b[0m\u001b[1;33m=\u001b[0m\u001b[0mself\u001b[0m\u001b[1;33m.\u001b[0m\u001b[0mn_jobs\u001b[0m\u001b[1;33m,\u001b[0m \u001b[1;33m**\u001b[0m\u001b[0mkwargs\u001b[0m\u001b[1;33m)\u001b[0m\u001b[1;33m,\u001b[0m\u001b[1;33m\u001b[0m\u001b[1;33m\u001b[0m\u001b[0m\n\u001b[0m\u001b[0;32m    776\u001b[0m             \u001b[0menable_categorical\u001b[0m\u001b[1;33m=\u001b[0m\u001b[0mself\u001b[0m\u001b[1;33m.\u001b[0m\u001b[0menable_categorical\u001b[0m\u001b[1;33m,\u001b[0m\u001b[1;33m\u001b[0m\u001b[1;33m\u001b[0m\u001b[0m\n\u001b[0;32m    777\u001b[0m         )\n",
      "\u001b[1;32mc:\\Users\\lucia.lopez_kavak\\anaconda3\\lib\\site-packages\\xgboost\\core.py\u001b[0m in \u001b[0;36minner_f\u001b[1;34m(*args, **kwargs)\u001b[0m\n\u001b[0;32m    504\u001b[0m         \u001b[1;32mfor\u001b[0m \u001b[0mk\u001b[0m\u001b[1;33m,\u001b[0m \u001b[0marg\u001b[0m \u001b[1;32min\u001b[0m \u001b[0mzip\u001b[0m\u001b[1;33m(\u001b[0m\u001b[0msig\u001b[0m\u001b[1;33m.\u001b[0m\u001b[0mparameters\u001b[0m\u001b[1;33m,\u001b[0m \u001b[0margs\u001b[0m\u001b[1;33m)\u001b[0m\u001b[1;33m:\u001b[0m\u001b[1;33m\u001b[0m\u001b[1;33m\u001b[0m\u001b[0m\n\u001b[0;32m    505\u001b[0m             \u001b[0mkwargs\u001b[0m\u001b[1;33m[\u001b[0m\u001b[0mk\u001b[0m\u001b[1;33m]\u001b[0m \u001b[1;33m=\u001b[0m \u001b[0marg\u001b[0m\u001b[1;33m\u001b[0m\u001b[1;33m\u001b[0m\u001b[0m\n\u001b[1;32m--> 506\u001b[1;33m         \u001b[1;32mreturn\u001b[0m \u001b[0mf\u001b[0m\u001b[1;33m(\u001b[0m\u001b[1;33m**\u001b[0m\u001b[0mkwargs\u001b[0m\u001b[1;33m)\u001b[0m\u001b[1;33m\u001b[0m\u001b[1;33m\u001b[0m\u001b[0m\n\u001b[0m\u001b[0;32m    507\u001b[0m \u001b[1;33m\u001b[0m\u001b[0m\n\u001b[0;32m    508\u001b[0m     \u001b[1;32mreturn\u001b[0m \u001b[0minner_f\u001b[0m\u001b[1;33m\u001b[0m\u001b[1;33m\u001b[0m\u001b[0m\n",
      "\u001b[1;32mc:\\Users\\lucia.lopez_kavak\\anaconda3\\lib\\site-packages\\xgboost\\core.py\u001b[0m in \u001b[0;36m__init__\u001b[1;34m(self, data, label, weight, base_margin, missing, silent, feature_names, feature_types, nthread, group, qid, label_lower_bound, label_upper_bound, feature_weights, enable_categorical)\u001b[0m\n\u001b[0;32m    614\u001b[0m             \u001b[1;32mreturn\u001b[0m\u001b[1;33m\u001b[0m\u001b[1;33m\u001b[0m\u001b[0m\n\u001b[0;32m    615\u001b[0m \u001b[1;33m\u001b[0m\u001b[0m\n\u001b[1;32m--> 616\u001b[1;33m         handle, feature_names, feature_types = dispatch_data_backend(\n\u001b[0m\u001b[0;32m    617\u001b[0m             \u001b[0mdata\u001b[0m\u001b[1;33m,\u001b[0m\u001b[1;33m\u001b[0m\u001b[1;33m\u001b[0m\u001b[0m\n\u001b[0;32m    618\u001b[0m             \u001b[0mmissing\u001b[0m\u001b[1;33m=\u001b[0m\u001b[0mself\u001b[0m\u001b[1;33m.\u001b[0m\u001b[0mmissing\u001b[0m\u001b[1;33m,\u001b[0m\u001b[1;33m\u001b[0m\u001b[1;33m\u001b[0m\u001b[0m\n",
      "\u001b[1;32mc:\\Users\\lucia.lopez_kavak\\anaconda3\\lib\\site-packages\\xgboost\\data.py\u001b[0m in \u001b[0;36mdispatch_data_backend\u001b[1;34m(data, missing, threads, feature_names, feature_types, enable_categorical)\u001b[0m\n\u001b[0;32m    770\u001b[0m         \u001b[1;32mreturn\u001b[0m \u001b[0m_from_tuple\u001b[0m\u001b[1;33m(\u001b[0m\u001b[0mdata\u001b[0m\u001b[1;33m,\u001b[0m \u001b[0mmissing\u001b[0m\u001b[1;33m,\u001b[0m \u001b[0mthreads\u001b[0m\u001b[1;33m,\u001b[0m \u001b[0mfeature_names\u001b[0m\u001b[1;33m,\u001b[0m \u001b[0mfeature_types\u001b[0m\u001b[1;33m)\u001b[0m\u001b[1;33m\u001b[0m\u001b[1;33m\u001b[0m\u001b[0m\n\u001b[0;32m    771\u001b[0m     \u001b[1;32mif\u001b[0m \u001b[0m_is_pandas_df\u001b[0m\u001b[1;33m(\u001b[0m\u001b[0mdata\u001b[0m\u001b[1;33m)\u001b[0m\u001b[1;33m:\u001b[0m\u001b[1;33m\u001b[0m\u001b[1;33m\u001b[0m\u001b[0m\n\u001b[1;32m--> 772\u001b[1;33m         return _from_pandas_df(data, enable_categorical, missing, threads,\n\u001b[0m\u001b[0;32m    773\u001b[0m                                feature_names, feature_types)\n\u001b[0;32m    774\u001b[0m     \u001b[1;32mif\u001b[0m \u001b[0m_is_pandas_series\u001b[0m\u001b[1;33m(\u001b[0m\u001b[0mdata\u001b[0m\u001b[1;33m)\u001b[0m\u001b[1;33m:\u001b[0m\u001b[1;33m\u001b[0m\u001b[1;33m\u001b[0m\u001b[0m\n",
      "\u001b[1;32mc:\\Users\\lucia.lopez_kavak\\anaconda3\\lib\\site-packages\\xgboost\\data.py\u001b[0m in \u001b[0;36m_from_pandas_df\u001b[1;34m(data, enable_categorical, missing, nthread, feature_names, feature_types)\u001b[0m\n\u001b[0;32m    310\u001b[0m     \u001b[0mfeature_types\u001b[0m\u001b[1;33m:\u001b[0m \u001b[0mOptional\u001b[0m\u001b[1;33m[\u001b[0m\u001b[0mList\u001b[0m\u001b[1;33m[\u001b[0m\u001b[0mstr\u001b[0m\u001b[1;33m]\u001b[0m\u001b[1;33m]\u001b[0m\u001b[1;33m,\u001b[0m\u001b[1;33m\u001b[0m\u001b[1;33m\u001b[0m\u001b[0m\n\u001b[0;32m    311\u001b[0m ):\n\u001b[1;32m--> 312\u001b[1;33m     data, feature_names, feature_types = _transform_pandas_df(\n\u001b[0m\u001b[0;32m    313\u001b[0m         data, enable_categorical, feature_names, feature_types)\n\u001b[0;32m    314\u001b[0m     return _from_numpy_array(data, missing, nthread, feature_names,\n",
      "\u001b[1;32mc:\\Users\\lucia.lopez_kavak\\anaconda3\\lib\\site-packages\\xgboost\\data.py\u001b[0m in \u001b[0;36m_transform_pandas_df\u001b[1;34m(data, enable_categorical, feature_names, feature_types, meta, meta_type)\u001b[0m\n\u001b[0;32m    254\u001b[0m         \u001b[1;32mfor\u001b[0m \u001b[0mdtype\u001b[0m \u001b[1;32min\u001b[0m \u001b[0mdata\u001b[0m\u001b[1;33m.\u001b[0m\u001b[0mdtypes\u001b[0m\u001b[1;33m\u001b[0m\u001b[1;33m\u001b[0m\u001b[0m\n\u001b[0;32m    255\u001b[0m     ):\n\u001b[1;32m--> 256\u001b[1;33m         \u001b[0m_invalid_dataframe_dtype\u001b[0m\u001b[1;33m(\u001b[0m\u001b[0mdata\u001b[0m\u001b[1;33m)\u001b[0m\u001b[1;33m\u001b[0m\u001b[1;33m\u001b[0m\u001b[0m\n\u001b[0m\u001b[0;32m    257\u001b[0m \u001b[1;33m\u001b[0m\u001b[0m\n\u001b[0;32m    258\u001b[0m     \u001b[1;31m# handle feature names\u001b[0m\u001b[1;33m\u001b[0m\u001b[1;33m\u001b[0m\u001b[0m\n",
      "\u001b[1;32mc:\\Users\\lucia.lopez_kavak\\anaconda3\\lib\\site-packages\\xgboost\\data.py\u001b[0m in \u001b[0;36m_invalid_dataframe_dtype\u001b[1;34m(data)\u001b[0m\n\u001b[0;32m    234\u001b[0m \u001b[0mcategorical\u001b[0m \u001b[0mtype\u001b[0m \u001b[1;32mis\u001b[0m \u001b[0msupplied\u001b[0m\u001b[1;33m,\u001b[0m \u001b[0mDMatrix\u001b[0m \u001b[0mparameter\u001b[0m\u001b[0;31m \u001b[0m\u001b[0;31m`\u001b[0m\u001b[0menable_categorical\u001b[0m\u001b[0;31m`\u001b[0m \u001b[0mmust\u001b[0m\u001b[1;33m\u001b[0m\u001b[1;33m\u001b[0m\u001b[0m\n\u001b[0;32m    235\u001b[0m be set to `True`.\"\"\" + err\n\u001b[1;32m--> 236\u001b[1;33m     \u001b[1;32mraise\u001b[0m \u001b[0mValueError\u001b[0m\u001b[1;33m(\u001b[0m\u001b[0mmsg\u001b[0m\u001b[1;33m)\u001b[0m\u001b[1;33m\u001b[0m\u001b[1;33m\u001b[0m\u001b[0m\n\u001b[0m\u001b[0;32m    237\u001b[0m \u001b[1;33m\u001b[0m\u001b[0m\n\u001b[0;32m    238\u001b[0m \u001b[1;33m\u001b[0m\u001b[0m\n",
      "\u001b[1;31mValueError\u001b[0m: DataFrame.dtypes for data must be int, float, bool or category.  When\ncategorical type is supplied, DMatrix parameter `enable_categorical` must\nbe set to `True`. Invalid columns:currency_id, condition, Marca, Motor, Tipo de combustible, Modelo, Transmisión, Versión, adressstate_name, adresscity_name"
     ]
    }
   ],
   "source": [
    "# Modelo Simple\n",
    "xg_reg = xgb.XGBRegressor(objective ='reg:linear', enable_categorical = True , colsample_bytree = 0.7999999999999999, learning_rate = 0.1,\n",
    "                max_depth = 6, alpha = 10, n_estimators = 1000, colsample_bylevel =  0.6, subsample = 0.8999999999999999)\n",
    "xg_reg.fit(X_train,y_train)"
   ]
  },
  {
   "cell_type": "markdown",
   "metadata": {},
   "source": [
    "Miramos resultados"
   ]
  },
  {
   "cell_type": "code",
   "execution_count": 86,
   "metadata": {},
   "outputs": [
    {
     "name": "stdout",
     "output_type": "stream",
     "text": [
      "MAE: Mean Absolute Error: 375.95\n",
      "MSE: Mean Squared Error: 337122284.99\n",
      "Root Mean Squared Error: 580.62\n"
     ]
    }
   ],
   "source": [
    "y_pred = xg_reg.predict(X_test)\n",
    "\n",
    "y_test = np.exp(y_test)\n",
    "y_pred = np.exp(y_pred)\n",
    "\n",
    "\n",
    "print('MAE: Mean Absolute Error:', round(metrics.mean_absolute_error(y_test, y_pred)/1000,2))\n",
    "# MAE: Mean Absolute Error: 1.08\n",
    "# MAE: Mean Absolute Error: 0.87\n",
    "# MAE: Mean Absolute Error: 1.23 (con nueva base de API)\n",
    "\n",
    "print('MSE: Mean Squared Error:', round(metrics.mean_squared_error(y_test, y_pred)/1000,2))\n",
    "# MSE: Mean Squared Error: 7,272,534.09\n",
    "# MSE: Mean Squared Error: 1,430,040.43\n",
    "# MSE: Mean Squared Error: 2655269.87\n",
    "print('Root Mean Squared Error:', round(np.sqrt(metrics.mean_squared_error(y_test, y_pred))/1000,2))\n",
    "# Root Mean Squared Error: 2.7\n",
    "# Root Mean Squared Error: 1.2\n",
    "# Root Mean Squared Error: 1.63\n",
    "\n",
    "# Con Api (y_ln)\n",
    "# MAE: Mean Absolute Error: 3304.15\n",
    "# MSE: Mean Squared Error: 13598032270.8\n",
    "# Root Mean Squared Error: 3687.55\n",
    "\n",
    "# Con parametros mejorados\n",
    "\n",
    "# MAE: Mean Absolute Error: 276.18\n",
    "# MSE: Mean Squared Error: 195672920.52\n",
    "# Root Mean Squared Error: 442.35\n"
   ]
  },
  {
   "cell_type": "code",
   "execution_count": 61,
   "metadata": {},
   "outputs": [
    {
     "data": {
      "text/plain": [
       "Text(0.5, 1.0, 'Feature Importance')"
      ]
     },
     "execution_count": 61,
     "metadata": {},
     "output_type": "execute_result"
    },
    {
     "data": {
      "image/png": "[encoded data removed]",
      "text/plain": [
       "<Figure size 864x432 with 1 Axes>"
      ]
     },
     "metadata": {
      "needs_background": "light"
     },
     "output_type": "display_data"
    }
   ],
   "source": [
    "# Miro la importancia de las variables\n",
    "\n",
    "feature_importance = xg_reg.feature_importances_\n",
    "sorted_idx = np.argsort(feature_importance)\n",
    "fig = plt.figure(figsize=(12, 6))\n",
    "plt.barh(range(0,25), feature_importance[sorted_idx][::-1][:25], align='center')\n",
    "plt.yticks(range(0,25), np.array(X_test.columns)[sorted_idx][::-1][:25])\n",
    "plt.title('Feature Importance')"
   ]
  },
  {
   "cell_type": "code",
   "execution_count": 57,
   "metadata": {},
   "outputs": [
    {
     "data": {
      "text/plain": [
       "Text(0.5, 1.0, 'Feature Importance')"
      ]
     },
     "execution_count": 57,
     "metadata": {},
     "output_type": "execute_result"
    },
    {
     "data": {
      "image/png": "[encoded data removed]",
      "text/plain": [
       "<Figure size 864x432 with 1 Axes>"
      ]
     },
     "metadata": {
      "needs_background": "light"
     },
     "output_type": "display_data"
    }
   ],
   "source": [
    "# Miro la importancia de las variables\n",
    "\n",
    "feature_importance = xg_reg.feature_importances_\n",
    "sorted_idx = np.argsort(feature_importance)\n",
    "fig = plt.figure(figsize=(12, 6))\n",
    "plt.barh(range(len(sorted_idx)), feature_importance[sorted_idx], align='center')\n",
    "plt.yticks(range(len(sorted_idx)), np.array(X_test.columns)[sorted_idx])\n",
    "plt.title('Feature Importance')"
   ]
  },
  {
   "cell_type": "markdown",
   "metadata": {},
   "source": [
    "Optimizamos parametros"
   ]
  },
  {
   "cell_type": "code",
   "execution_count": null,
   "metadata": {},
   "outputs": [],
   "source": [
    "########################################## Optimizando los hiperparametros\n",
    "########################################## GridSearchCV\n",
    "\n",
    "params = { 'max_depth': [3,6,10],\n",
    "           'learning_rate': [0.01, 0.05, 0.1],\n",
    "           'n_estimators': [100, 300, 500],\n",
    "           'colsample_bytree': [0.3, 0.7]}\n",
    "\n",
    "xgbr = xgb.XGBRegressor(seed = 20)\n",
    "clf_GS = GridSearchCV(estimator=xgbr, \n",
    "                   param_grid=params,\n",
    "                   # scoring='neg_mean_squared_error',\n",
    "                   scoring = 'neg_mean_absolute_error',\n",
    "                   verbose=1)\n",
    "\n",
    "clf_GS.fit(X_train, y_train)\n",
    "print(\"Best parameters:\", clf.best_params_)\n",
    "\n",
    "y_pred_test = clf_GridS.best_estimator_(X_test)\n",
    "y_pred_train = clf_GridS.best_estimator_(X_train)\n",
    "\n",
    "print('MAE: Mean Absolute Error:', round(metrics.mean_absolute_error(y_test, y_pred)/1000000,2))\n",
    "print('MSE: Mean Squared Error:', round(metrics.mean_squared_error(y_test, y_pred)/1000000,2))\n",
    "print('Root Mean Squared Error:', round(np.sqrt(metrics.mean_squared_error(y_test, y_pred))/1000000,2))\n",
    "\n",
    "\n",
    "# Para ver overfitting\n",
    "print('Root Mean Squared Error:', round(np.sqrt(metrics.mean_squared_error(y_test, y_pred_test))/1000000,2))\n",
    "print('Root Mean Squared Error:', round(np.sqrt(metrics.mean_squared_error(y_train, y_pred_train))/1000000,2))\n",
    "\n",
    "# Best parameters: {'colsample_bytree': 0.7, 'learning_rate': 0.1, 'max_depth': 10, 'n_estimators': 1000}\n",
    "print(\"Lowest RMSE: \", round(((-clf_GridS.best_score_)**(1/2.0)/1000000),2))\n",
    "# Lowest RMSE:  0.44\n",
    "print(\"Lowest MSE: \", round((-clf_GridS.best_score_/1000000),2))\n",
    "# Lowest MSE:  197.270.95"
   ]
  },
  {
   "cell_type": "code",
   "execution_count": null,
   "metadata": {},
   "outputs": [],
   "source": [
    "best_estimator_.feature_importances_"
   ]
  },
  {
   "cell_type": "markdown",
   "metadata": {},
   "source": [
    "Random Search"
   ]
  },
  {
   "cell_type": "code",
   "execution_count": 79,
   "metadata": {},
   "outputs": [
    {
     "name": "stdout",
     "output_type": "stream",
     "text": [
      "Fitting 5 folds for each of 100 candidates, totalling 500 fits\n"
     ]
    },
    {
     "data": {
      "text/plain": [
       "RandomizedSearchCV(estimator=XGBRegressor(base_score=None, booster=None,\n",
       "                                          colsample_bylevel=None,\n",
       "                                          colsample_bynode=None,\n",
       "                                          colsample_bytree=None,\n",
       "                                          enable_categorical=False, gamma=None,\n",
       "                                          gpu_id=None, importance_type=None,\n",
       "                                          interaction_constraints=None,\n",
       "                                          learning_rate=None,\n",
       "                                          max_delta_step=None, max_depth=None,\n",
       "                                          min_child_weight=None, missing=nan,\n",
       "                                          monotone_constraints=None,...\n",
       "                                          validate_parameters=None,\n",
       "                                          verbosity=None),\n",
       "                   n_iter=100,\n",
       "                   param_distributions={'colsample_bylevel': array([0.4, 0.5, 0.6, 0.7, 0.8, 0.9]),\n",
       "                                        'colsample_bytree': array([0.4, 0.5, 0.6, 0.7, 0.8, 0.9]),\n",
       "                                        'learning_rate': [0.01, 0.1, 0.2, 0.3],\n",
       "                                        'max_depth': [3, 5, 6, 10, 15, 20],\n",
       "                                        'n_estimators': [100, 500, 1000],\n",
       "                                        'subsample': array([0.5, 0.6, 0.7, 0.8, 0.9])},\n",
       "                   scoring='neg_mean_squared_error', verbose=1)"
      ]
     },
     "execution_count": 79,
     "metadata": {},
     "output_type": "execute_result"
    }
   ],
   "source": [
    "########################################## RandomSearch\n",
    "\n",
    "params = { 'max_depth': [3, 5, 6, 10, 15, 20],\n",
    "           'learning_rate': [0.01, 0.1, 0.2, 0.3],\n",
    "           'subsample': np.arange(0.5, 1.0, 0.1),\n",
    "           'colsample_bytree': np.arange(0.4, 1.0, 0.1),\n",
    "           'colsample_bylevel': np.arange(0.4, 1.0, 0.1),\n",
    "           'n_estimators': [100, 500, 1000]}\n",
    "\n",
    "xgbr = xgb.XGBRegressor(seed = 20)\n",
    "model_RandomS = RandomizedSearchCV(estimator=xgbr,\n",
    "                         param_distributions=params,\n",
    "                         scoring='neg_mean_squared_error',\n",
    "                         n_iter=100,\n",
    "                         verbose=1)\n",
    "model_RandomS.fit(X_train, y_train)"
   ]
  },
  {
   "cell_type": "code",
   "execution_count": 77,
   "metadata": {},
   "outputs": [
    {
     "ename": "NameError",
     "evalue": "name 'cv_results_' is not defined",
     "output_type": "error",
     "traceback": [
      "\u001b[1;31m---------------------------------------------------------------------------\u001b[0m",
      "\u001b[1;31mNameError\u001b[0m                                 Traceback (most recent call last)",
      "\u001b[1;32mC:\\Users\\LUCIA~1.LOP\\AppData\\Local\\Temp/ipykernel_8052/3187825570.py\u001b[0m in \u001b[0;36m<module>\u001b[1;34m\u001b[0m\n\u001b[1;32m----> 1\u001b[1;33m \u001b[0mmode_RandomS\u001b[0m \u001b[1;33m=\u001b[0m \u001b[0mcv_results_\u001b[0m\u001b[1;33m\u001b[0m\u001b[1;33m\u001b[0m\u001b[0m\n\u001b[0m",
      "\u001b[1;31mNameError\u001b[0m: name 'cv_results_' is not defined"
     ]
    }
   ],
   "source": [
    "mode_RandomS = cv_results_"
   ]
  },
  {
   "cell_type": "code",
   "execution_count": 80,
   "metadata": {},
   "outputs": [
    {
     "name": "stdout",
     "output_type": "stream",
     "text": [
      "Best parameters: {'subsample': 0.8999999999999999, 'n_estimators': 1000, 'max_depth': 6, 'learning_rate': 0.1, 'colsample_bytree': 0.7999999999999999, 'colsample_bylevel': 0.6}\n",
      "Lowest RMSE:  641.05\n",
      "Lowest MSE:  410950122.08\n"
     ]
    }
   ],
   "source": [
    "print(\"Best parameters:\", model_RandomS.best_params_)\n",
    "# print(\"Best parameters:\", clf_RandomS.best_params_)\n",
    "# Best parameters: {'subsample': 0.8999999999999999, 'n_estimators': 500, 'max_depth': 15, 'learning_rate': 0.2, 'colsample_bytree': 0.8999999999999999, 'colsample_bylevel': 0.7}\n",
    "print(\"Lowest RMSE: \", round(((-model_RandomS.best_score_)**(1/2.0)/1000),2))\n",
    "# Lowest RMSE:  0.46\n",
    "# Lowest RMSE:  0.69 (con api data)\n",
    "print(\"Lowest MSE: \", round((-model_RandomS.best_score_/1000),2))\n",
    "# Lowest MSE:  213.030.49\n",
    "# Lowest MSE: 456.262.19 (con api Data)"
   ]
  },
  {
   "cell_type": "code",
   "execution_count": 81,
   "metadata": {},
   "outputs": [
    {
     "ename": "ValueError",
     "evalue": "Found input variables with inconsistent numbers of samples: [1137, 2238]",
     "output_type": "error",
     "traceback": [
      "\u001b[1;31m---------------------------------------------------------------------------\u001b[0m",
      "\u001b[1;31mValueError\u001b[0m                                Traceback (most recent call last)",
      "\u001b[1;32mC:\\Users\\LUCIA~1.LOP\\AppData\\Local\\Temp/ipykernel_8052/3581160120.py\u001b[0m in \u001b[0;36m<module>\u001b[1;34m\u001b[0m\n\u001b[1;32m----> 1\u001b[1;33m \u001b[0mprint\u001b[0m\u001b[1;33m(\u001b[0m\u001b[1;34m'MAE: Mean Absolute Error:'\u001b[0m\u001b[1;33m,\u001b[0m \u001b[0mround\u001b[0m\u001b[1;33m(\u001b[0m\u001b[0mmetrics\u001b[0m\u001b[1;33m.\u001b[0m\u001b[0mmean_absolute_error\u001b[0m\u001b[1;33m(\u001b[0m\u001b[0my_test\u001b[0m\u001b[1;33m,\u001b[0m \u001b[0my_pred\u001b[0m\u001b[1;33m)\u001b[0m\u001b[1;33m/\u001b[0m\u001b[1;36m1000\u001b[0m\u001b[1;33m,\u001b[0m\u001b[1;36m2\u001b[0m\u001b[1;33m)\u001b[0m\u001b[1;33m)\u001b[0m\u001b[1;33m\u001b[0m\u001b[1;33m\u001b[0m\u001b[0m\n\u001b[0m\u001b[0;32m      2\u001b[0m \u001b[1;31m# MAE: Mean Absolute Error: 1.08\u001b[0m\u001b[1;33m\u001b[0m\u001b[1;33m\u001b[0m\u001b[0m\n\u001b[0;32m      3\u001b[0m \u001b[1;31m# MAE: Mean Absolute Error: 0.87\u001b[0m\u001b[1;33m\u001b[0m\u001b[1;33m\u001b[0m\u001b[0m\n\u001b[0;32m      4\u001b[0m \u001b[1;31m# MAE: Mean Absolute Error: 1.23 (con nueva base de API)\u001b[0m\u001b[1;33m\u001b[0m\u001b[1;33m\u001b[0m\u001b[0m\n\u001b[0;32m      5\u001b[0m \u001b[1;31m# MAE: Mean Absolute Error: 0.29\u001b[0m\u001b[1;33m\u001b[0m\u001b[1;33m\u001b[0m\u001b[0m\n",
      "\u001b[1;32m~\\anaconda3\\lib\\site-packages\\sklearn\\utils\\validation.py\u001b[0m in \u001b[0;36minner_f\u001b[1;34m(*args, **kwargs)\u001b[0m\n\u001b[0;32m     61\u001b[0m             \u001b[0mextra_args\u001b[0m \u001b[1;33m=\u001b[0m \u001b[0mlen\u001b[0m\u001b[1;33m(\u001b[0m\u001b[0margs\u001b[0m\u001b[1;33m)\u001b[0m \u001b[1;33m-\u001b[0m \u001b[0mlen\u001b[0m\u001b[1;33m(\u001b[0m\u001b[0mall_args\u001b[0m\u001b[1;33m)\u001b[0m\u001b[1;33m\u001b[0m\u001b[1;33m\u001b[0m\u001b[0m\n\u001b[0;32m     62\u001b[0m             \u001b[1;32mif\u001b[0m \u001b[0mextra_args\u001b[0m \u001b[1;33m<=\u001b[0m \u001b[1;36m0\u001b[0m\u001b[1;33m:\u001b[0m\u001b[1;33m\u001b[0m\u001b[1;33m\u001b[0m\u001b[0m\n\u001b[1;32m---> 63\u001b[1;33m                 \u001b[1;32mreturn\u001b[0m \u001b[0mf\u001b[0m\u001b[1;33m(\u001b[0m\u001b[1;33m*\u001b[0m\u001b[0margs\u001b[0m\u001b[1;33m,\u001b[0m \u001b[1;33m**\u001b[0m\u001b[0mkwargs\u001b[0m\u001b[1;33m)\u001b[0m\u001b[1;33m\u001b[0m\u001b[1;33m\u001b[0m\u001b[0m\n\u001b[0m\u001b[0;32m     64\u001b[0m \u001b[1;33m\u001b[0m\u001b[0m\n\u001b[0;32m     65\u001b[0m             \u001b[1;31m# extra_args > 0\u001b[0m\u001b[1;33m\u001b[0m\u001b[1;33m\u001b[0m\u001b[0m\n",
      "\u001b[1;32m~\\anaconda3\\lib\\site-packages\\sklearn\\metrics\\_regression.py\u001b[0m in \u001b[0;36mmean_absolute_error\u001b[1;34m(y_true, y_pred, sample_weight, multioutput)\u001b[0m\n\u001b[0;32m    180\u001b[0m     \u001b[1;36m0.85\u001b[0m\u001b[1;33m...\u001b[0m\u001b[1;33m\u001b[0m\u001b[1;33m\u001b[0m\u001b[0m\n\u001b[0;32m    181\u001b[0m     \"\"\"\n\u001b[1;32m--> 182\u001b[1;33m     y_type, y_true, y_pred, multioutput = _check_reg_targets(\n\u001b[0m\u001b[0;32m    183\u001b[0m         y_true, y_pred, multioutput)\n\u001b[0;32m    184\u001b[0m     \u001b[0mcheck_consistent_length\u001b[0m\u001b[1;33m(\u001b[0m\u001b[0my_true\u001b[0m\u001b[1;33m,\u001b[0m \u001b[0my_pred\u001b[0m\u001b[1;33m,\u001b[0m \u001b[0msample_weight\u001b[0m\u001b[1;33m)\u001b[0m\u001b[1;33m\u001b[0m\u001b[1;33m\u001b[0m\u001b[0m\n",
      "\u001b[1;32m~\\anaconda3\\lib\\site-packages\\sklearn\\metrics\\_regression.py\u001b[0m in \u001b[0;36m_check_reg_targets\u001b[1;34m(y_true, y_pred, multioutput, dtype)\u001b[0m\n\u001b[0;32m     86\u001b[0m         \u001b[0mthe\u001b[0m \u001b[0mdtype\u001b[0m \u001b[0margument\u001b[0m \u001b[0mpassed\u001b[0m \u001b[0mto\u001b[0m \u001b[0mcheck_array\u001b[0m\u001b[1;33m.\u001b[0m\u001b[1;33m\u001b[0m\u001b[1;33m\u001b[0m\u001b[0m\n\u001b[0;32m     87\u001b[0m     \"\"\"\n\u001b[1;32m---> 88\u001b[1;33m     \u001b[0mcheck_consistent_length\u001b[0m\u001b[1;33m(\u001b[0m\u001b[0my_true\u001b[0m\u001b[1;33m,\u001b[0m \u001b[0my_pred\u001b[0m\u001b[1;33m)\u001b[0m\u001b[1;33m\u001b[0m\u001b[1;33m\u001b[0m\u001b[0m\n\u001b[0m\u001b[0;32m     89\u001b[0m     \u001b[0my_true\u001b[0m \u001b[1;33m=\u001b[0m \u001b[0mcheck_array\u001b[0m\u001b[1;33m(\u001b[0m\u001b[0my_true\u001b[0m\u001b[1;33m,\u001b[0m \u001b[0mensure_2d\u001b[0m\u001b[1;33m=\u001b[0m\u001b[1;32mFalse\u001b[0m\u001b[1;33m,\u001b[0m \u001b[0mdtype\u001b[0m\u001b[1;33m=\u001b[0m\u001b[0mdtype\u001b[0m\u001b[1;33m)\u001b[0m\u001b[1;33m\u001b[0m\u001b[1;33m\u001b[0m\u001b[0m\n\u001b[0;32m     90\u001b[0m     \u001b[0my_pred\u001b[0m \u001b[1;33m=\u001b[0m \u001b[0mcheck_array\u001b[0m\u001b[1;33m(\u001b[0m\u001b[0my_pred\u001b[0m\u001b[1;33m,\u001b[0m \u001b[0mensure_2d\u001b[0m\u001b[1;33m=\u001b[0m\u001b[1;32mFalse\u001b[0m\u001b[1;33m,\u001b[0m \u001b[0mdtype\u001b[0m\u001b[1;33m=\u001b[0m\u001b[0mdtype\u001b[0m\u001b[1;33m)\u001b[0m\u001b[1;33m\u001b[0m\u001b[1;33m\u001b[0m\u001b[0m\n",
      "\u001b[1;32m~\\anaconda3\\lib\\site-packages\\sklearn\\utils\\validation.py\u001b[0m in \u001b[0;36mcheck_consistent_length\u001b[1;34m(*arrays)\u001b[0m\n\u001b[0;32m    317\u001b[0m     \u001b[0muniques\u001b[0m \u001b[1;33m=\u001b[0m \u001b[0mnp\u001b[0m\u001b[1;33m.\u001b[0m\u001b[0munique\u001b[0m\u001b[1;33m(\u001b[0m\u001b[0mlengths\u001b[0m\u001b[1;33m)\u001b[0m\u001b[1;33m\u001b[0m\u001b[1;33m\u001b[0m\u001b[0m\n\u001b[0;32m    318\u001b[0m     \u001b[1;32mif\u001b[0m \u001b[0mlen\u001b[0m\u001b[1;33m(\u001b[0m\u001b[0muniques\u001b[0m\u001b[1;33m)\u001b[0m \u001b[1;33m>\u001b[0m \u001b[1;36m1\u001b[0m\u001b[1;33m:\u001b[0m\u001b[1;33m\u001b[0m\u001b[1;33m\u001b[0m\u001b[0m\n\u001b[1;32m--> 319\u001b[1;33m         raise ValueError(\"Found input variables with inconsistent numbers of\"\n\u001b[0m\u001b[0;32m    320\u001b[0m                          \" samples: %r\" % [int(l) for l in lengths])\n\u001b[0;32m    321\u001b[0m \u001b[1;33m\u001b[0m\u001b[0m\n",
      "\u001b[1;31mValueError\u001b[0m: Found input variables with inconsistent numbers of samples: [1137, 2238]"
     ]
    }
   ],
   "source": [
    "print('MAE: Mean Absolute Error:', round(metrics.mean_absolute_error(y_test, y_pred)/1000,2))\n",
    "# MAE: Mean Absolute Error: 1.08\n",
    "# MAE: Mean Absolute Error: 0.87\n",
    "# MAE: Mean Absolute Error: 1.23 (con nueva base de API)\n",
    "# MAE: Mean Absolute Error: 0.29\n",
    "print('MSE: Mean Squared Error:', round(metrics.mean_squared_error(y_test, y_pred)/1000,2))\n",
    "# MSE: Mean Squared Error: 7,272,534.09\n",
    "# MSE: Mean Squared Error: 1,430,040.43\n",
    "# MSE: Mean Squared Error: 2655269.87\n",
    "# MSE: Mean Squared Error: 210.388.38\n",
    "print('Root Mean Squared Error:', round(np.sqrt(metrics.mean_squared_error(y_test, y_pred))/1000,2))\n",
    "# Root Mean Squared Error: 2.7\n",
    "# Root Mean Squared Error: 1.2\n",
    "# Root Mean Squared Error: 1.63\n",
    "# Root Mean Squared Error: 0.46"
   ]
  },
  {
   "cell_type": "code",
   "execution_count": null,
   "metadata": {},
   "outputs": [],
   "source": [
    "# Miro la importancia de las variables\n",
    "\n",
    "feature_importance = best_score_.feature_importances_\n",
    "sorted_idx = np.argsort(feature_importance)\n",
    "fig = plt.figure(figsize=(12, 6))\n",
    "plt.barh(range(0,25), feature_importance[sorted_idx][::-1][:25], align='center')\n",
    "plt.yticks(range(0,25), np.array(X_train.columns)[sorted_idx][::-1][:25])\n",
    "plt.title('Feature Importance')"
   ]
  },
  {
   "cell_type": "markdown",
   "metadata": {},
   "source": [
    "Analizo los datos de Kavak"
   ]
  },
  {
   "cell_type": "code",
   "execution_count": 87,
   "metadata": {},
   "outputs": [],
   "source": [
    "####################################################\n",
    "#### Prueba de datos de Kavak\n",
    "\n",
    "# Separo en Y y X\n",
    "datos_kavak = datos[(datos['type_kavak'] == 1)] \n",
    "datos_kavak = datos_kavak.drop('type_kavak',axis=1)\n",
    "datos_kavak = datos_kavak.drop('type_meli',axis=1)\n",
    "\n",
    "#separate the other attributes from the predicting attribute\n",
    "x_kavak = datos_kavak.drop('price',axis=1)\n",
    "\n",
    "#separte the predicting attribute into Y for model training \n",
    "y_kavak = datos_kavak['price']"
   ]
  },
  {
   "cell_type": "code",
   "execution_count": 188,
   "metadata": {},
   "outputs": [],
   "source": [
    "# Predigo las x_kavak\n",
    "#y_pred_kavak_ln = model.predict(x_kavak)\n",
    "\n",
    "#y_pred = xg_reg.predict(X_test)\n",
    "\n",
    "#  Saco exponencial de los valores de Y\n",
    "#y_pred_kavak = np.exp(y_pred_kavak_ln)/1000\n",
    "\n",
    "#print('Mean Absolute Error:', round(metrics.mean_absolute_error(y_kavak, y_pred_kavak)/1000000,2))\n",
    "# Mean Absolute Error: 126.93"
   ]
  },
  {
   "cell_type": "code",
   "execution_count": 88,
   "metadata": {},
   "outputs": [],
   "source": [
    "y_pred = clf_RandomS.predict(x_kavak)\n",
    "# y_pred_test = clf_RandomS.best_estimator_(X_kavak)"
   ]
  },
  {
   "cell_type": "code",
   "execution_count": 90,
   "metadata": {},
   "outputs": [
    {
     "name": "stdout",
     "output_type": "stream",
     "text": [
      "MAE: Mean Absolute Error: 376.94\n",
      "MSE: Mean Squared Error: 289000336.93\n",
      "Root Mean Squared Error: 537.59\n"
     ]
    }
   ],
   "source": [
    "print('MAE: Mean Absolute Error:', round(metrics.mean_absolute_error(y_kavak, y_pred)/1000,2))\n",
    "print('MSE: Mean Squared Error:', round(metrics.mean_squared_error(y_kavak, y_pred)/1000,2))\n",
    "print('Root Mean Squared Error:', round(np.sqrt(metrics.mean_squared_error(y_kavak, y_pred))/1000,2))\n",
    "\n",
    "# Datos Kavak\n",
    "# MAE: Mean Absolute Error: 0.38\n",
    "# MSE: Mean Squared Error: 289000.34\n",
    "# Root Mean Squared Error: 0.54"
   ]
  },
  {
   "cell_type": "code",
   "execution_count": 91,
   "metadata": {},
   "outputs": [
    {
     "data": {
      "text/html": [
       "<div>\n",
       "<style scoped>\n",
       "    .dataframe tbody tr th:only-of-type {\n",
       "        vertical-align: middle;\n",
       "    }\n",
       "\n",
       "    .dataframe tbody tr th {\n",
       "        vertical-align: top;\n",
       "    }\n",
       "\n",
       "    .dataframe thead th {\n",
       "        text-align: right;\n",
       "    }\n",
       "</style>\n",
       "<table border=\"1\" class=\"dataframe\">\n",
       "  <thead>\n",
       "    <tr style=\"text-align: right;\">\n",
       "      <th></th>\n",
       "      <th>price</th>\n",
       "      <th>y_pred</th>\n",
       "      <th>currency_id_ARS</th>\n",
       "      <th>condition_used</th>\n",
       "      <th>Marca_Ford</th>\n",
       "      <th>Marca_Honda</th>\n",
       "      <th>Marca_Toyota</th>\n",
       "      <th>Marca_Renault</th>\n",
       "      <th>Marca_Volkswagen</th>\n",
       "      <th>Marca_Chevrolet</th>\n",
       "      <th>...</th>\n",
       "      <th>Motor_3.8</th>\n",
       "      <th>Motor_1.6 16V</th>\n",
       "      <th>Motor_1.1</th>\n",
       "      <th>Transmisión_Manual</th>\n",
       "      <th>Transmisión_Automática</th>\n",
       "      <th>Transmisión_Automática secuencial</th>\n",
       "      <th>id</th>\n",
       "      <th>Puertas</th>\n",
       "      <th>Kilómetros</th>\n",
       "      <th>Año</th>\n",
       "    </tr>\n",
       "  </thead>\n",
       "  <tbody>\n",
       "    <tr>\n",
       "      <th>0</th>\n",
       "      <td>2830994</td>\n",
       "      <td>2951556.500</td>\n",
       "      <td>1</td>\n",
       "      <td>1</td>\n",
       "      <td>0</td>\n",
       "      <td>0</td>\n",
       "      <td>0</td>\n",
       "      <td>0</td>\n",
       "      <td>0</td>\n",
       "      <td>0</td>\n",
       "      <td>...</td>\n",
       "      <td>0</td>\n",
       "      <td>0</td>\n",
       "      <td>0</td>\n",
       "      <td>1</td>\n",
       "      <td>0</td>\n",
       "      <td>0</td>\n",
       "      <td>174506</td>\n",
       "      <td>4</td>\n",
       "      <td>1012</td>\n",
       "      <td>2022</td>\n",
       "    </tr>\n",
       "    <tr>\n",
       "      <th>1</th>\n",
       "      <td>3446693</td>\n",
       "      <td>3798666.750</td>\n",
       "      <td>1</td>\n",
       "      <td>1</td>\n",
       "      <td>0</td>\n",
       "      <td>0</td>\n",
       "      <td>0</td>\n",
       "      <td>0</td>\n",
       "      <td>0</td>\n",
       "      <td>1</td>\n",
       "      <td>...</td>\n",
       "      <td>0</td>\n",
       "      <td>0</td>\n",
       "      <td>0</td>\n",
       "      <td>1</td>\n",
       "      <td>0</td>\n",
       "      <td>0</td>\n",
       "      <td>170579</td>\n",
       "      <td>5</td>\n",
       "      <td>1020</td>\n",
       "      <td>2022</td>\n",
       "    </tr>\n",
       "    <tr>\n",
       "      <th>2</th>\n",
       "      <td>3436740</td>\n",
       "      <td>2734937.750</td>\n",
       "      <td>1</td>\n",
       "      <td>1</td>\n",
       "      <td>0</td>\n",
       "      <td>0</td>\n",
       "      <td>0</td>\n",
       "      <td>0</td>\n",
       "      <td>0</td>\n",
       "      <td>0</td>\n",
       "      <td>...</td>\n",
       "      <td>0</td>\n",
       "      <td>0</td>\n",
       "      <td>0</td>\n",
       "      <td>1</td>\n",
       "      <td>0</td>\n",
       "      <td>0</td>\n",
       "      <td>179998</td>\n",
       "      <td>4</td>\n",
       "      <td>1023</td>\n",
       "      <td>2022</td>\n",
       "    </tr>\n",
       "    <tr>\n",
       "      <th>3</th>\n",
       "      <td>3697161</td>\n",
       "      <td>3689816.500</td>\n",
       "      <td>1</td>\n",
       "      <td>1</td>\n",
       "      <td>1</td>\n",
       "      <td>0</td>\n",
       "      <td>0</td>\n",
       "      <td>0</td>\n",
       "      <td>0</td>\n",
       "      <td>0</td>\n",
       "      <td>...</td>\n",
       "      <td>0</td>\n",
       "      <td>0</td>\n",
       "      <td>0</td>\n",
       "      <td>0</td>\n",
       "      <td>1</td>\n",
       "      <td>0</td>\n",
       "      <td>164802</td>\n",
       "      <td>5</td>\n",
       "      <td>1042</td>\n",
       "      <td>2020</td>\n",
       "    </tr>\n",
       "    <tr>\n",
       "      <th>4</th>\n",
       "      <td>6076641</td>\n",
       "      <td>6053737.000</td>\n",
       "      <td>1</td>\n",
       "      <td>1</td>\n",
       "      <td>0</td>\n",
       "      <td>0</td>\n",
       "      <td>0</td>\n",
       "      <td>0</td>\n",
       "      <td>1</td>\n",
       "      <td>0</td>\n",
       "      <td>...</td>\n",
       "      <td>0</td>\n",
       "      <td>0</td>\n",
       "      <td>0</td>\n",
       "      <td>0</td>\n",
       "      <td>1</td>\n",
       "      <td>0</td>\n",
       "      <td>139688</td>\n",
       "      <td>5</td>\n",
       "      <td>1052</td>\n",
       "      <td>2021</td>\n",
       "    </tr>\n",
       "    <tr>\n",
       "      <th>...</th>\n",
       "      <td>...</td>\n",
       "      <td>...</td>\n",
       "      <td>...</td>\n",
       "      <td>...</td>\n",
       "      <td>...</td>\n",
       "      <td>...</td>\n",
       "      <td>...</td>\n",
       "      <td>...</td>\n",
       "      <td>...</td>\n",
       "      <td>...</td>\n",
       "      <td>...</td>\n",
       "      <td>...</td>\n",
       "      <td>...</td>\n",
       "      <td>...</td>\n",
       "      <td>...</td>\n",
       "      <td>...</td>\n",
       "      <td>...</td>\n",
       "      <td>...</td>\n",
       "      <td>...</td>\n",
       "      <td>...</td>\n",
       "      <td>...</td>\n",
       "    </tr>\n",
       "    <tr>\n",
       "      <th>2233</th>\n",
       "      <td>2578698</td>\n",
       "      <td>1873202.375</td>\n",
       "      <td>1</td>\n",
       "      <td>1</td>\n",
       "      <td>1</td>\n",
       "      <td>0</td>\n",
       "      <td>0</td>\n",
       "      <td>0</td>\n",
       "      <td>0</td>\n",
       "      <td>0</td>\n",
       "      <td>...</td>\n",
       "      <td>0</td>\n",
       "      <td>0</td>\n",
       "      <td>0</td>\n",
       "      <td>1</td>\n",
       "      <td>0</td>\n",
       "      <td>0</td>\n",
       "      <td>183498</td>\n",
       "      <td>5</td>\n",
       "      <td>101000</td>\n",
       "      <td>2014</td>\n",
       "    </tr>\n",
       "    <tr>\n",
       "      <th>2234</th>\n",
       "      <td>3195849</td>\n",
       "      <td>2780583.250</td>\n",
       "      <td>1</td>\n",
       "      <td>1</td>\n",
       "      <td>0</td>\n",
       "      <td>0</td>\n",
       "      <td>0</td>\n",
       "      <td>0</td>\n",
       "      <td>0</td>\n",
       "      <td>0</td>\n",
       "      <td>...</td>\n",
       "      <td>0</td>\n",
       "      <td>0</td>\n",
       "      <td>0</td>\n",
       "      <td>0</td>\n",
       "      <td>1</td>\n",
       "      <td>0</td>\n",
       "      <td>178515</td>\n",
       "      <td>4</td>\n",
       "      <td>101015</td>\n",
       "      <td>2018</td>\n",
       "    </tr>\n",
       "    <tr>\n",
       "      <th>2235</th>\n",
       "      <td>5221806</td>\n",
       "      <td>3850133.250</td>\n",
       "      <td>1</td>\n",
       "      <td>1</td>\n",
       "      <td>1</td>\n",
       "      <td>0</td>\n",
       "      <td>0</td>\n",
       "      <td>0</td>\n",
       "      <td>0</td>\n",
       "      <td>0</td>\n",
       "      <td>...</td>\n",
       "      <td>0</td>\n",
       "      <td>0</td>\n",
       "      <td>0</td>\n",
       "      <td>1</td>\n",
       "      <td>0</td>\n",
       "      <td>0</td>\n",
       "      <td>166491</td>\n",
       "      <td>4</td>\n",
       "      <td>101050</td>\n",
       "      <td>2017</td>\n",
       "    </tr>\n",
       "    <tr>\n",
       "      <th>2236</th>\n",
       "      <td>6035456</td>\n",
       "      <td>5670303.500</td>\n",
       "      <td>1</td>\n",
       "      <td>1</td>\n",
       "      <td>0</td>\n",
       "      <td>0</td>\n",
       "      <td>0</td>\n",
       "      <td>0</td>\n",
       "      <td>0</td>\n",
       "      <td>0</td>\n",
       "      <td>...</td>\n",
       "      <td>0</td>\n",
       "      <td>0</td>\n",
       "      <td>0</td>\n",
       "      <td>0</td>\n",
       "      <td>1</td>\n",
       "      <td>0</td>\n",
       "      <td>159926</td>\n",
       "      <td>4</td>\n",
       "      <td>102000</td>\n",
       "      <td>2017</td>\n",
       "    </tr>\n",
       "    <tr>\n",
       "      <th>2237</th>\n",
       "      <td>2197163</td>\n",
       "      <td>2760449.750</td>\n",
       "      <td>1</td>\n",
       "      <td>1</td>\n",
       "      <td>0</td>\n",
       "      <td>0</td>\n",
       "      <td>0</td>\n",
       "      <td>0</td>\n",
       "      <td>0</td>\n",
       "      <td>0</td>\n",
       "      <td>...</td>\n",
       "      <td>0</td>\n",
       "      <td>0</td>\n",
       "      <td>0</td>\n",
       "      <td>0</td>\n",
       "      <td>1</td>\n",
       "      <td>0</td>\n",
       "      <td>139689</td>\n",
       "      <td>5</td>\n",
       "      <td>104000</td>\n",
       "      <td>2014</td>\n",
       "    </tr>\n",
       "  </tbody>\n",
       "</table>\n",
       "<p>2238 rows × 433 columns</p>\n",
       "</div>"
      ],
      "text/plain": [
       "        price       y_pred  currency_id_ARS  condition_used  Marca_Ford  \\\n",
       "0     2830994  2951556.500                1               1           0   \n",
       "1     3446693  3798666.750                1               1           0   \n",
       "2     3436740  2734937.750                1               1           0   \n",
       "3     3697161  3689816.500                1               1           1   \n",
       "4     6076641  6053737.000                1               1           0   \n",
       "...       ...          ...              ...             ...         ...   \n",
       "2233  2578698  1873202.375                1               1           1   \n",
       "2234  3195849  2780583.250                1               1           0   \n",
       "2235  5221806  3850133.250                1               1           1   \n",
       "2236  6035456  5670303.500                1               1           0   \n",
       "2237  2197163  2760449.750                1               1           0   \n",
       "\n",
       "      Marca_Honda  Marca_Toyota  Marca_Renault  Marca_Volkswagen  \\\n",
       "0               0             0              0                 0   \n",
       "1               0             0              0                 0   \n",
       "2               0             0              0                 0   \n",
       "3               0             0              0                 0   \n",
       "4               0             0              0                 1   \n",
       "...           ...           ...            ...               ...   \n",
       "2233            0             0              0                 0   \n",
       "2234            0             0              0                 0   \n",
       "2235            0             0              0                 0   \n",
       "2236            0             0              0                 0   \n",
       "2237            0             0              0                 0   \n",
       "\n",
       "      Marca_Chevrolet  ...  Motor_3.8  Motor_1.6 16V  Motor_1.1  \\\n",
       "0                   0  ...          0              0          0   \n",
       "1                   1  ...          0              0          0   \n",
       "2                   0  ...          0              0          0   \n",
       "3                   0  ...          0              0          0   \n",
       "4                   0  ...          0              0          0   \n",
       "...               ...  ...        ...            ...        ...   \n",
       "2233                0  ...          0              0          0   \n",
       "2234                0  ...          0              0          0   \n",
       "2235                0  ...          0              0          0   \n",
       "2236                0  ...          0              0          0   \n",
       "2237                0  ...          0              0          0   \n",
       "\n",
       "      Transmisión_Manual  Transmisión_Automática  \\\n",
       "0                      1                       0   \n",
       "1                      1                       0   \n",
       "2                      1                       0   \n",
       "3                      0                       1   \n",
       "4                      0                       1   \n",
       "...                  ...                     ...   \n",
       "2233                   1                       0   \n",
       "2234                   0                       1   \n",
       "2235                   1                       0   \n",
       "2236                   0                       1   \n",
       "2237                   0                       1   \n",
       "\n",
       "      Transmisión_Automática secuencial      id  Puertas  Kilómetros   Año  \n",
       "0                                     0  174506        4        1012  2022  \n",
       "1                                     0  170579        5        1020  2022  \n",
       "2                                     0  179998        4        1023  2022  \n",
       "3                                     0  164802        5        1042  2020  \n",
       "4                                     0  139688        5        1052  2021  \n",
       "...                                 ...     ...      ...         ...   ...  \n",
       "2233                                  0  183498        5      101000  2014  \n",
       "2234                                  0  178515        4      101015  2018  \n",
       "2235                                  0  166491        4      101050  2017  \n",
       "2236                                  0  159926        4      102000  2017  \n",
       "2237                                  0  139689        5      104000  2014  \n",
       "\n",
       "[2238 rows x 433 columns]"
      ]
     },
     "execution_count": 91,
     "metadata": {},
     "output_type": "execute_result"
    }
   ],
   "source": [
    "df_kavak = pd.DataFrame(y_kavak)\n",
    "df_kavak\n",
    "\n",
    "df_pred = pd.DataFrame(y_pred, columns = ['y_pred'])\n",
    "df_pred\n",
    "\n",
    "frames = [df_kavak, df_pred, x_kavak]\n",
    "data_analisis = pd.concat(frames, axis = 1)\n",
    "\n",
    "data_analisis\n",
    "\n"
   ]
  },
  {
   "cell_type": "markdown",
   "metadata": {},
   "source": [
    "Exporto los Datos a Medir"
   ]
  },
  {
   "cell_type": "code",
   "execution_count": 92,
   "metadata": {},
   "outputs": [],
   "source": [
    "data_analisis.to_excel('data_analisis_kavak.xlsx', index=False)"
   ]
  }
 ],
 "metadata": {
  "interpreter": {
   "hash": "e3e9a750fc05e5a08aac5c7f68a373d320e024e5143e44a9c92a2cb2852add95"
  },
  "kernelspec": {
   "display_name": "Python 3.9.7 ('base')",
   "language": "python",
   "name": "python3"
  },
  "language_info": {
   "codemirror_mode": {
    "name": "ipython",
    "version": 3
   },
   "file_extension": ".py",
   "mimetype": "text/x-python",
   "name": "python",
   "nbconvert_exporter": "python",
   "pygments_lexer": "ipython3",
   "version": "3.9.7"
  },
  "orig_nbformat": 4
 },
 "nbformat": 4,
 "nbformat_minor": 2
}
