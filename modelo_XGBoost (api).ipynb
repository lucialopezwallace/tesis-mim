{
 "cells": [
  {
   "cell_type": "markdown",
   "metadata": {},
   "source": [
    "Importamos librerias"
   ]
  },
  {
   "cell_type": "code",
   "execution_count": 15,
   "metadata": {},
   "outputs": [],
   "source": [
    "from sklearn.model_selection import train_test_split\n",
    "import xgboost as xgb\n",
    "from sklearn import metrics\n",
    "from sklearn.model_selection import RandomizedSearchCV\n",
    "import pandas as pd\n",
    "import matplotlib.pyplot as plt\n",
    "import numpy as np\n",
    "from sklearn.model_selection import GridSearchCV\n",
    "from matplotlib import pyplot"
   ]
  },
  {
   "cell_type": "markdown",
   "metadata": {},
   "source": [
    "Importamos datos"
   ]
  },
  {
   "cell_type": "code",
   "execution_count": 2,
   "metadata": {},
   "outputs": [],
   "source": [
    "# Levantamos los datos procesados\n",
    "datos_meli = pd.read_excel('data_ready_to_model_api_simple.xlsx')\n",
    "datos_meli['type'] = 'meli'\n",
    "\n",
    "datos_kavak = pd.read_excel('base_kavak.xlsx')\n",
    "datos_kavak['type'] = 'kavak' "
   ]
  },
  {
   "cell_type": "code",
   "execution_count": 3,
   "metadata": {},
   "outputs": [],
   "source": [
    "# Edito el motor a número\n",
    "datos_kavak['Motor'] = datos_kavak['Motor'].astype(str)"
   ]
  },
  {
   "cell_type": "code",
   "execution_count": 4,
   "metadata": {},
   "outputs": [],
   "source": [
    "# Uno los DF\n",
    "frames = [datos_meli, datos_kavak]\n",
    "datos = pd.concat(frames)"
   ]
  },
  {
   "cell_type": "code",
   "execution_count": 6,
   "metadata": {},
   "outputs": [
    {
     "name": "stderr",
     "output_type": "stream",
     "text": [
      "C:\\Users\\LUCIA~1.LOP\\AppData\\Local\\Temp/ipykernel_14524/187505526.py:7: PerformanceWarning: DataFrame is highly fragmented.  This is usually the result of calling `frame.insert` many times, which has poor performance.  Consider joining all columns at once using pd.concat(axis=1) instead.  To get a de-fragmented frame, use `newframe = frame.copy()`\n",
      "  cat_df[str(variable)+'_'+str(label)] = np.where(cat_df[variable]==label,1,0)\n"
     ]
    }
   ],
   "source": [
    "# Los paso por One Hot Encoder\n",
    "datos = one_hot_encoder(datos,100)"
   ]
  },
  {
   "cell_type": "markdown",
   "metadata": {},
   "source": [
    "Funcion de One Hot Encoder"
   ]
  },
  {
   "cell_type": "code",
   "execution_count": 7,
   "metadata": {},
   "outputs": [],
   "source": [
    "# Separo los datos de Meli\n",
    "datos_meli = datos[(datos['type_meli'] == 1)] \n",
    "datos_meli = datos_meli.drop('type_kavak',axis=1)\n",
    "datos_meli = datos_meli.drop('type_meli',axis=1)"
   ]
  },
  {
   "cell_type": "code",
   "execution_count": 5,
   "metadata": {},
   "outputs": [],
   "source": [
    "# Archivo utilizado para crear la función de One Hot Encoding\n",
    "############################################################# \n",
    "\n",
    "# Función auxiliar: Toma un df de variables categoricas y selección el top_x de categorias\n",
    "def one_hot_top_x(cat_df, variable,top_x_labels):\n",
    "    for label in top_x_labels:\n",
    "        cat_df[str(variable)+'_'+str(label)] = np.where(cat_df[variable]==label,1,0)\n",
    "\n",
    "# Función One Hot Encoder: Toma un DF y le hace una transformación de One Hot Encoder para con las categorias más repetidas \n",
    "def one_hot_encoder(df,top_x):\n",
    "    # Separo variables categoricas de númericas\n",
    "    num_cols = df.select_dtypes(include=['float64', 'int']).columns.to_list()\n",
    "    cat_cols = df.select_dtypes(include=['object', 'category']).columns.to_list()\n",
    "    \n",
    "    # Armo un DF solo con variables categoricas\n",
    "    cat_df = df.drop(num_cols,axis=1)\n",
    "    # Armo un DF solo con variables categoricas\n",
    "    num_df = df.drop(cat_cols,axis=1)\n",
    "   \n",
    "    # Itero entre las variables categoricas y me quedo con el top 10 variables\n",
    "    for variable in cat_cols:\n",
    "        top_10 = [x for x in cat_df[variable].value_counts().sort_values(ascending=False).head(top_x).index]\n",
    "        one_hot_top_x(cat_df,variable,top_10)\n",
    "    \n",
    "    cat_df = cat_df.drop(cat_cols,axis=1)\n",
    "    df = pd.concat([cat_df,num_df], axis =1)\n",
    "    \n",
    "    return df"
   ]
  },
  {
   "cell_type": "markdown",
   "metadata": {},
   "source": [
    "Separamos en Train & Test"
   ]
  },
  {
   "cell_type": "code",
   "execution_count": 8,
   "metadata": {},
   "outputs": [],
   "source": [
    "#separate the other attributes from the predicting attribute\n",
    "x = datos_meli.drop('price',axis=1)\n",
    "\n",
    "#separte the predicting attribute into Y for model training \n",
    "y = datos_meli['price']\n",
    "\n",
    "X_train, X_test, y_train, y_test = train_test_split(x, y, test_size=0.2, random_state=123)"
   ]
  },
  {
   "cell_type": "code",
   "execution_count": 60,
   "metadata": {},
   "outputs": [
    {
     "name": "stdout",
     "output_type": "stream",
     "text": [
      "Index(['currency_id_ARS', 'condition_used', 'Marca_Honda', 'Marca_Ford',\n",
      "       'Marca_Toyota', 'Marca_Citroën', 'Marca_Renault', 'Marca_Chery',\n",
      "       'Marca_Nissan', 'Marca_Chevrolet',\n",
      "       ...\n",
      "       'Motor_diesel', 'Motor_1997cm3', 'Motor_2.0 140cv',\n",
      "       'Transmisión_Manual', 'Transmisión_Automática',\n",
      "       'Transmisión_Automática secuencial', 'id', 'Puertas', 'Kilómetros',\n",
      "       'Año'],\n",
      "      dtype='object', length=424)\n"
     ]
    }
   ],
   "source": [
    "#print(x.columns)\n",
    "#x.to_excel('check.xlsx', index=False)\n",
    "# 5684 rows × 424 columns"
   ]
  },
  {
   "cell_type": "markdown",
   "metadata": {},
   "source": [
    "Entrenamos el modelo"
   ]
  },
  {
   "cell_type": "code",
   "execution_count": 9,
   "metadata": {},
   "outputs": [
    {
     "name": "stdout",
     "output_type": "stream",
     "text": [
      "[18:29:47] WARNING: C:/Users/Administrator/workspace/xgboost-win64_release_1.5.1/src/objective/regression_obj.cu:188: reg:linear is now deprecated in favor of reg:squarederror.\n"
     ]
    },
    {
     "data": {
      "text/plain": [
       "XGBRegressor(alpha=10, base_score=0.5, booster='gbtree', colsample_bylevel=1,\n",
       "             colsample_bynode=1, colsample_bytree=0.3, enable_categorical=False,\n",
       "             gamma=0, gpu_id=-1, importance_type=None,\n",
       "             interaction_constraints='', learning_rate=0.1, max_delta_step=0,\n",
       "             max_depth=5, min_child_weight=1, missing=nan,\n",
       "             monotone_constraints='()', n_estimators=10, n_jobs=8,\n",
       "             num_parallel_tree=1, objective='reg:linear', predictor='auto',\n",
       "             random_state=0, reg_alpha=10, reg_lambda=1, scale_pos_weight=1,\n",
       "             subsample=1, tree_method='exact', validate_parameters=1,\n",
       "             verbosity=None)"
      ]
     },
     "execution_count": 9,
     "metadata": {},
     "output_type": "execute_result"
    }
   ],
   "source": [
    "# Modelo Simple\n",
    "xg_reg = xgb.XGBRegressor(objective ='reg:linear', colsample_bytree = 0.3, learning_rate = 0.1,\n",
    "                max_depth = 5, alpha = 10, n_estimators = 10)\n",
    "\n",
    "xg_reg.fit(X_train,y_train)"
   ]
  },
  {
   "cell_type": "markdown",
   "metadata": {},
   "source": [
    "Miramos resultados"
   ]
  },
  {
   "cell_type": "code",
   "execution_count": 10,
   "metadata": {},
   "outputs": [
    {
     "name": "stdout",
     "output_type": "stream",
     "text": [
      "MAE: Mean Absolute Error: 1.22\n",
      "MSE: Mean Squared Error: 2678243.96\n",
      "Root Mean Squared Error: 1.64\n"
     ]
    }
   ],
   "source": [
    "y_pred = xg_reg.predict(X_test)\n",
    "\n",
    "print('MAE: Mean Absolute Error:', round(metrics.mean_absolute_error(y_test, y_pred)/1000000,2))\n",
    "# MAE: Mean Absolute Error: 1.08\n",
    "# MAE: Mean Absolute Error: 0.87\n",
    "# MAE: Mean Absolute Error: 1.23 (con nueva base de API)\n",
    "\n",
    "print('MSE: Mean Squared Error:', round(metrics.mean_squared_error(y_test, y_pred)/1000000,2))\n",
    "# MSE: Mean Squared Error: 7,272,534.09\n",
    "# MSE: Mean Squared Error: 1,430,040.43\n",
    "# MSE: Mean Squared Error: 2655269.87\n",
    "print('Root Mean Squared Error:', round(np.sqrt(metrics.mean_squared_error(y_test, y_pred))/1000000,2))\n",
    "# Root Mean Squared Error: 2.7\n",
    "# Root Mean Squared Error: 1.2\n",
    "# Root Mean Squared Error: 1.63"
   ]
  },
  {
   "cell_type": "code",
   "execution_count": 173,
   "metadata": {},
   "outputs": [
    {
     "data": {
      "text/plain": [
       "Text(0.5, 1.0, 'Feature Importance')"
      ]
     },
     "execution_count": 173,
     "metadata": {},
     "output_type": "execute_result"
    },
    {
     "data": {
      "image/png": "[encoded data removed]",
      "text/plain": [
       "<Figure size 864x432 with 1 Axes>"
      ]
     },
     "metadata": {
      "needs_background": "light"
     },
     "output_type": "display_data"
    }
   ],
   "source": [
    "# Miro la importancia de las variables\n",
    "\n",
    "feature_importance = xg_reg.feature_importances_\n",
    "sorted_idx = np.argsort(feature_importance)\n",
    "fig = plt.figure(figsize=(12, 6))\n",
    "plt.barh(range(0,25), feature_importance[sorted_idx][::-1][:25], align='center')\n",
    "plt.yticks(range(0,25), np.array(X_test.columns)[sorted_idx][::-1][:25])\n",
    "plt.title('Feature Importance')\n"
   ]
  },
  {
   "cell_type": "code",
   "execution_count": 171,
   "metadata": {},
   "outputs": [
    {
     "data": {
      "text/plain": [
       "Text(0.5, 1.0, 'Feature Importance')"
      ]
     },
     "execution_count": 171,
     "metadata": {},
     "output_type": "execute_result"
    },
    {
     "data": {
      "image/png": "[encoded data removed]",
      "text/plain": [
       "<Figure size 864x432 with 1 Axes>"
      ]
     },
     "metadata": {
      "needs_background": "light"
     },
     "output_type": "display_data"
    }
   ],
   "source": [
    "# Miro la importancia de las variables\n",
    "\n",
    "feature_importance = xg_reg.feature_importances_\n",
    "sorted_idx = np.argsort(feature_importance)\n",
    "fig = plt.figure(figsize=(12, 6))\n",
    "plt.barh(range(len(sorted_idx)), feature_importance[sorted_idx], align='center')\n",
    "plt.yticks(range(len(sorted_idx)), np.array(X_test.columns)[sorted_idx])\n",
    "plt.title('Feature Importance')"
   ]
  },
  {
   "cell_type": "markdown",
   "metadata": {},
   "source": [
    "Optimizamos parametros"
   ]
  },
  {
   "cell_type": "code",
   "execution_count": 183,
   "metadata": {},
   "outputs": [
    {
     "name": "stdout",
     "output_type": "stream",
     "text": [
      "Fitting 5 folds for each of 54 candidates, totalling 270 fits\n"
     ]
    },
    {
     "ename": "NameError",
     "evalue": "name 'clf' is not defined",
     "output_type": "error",
     "traceback": [
      "\u001b[1;31m---------------------------------------------------------------------------\u001b[0m",
      "\u001b[1;31mNameError\u001b[0m                                 Traceback (most recent call last)",
      "\u001b[1;32mC:\\Users\\LUCIA~1.LOP\\AppData\\Local\\Temp/ipykernel_14524/3746862816.py\u001b[0m in \u001b[0;36m<module>\u001b[1;34m\u001b[0m\n\u001b[0;32m     15\u001b[0m \u001b[1;33m\u001b[0m\u001b[0m\n\u001b[0;32m     16\u001b[0m \u001b[0mclf_GS\u001b[0m\u001b[1;33m.\u001b[0m\u001b[0mfit\u001b[0m\u001b[1;33m(\u001b[0m\u001b[0mX_train\u001b[0m\u001b[1;33m,\u001b[0m \u001b[0my_train\u001b[0m\u001b[1;33m)\u001b[0m\u001b[1;33m\u001b[0m\u001b[1;33m\u001b[0m\u001b[0m\n\u001b[1;32m---> 17\u001b[1;33m \u001b[0mprint\u001b[0m\u001b[1;33m(\u001b[0m\u001b[1;34m\"Best parameters:\"\u001b[0m\u001b[1;33m,\u001b[0m \u001b[0mclf\u001b[0m\u001b[1;33m.\u001b[0m\u001b[0mbest_params_\u001b[0m\u001b[1;33m)\u001b[0m\u001b[1;33m\u001b[0m\u001b[1;33m\u001b[0m\u001b[0m\n\u001b[0m\u001b[0;32m     18\u001b[0m \u001b[1;33m\u001b[0m\u001b[0m\n\u001b[0;32m     19\u001b[0m \u001b[0my_pred_test\u001b[0m \u001b[1;33m=\u001b[0m \u001b[0mclf_GridS\u001b[0m\u001b[1;33m.\u001b[0m\u001b[0mbest_estimator_\u001b[0m\u001b[1;33m(\u001b[0m\u001b[0mX_test\u001b[0m\u001b[1;33m)\u001b[0m\u001b[1;33m\u001b[0m\u001b[1;33m\u001b[0m\u001b[0m\n",
      "\u001b[1;31mNameError\u001b[0m: name 'clf' is not defined"
     ]
    }
   ],
   "source": [
    "########################################## Optimizando los hiperparametros\n",
    "########################################## GridSearchCV\n",
    "\n",
    "params = { 'max_depth': [3,6,10],\n",
    "           'learning_rate': [0.01, 0.05, 0.1],\n",
    "           'n_estimators': [100, 300, 500],\n",
    "           'colsample_bytree': [0.3, 0.7]}\n",
    "\n",
    "xgbr = xgb.XGBRegressor(seed = 20)\n",
    "clf_GS = GridSearchCV(estimator=xgbr, \n",
    "                   param_grid=params,\n",
    "                   # scoring='neg_mean_squared_error',\n",
    "                   scoring = 'neg_mean_absolute_error',\n",
    "                   verbose=1)\n",
    "\n",
    "clf_GS.fit(X_train, y_train)\n",
    "print(\"Best parameters:\", clf.best_params_)\n",
    "\n",
    "y_pred_test = clf_GridS.best_estimator_(X_test)\n",
    "y_pred_train = clf_GridS.best_estimator_(X_train)\n",
    "\n",
    "print('Root Mean Squared Error:', round(np.sqrt(metrics.mean_squared_error(y_test, y_pred_test))/1000000,2))\n",
    "print('Root Mean Squared Error:', round(np.sqrt(metrics.mean_squared_error(y_train, y_pred_train))/1000000,2))\n",
    "\n",
    "\n",
    "# Best parameters: {'colsample_bytree': 0.7, 'learning_rate': 0.1, 'max_depth': 10, 'n_estimators': 1000}\n",
    "print(\"Lowest RMSE: \", round(((-clf_GridS.best_score_)**(1/2.0)/1000000),2))\n",
    "# Lowest RMSE:  0.44\n",
    "print(\"Lowest MSE: \", round((-clf_GridS.best_score_/1000000),2))\n",
    "# Lowest MSE:  197.270.95"
   ]
  },
  {
   "cell_type": "code",
   "execution_count": null,
   "metadata": {},
   "outputs": [],
   "source": [
    "best_estimator_.feature_importances_"
   ]
  },
  {
   "cell_type": "code",
   "execution_count": 174,
   "metadata": {},
   "outputs": [
    {
     "name": "stdout",
     "output_type": "stream",
     "text": [
      "Fitting 5 folds for each of 1 candidates, totalling 5 fits\n",
      "Best parameters: {'subsample': 0.7999999999999999, 'n_estimators': 100, 'max_depth': 3, 'learning_rate': 0.01, 'colsample_bytree': 0.4, 'colsample_bylevel': 0.6}\n",
      "Lowest RMSE:  1.81\n",
      "Lowest MSE:  3290047.19\n"
     ]
    }
   ],
   "source": [
    "########################################## RandomSearch\n",
    "\n",
    "params = { 'max_depth': [3, 5, 6, 10, 15, 20],\n",
    "           'learning_rate': [0.01, 0.1, 0.2, 0.3],\n",
    "           'subsample': np.arange(0.5, 1.0, 0.1),\n",
    "           'colsample_bytree': np.arange(0.4, 1.0, 0.1),\n",
    "           'colsample_bylevel': np.arange(0.4, 1.0, 0.1),\n",
    "           'n_estimators': [100, 500, 1000]}\n",
    "\n",
    "xgbr = xgb.XGBRegressor(seed = 20)\n",
    "clf_RandomS = RandomizedSearchCV(estimator=xgbr,\n",
    "                         param_distributions=params,\n",
    "                         scoring='neg_mean_squared_error',\n",
    "                         n_iter=10,\n",
    "                         verbose=1)\n",
    "clf_RandomS.fit(X_train, y_train)\n",
    "\n",
    "print(\"Best parameters:\", clf_RandomS.best_params_)\n",
    "# print(\"Best parameters:\", clf_RandomS.best_params_)\n",
    "# Best parameters: {'subsample': 0.8999999999999999, 'n_estimators': 500, 'max_depth': 15, 'learning_rate': 0.2, 'colsample_bytree': 0.8999999999999999, 'colsample_bylevel': 0.7}\n",
    "print(\"Lowest RMSE: \", round(((-clf_RandomS.best_score_)**(1/2.0)/1000000),2))\n",
    "# Lowest RMSE:  0.46\n",
    "# Lowest RMSE:  0.69 (con api data)\n",
    "print(\"Lowest MSE: \", round((-clf_RandomS.best_score_/1000000),2))\n",
    "# Lowest MSE:  213.030.49\n",
    "# Lowest MSE: 456.262.19 (con api Data)"
   ]
  },
  {
   "cell_type": "code",
   "execution_count": 182,
   "metadata": {},
   "outputs": [
    {
     "ename": "NameError",
     "evalue": "name 'best_score_' is not defined",
     "output_type": "error",
     "traceback": [
      "\u001b[1;31m---------------------------------------------------------------------------\u001b[0m",
      "\u001b[1;31mNameError\u001b[0m                                 Traceback (most recent call last)",
      "\u001b[1;32mC:\\Users\\LUCIA~1.LOP\\AppData\\Local\\Temp/ipykernel_14524/3853746400.py\u001b[0m in \u001b[0;36m<module>\u001b[1;34m\u001b[0m\n\u001b[0;32m      1\u001b[0m \u001b[1;31m# Miro la importancia de las variables\u001b[0m\u001b[1;33m\u001b[0m\u001b[1;33m\u001b[0m\u001b[0m\n\u001b[0;32m      2\u001b[0m \u001b[1;33m\u001b[0m\u001b[0m\n\u001b[1;32m----> 3\u001b[1;33m \u001b[0mfeature_importance\u001b[0m \u001b[1;33m=\u001b[0m \u001b[0mbest_score_\u001b[0m\u001b[1;33m.\u001b[0m\u001b[0mfeature_importances_\u001b[0m\u001b[1;33m\u001b[0m\u001b[1;33m\u001b[0m\u001b[0m\n\u001b[0m\u001b[0;32m      4\u001b[0m \u001b[0msorted_idx\u001b[0m \u001b[1;33m=\u001b[0m \u001b[0mnp\u001b[0m\u001b[1;33m.\u001b[0m\u001b[0margsort\u001b[0m\u001b[1;33m(\u001b[0m\u001b[0mfeature_importance\u001b[0m\u001b[1;33m)\u001b[0m\u001b[1;33m\u001b[0m\u001b[1;33m\u001b[0m\u001b[0m\n\u001b[0;32m      5\u001b[0m \u001b[0mfig\u001b[0m \u001b[1;33m=\u001b[0m \u001b[0mplt\u001b[0m\u001b[1;33m.\u001b[0m\u001b[0mfigure\u001b[0m\u001b[1;33m(\u001b[0m\u001b[0mfigsize\u001b[0m\u001b[1;33m=\u001b[0m\u001b[1;33m(\u001b[0m\u001b[1;36m12\u001b[0m\u001b[1;33m,\u001b[0m \u001b[1;36m6\u001b[0m\u001b[1;33m)\u001b[0m\u001b[1;33m)\u001b[0m\u001b[1;33m\u001b[0m\u001b[1;33m\u001b[0m\u001b[0m\n",
      "\u001b[1;31mNameError\u001b[0m: name 'best_score_' is not defined"
     ]
    }
   ],
   "source": [
    "# Miro la importancia de las variables\n",
    "\n",
    "feature_importance = best_score_.feature_importances_\n",
    "sorted_idx = np.argsort(feature_importance)\n",
    "fig = plt.figure(figsize=(12, 6))\n",
    "plt.barh(range(0,25), feature_importance[sorted_idx][::-1][:25], align='center')\n",
    "plt.yticks(range(0,25), np.array(X_train.columns)[sorted_idx][::-1][:25])\n",
    "plt.title('Feature Importance')"
   ]
  },
  {
   "cell_type": "code",
   "execution_count": null,
   "metadata": {},
   "outputs": [],
   "source": [
    "print('MAE: Mean Absolute Error:', round(metrics.mean_absolute_error(y_test, y_pred)/1000000,2))\n",
    "# MAE: Mean Absolute Error: 1.08\n",
    "# MAE: Mean Absolute Error: 0.87\n",
    "# MAE: Mean Absolute Error: 1.23 (con nueva base de API)\n",
    "# MAE: Mean Absolute Error: 0.29\n",
    "print('MSE: Mean Squared Error:', round(metrics.mean_squared_error(y_test, y_pred)/1000000,2))\n",
    "# MSE: Mean Squared Error: 7,272,534.09\n",
    "# MSE: Mean Squared Error: 1,430,040.43\n",
    "# MSE: Mean Squared Error: 2655269.87\n",
    "# MSE: Mean Squared Error: 210.388.38\n",
    "print('Root Mean Squared Error:', round(np.sqrt(metrics.mean_squared_error(y_test, y_pred))/1000000,2))\n",
    "# Root Mean Squared Error: 2.7\n",
    "# Root Mean Squared Error: 1.2\n",
    "# Root Mean Squared Error: 1.63\n",
    "# Root Mean Squared Error: 0.46"
   ]
  },
  {
   "cell_type": "markdown",
   "metadata": {},
   "source": [
    "Analizo los datos de Kavak"
   ]
  },
  {
   "cell_type": "code",
   "execution_count": 226,
   "metadata": {},
   "outputs": [],
   "source": [
    "####################################################\n",
    "#### Prueba de datos de Kavak\n",
    "\n",
    "# Separo en Y y X\n",
    "datos_kavak = datos[(datos['type_kavak'] == 1)] \n",
    "datos_kavak = datos_kavak.drop('type_kavak',axis=1)\n",
    "datos_kavak = datos_kavak.drop('type_meli',axis=1)\n",
    "\n",
    "#separate the other attributes from the predicting attribute\n",
    "x_kavak = datos_kavak.drop('price',axis=1)\n",
    "\n",
    "#separte the predicting attribute into Y for model training \n",
    "y_kavak = datos_kavak['price']\n"
   ]
  },
  {
   "cell_type": "code",
   "execution_count": 225,
   "metadata": {},
   "outputs": [
    {
     "data": {
      "text/plain": [
       "0       2830994\n",
       "1       3446693\n",
       "2       3436740\n",
       "3       3697161\n",
       "4       6076641\n",
       "         ...   \n",
       "2233    2578698\n",
       "2234    3195849\n",
       "2235    5221806\n",
       "2236    6035456\n",
       "2237    2197163\n",
       "Name: price, Length: 2238, dtype: int64"
      ]
     },
     "execution_count": 225,
     "metadata": {},
     "output_type": "execute_result"
    }
   ],
   "source": []
  },
  {
   "cell_type": "code",
   "execution_count": 188,
   "metadata": {},
   "outputs": [],
   "source": [
    "# Predigo las x_kavak\n",
    "#y_pred_kavak_ln = model.predict(x_kavak)\n",
    "\n",
    "#y_pred = xg_reg.predict(X_test)\n",
    "\n",
    "#  Saco exponencial de los valores de Y\n",
    "#y_pred_kavak = np.exp(y_pred_kavak_ln)/1000\n",
    "\n",
    "#print('Mean Absolute Error:', round(metrics.mean_absolute_error(y_kavak, y_pred_kavak)/1000000,2))\n",
    "# Mean Absolute Error: 126.93"
   ]
  },
  {
   "cell_type": "code",
   "execution_count": 185,
   "metadata": {},
   "outputs": [],
   "source": [
    "y_pred = clf_RandomS.predict(x_kavak)\n",
    "# y_pred_test = clf_RandomS.best_estimator_(X_kavak)"
   ]
  },
  {
   "cell_type": "code",
   "execution_count": 187,
   "metadata": {},
   "outputs": [
    {
     "name": "stdout",
     "output_type": "stream",
     "text": [
      "MAE: Mean Absolute Error: 0.48\n",
      "MSE: Mean Squared Error: 391221.8\n",
      "Root Mean Squared Error: 0.63\n"
     ]
    }
   ],
   "source": [
    "print('MAE: Mean Absolute Error:', round(metrics.mean_absolute_error(y_kavak, y_pred)/1000000,2))\n",
    "# MAE: Mean Absolute Error: 1.08\n",
    "# MAE: Mean Absolute Error: 0.87\n",
    "# MAE: Mean Absolute Error: 1.23 (con nueva base de API)\n",
    "# MAE: Mean Absolute Error: 0.29\n",
    "print('MSE: Mean Squared Error:', round(metrics.mean_squared_error(y_kavak, y_pred)/1000000,2))\n",
    "# MSE: Mean Squared Error: 7,272,534.09\n",
    "# MSE: Mean Squared Error: 1,430,040.43\n",
    "# MSE: Mean Squared Error: 2655269.87\n",
    "# MSE: Mean Squared Error: 210.388.38\n",
    "print('Root Mean Squared Error:', round(np.sqrt(metrics.mean_squared_error(y_kavak, y_pred))/1000000,2))\n",
    "# Root Mean Squared Error: 2.7\n",
    "# Root Mean Squared Error: 1.2\n",
    "# Root Mean Squared Error: 1.63\n",
    "# Root Mean Squared Error: 0.46"
   ]
  },
  {
   "cell_type": "code",
   "execution_count": 235,
   "metadata": {},
   "outputs": [
    {
     "data": {
      "text/html": [
       "<div>\n",
       "<style scoped>\n",
       "    .dataframe tbody tr th:only-of-type {\n",
       "        vertical-align: middle;\n",
       "    }\n",
       "\n",
       "    .dataframe tbody tr th {\n",
       "        vertical-align: top;\n",
       "    }\n",
       "\n",
       "    .dataframe thead th {\n",
       "        text-align: right;\n",
       "    }\n",
       "</style>\n",
       "<table border=\"1\" class=\"dataframe\">\n",
       "  <thead>\n",
       "    <tr style=\"text-align: right;\">\n",
       "      <th></th>\n",
       "      <th>price</th>\n",
       "      <th>y_pred</th>\n",
       "      <th>currency_id_ARS</th>\n",
       "      <th>condition_used</th>\n",
       "      <th>Marca_Ford</th>\n",
       "      <th>Marca_Honda</th>\n",
       "      <th>Marca_Toyota</th>\n",
       "      <th>Marca_Renault</th>\n",
       "      <th>Marca_Volkswagen</th>\n",
       "      <th>Marca_Chevrolet</th>\n",
       "      <th>...</th>\n",
       "      <th>Motor_3.8</th>\n",
       "      <th>Motor_1.6 16V</th>\n",
       "      <th>Motor_1.1</th>\n",
       "      <th>Transmisión_Manual</th>\n",
       "      <th>Transmisión_Automática</th>\n",
       "      <th>Transmisión_Automática secuencial</th>\n",
       "      <th>id</th>\n",
       "      <th>Puertas</th>\n",
       "      <th>Kilómetros</th>\n",
       "      <th>Año</th>\n",
       "    </tr>\n",
       "  </thead>\n",
       "  <tbody>\n",
       "    <tr>\n",
       "      <th>0</th>\n",
       "      <td>2830994</td>\n",
       "      <td>3136072.50</td>\n",
       "      <td>1</td>\n",
       "      <td>1</td>\n",
       "      <td>0</td>\n",
       "      <td>0</td>\n",
       "      <td>0</td>\n",
       "      <td>0</td>\n",
       "      <td>0</td>\n",
       "      <td>0</td>\n",
       "      <td>...</td>\n",
       "      <td>0</td>\n",
       "      <td>0</td>\n",
       "      <td>0</td>\n",
       "      <td>1</td>\n",
       "      <td>0</td>\n",
       "      <td>0</td>\n",
       "      <td>174506</td>\n",
       "      <td>4</td>\n",
       "      <td>1012</td>\n",
       "      <td>2022</td>\n",
       "    </tr>\n",
       "    <tr>\n",
       "      <th>1</th>\n",
       "      <td>3446693</td>\n",
       "      <td>3734184.00</td>\n",
       "      <td>1</td>\n",
       "      <td>1</td>\n",
       "      <td>0</td>\n",
       "      <td>0</td>\n",
       "      <td>0</td>\n",
       "      <td>0</td>\n",
       "      <td>0</td>\n",
       "      <td>1</td>\n",
       "      <td>...</td>\n",
       "      <td>0</td>\n",
       "      <td>0</td>\n",
       "      <td>0</td>\n",
       "      <td>1</td>\n",
       "      <td>0</td>\n",
       "      <td>0</td>\n",
       "      <td>170579</td>\n",
       "      <td>5</td>\n",
       "      <td>1020</td>\n",
       "      <td>2022</td>\n",
       "    </tr>\n",
       "    <tr>\n",
       "      <th>2</th>\n",
       "      <td>3436740</td>\n",
       "      <td>3066126.25</td>\n",
       "      <td>1</td>\n",
       "      <td>1</td>\n",
       "      <td>0</td>\n",
       "      <td>0</td>\n",
       "      <td>0</td>\n",
       "      <td>0</td>\n",
       "      <td>0</td>\n",
       "      <td>0</td>\n",
       "      <td>...</td>\n",
       "      <td>0</td>\n",
       "      <td>0</td>\n",
       "      <td>0</td>\n",
       "      <td>1</td>\n",
       "      <td>0</td>\n",
       "      <td>0</td>\n",
       "      <td>179998</td>\n",
       "      <td>4</td>\n",
       "      <td>1023</td>\n",
       "      <td>2022</td>\n",
       "    </tr>\n",
       "    <tr>\n",
       "      <th>3</th>\n",
       "      <td>3697161</td>\n",
       "      <td>3830035.50</td>\n",
       "      <td>1</td>\n",
       "      <td>1</td>\n",
       "      <td>1</td>\n",
       "      <td>0</td>\n",
       "      <td>0</td>\n",
       "      <td>0</td>\n",
       "      <td>0</td>\n",
       "      <td>0</td>\n",
       "      <td>...</td>\n",
       "      <td>0</td>\n",
       "      <td>0</td>\n",
       "      <td>0</td>\n",
       "      <td>0</td>\n",
       "      <td>1</td>\n",
       "      <td>0</td>\n",
       "      <td>164802</td>\n",
       "      <td>5</td>\n",
       "      <td>1042</td>\n",
       "      <td>2020</td>\n",
       "    </tr>\n",
       "    <tr>\n",
       "      <th>4</th>\n",
       "      <td>6076641</td>\n",
       "      <td>5335502.50</td>\n",
       "      <td>1</td>\n",
       "      <td>1</td>\n",
       "      <td>0</td>\n",
       "      <td>0</td>\n",
       "      <td>0</td>\n",
       "      <td>0</td>\n",
       "      <td>1</td>\n",
       "      <td>0</td>\n",
       "      <td>...</td>\n",
       "      <td>0</td>\n",
       "      <td>0</td>\n",
       "      <td>0</td>\n",
       "      <td>0</td>\n",
       "      <td>1</td>\n",
       "      <td>0</td>\n",
       "      <td>139688</td>\n",
       "      <td>5</td>\n",
       "      <td>1052</td>\n",
       "      <td>2021</td>\n",
       "    </tr>\n",
       "    <tr>\n",
       "      <th>...</th>\n",
       "      <td>...</td>\n",
       "      <td>...</td>\n",
       "      <td>...</td>\n",
       "      <td>...</td>\n",
       "      <td>...</td>\n",
       "      <td>...</td>\n",
       "      <td>...</td>\n",
       "      <td>...</td>\n",
       "      <td>...</td>\n",
       "      <td>...</td>\n",
       "      <td>...</td>\n",
       "      <td>...</td>\n",
       "      <td>...</td>\n",
       "      <td>...</td>\n",
       "      <td>...</td>\n",
       "      <td>...</td>\n",
       "      <td>...</td>\n",
       "      <td>...</td>\n",
       "      <td>...</td>\n",
       "      <td>...</td>\n",
       "      <td>...</td>\n",
       "    </tr>\n",
       "    <tr>\n",
       "      <th>2233</th>\n",
       "      <td>2578698</td>\n",
       "      <td>2249939.75</td>\n",
       "      <td>1</td>\n",
       "      <td>1</td>\n",
       "      <td>1</td>\n",
       "      <td>0</td>\n",
       "      <td>0</td>\n",
       "      <td>0</td>\n",
       "      <td>0</td>\n",
       "      <td>0</td>\n",
       "      <td>...</td>\n",
       "      <td>0</td>\n",
       "      <td>0</td>\n",
       "      <td>0</td>\n",
       "      <td>1</td>\n",
       "      <td>0</td>\n",
       "      <td>0</td>\n",
       "      <td>183498</td>\n",
       "      <td>5</td>\n",
       "      <td>101000</td>\n",
       "      <td>2014</td>\n",
       "    </tr>\n",
       "    <tr>\n",
       "      <th>2234</th>\n",
       "      <td>3195849</td>\n",
       "      <td>3352842.75</td>\n",
       "      <td>1</td>\n",
       "      <td>1</td>\n",
       "      <td>0</td>\n",
       "      <td>0</td>\n",
       "      <td>0</td>\n",
       "      <td>0</td>\n",
       "      <td>0</td>\n",
       "      <td>0</td>\n",
       "      <td>...</td>\n",
       "      <td>0</td>\n",
       "      <td>0</td>\n",
       "      <td>0</td>\n",
       "      <td>0</td>\n",
       "      <td>1</td>\n",
       "      <td>0</td>\n",
       "      <td>178515</td>\n",
       "      <td>4</td>\n",
       "      <td>101015</td>\n",
       "      <td>2018</td>\n",
       "    </tr>\n",
       "    <tr>\n",
       "      <th>2235</th>\n",
       "      <td>5221806</td>\n",
       "      <td>4113434.75</td>\n",
       "      <td>1</td>\n",
       "      <td>1</td>\n",
       "      <td>1</td>\n",
       "      <td>0</td>\n",
       "      <td>0</td>\n",
       "      <td>0</td>\n",
       "      <td>0</td>\n",
       "      <td>0</td>\n",
       "      <td>...</td>\n",
       "      <td>0</td>\n",
       "      <td>0</td>\n",
       "      <td>0</td>\n",
       "      <td>1</td>\n",
       "      <td>0</td>\n",
       "      <td>0</td>\n",
       "      <td>166491</td>\n",
       "      <td>4</td>\n",
       "      <td>101050</td>\n",
       "      <td>2017</td>\n",
       "    </tr>\n",
       "    <tr>\n",
       "      <th>2236</th>\n",
       "      <td>6035456</td>\n",
       "      <td>5683670.00</td>\n",
       "      <td>1</td>\n",
       "      <td>1</td>\n",
       "      <td>0</td>\n",
       "      <td>0</td>\n",
       "      <td>0</td>\n",
       "      <td>0</td>\n",
       "      <td>0</td>\n",
       "      <td>0</td>\n",
       "      <td>...</td>\n",
       "      <td>0</td>\n",
       "      <td>0</td>\n",
       "      <td>0</td>\n",
       "      <td>0</td>\n",
       "      <td>1</td>\n",
       "      <td>0</td>\n",
       "      <td>159926</td>\n",
       "      <td>4</td>\n",
       "      <td>102000</td>\n",
       "      <td>2017</td>\n",
       "    </tr>\n",
       "    <tr>\n",
       "      <th>2237</th>\n",
       "      <td>2197163</td>\n",
       "      <td>3056554.25</td>\n",
       "      <td>1</td>\n",
       "      <td>1</td>\n",
       "      <td>0</td>\n",
       "      <td>0</td>\n",
       "      <td>0</td>\n",
       "      <td>0</td>\n",
       "      <td>0</td>\n",
       "      <td>0</td>\n",
       "      <td>...</td>\n",
       "      <td>0</td>\n",
       "      <td>0</td>\n",
       "      <td>0</td>\n",
       "      <td>0</td>\n",
       "      <td>1</td>\n",
       "      <td>0</td>\n",
       "      <td>139689</td>\n",
       "      <td>5</td>\n",
       "      <td>104000</td>\n",
       "      <td>2014</td>\n",
       "    </tr>\n",
       "  </tbody>\n",
       "</table>\n",
       "<p>2238 rows × 433 columns</p>\n",
       "</div>"
      ],
      "text/plain": [
       "        price      y_pred  currency_id_ARS  condition_used  Marca_Ford  \\\n",
       "0     2830994  3136072.50                1               1           0   \n",
       "1     3446693  3734184.00                1               1           0   \n",
       "2     3436740  3066126.25                1               1           0   \n",
       "3     3697161  3830035.50                1               1           1   \n",
       "4     6076641  5335502.50                1               1           0   \n",
       "...       ...         ...              ...             ...         ...   \n",
       "2233  2578698  2249939.75                1               1           1   \n",
       "2234  3195849  3352842.75                1               1           0   \n",
       "2235  5221806  4113434.75                1               1           1   \n",
       "2236  6035456  5683670.00                1               1           0   \n",
       "2237  2197163  3056554.25                1               1           0   \n",
       "\n",
       "      Marca_Honda  Marca_Toyota  Marca_Renault  Marca_Volkswagen  \\\n",
       "0               0             0              0                 0   \n",
       "1               0             0              0                 0   \n",
       "2               0             0              0                 0   \n",
       "3               0             0              0                 0   \n",
       "4               0             0              0                 1   \n",
       "...           ...           ...            ...               ...   \n",
       "2233            0             0              0                 0   \n",
       "2234            0             0              0                 0   \n",
       "2235            0             0              0                 0   \n",
       "2236            0             0              0                 0   \n",
       "2237            0             0              0                 0   \n",
       "\n",
       "      Marca_Chevrolet  ...  Motor_3.8  Motor_1.6 16V  Motor_1.1  \\\n",
       "0                   0  ...          0              0          0   \n",
       "1                   1  ...          0              0          0   \n",
       "2                   0  ...          0              0          0   \n",
       "3                   0  ...          0              0          0   \n",
       "4                   0  ...          0              0          0   \n",
       "...               ...  ...        ...            ...        ...   \n",
       "2233                0  ...          0              0          0   \n",
       "2234                0  ...          0              0          0   \n",
       "2235                0  ...          0              0          0   \n",
       "2236                0  ...          0              0          0   \n",
       "2237                0  ...          0              0          0   \n",
       "\n",
       "      Transmisión_Manual  Transmisión_Automática  \\\n",
       "0                      1                       0   \n",
       "1                      1                       0   \n",
       "2                      1                       0   \n",
       "3                      0                       1   \n",
       "4                      0                       1   \n",
       "...                  ...                     ...   \n",
       "2233                   1                       0   \n",
       "2234                   0                       1   \n",
       "2235                   1                       0   \n",
       "2236                   0                       1   \n",
       "2237                   0                       1   \n",
       "\n",
       "      Transmisión_Automática secuencial      id  Puertas  Kilómetros   Año  \n",
       "0                                     0  174506        4        1012  2022  \n",
       "1                                     0  170579        5        1020  2022  \n",
       "2                                     0  179998        4        1023  2022  \n",
       "3                                     0  164802        5        1042  2020  \n",
       "4                                     0  139688        5        1052  2021  \n",
       "...                                 ...     ...      ...         ...   ...  \n",
       "2233                                  0  183498        5      101000  2014  \n",
       "2234                                  0  178515        4      101015  2018  \n",
       "2235                                  0  166491        4      101050  2017  \n",
       "2236                                  0  159926        4      102000  2017  \n",
       "2237                                  0  139689        5      104000  2014  \n",
       "\n",
       "[2238 rows x 433 columns]"
      ]
     },
     "execution_count": 235,
     "metadata": {},
     "output_type": "execute_result"
    }
   ],
   "source": [
    "df_kavak = pd.DataFrame(y_kavak)\n",
    "df_kavak\n",
    "\n",
    "df_pred = pd.DataFrame(y_pred, columns = ['y_pred'])\n",
    "df_pred\n",
    "\n",
    "frames = [df_kavak, df_pred, x_kavak]\n",
    "data_analisis = pd.concat(frames, axis = 1)\n",
    "\n",
    "data_analisis\n",
    "\n"
   ]
  },
  {
   "cell_type": "markdown",
   "metadata": {},
   "source": [
    "Exporto los Datos a Medir"
   ]
  },
  {
   "cell_type": "code",
   "execution_count": 240,
   "metadata": {},
   "outputs": [],
   "source": [
    "data_analisis.to_excel('data_analisis_kavak.xlsx', index=False)"
   ]
  }
 ],
 "metadata": {
  "interpreter": {
   "hash": "e3e9a750fc05e5a08aac5c7f68a373d320e024e5143e44a9c92a2cb2852add95"
  },
  "kernelspec": {
   "display_name": "Python 3.9.7 ('base')",
   "language": "python",
   "name": "python3"
  },
  "language_info": {
   "codemirror_mode": {
    "name": "ipython",
    "version": 3
   },
   "file_extension": ".py",
   "mimetype": "text/x-python",
   "name": "python",
   "nbconvert_exporter": "python",
   "pygments_lexer": "ipython3",
   "version": "3.9.7"
  },
  "orig_nbformat": 4
 },
 "nbformat": 4,
 "nbformat_minor": 2
}
