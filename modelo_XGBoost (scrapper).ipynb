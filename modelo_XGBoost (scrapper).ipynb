{
 "cells": [
  {
   "cell_type": "markdown",
   "metadata": {},
   "source": [
    "Importamos librerias"
   ]
  },
  {
   "cell_type": "code",
   "execution_count": 6,
   "metadata": {},
   "outputs": [],
   "source": [
    "import requests\n",
    "import os\n",
    "import base64\n",
    "import json\n",
    "import pandas as pd\n",
    "from fastcore.all import *\n",
    "from tqdm.notebook import tqdm, trange\n",
    "import shutil"
   ]
  },
  {
   "cell_type": "code",
   "execution_count": 7,
   "metadata": {},
   "outputs": [],
   "source": [
    "with open('keys.txt') as f:\n",
    "    key = f.read().strip()"
   ]
  },
  {
   "cell_type": "code",
   "execution_count": 8,
   "metadata": {},
   "outputs": [],
   "source": [
    "site_id = 'MLA'\n",
    "bearer_token = base64.b64encode(bytes(\"'Bearer {}'\".format(key), encoding='utf-8'))\n",
    "header = {'Authorization': bearer_token}"
   ]
  },
  {
   "cell_type": "markdown",
   "metadata": {},
   "source": [
    "Categorias"
   ]
  },
  {
   "cell_type": "code",
   "execution_count": 9,
   "metadata": {},
   "outputs": [],
   "source": [
    "url = 'https://api.mercadolibre.com/sites/MLA/categories'\n",
    "r = requests.get(url, headers=header)\n",
    "cats = r.json()\n",
    "cats = pd.DataFrame(cats)\n"
   ]
  },
  {
   "cell_type": "code",
   "execution_count": 10,
   "metadata": {},
   "outputs": [
    {
     "data": {
      "text/html": [
       "<div>\n",
       "<style scoped>\n",
       "    .dataframe tbody tr th:only-of-type {\n",
       "        vertical-align: middle;\n",
       "    }\n",
       "\n",
       "    .dataframe tbody tr th {\n",
       "        vertical-align: top;\n",
       "    }\n",
       "\n",
       "    .dataframe thead th {\n",
       "        text-align: right;\n",
       "    }\n",
       "</style>\n",
       "<table border=\"1\" class=\"dataframe\">\n",
       "  <thead>\n",
       "    <tr style=\"text-align: right;\">\n",
       "      <th></th>\n",
       "      <th>id</th>\n",
       "      <th>name</th>\n",
       "    </tr>\n",
       "  </thead>\n",
       "  <tbody>\n",
       "    <tr>\n",
       "      <th>6</th>\n",
       "      <td>MLA1743</td>\n",
       "      <td>Autos, Motos y Otros</td>\n",
       "    </tr>\n",
       "  </tbody>\n",
       "</table>\n",
       "</div>"
      ],
      "text/plain": [
       "        id                  name\n",
       "6  MLA1743  Autos, Motos y Otros"
      ]
     },
     "execution_count": 10,
     "metadata": {},
     "output_type": "execute_result"
    }
   ],
   "source": [
    "cats[cats.name.str.lower().str.contains('auto')]"
   ]
  },
  {
   "cell_type": "markdown",
   "metadata": {},
   "source": [
    "Subcategorias"
   ]
  },
  {
   "cell_type": "code",
   "execution_count": 11,
   "metadata": {},
   "outputs": [
    {
     "data": {
      "text/html": [
       "<div>\n",
       "<style scoped>\n",
       "    .dataframe tbody tr th:only-of-type {\n",
       "        vertical-align: middle;\n",
       "    }\n",
       "\n",
       "    .dataframe tbody tr th {\n",
       "        vertical-align: top;\n",
       "    }\n",
       "\n",
       "    .dataframe thead th {\n",
       "        text-align: right;\n",
       "    }\n",
       "</style>\n",
       "<table border=\"1\" class=\"dataframe\">\n",
       "  <thead>\n",
       "    <tr style=\"text-align: right;\">\n",
       "      <th></th>\n",
       "      <th>id</th>\n",
       "      <th>name</th>\n",
       "      <th>total_items_in_this_category</th>\n",
       "    </tr>\n",
       "  </thead>\n",
       "  <tbody>\n",
       "    <tr>\n",
       "      <th>4</th>\n",
       "      <td>MLA51547</td>\n",
       "      <td>Colectivos</td>\n",
       "      <td>373</td>\n",
       "    </tr>\n",
       "    <tr>\n",
       "      <th>11</th>\n",
       "      <td>MLA93430</td>\n",
       "      <td>Semirremolques</td>\n",
       "      <td>811</td>\n",
       "    </tr>\n",
       "    <tr>\n",
       "      <th>7</th>\n",
       "      <td>MLA80579</td>\n",
       "      <td>Motorhomes</td>\n",
       "      <td>1034</td>\n",
       "    </tr>\n",
       "    <tr>\n",
       "      <th>0</th>\n",
       "      <td>MLA93412</td>\n",
       "      <td>Autos Chocados y Averiados</td>\n",
       "      <td>1047</td>\n",
       "    </tr>\n",
       "    <tr>\n",
       "      <th>10</th>\n",
       "      <td>MLA1784</td>\n",
       "      <td>Planes de Ahorro</td>\n",
       "      <td>1553</td>\n",
       "    </tr>\n",
       "    <tr>\n",
       "      <th>5</th>\n",
       "      <td>MLA7312</td>\n",
       "      <td>Maquinaria Agrícola</td>\n",
       "      <td>2225</td>\n",
       "    </tr>\n",
       "    <tr>\n",
       "      <th>6</th>\n",
       "      <td>MLA405183</td>\n",
       "      <td>Maquinaria Vial</td>\n",
       "      <td>2462</td>\n",
       "    </tr>\n",
       "    <tr>\n",
       "      <th>1</th>\n",
       "      <td>MLA1745</td>\n",
       "      <td>Autos de Colección</td>\n",
       "      <td>2702</td>\n",
       "    </tr>\n",
       "    <tr>\n",
       "      <th>3</th>\n",
       "      <td>MLA58254</td>\n",
       "      <td>Camiones</td>\n",
       "      <td>2774</td>\n",
       "    </tr>\n",
       "    <tr>\n",
       "      <th>9</th>\n",
       "      <td>MLA1785</td>\n",
       "      <td>Náutica</td>\n",
       "      <td>6719</td>\n",
       "    </tr>\n",
       "    <tr>\n",
       "      <th>12</th>\n",
       "      <td>MLA1907</td>\n",
       "      <td>Otros Vehículos</td>\n",
       "      <td>6822</td>\n",
       "    </tr>\n",
       "    <tr>\n",
       "      <th>8</th>\n",
       "      <td>MLA1763</td>\n",
       "      <td>Motos</td>\n",
       "      <td>37668</td>\n",
       "    </tr>\n",
       "    <tr>\n",
       "      <th>2</th>\n",
       "      <td>MLA1744</td>\n",
       "      <td>Autos y Camionetas</td>\n",
       "      <td>128011</td>\n",
       "    </tr>\n",
       "  </tbody>\n",
       "</table>\n",
       "</div>"
      ],
      "text/plain": [
       "           id                        name  total_items_in_this_category\n",
       "4    MLA51547                  Colectivos                           373\n",
       "11   MLA93430              Semirremolques                           811\n",
       "7    MLA80579                  Motorhomes                          1034\n",
       "0    MLA93412  Autos Chocados y Averiados                          1047\n",
       "10    MLA1784            Planes de Ahorro                          1553\n",
       "5     MLA7312         Maquinaria Agrícola                          2225\n",
       "6   MLA405183             Maquinaria Vial                          2462\n",
       "1     MLA1745          Autos de Colección                          2702\n",
       "3    MLA58254                    Camiones                          2774\n",
       "9     MLA1785                     Náutica                          6719\n",
       "12    MLA1907             Otros Vehículos                          6822\n",
       "8     MLA1763                       Motos                         37668\n",
       "2     MLA1744          Autos y Camionetas                        128011"
      ]
     },
     "execution_count": 11,
     "metadata": {},
     "output_type": "execute_result"
    }
   ],
   "source": [
    "cat_id = cats.loc[cats.name.str.lower().str.contains('auto'), 'id'].values[0]\n",
    "url = f'https://api.mercadolibre.com/categories/{cat_id}'\n",
    "r = requests.get(url, headers=header)\n",
    "scats = pd.DataFrame(r.json()['children_categories']).sort_values('total_items_in_this_category')\n",
    "scats\n"
   ]
  },
  {
   "cell_type": "code",
   "execution_count": 12,
   "metadata": {},
   "outputs": [],
   "source": [
    "def get_subcat_attr(scat):\n",
    "    url = f'https://api.mercadolibre.com/categories/{scat}/attributes'\n",
    "    r= requests.get(url, headers=header)\n",
    "    data = []\n",
    "    for d in r.json():\n",
    "        data.append({f'attr_{k}': v for k,v in d.items()})\n",
    "    for d in data:\n",
    "        if not 'attr_values' in d:\n",
    "            d['attr_values'] = [{'id':None, 'name': None}]\n",
    "        for k in d:\n",
    "            if k!='attr_values' and k!='attr_tags':\n",
    "                for av in d['attr_values']:\n",
    "                    av[k] = d[k]\n",
    "    data = sum([d['attr_values'] for d in data if 'attr_values' in d], [])\n",
    "    scat_attr = pd.DataFrame(data).set_index('attr_id')\n",
    "    return scat_attr"
   ]
  },
  {
   "cell_type": "code",
   "execution_count": 13,
   "metadata": {},
   "outputs": [
    {
     "data": {
      "text/plain": [
       "{'id': 'MODEL',\n",
       " 'name': 'Modelo',\n",
       " 'tags': {'catalog_required': True, 'required': True},\n",
       " 'hierarchy': 'PARENT_PK',\n",
       " 'relevance': 1,\n",
       " 'value_type': 'string',\n",
       " 'value_max_length': 255,\n",
       " 'values': [{'id': '34546', 'name': '1'},\n",
       "  {'id': '9267', 'name': '10'},\n",
       "  {'id': '8943', 'name': '100'},\n",
       "  {'id': '8272', 'name': '1000'},\n",
       "  {'id': '922967', 'name': '1007'},\n",
       "  {'id': '59332', 'name': '1020'},\n",
       "  {'id': '12564', 'name': '1022'},\n",
       "  {'id': '11530', 'name': '1025'},\n",
       "  {'id': '11194', 'name': '105'},\n",
       "  {'id': '41716', 'name': '106'},\n",
       "  {'id': '2498194', 'name': '1061'},\n",
       "  {'id': '22472', 'name': '107'},\n",
       "  {'id': '43829', 'name': '108'},\n",
       "  {'id': '45327', 'name': '11'},\n",
       "  {'id': '10320', 'name': '110'},\n",
       "  {'id': '2468938', 'name': '1102'},\n",
       "  {'id': '13009', 'name': '111'},\n",
       "  {'id': '18220', 'name': '112'},\n",
       "  {'id': '19297', 'name': '115'},\n",
       "  {'id': '110493', 'name': '121'},\n",
       "  {'id': '568935', 'name': '124'},\n",
       "  {'id': '10042', 'name': '125'},\n",
       "  {'id': '50452', 'name': '126'},\n",
       "  {'id': '104205', 'name': '127'},\n",
       "  {'id': '3487198', 'name': '1275 Mini'},\n",
       "  {'id': '10304', 'name': '128'},\n",
       "  {'id': '503636', 'name': '12C Coupe'},\n",
       "  {'id': '84830', 'name': '12C Spider'},\n",
       "  {'id': '12975', 'name': '1310'},\n",
       "  {'id': '2318078', 'name': '132'},\n",
       "  {'id': '59967', 'name': '137'},\n",
       "  {'id': '2318116', 'name': '137 Sport'},\n",
       "  {'id': '9963', 'name': '1410'},\n",
       "  {'id': '13905', 'name': '145'},\n",
       "  {'id': '1252944', 'name': '146'},\n",
       "  {'id': '58843', 'name': '147'},\n",
       "  {'id': '2130516', 'name': '147 Spazio'},\n",
       "  {'id': '8037', 'name': '1500'},\n",
       "  {'id': '77695', 'name': '155'},\n",
       "  {'id': '68769', 'name': '156'},\n",
       "  {'id': '1252945', 'name': '156 Sportwagon'},\n",
       "  {'id': '67714', 'name': '159'},\n",
       "  {'id': '10697', 'name': '1600'},\n",
       "  {'id': '11976', 'name': '164'},\n",
       "  {'id': '74513', 'name': '166'},\n",
       "  {'id': '47235', 'name': '170'},\n",
       "  {'id': '389383', 'name': '180-D'},\n",
       "  {'id': '54922', 'name': '19'},\n",
       "  {'id': '130', 'name': '190'},\n",
       "  {'id': '51098', 'name': '1970'},\n",
       "  {'id': '59481', 'name': '2'},\n",
       "  {'id': '9064', 'name': '200'},\n",
       "  {'id': '1252954', 'name': '200 SX'},\n",
       "  {'id': '516492', 'name': '2002'},\n",
       "  {'id': '65895', 'name': '2008'},\n",
       "  {'id': '5958862', 'name': '200S'},\n",
       "  {'id': '9894', 'name': '205'},\n",
       "  {'id': '3487199', 'name': '205 Minitruck'},\n",
       "  {'id': '53433', 'name': '206'},\n",
       "  {'id': '389384', 'name': '206 CC'},\n",
       "  {'id': '389385', 'name': '206 SW'},\n",
       "  {'id': '9215', 'name': '207'},\n",
       "  {'id': '2347948', 'name': '207 CC'},\n",
       "  {'id': '1252904', 'name': '207 Compact'},\n",
       "  {'id': '389386', 'name': '207 Passion'},\n",
       "  {'id': '389387', 'name': '207 SW'},\n",
       "  {'id': '9301', 'name': '208'},\n",
       "  {'id': '17764', 'name': '21'},\n",
       "  {'id': '2109406', 'name': '2104'},\n",
       "  {'id': '14357', 'name': '2105'},\n",
       "  {'id': '5076707', 'name': '21053'},\n",
       "  {'id': '2318090', 'name': '2106'},\n",
       "  {'id': '2318091', 'name': '2107'},\n",
       "  {'id': '503316', 'name': '2121'},\n",
       "  {'id': '2109383', 'name': '214'},\n",
       "  {'id': '3028724', 'name': '2141'},\n",
       "  {'id': '34825', 'name': '216'},\n",
       "  {'id': '2220978', 'name': '218'},\n",
       "  {'id': '10494', 'name': '220'},\n",
       "  {'id': '19509', 'name': '222'},\n",
       "  {'id': '468255', 'name': '228'},\n",
       "  {'id': '11015', 'name': '230'},\n",
       "  {'id': '3151', 'name': '2300'},\n",
       "  {'id': '14277', 'name': '2335'},\n",
       "  {'id': '13390', 'name': '240'},\n",
       "  {'id': '503692', 'name': '240 SX'},\n",
       "  {'id': '65571', 'name': '240SX'},\n",
       "  {'id': '2251656', 'name': '243'},\n",
       "  {'id': '1165458', 'name': '244'},\n",
       "  {'id': '9980', 'name': '245'},\n",
       "  {'id': '1182124', 'name': '246'},\n",
       "  {'id': '18844', 'name': '25'},\n",
       "  {'id': '10630', 'name': '250'},\n",
       "  {'id': '7276', 'name': '2500'},\n",
       "  {'id': '10051', 'name': '260'},\n",
       "  {'id': '2220935', 'name': '264'},\n",
       "  {'id': '40749', 'name': '275'},\n",
       "  {'id': '12254', 'name': '280'},\n",
       "  {'id': '68376', 'name': '280 SE'},\n",
       "  {'id': '1252933', 'name': '2CV'},\n",
       "  {'id': '49506', 'name': '3'},\n",
       "  {'id': '5958868', 'name': '3 SPEED'},\n",
       "  {'id': '3572359', 'name': '3 Wheeler'},\n",
       "  {'id': '503655', 'name': '3-Eleven'},\n",
       "  {'id': '566', 'name': '300'},\n",
       "  {'id': '120048', 'name': '300 D'},\n",
       "  {'id': '68473', 'name': '300 M'},\n",
       "  {'id': '84831', 'name': '300 SE'},\n",
       "  {'id': '503682', 'name': '300 SRT'},\n",
       "  {'id': '503693', 'name': '300 ZX'},\n",
       "  {'id': '9159', 'name': '3000'},\n",
       "  {'id': '84832', 'name': '3000 GT'},\n",
       "  {'id': '61646', 'name': '3008'},\n",
       "  {'id': '10127', 'name': '300C'},\n",
       "  {'id': '74769', 'name': '300M'},\n",
       "  {'id': '14969', 'name': '300S'},\n",
       "  {'id': '62319', 'name': '300ZX'},\n",
       "  {'id': '10279', 'name': '301'},\n",
       "  {'id': '2400687', 'name': '3041'},\n",
       "  {'id': '10070', 'name': '305'},\n",
       "  {'id': '51558', 'name': '306'},\n",
       "  {'id': '36046', 'name': '307'},\n",
       "  {'id': '389388', 'name': '307 CC'},\n",
       "  {'id': '85033', 'name': '307 SW'},\n",
       "  {'id': '389389', 'name': '307 Sedan'},\n",
       "  {'id': '5246', 'name': '308'},\n",
       "  {'id': '2347949', 'name': '308 CC'},\n",
       "  {'id': '766', 'name': '309'},\n",
       "  {'id': '102', 'name': '320'},\n",
       "  {'id': '67627', 'name': '3200 GT'},\n",
       "  {'id': '13278', 'name': '323'},\n",
       "  {'id': '42125', 'name': '324'},\n",
       "  {'id': '10490', 'name': '325'},\n",
       "  {'id': '15982', 'name': '33'},\n",
       "  {'id': '10498', 'name': '330'},\n",
       "  {'id': '1007109', 'name': '3350Z Coupé'},\n",
       "  {'id': '5958938', 'name': '348 GTS'},\n",
       "  {'id': '10517', 'name': '350'},\n",
       "  {'id': '8412', 'name': '3500'},\n",
       "  {'id': '60632', 'name': '350Z'},\n",
       "  {'id': '48751', 'name': '355'},\n",
       "  {'id': '9809', 'name': '360'},\n",
       "  {'id': '62298', 'name': '370Z'},\n",
       "  {'id': '1252935', 'name': '3CV'},\n",
       "  {'id': '10394', 'name': '4000'},\n",
       "  {'id': '14901', 'name': '4007'},\n",
       "  {'id': '10481', 'name': '4008'},\n",
       "  {'id': '16236', 'name': '404'},\n",
       "  {'id': '2109368', 'name': '404 Pick-Up'},\n",
       "  {'id': '4669133', 'name': '405'},\n",
       "  {'id': '62274', 'name': '406'},\n",
       "  {'id': '42378', 'name': '407'},\n",
       "  {'id': '389390', 'name': '407 SW'},\n",
       "  {'id': '7167', 'name': '408'},\n",
       "  {'id': '2220969', 'name': '414'},\n",
       "  {'id': '93415', 'name': '416'},\n",
       "  {'id': '9475', 'name': '420'},\n",
       "  {'id': '3186', 'name': '4200'},\n",
       "  {'id': '4106', 'name': '430'},\n",
       "  {'id': '2220958', 'name': '430 Scuderia'},\n",
       "  {'id': '2220950', 'name': '430 Spider'},\n",
       "  {'id': '468261', 'name': '430 ii'},\n",
       "  {'id': '5958830', 'name': '43168'},\n",
       "  {'id': '12639', 'name': '440'},\n",
       "  {'id': '10336', 'name': '45'},\n",
       "  {'id': '9243', 'name': '450'},\n",
       "  {'id': '71328', 'name': '450 SL'},\n",
       "  {'id': '69582', 'name': '450 SLC'},\n",
       "  {'id': '503673', 'name': '454'},\n",
       "  {'id': '68300', 'name': '456'},\n",
       "  {'id': '71672', 'name': '458'},\n",
       "  {'id': '72208', 'name': '458 Italia'},\n",
       "  {'id': '84795', 'name': '458 Speciale'},\n",
       "  {'id': '85031', 'name': '458 Spider'},\n",
       "  {'id': '25056', 'name': '460'},\n",
       "  {'id': '235785', 'name': '485'},\n",
       "  {'id': '110580', 'name': '488'},\n",
       "  {'id': '1119436', 'name': '488 GTB'},\n",
       "  {'id': '1119435', 'name': '4C'},\n",
       "  {'id': '60924', 'name': '4Runner'},\n",
       "  {'id': '9069', 'name': '500'},\n",
       "  {'id': '70254', 'name': '500 SEL'},\n",
       "  {'id': '9857', 'name': '5008'},\n",
       "  {'id': '10308', 'name': '500C'},\n",
       "  {'id': '519080', 'name': '500L'},\n",
       "  {'id': '1165297', 'name': '500X'},\n",
       "  {'id': '42790', 'name': '5022'},\n",
       "  {'id': '2662819', 'name': '5025'},\n",
       "  {'id': '14685', 'name': '504'},\n",
       "  {'id': '389391', 'name': '504 Pick Up'},\n",
       "  {'id': '2109367', 'name': '504 Pick-Up'},\n",
       "  {'id': '47233', 'name': '505'},\n",
       "  {'id': '47303', 'name': '508'},\n",
       "  {'id': '51150', 'name': '515'},\n",
       "  {'id': '56013', 'name': '520'},\n",
       "  {'id': '2347930', 'name': '520 L'},\n",
       "  {'id': '100746', 'name': '530'},\n",
       "  {'id': '503640', 'name': '540C'},\n",
       "  {'id': '9787', 'name': '550'},\n",
       "  {'id': '503707', 'name': '560 SEC'},\n",
       "  {'id': '18303', 'name': '57'},\n",
       "  {'id': '503635', 'name': '57 S'},\n",
       "  {'id': '84823', 'name': '57 Zeppelin'},\n",
       "  {'id': '1046561', 'name': '570 S Coupé'},\n",
       "  {'id': '1046560', 'name': '570 S Spyder'},\n",
       "  {'id': '503639', 'name': '570GT'},\n",
       "  {'id': '20663', 'name': '570S'},\n",
       "  {'id': '39774', 'name': '575'},\n",
       "  {'id': '66691', 'name': '599'},\n",
       "  {'id': '2486977', 'name': '599 GTB Fiorano'},\n",
       "  {'id': '59833', 'name': '6'},\n",
       "  {'id': '9883', 'name': '600'},\n",
       "  {'id': '46445', 'name': '604'},\n",
       "  {'id': '10679', 'name': '605'},\n",
       "  {'id': '9192', 'name': '607'},\n",
       "  {'id': '3228', 'name': '612'},\n",
       "  {'id': '2486976', 'name': '612 Scaglietti'},\n",
       "  {'id': '5436', 'name': '618'},\n",
       "  {'id': '10341', 'name': '62'},\n",
       "  {'id': '84824', 'name': '62 S'},\n",
       "  {'id': '84822', 'name': '62 Zeppelin'},\n",
       "  {'id': '53353', 'name': '620'},\n",
       "  {'id': '2220973', 'name': '623'},\n",
       "  {'id': '389382', 'name': '626'},\n",
       "  {'id': '59747', 'name': '630'},\n",
       "  {'id': '2662820', 'name': '6363'},\n",
       "  {'id': '10242', 'name': '650'},\n",
       "  {'id': '84829', 'name': '650S Coupe'},\n",
       "  {'id': '84828', 'name': '650S Spider'},\n",
       "  {'id': '3228227', 'name': '6608'},\n",
       "  {'id': '503637', 'name': '675LT Coupe'},\n",
       "  {'id': '503638', 'name': '675LT Spider'},\n",
       "  {'id': '27251', 'name': '7'},\n",
       "  {'id': '14260', 'name': '70'},\n",
       "  {'id': '5388', 'name': '700'},\n",
       "  {'id': '8887', 'name': '710'},\n",
       "  {'id': '1119451', 'name': '718'},\n",
       "  {'id': '462950', 'name': '718 boxster'},\n",
       "  {'id': '463752', 'name': '718 cayman'},\n",
       "  {'id': '56266', 'name': '720'},\n",
       "  {'id': '1046559', 'name': '720 S Coupé'},\n",
       "  {'id': '9888', 'name': '740'},\n",
       "  {'id': '8167', 'name': '75'},\n",
       "  {'id': '2220945', 'name': '75 Milano'},\n",
       "  {'id': '10727', 'name': '750'},\n",
       "  {'id': '6310', 'name': '760'},\n",
       "  {'id': '19022', 'name': '80'},\n",
       "  {'id': '2220941', 'name': '80 Limousine'},\n",
       "  {'id': '5442', 'name': '800'},\n",
       "  {'id': '200959', 'name': '806'},\n",
       "  {'id': '145089', 'name': '807'},\n",
       "  {'id': '6488', 'name': '820'},\n",
       "  {'id': '20021', 'name': '827'},\n",
       "  {'id': '25387', 'name': '85'},\n",
       "  {'id': '4134', 'name': '850'},\n",
       "  {'id': '3487200', 'name': '850 Mini'},\n",
       "  {'id': '1252923', 'name': '86'},\n",
       "  {'id': '2486956', 'name': '8C'},\n",
       "  {'id': '61910', 'name': '9-3'},\n",
       "  {'id': '64047', 'name': '9-4X'},\n",
       "  {'id': '61747', 'name': '9-5'},\n",
       "  {'id': '10470', 'name': '90'},\n",
       "  {'id': '9113', 'name': '900'},\n",
       "  {'id': '2522', 'name': '9000'},\n",
       "  {'id': '60259', 'name': '911'},\n",
       "  {'id': '2251644', 'name': '911 Let'},\n",
       "  {'id': '1007086', 'name': '911 Targa'},\n",
       "  {'id': '63929', 'name': '918'},\n",
       "  {'id': '64477', 'name': '918 SPYDER'},\n",
       "  {'id': '13358', 'name': '924'},\n",
       "  {'id': '13680', 'name': '928'},\n",
       "  {'id': '171180', 'name': '929'},\n",
       "  {'id': '10259', 'name': '930'},\n",
       "  {'id': '50877', 'name': '940'},\n",
       "  {'id': '9171', 'name': '944'},\n",
       "  {'id': '18230', 'name': '945'},\n",
       "  {'id': '11227', 'name': '960'},\n",
       "  {'id': '13441', 'name': '968'},\n",
       "  {'id': '2318057', 'name': 'A 516'},\n",
       "  {'id': '2347931', 'name': 'A class'},\n",
       "  {'id': '7698', 'name': 'A1'},\n",
       "  {'id': '3228233', 'name': 'A1 Sportback'},\n",
       "  {'id': '6828', 'name': 'A100'},\n",
       "  {'id': '2400668', 'name': 'A113'},\n",
       "  {'id': '5958945', 'name': 'A137'},\n",
       "  {'id': '4612290', 'name': 'A138'},\n",
       "  {'id': '8073', 'name': 'A20'},\n",
       "  {'id': '465456', 'name': 'A21'},\n",
       "  {'id': '59350', 'name': 'A3'},\n",
       "  {'id': '71491', 'name': 'A3 Cabriolet'},\n",
       "  {'id': '3228242', 'name': 'A3 Sedan'},\n",
       "  {'id': '3304618', 'name': 'A3 Sedán'},\n",
       "  {'id': '2726240', 'name': 'A3 Sportback'},\n",
       "  {'id': '66459', 'name': 'A4'},\n",
       "  {'id': '2220936', 'name': 'A4 Allroad'},\n",
       "  {'id': '389392', 'name': 'A4 Avant'},\n",
       "  {'id': '121559', 'name': 'A5'},\n",
       "  {'id': '71484', 'name': 'A5 Cabriolet'},\n",
       "  {'id': '37931', 'name': 'A6'},\n",
       "  {'id': '389393', 'name': 'A6 Avant'},\n",
       "  {'id': '175584', 'name': 'A7'},\n",
       "  {'id': '67351', 'name': 'A8'},\n",
       "  {'id': '84781', 'name': 'A9'},\n",
       "  {'id': '5958888', 'name': 'ACTIVEHYBRID'},\n",
       "  {'id': '5958965', 'name': 'ACUARIO'},\n",
       "  {'id': '2347920', 'name': 'AD VAN'},\n",
       "  {'id': '5958877', 'name': 'ADVANCER'},\n",
       "  {'id': '3675212', 'name': 'ADVENTURE'},\n",
       "  {'id': '5958853', 'name': 'ALASKAN'},\n",
       "  {'id': '5958865', 'name': 'ALLEGRO'},\n",
       "  {'id': '5958887', 'name': 'ALLURE'},\n",
       "  {'id': '2318052', 'name': 'AM'},\n",
       "  {'id': '2318129', 'name': 'APV'},\n",
       "  {'id': '74118', 'name': 'ASX'},\n",
       "  {'id': '72500', 'name': 'ATS'},\n",
       "  {'id': '1119434', 'name': 'ATS Coupé'},\n",
       "  {'id': '5958882', 'name': 'AUTANA'},\n",
       "  {'id': '5958844', 'name': 'AVEO EMOTION'},\n",
       "  {'id': '47582', 'name': 'AX'},\n",
       "  {'id': '2318069', 'name': 'AX7'},\n",
       "  {'id': '60582', 'name': 'Acadia'},\n",
       "  {'id': '68780', 'name': 'Acapulco'},\n",
       "  {'id': '63922', 'name': 'Accent'},\n",
       "  {'id': '2318128', 'name': 'Accent Hatchback'},\n",
       "  {'id': '61710', 'name': 'Accord'},\n",
       "  {'id': '2109324', 'name': 'Action Sports'},\n",
       "  {'id': '84853', 'name': 'Actyon'},\n",
       "  {'id': '2318124', 'name': 'Actyon Sports'},\n",
       "  {'id': '503716', 'name': 'Acura'},\n",
       "  {'id': '1252955', 'name': 'Ad Wagon'},\n",
       "  {'id': '9086', 'name': 'Admiral'},\n",
       "  {'id': '64552', 'name': 'Aerio'},\n",
       "  {'id': '40020', 'name': 'Aero'},\n",
       "  {'id': '70040', 'name': 'Aerostar'},\n",
       "  {'id': '1252977', 'name': 'Afalina'},\n",
       "  {'id': '2486980', 'name': 'Agila'},\n",
       "  {'id': '84465', 'name': 'Agile'},\n",
       "  {'id': '389394', 'name': 'Aircross'},\n",
       "  {'id': '389395', 'name': 'Airtrek'},\n",
       "  {'id': '71720', 'name': 'Albea'},\n",
       "  {'id': '60597', 'name': 'Alhambra'},\n",
       "  {'id': '64101', 'name': 'Alliance'},\n",
       "  {'id': '73123', 'name': 'Allroad'},\n",
       "  {'id': '62342', 'name': 'Almera'},\n",
       "  {'id': '3572351', 'name': 'Alsvin'},\n",
       "  {'id': '60830', 'name': 'Altea'},\n",
       "  {'id': '2109299', 'name': 'Alter'},\n",
       "  {'id': '2347938', 'name': 'Altezza'},\n",
       "  {'id': '60704', 'name': 'Altima'},\n",
       "  {'id': '1252963', 'name': 'Alto'},\n",
       "  {'id': '63686', 'name': 'Amarok'},\n",
       "  {'id': '2109349', 'name': 'Amazon'},\n",
       "  {'id': '6961840', 'name': 'AMG GT S'},\n",
       "  {'id': '84814', 'name': 'Amigo'},\n",
       "  {'id': '84836', 'name': 'Antara'},\n",
       "  {'id': '2109407', 'name': 'Aojun'},\n",
       "  {'id': '67343', 'name': 'Apache'},\n",
       "  {'id': '42959', 'name': 'Apollo'},\n",
       "  {'id': '1252968', 'name': 'Applause'},\n",
       "  {'id': '60506', 'name': 'Aprio'},\n",
       "  {'id': '85744', 'name': 'Argenta'},\n",
       "  {'id': '1119416', 'name': 'Argo'},\n",
       "  {'id': '130919', 'name': 'Arizona'},\n",
       "  {'id': '61188', 'name': 'Armada'},\n",
       "  {'id': '75227', 'name': 'Arnage'},\n",
       "  {'id': '2400670', 'name': 'Arrizo'},\n",
       "  {'id': '2820709', 'name': 'Arrizo 5'},\n",
       "  {'id': '11688223', 'name': 'Arrizo 6'},\n",
       "  {'id': '522234', 'name': 'Artis'},\n",
       "  {'id': '31815', 'name': 'Aspen'},\n",
       "  {'id': '389396', 'name': 'Aspire'},\n",
       "  {'id': '15180', 'name': 'Astra'},\n",
       "  {'id': '389397', 'name': 'Astra Sedan'},\n",
       "  {'id': '2130525', 'name': 'Astra wagon'},\n",
       "  {'id': '67460', 'name': 'Astro'},\n",
       "  {'id': '85055', 'name': 'Astro Safari'},\n",
       "  {'id': '503672', 'name': 'Astro Van'},\n",
       "  {'id': '84802', 'name': 'AstroVan'},\n",
       "  {'id': '1119452', 'name': 'Ateca'},\n",
       "  {'id': '62785', 'name': 'Atlantic'},\n",
       "  {'id': '67536', 'name': 'Atos'},\n",
       "  {'id': '56467', 'name': 'Attitude'},\n",
       "  {'id': '503336', 'name': 'Auman'},\n",
       "  {'id': '503337', 'name': 'Aumark'},\n",
       "  {'id': '31819', 'name': 'Aura'},\n",
       "  {'id': '2318092', 'name': 'Auris'},\n",
       "  {'id': '2318093', 'name': 'Austin'},\n",
       "  {'id': '70008', 'name': 'Avalanche'},\n",
       "  {'id': '63927', 'name': 'Avalon'},\n",
       "  {'id': '2318094', 'name': 'Avante'},\n",
       "  {'id': '60701', 'name': 'Avanza'},\n",
       "  {'id': '1252974', 'name': 'Avella'},\n",
       "  {'id': '26700', 'name': 'Avenger'},\n",
       "  {'id': '73464', 'name': 'Avenger GTS'},\n",
       "  {'id': '63493', 'name': 'Avensis'},\n",
       "  {'id': '69178', 'name': 'Aventador'},\n",
       "  {'id': '69114', 'name': 'Aveo'},\n",
       "  {'id': '1252861', 'name': 'Aveo G3'},\n",
       "  {'id': '70987', 'name': 'Aviator'},\n",
       "  {'id': '2347940', 'name': 'Avnte'},\n",
       "  {'id': '1252966', 'name': 'Axion'},\n",
       "  {'id': '2486966', 'name': 'Aygo'},\n",
       "  {'id': '84807', 'name': 'Azera'},\n",
       "  {'id': '62240', 'name': 'Aztek'},\n",
       "  {'id': '2347932', 'name': 'B-CROSS'},\n",
       "  {'id': '59284', 'name': 'B15'},\n",
       "  {'id': '5958864', 'name': 'B1600'},\n",
       "  {'id': '2109417', 'name': 'B18'},\n",
       "  {'id': '5958943', 'name': 'B18 CROSS'},\n",
       "  {'id': '34711', 'name': 'B2000'},\n",
       "  {'id': '10994', 'name': 'B2200'},\n",
       "  {'id': '14029', 'name': 'B2500'},\n",
       "  {'id': '5958867', 'name': 'B2600'},\n",
       "  {'id': '2109310', 'name': 'B2900'},\n",
       "  {'id': '5958970', 'name': 'B4000'},\n",
       "  {'id': '503685', 'name': 'B9 Tribeca'},\n",
       "  {'id': '2347919', 'name': 'BD'},\n",
       "  {'id': '5958846', 'name': 'BELAIR'},\n",
       "  {'id': '2220981', 'name': 'BJ'},\n",
       "  {'id': '2220984', 'name': 'BJ40'},\n",
       "  {'id': '66683', 'name': 'BLS'},\n",
       "  {'id': '2130510', 'name': 'BR-800'},\n",
       "  {'id': '3769991', 'name': 'BR-V'},\n",
       "  {'id': '5958962', 'name': 'BRISA'},\n",
       "  {'id': '1119443', 'name': 'BRZ'},\n",
       "  {'id': '2109309', 'name': 'BT-50'},\n",
       "  {'id': '5958879', 'name': 'BURBUJA LC80'},\n",
       "  {'id': '2109373', 'name': 'BX'},\n",
       "  {'id': '3487201', 'name': 'BX 1425'},\n",
       "  {'id': '2400692', 'name': 'Badao'},\n",
       "  {'id': '389398', 'name': 'Baleno'},\n",
       "  {'id': '389399', 'name': 'Bandeirante'},\n",
       "  {'id': '1252990', 'name': 'Barcheta'},\n",
       "  {'id': '1252851', 'name': 'Barchetta'},\n",
       "  {'id': '67762', 'name': 'Barracuda'},\n",
       "  {'id': '103788', 'name': 'Beat'},\n",
       "  {'id': '2347907', 'name': 'Beat urban'},\n",
       "  {'id': '2109386', 'name': 'Beauville'},\n",
       "  {'id': '60451', 'name': 'Beetle'},\n",
       "  {'id': '389400', 'name': 'Belina'},\n",
       "  {'id': '2109381', 'name': 'Benni'},\n",
       "  {'id': '2318054', 'name': 'Bentayga'},\n",
       "  {'id': '84787', 'name': 'Beretta'},\n",
       "  {'id': '2251647', 'name': 'Berlina'},\n",
       "  {'id': '389401', 'name': 'Berlingo'},\n",
       "  {'id': '68643', 'name': 'Bertone'},\n",
       "  {'id': '389402', 'name': 'Besta'},\n",
       "  {'id': '2400686', 'name': 'Besturn'},\n",
       "  {'id': '2109366', 'name': 'Bipper'},\n",
       "  {'id': '503687', 'name': 'Black Wood'},\n",
       "  {'id': '71919', 'name': 'Blackwood'},\n",
       "  {'id': '66422', 'name': 'Blazer'},\n",
       "  {'id': '112072', 'name': 'Blitz'},\n",
       "  {'id': '527000', 'name': 'Bluebird'},\n",
       "  {'id': '2400690', 'name': 'Boarding'},\n",
       "  {'id': '85022', 'name': 'Bocanegra'},\n",
       "  {'id': '1046562', 'name': 'Bolt EV'},\n",
       "  {'id': '389403', 'name': 'Bonanza'},\n",
       "  {'id': '503678', 'name': 'Boneville'},\n",
       "  {'id': '389404', 'name': 'Bongo'},\n",
       "  {'id': '62540', 'name': 'Bonneville'},\n",
       "  {'id': '60677', 'name': 'Bora'},\n",
       "  {'id': '503688', 'name': 'Bora Sportwagen'},\n",
       "  {'id': '580589', 'name': 'Box'},\n",
       "  {'id': '1252903', 'name': 'Boxer'},\n",
       "  {'id': '389405', 'name': 'Boxer Furgon'},\n",
       "  {'id': '1007097', 'name': 'Boxer Minibus'},\n",
       "  {'id': '60289', 'name': 'Boxster'},\n",
       "  {'id': '2220962', 'name': 'Boxter S ii'},\n",
       "  {'id': '61067', 'name': 'Brasilia'},\n",
       "  {'id': '389406', 'name': 'Brasinca'},\n",
       "  {'id': '389407', 'name': 'Brava'},\n",
       "  {'id': '41497', 'name': 'Bravo'},\n",
       "  {'id': '2251652', 'name': 'Break'},\n",
       "  {'id': '73009', 'name': 'Breeze'},\n",
       "  {'id': '5244', 'name': 'Brera'},\n",
       "  {'id': '8799', 'name': 'Brio'},\n",
       "  {'id': '67383', 'name': 'Bronco'},\n",
       "  {'id': '63592', 'name': 'Buggy'},\n",
       "  {'id': '1148989', 'name': 'Buggy Walk Sport'},\n",
       "  {'id': '503671', 'name': 'Buick'},\n",
       "  {'id': '1252926', 'name': 'Burbuja'},\n",
       "  {'id': '2109387', 'name': 'C-10'},\n",
       "  {'id': '84789', 'name': 'C-15'},\n",
       "  {'id': '2318074', 'name': 'C-1500'},\n",
       "  {'id': '84791', 'name': 'C-20'},\n",
       "  {'id': '31299', 'name': 'C-25'},\n",
       "  {'id': '2130527', 'name': 'C-35'},\n",
       "  {'id': '2486969', 'name': 'C-Crosser'},\n",
       "  {'id': '1252932', 'name': 'C-Elysée'},\n",
       "  {'id': '2486942', 'name': 'C-Max'},\n",
       "  {'id': '17875', 'name': 'C1'},\n",
       "  {'id': '14262', 'name': 'C15'},\n",
       "  {'id': '16258', 'name': 'C2'},\n",
       "  {'id': '16553', 'name': 'C20'},\n",
       "  {'id': '2400662', 'name': 'C206'},\n",
       "  {'id': '9003', 'name': 'C3'},\n",
       "  {'id': '1252936', 'name': 'C3 Aircross'},\n",
       "  {'id': '389408', 'name': 'C3 Picasso'},\n",
       "  {'id': '16563', 'name': 'C30'},\n",
       "  {'id': '31919', 'name': 'C31'},\n",
       "  {'id': '32623', 'name': 'C32'},\n",
       "  {'id': '2176998', 'name': 'C35'},\n",
       "  {'id': '2400679', 'name': 'C37'},\n",
       "  {'id': '12098', 'name': 'C4'},\n",
       "  {'id': '1252931', 'name': 'C4 Aircross'},\n",
       "  {'id': '2109371', 'name': 'C4 Cactus'},\n",
       "  {'id': '11496023', 'name': 'C4 Cactus X-Series'},\n",
       "  {'id': '1252934', 'name': 'C4 Grand Picasso'},\n",
       "  {'id': '1252930', 'name': 'C4 Lounge'},\n",
       "  {'id': '389409', 'name': 'C4 Pallas'},\n",
       "  {'id': '389410', 'name': 'C4 Picasso'},\n",
       "  {'id': '4001225', 'name': 'C4 Spacetourer'},\n",
       "  {'id': '49666', 'name': 'C5'},\n",
       "  {'id': '389411', 'name': 'C5 Break'},\n",
       "  {'id': '389412', 'name': 'C5 Tourer'},\n",
       "  {'id': '2109322', 'name': 'C52'},\n",
       "  {'id': '14543', 'name': 'C6'},\n",
       "  {'id': '2318117', 'name': 'C61'},\n",
       "  {'id': '31410', 'name': 'C70'},\n",
       "  {'id': '12295', 'name': 'C8'},\n",
       "  {'id': '31266', 'name': 'C81'},\n",
       "  {'id': '3228225', 'name': 'CA'},\n",
       "  {'id': '5958959', 'name': 'CAMINO'},\n",
       "  {'id': '61574', 'name': 'CC'},\n",
       "  {'id': '5958910', 'name': 'CEDRIC'},\n",
       "  {'id': '2486978', 'name': 'CEE D'},\n",
       "  {'id': '5958936', 'name': 'CERATO FORTE'},\n",
       "  {'id': '5958937', 'name': 'CERATO KOUP'},\n",
       "  {'id': '5958935', 'name': 'CERATO PRO'},\n",
       "  {'id': '5958918', 'name': 'CHANLING'},\n",
       "  {'id': '5958845', 'name': 'CHEVY C2'},\n",
       "  {'id': '2109344', 'name': 'CJ'},\n",
       "  {'id': '2347904', 'name': 'CJ-540'},\n",
       "  {'id': '62037', 'name': 'CJ5'},\n",
       "  {'id': '2347936', 'name': 'CJ6'},\n",
       "  {'id': '62898', 'name': 'CJ7'},\n",
       "  {'id': '2109413', 'name': 'CK'},\n",
       "  {'id': '3487202', 'name': 'CL'},\n",
       "  {'id': '1148991', 'name': 'CL-244'},\n",
       "  {'id': '1148986', 'name': 'CL-300'},\n",
       "  {'id': '5958906', 'name': 'CLASE D'},\n",
       "  {'id': '5958899', 'name': 'CLASE ML 230'},\n",
       "  {'id': '5958904', 'name': 'CLASE ML 250'},\n",
       "  {'id': '5958902', 'name': 'CLASE ML 270'},\n",
       "  {'id': '5958897', 'name': 'CLASE ML 320'},\n",
       "  {'id': '5958901', 'name': 'CLASE ML 350'},\n",
       "  {'id': '5958898', 'name': 'CLASE ML 430'},\n",
       "  {'id': '5958896', 'name': 'CLASE ML 500'},\n",
       "  {'id': '5958900', 'name': 'CLASE ML 55'},\n",
       "  {'id': '5958905', 'name': 'CLASE ML 550'},\n",
       "  {'id': '5958903', 'name': 'CLASE ML 63'},\n",
       "  {'id': '503709', 'name': 'CLK'},\n",
       "  {'id': '2243263', 'name': 'CLS'},\n",
       "  {'id': '5958953', 'name': 'COBRA'},\n",
       "  {'id': '5958928', 'name': 'COMANDO'},\n",
       "  {'id': '5958840', 'name': 'CONQUISTADOR'},\n",
       "  {'id': '5958930', 'name': 'COPEN'},\n",
       "  {'id': '5958951', 'name': 'CORCEL'},\n",
       "  {'id': '5958940', 'name': 'CORD'},\n",
       "  {'id': '16281', 'name': 'CORTINA'},\n",
       "  {'id': '5958847', 'name': 'CORVAIR'},\n",
       "  {'id': '60561', 'name': 'CR-V'},\n",
       "  {'id': '63934', 'name': 'CR-Z'},\n",
       "  {'id': '5958885', 'name': 'CRESSIDE'},\n",
       "  {'id': '389453', 'name': 'CRX'},\n",
       "  {'id': '3769990', 'name': 'CS 15'},\n",
       "  {'id': '2109379', 'name': 'CS 35'},\n",
       "  {'id': '389454', 'name': 'CT'},\n",
       "  {'id': '2109314', 'name': 'CT200h'},\n",
       "  {'id': '67675', 'name': 'CTS'},\n",
       "  {'id': '74097', 'name': 'CTS Coupe'},\n",
       "  {'id': '5958984', 'name': 'CUPRA'},\n",
       "  {'id': '6816706', 'name': 'CV713'},\n",
       "  {'id': '10729', 'name': 'CX'},\n",
       "  {'id': '2109380', 'name': 'CX 20'},\n",
       "  {'id': '503696', 'name': 'CX-3'},\n",
       "  {'id': '66926', 'name': 'CX-5'},\n",
       "  {'id': '503699', 'name': 'CX-7'},\n",
       "  {'id': '503704', 'name': 'CX-9'},\n",
       "  {'id': '3572353', 'name': 'Cabina y Media'},\n",
       "  {'id': '84840', 'name': 'Cabrio'},\n",
       "  {'id': '64624', 'name': 'Cabriolet'},\n",
       "  {'id': '62117', 'name': 'Cabstar'},\n",
       "  {'id': '62158', 'name': 'Caddy'},\n",
       "  {'id': '389413', 'name': 'Cadenza'},\n",
       "  {'id': '84818', 'name': 'Cala'},\n",
       "  {'id': '2318130', 'name': 'Caldina'},\n",
       "  {'id': '2347908', 'name': 'Cale'},\n",
       "  {'id': '66709', 'name': 'Caliber'},\n",
       "  {'id': '84837', 'name': 'Calibra'},\n",
       "  {'id': '72282', 'name': 'California'},\n",
       "  {'id': '68313', 'name': 'Camaro'},\n",
       "  {'id': '85184', 'name': 'Camaro Hot Wheels'},\n",
       "  {'id': '84792', 'name': 'Camaro ZLI'},\n",
       "  {'id': '3228224', 'name': 'Camiones'},\n",
       "  {'id': '111928', 'name': 'Camper'},\n",
       "  {'id': '2347959', 'name': 'Campero'},\n",
       "  {'id': '60388', 'name': 'Camry'},\n",
       "  {'id': '2109364', 'name': 'Canter'},\n",
       "  {'id': '60755', 'name': 'Canyon'},\n",
       "  {'id': '2347915', 'name': 'Capella'},\n",
       "  {'id': '1252973', 'name': 'Capital'},\n",
       "  {'id': '68109', 'name': 'Caprice'},\n",
       "  {'id': '68141', 'name': 'Captiva'},\n",
       "  {'id': '66667', 'name': 'Captiva Sport'},\n",
       "  {'id': '64614', 'name': 'Captur'},\n",
       "  {'id': '1148990', 'name': 'Carajas'},\n",
       "  {'id': '1252873', 'name': 'Carat'},\n",
       "  {'id': '67558', 'name': 'Caravan'},\n",
       "  {'id': '493855', 'name': 'Caravelle'},\n",
       "  {'id': '389415', 'name': 'Carens'},\n",
       "  {'id': '389416', 'name': 'Cargo'},\n",
       "  {'id': '2400682', 'name': 'Cargo Box'},\n",
       "  {'id': '2109306', 'name': 'Cargo Van'},\n",
       "  {'id': '61081', 'name': 'Caribe'},\n",
       "  {'id': '932427', 'name': 'Carina'},\n",
       "  {'id': '389417', 'name': 'Carnival'},\n",
       "  {'id': '26574', 'name': 'Carrera'},\n",
       "  {'id': '2109404', 'name': 'Carry'},\n",
       "  {'id': '68736', 'name': 'Catera'},\n",
       "  {'id': '66914', 'name': 'Cavalier'},\n",
       "  {'id': '70878', 'name': 'Cavalier Z24'},\n",
       "  {'id': '60439', 'name': 'Cayenne'},\n",
       "  {'id': '93448', 'name': 'Cayenne S'},\n",
       "  {'id': '2251651', 'name': 'Cayenne Turbo'},\n",
       "  {'id': '3487192', 'name': 'Cayenne iii'},\n",
       "  {'id': '60430', 'name': 'Cayman'},\n",
       "  {'id': '73322', 'name': 'Celebrity'},\n",
       "  {'id': '389418', 'name': 'Celer'},\n",
       "  {'id': '2109402', 'name': 'Celerio'},\n",
       "  {'id': '84858', 'name': 'Celica'},\n",
       "  {'id': '389419', 'name': 'Celta'},\n",
       "  {'id': '73314', 'name': 'Century'},\n",
       "  {'id': '389420', 'name': 'Cerato'},\n",
       "  {'id': '2318131', 'name': 'Cerato 5'},\n",
       "  {'id': '2220965', 'name': 'Ceres'},\n",
       "  {'id': '2109323', 'name': 'Chairman'},\n",
       "  {'id': '70574', 'name': 'Challenger'},\n",
       "  {'id': '2109311', 'name': 'Challenger SRT8'},\n",
       "  {'id': '2400677', 'name': 'Changhe'},\n",
       "  {'id': '1007124', 'name': 'Changhe M100'},\n",
       "  {'id': '389421', 'name': 'Charade'},\n",
       "  {'id': '68240', 'name': 'Charger'},\n",
       "  {'id': '2318095', 'name': 'Charlotte'},\n",
       "  {'id': '1148996', 'name': 'Chasis'},\n",
       "  {'id': '389422', 'name': 'Chassi'},\n",
       "  {'id': '61232', 'name': 'Cherokee'},\n",
       "  {'id': '85042', 'name': 'Cherokee Sport'},\n",
       "  {'id': '389423', 'name': 'Chery QQ'},\n",
       "  {'id': '67571', 'name': 'Chevelle'},\n",
       "  {'id': '84788', 'name': 'Chevette'},\n",
       "  {'id': '66675', 'name': 'Chevy'},\n",
       "  {'id': '389424', 'name': 'Chevy 500'},\n",
       "  {'id': '84793', 'name': 'Chevy Nova'},\n",
       "  {'id': '503675', 'name': 'Chevy Pick Up'},\n",
       "  {'id': '67774', 'name': 'Chevy Van'},\n",
       "  {'id': '2347950', 'name': 'Chevy equinox'},\n",
       "  {'id': '67557', 'name': 'Cheyenne'},\n",
       "  {'id': '1119444', 'name': 'Ciaz'},\n",
       "  {'id': '389425', 'name': 'Cielo'},\n",
       "  {'id': '2109295', 'name': 'Cimarron'},\n",
       "  {'id': '2220959', 'name': 'Cinquecento'},\n",
       "  {'id': '66704', 'name': 'Cirrus'},\n",
       "  {'id': '2130523', 'name': 'Citation'},\n",
       "  {'id': '62015', 'name': 'City'},\n",
       "  {'id': '84844', 'name': 'CityRover'},\n",
       "  {'id': '32212', 'name': 'Civic'},\n",
       "  {'id': '2486962', 'name': 'Civic Hybrid'},\n",
       "  {'id': '389426', 'name': 'Clarus'},\n",
       "  {'id': '503622', 'name': 'Clase A'},\n",
       "  {'id': '503630', 'name': 'Clase B'},\n",
       "  {'id': '503625', 'name': 'Clase C'},\n",
       "  {'id': '2318096', 'name': 'Clase CE'},\n",
       "  {'id': '503627', 'name': 'Clase CL'},\n",
       "  {'id': '503621', 'name': 'Clase CLA'},\n",
       "  {'id': '1252941', 'name': 'Clase CLC'},\n",
       "  {'id': '1252938', 'name': 'Clase CLK'},\n",
       "  {'id': '503631', 'name': 'Clase CLS'},\n",
       "  {'id': '503629', 'name': 'Clase E'},\n",
       "  {'id': '503624', 'name': 'Clase G'},\n",
       "  {'id': '503633', 'name': 'Clase GL'},\n",
       "  {'id': '1252939', 'name': 'Clase GLA'},\n",
       "  {'id': '1252940', 'name': 'Clase GLC'},\n",
       "  {'id': '1252987', 'name': 'Clase GLE'},\n",
       "  {'id': '503632', 'name': 'Clase GLK'},\n",
       "  {'id': '1252997', 'name': 'Clase GLS'},\n",
       "  {'id': '503628', 'name': 'Clase M'},\n",
       "  {'id': '2220938', 'name': 'Clase ML'},\n",
       "  {'id': '503634', 'name': 'Clase R'},\n",
       "  {'id': '71651', 'name': 'Clase S'},\n",
       "  {'id': '2318097', 'name': 'Clase SE'},\n",
       "  {'id': '2318098', 'name': 'Clase SEL'},\n",
       "  {'id': '70390', 'name': 'Clase SL'},\n",
       "  {'id': '1252988', 'name': 'Clase SLC'},\n",
       "  {'id': '503623', 'name': 'Clase SLK'},\n",
       "  {'id': '503626', 'name': 'Clase SLR'},\n",
       "  {'id': '1252993', 'name': 'Clase SLS'},\n",
       "  {'id': '1252943', 'name': 'Clase V'},\n",
       "  {'id': '389427', 'name': 'Classe A'},\n",
       "  {'id': '389428', 'name': 'Classe B'},\n",
       "  {'id': '389429', 'name': 'Classe C'},\n",
       "  {'id': '389430', 'name': 'Classe C Touring'},\n",
       "  {'id': '389431', 'name': 'Classe CL'},\n",
       "  {'id': '1119417', 'name': 'Classe CLC'},\n",
       "  {'id': '389433', 'name': 'Classe CLK'},\n",
       "  {'id': '389434', 'name': 'Classe CLS'},\n",
       "  {'id': '389432', 'name': 'Classe Cla'},\n",
       "  {'id': '389435', 'name': 'Classe E'},\n",
       "  {'id': '389436', 'name': 'Classe E Touring'},\n",
       "  {'id': '389437', 'name': 'Classe GL'},\n",
       "  {'id': '1119418', 'name': 'Classe GLA'},\n",
       "  {'id': '1119419', 'name': 'Classe GLC'},\n",
       "  {'id': '1119420', 'name': 'Classe GLE'},\n",
       "  {'id': '1119421', 'name': 'Classe GLK'},\n",
       "  {'id': '1148983', 'name': 'Classe GLS'},\n",
       "  {'id': '389438', 'name': 'Classe ML'},\n",
       "  {'id': '389439', 'name': 'Classe R'},\n",
       "  {'id': '389440', 'name': 'Classe S'},\n",
       "  {'id': '389441', 'name': 'Classe SEC'},\n",
       "  {'id': '389442', 'name': 'Classe SL'},\n",
       "  {'id': '1119422', 'name': 'Classe SLC'},\n",
       "  {'id': '389443', 'name': 'Classe SLK'},\n",
       "  {'id': '6473', 'name': 'Classic'},\n",
       "  {'id': '60485', 'name': 'Clio'},\n",
       "  {'id': '2486954', 'name': 'Clio Campus'},\n",
       "  {'id': '1252881', 'name': 'Clio Mío'},\n",
       "  {'id': '389444', 'name': 'Clio Sedan'},\n",
       "  {'id': '70026', 'name': 'Club Wagon'},\n",
       "  {'id': '389445', 'name': 'Clubman'},\n",
       "  {'id': '84866', 'name': 'Clásico'},\n",
       "  {'id': '71705', 'name': 'Cnossus'},\n",
       "  {'id': '1252921', 'name': 'Coaster'},\n",
       "  {'id': '389446', 'name': 'Cobalt'},\n",
       "  {'id': '65385', 'name': 'Cobra'},\n",
       "  {'id': '2662823', 'name': 'Collbear'},\n",
       "  {'id': '66573', 'name': 'Colorado'},\n",
       "  {'id': '389447', 'name': 'Colt'},\n",
       "  {'id': '65997', 'name': 'Comanche'},\n",
       "  {'id': '60610', 'name': 'Combi'},\n",
       "  {'id': '1252863', 'name': 'Combo'},\n",
       "  {'id': '60874', 'name': 'Commander'},\n",
       "  {'id': '16696', 'name': 'Compass'},\n",
       "  {'id': '84819', 'name': 'Concept S'},\n",
       "  {'id': '69100', 'name': 'Concorde'},\n",
       "  {'id': '67047', 'name': 'Continental'},\n",
       "  {'id': '74446', 'name': 'Continental GT'},\n",
       "  {'id': '66512', 'name': 'Contour'},\n",
       "  {'id': '66416', 'name': 'Cooper'},\n",
       "  {'id': '3304620', 'name': 'Cooper Cabrio'},\n",
       "  {'id': '85057', 'name': 'Cooper Clubman'},\n",
       "  {'id': '2130526', 'name': 'Cooper Clubman S'},\n",
       "  {'id': '2220940', 'name': 'Cooper Countryman'},\n",
       "  {'id': '3304622', 'name': 'Cooper Coupé'},\n",
       "  {'id': '1119424', 'name': 'Cooper Roadster'},\n",
       "  {'id': '1252978', 'name': 'Cooper S'},\n",
       "  {'id': '3304621', 'name': 'Cooper S Cabrio'},\n",
       "  {'id': '1119425', 'name': 'Cooper S Coupé'},\n",
       "  {'id': '1119426', 'name': 'Cooper S Roadster'},\n",
       "  {'id': '1119423', 'name': 'Cooper coupé'},\n",
       "  {'id': '60266', 'name': 'Cordoba'},\n",
       "  {'id': '60334', 'name': 'Corolla'},\n",
       "  {'id': '11510704', 'name': 'Corolla Cross'},\n",
       "  {'id': '1252927', 'name': 'Corolla Fielder'},\n",
       "  {'id': '84857', 'name': 'Corona'},\n",
       "  {'id': '67749', 'name': 'Coronet'},\n",
       "  {'id': '2347905', 'name': 'Corrado'},\n",
       "  {'id': '66609', 'name': 'Corsa'},\n",
       "  {'id': '389448', 'name': 'Corsa Classic'},\n",
       "  {'id': '1252865', 'name': 'Corsa Classic SW'},\n",
       "  {'id': '2109388', 'name': 'Corsa Combo'},\n",
       "  {'id': '1252862', 'name': 'Corsa II'},\n",
       "  {'id': '389449', 'name': 'Corsa Pick-Up'},\n",
       "  {'id': '389450', 'name': 'Corsa Sedan'},\n",
       "  {'id': '493858', 'name': 'Corsa Wagon'},\n",
       "  {'id': '64096', 'name': 'Corsar'},\n",
       "  {'id': '100564', 'name': 'Corsica'},\n",
       "  {'id': '44626', 'name': 'Corvette'},\n",
       "  {'id': '69305', 'name': 'Cougar'},\n",
       "  {'id': '70248', 'name': 'Countryman'},\n",
       "  {'id': '15021', 'name': 'Coupe'},\n",
       "  {'id': '1046547', 'name': 'Coupe FX'},\n",
       "  {'id': '401950', 'name': 'Coupê'},\n",
       "  {'id': '69528', 'name': 'Courier'},\n",
       "  {'id': '1007089', 'name': 'Courier Van'},\n",
       "  {'id': '2109353', 'name': 'Cowin'},\n",
       "  {'id': '2347922', 'name': 'Cowry'},\n",
       "  {'id': '62180', 'name': 'Crafter'},\n",
       "  {'id': '503657', 'name': 'Credos'},\n",
       "  {'id': '2400697', 'name': 'Cressida'},\n",
       "  {'id': '1007110', 'name': 'Creta'},\n",
       "  {'id': '2486944', 'name': 'Croma'},\n",
       "  {'id': '228452', 'name': 'Cronos'},\n",
       "  {'id': '389452', 'name': 'Cross Up'},\n",
       "  {'id': '3304616', 'name': 'Cross Up!'},\n",
       "  {'id': '68829', 'name': 'Crossfire'},\n",
       "  {'id': '61534', 'name': 'Crossfox'},\n",
       "  {'id': '1119433', 'name': 'Crossgolf'},\n",
       "  {'id': '32740', 'name': 'Crossover'},\n",
       "  {'id': '62025', 'name': 'Crosstour'},\n",
       "  {'id': '576584', 'name': 'Crown'},\n",
       "  {'id': '66960', 'name': 'Crown Victoria'},\n",
       "  {'id': '66905', 'name': 'Cruze'},\n",
       "  {'id': '2318132', 'name': 'Cruze 5'},\n",
       "  {'id': '1252864', 'name': 'Cruze II'},\n",
       "  {'id': '493859', 'name': 'Cruze Sport'},\n",
       "  {'id': '7556080', 'name': 'CS15'},\n",
       "  {'id': '7556081', 'name': 'CS75'},\n",
       "  {'id': '416979', 'name': 'Cube'},\n",
       "  {'id': '389455', 'name': 'Cuore'},\n",
       "  {'id': '67707', 'name': 'Cutlass'},\n",
       "  {'id': '67986', 'name': 'D 100'},\n",
       "  {'id': '71772', 'name': 'D 150'},\n",
       "  {'id': '70671', 'name': 'D 250'},\n",
       "  {'id': '70723', 'name': 'D 350'},\n",
       "  {'id': '389456', 'name': 'D-10'},\n",
       "  {'id': '389457', 'name': 'D-20'},\n",
       "  {'id': '2318133', 'name': 'D-21'},\n",
       "  {'id': '2318134', 'name': 'D-22'},\n",
       "  {'id': '2109389', 'name': 'D-40'},\n",
       "  {'id': '2109390', 'name': 'D-Max'},\n",
       "  {'id': '5280', 'name': 'D100'},\n",
       "  {'id': '45545', 'name': 'D20'},\n",
       "  {'id': '389458', 'name': 'D21'},\n",
       "  {'id': '1252957', 'name': 'D22'},\n",
       "  {'id': '389459', 'name': 'D5 Torer'},\n",
       "  {'id': '6753', 'name': 'D60'},\n",
       "  {'id': '1046546', 'name': 'DB11'},\n",
       "  {'id': '1252994', 'name': 'DB7'},\n",
       "  {'id': '71223', 'name': 'DB9'},\n",
       "  {'id': '69161', 'name': 'DBS'},\n",
       "  {'id': '5958932', 'name': 'DEMON'},\n",
       "  {'id': '2347952', 'name': 'DMAX'},\n",
       "  {'id': '389463', 'name': 'DS3'},\n",
       "  {'id': '389464', 'name': 'DS4'},\n",
       "  {'id': '389465', 'name': 'DS5'},\n",
       "  {'id': '3572358', 'name': 'DS7'},\n",
       "  {'id': '84786', 'name': 'DTS'},\n",
       "  {'id': '5958922', 'name': 'DUNNA'},\n",
       "  {'id': '5958835', 'name': 'DX 3'},\n",
       "  {'id': '5958836', 'name': 'DX 7'},\n",
       "  {'id': '1148987', 'name': 'Daily'},\n",
       "  {'id': '1046549', 'name': 'Daimler'},\n",
       "  {'id': '266927', 'name': 'Dakar'},\n",
       "  {'id': '66771', 'name': 'Dakota'},\n",
       "  {'id': '1252909', 'name': 'Damas'},\n",
       "  {'id': '2220948', 'name': 'Damas Coach'},\n",
       "  {'id': '14748', 'name': 'Dart'},\n",
       "  {'id': '64076', 'name': 'Datsun'},\n",
       "  {'id': '26727', 'name': 'Daytona'},\n",
       "  {'id': '2251649', 'name': 'Dedra'},\n",
       "  {'id': '2109401', 'name': 'Deer'},\n",
       "  {'id': '71835', 'name': 'Defender'},\n",
       "  {'id': '389460', 'name': 'Del Rey'},\n",
       "  {'id': '2318135', 'name': 'Delica'},\n",
       "  {'id': '2011', 'name': 'Delta'},\n",
       "  {'id': '2318118', 'name': 'Demio'},\n",
       "  {'id': '62739', 'name': 'Derby'},\n",
       "  {'id': '66877', 'name': 'Deville'},\n",
       "  {'id': '84817', 'name': 'Diablo'},\n",
       "  {'id': '903129', 'name': 'Diamante'},\n",
       "  {'id': '67077', 'name': 'Discovery'},\n",
       "  {'id': '1007091', 'name': 'Discovery 3'},\n",
       "  {'id': '1007092', 'name': 'Discovery 4'},\n",
       "  {'id': '1007093', 'name': 'Discovery sport'},\n",
       "  {'id': '273414', 'name': 'Diva'},\n",
       "  {'id': '2318136', 'name': 'Dmax'},\n",
       "  {'id': '2318137', 'name': 'Dmax E5'},\n",
       "  {'id': '61084', 'name': 'Doble Cabina'},\n",
       "  {'id': '389461', 'name': 'Doblo'},\n",
       "  {'id': '389462', 'name': 'Doblo Cargo'},\n",
       "  {'id': '7556082', 'name': 'DS7 Crossback'},\n",
       "  {'id': '76499', 'name': 'Ducato'},\n",
       "  {'id': '2400673', 'name': 'Dumper'},\n",
       "  {'id': '389466', 'name': 'Duna'},\n",
       "  {'id': '2130517', 'name': 'Duna Weekend'},\n",
       "  {'id': '66817', 'name': 'Durango'},\n",
       "  {'id': '64855', 'name': 'Duster'},\n",
       "  {'id': '389467', 'name': 'Duster Oroch'},\n",
       "  {'id': '3228237', 'name': 'Duty Truck'},\n",
       "  {'id': '3228241', 'name': 'Dzire'},\n",
       "  {'id': '84797', 'name': 'E-150'},\n",
       "  {'id': '84799', 'name': 'E-350'},\n",
       "  {'id': '3228220', 'name': 'E-Pace'},\n",
       "  {'id': '64023', 'name': 'E-Type'},\n",
       "  {'id': '1252911', 'name': 'E1600'},\n",
       "  {'id': '50926', 'name': 'E2200'},\n",
       "  {'id': '8797', 'name': 'E5'},\n",
       "  {'id': '860', 'name': 'EC7'},\n",
       "  {'id': '2318083', 'name': 'EC7 Sedan'},\n",
       "  {'id': '2318084', 'name': 'EC7 Sport'},\n",
       "  {'id': '2814197', 'name': 'ELITE'},\n",
       "  {'id': '72428', 'name': 'ES'},\n",
       "  {'id': '5958825', 'name': 'ESPIRIT'},\n",
       "  {'id': '5958826', 'name': 'ETERNE'},\n",
       "  {'id': '5958854', 'name': 'ETOILE'},\n",
       "  {'id': '3349536', 'name': 'EVEREST'},\n",
       "  {'id': '5958827', 'name': 'EVORA'},\n",
       "  {'id': '2318139', 'name': 'EX37'},\n",
       "  {'id': '84856', 'name': 'Echo'},\n",
       "  {'id': '67281', 'name': 'Eclipse'},\n",
       "  {'id': '7128937', 'name': 'Eclipse Cross'},\n",
       "  {'id': '2220942', 'name': 'Econo'},\n",
       "  {'id': '503666', 'name': 'Econoline'},\n",
       "  {'id': '389468', 'name': 'Ecosport'},\n",
       "  {'id': '2130521', 'name': 'Ecosport kd'},\n",
       "  {'id': '69693', 'name': 'Edge'},\n",
       "  {'id': '66815', 'name': 'El Dorado'},\n",
       "  {'id': '1007125', 'name': 'Elan'},\n",
       "  {'id': '61443', 'name': 'Elantra'},\n",
       "  {'id': '389469', 'name': 'Elba'},\n",
       "  {'id': '505330', 'name': 'Eldorado'},\n",
       "  {'id': '49826', 'name': 'Element'},\n",
       "  {'id': '69272', 'name': 'Elise'},\n",
       "  {'id': '503648', 'name': 'Elise 250 Special Edition'},\n",
       "  {'id': '503646', 'name': 'Elise Cup 250'},\n",
       "  {'id': '503647', 'name': 'Elise Race 250'},\n",
       "  {'id': '503644', 'name': 'Elise Sport'},\n",
       "  {'id': '503645', 'name': 'Elise Sport 220'},\n",
       "  {'id': '1252901', 'name': 'Emgrand'},\n",
       "  {'id': '2820706', 'name': 'Emgrand 7'},\n",
       "  {'id': '2109410', 'name': 'Emgrand 718'},\n",
       "  {'id': '2347918', 'name': 'Emgrand EC7'},\n",
       "  {'id': '2662822', 'name': 'Emgrand GS'},\n",
       "  {'id': '2820707', 'name': 'Emgrand X7 Sport'},\n",
       "  {'id': '2109411', 'name': 'Emgrand ex7'},\n",
       "  {'id': '67946', 'name': 'Enclave'},\n",
       "  {'id': '73483', 'name': 'Encore'},\n",
       "  {'id': '68529', 'name': 'Endeavor'},\n",
       "  {'id': '1119427', 'name': 'Engesa'},\n",
       "  {'id': '389470', 'name': 'Engesa 1'},\n",
       "  {'id': '389471', 'name': 'Engesa 4'},\n",
       "  {'id': '73939', 'name': 'Envision'},\n",
       "  {'id': '123195', 'name': 'Envoy'},\n",
       "  {'id': '70704', 'name': 'Enzo'},\n",
       "  {'id': '2109360', 'name': 'Eon'},\n",
       "  {'id': '63746', 'name': 'Eos'},\n",
       "  {'id': '69368', 'name': 'Epica'},\n",
       "  {'id': '66640', 'name': 'Equinox'},\n",
       "  {'id': '64044', 'name': 'Equus'},\n",
       "  {'id': '2109403', 'name': 'Ertiga'},\n",
       "  {'id': '68144', 'name': 'Escalade'},\n",
       "  {'id': '66752', 'name': 'Escalade ESV'},\n",
       "  {'id': '66795', 'name': 'Escalade EXT'},\n",
       "  {'id': '68586', 'name': 'Escape'},\n",
       "  {'id': '1252869', 'name': 'Escarabajo'},\n",
       "  {'id': '67158', 'name': 'Escort'},\n",
       "  {'id': '2220949', 'name': 'Espace'},\n",
       "  {'id': '73932', 'name': 'Espada'},\n",
       "  {'id': '389472', 'name': 'Espero'},\n",
       "  {'id': '1007126', 'name': 'Esprit'},\n",
       "  {'id': '2318099', 'name': 'Essentia'},\n",
       "  {'id': '61170', 'name': 'Estaquitas'},\n",
       "  {'id': '123230', 'name': 'Esteem'},\n",
       "  {'id': '74556', 'name': 'Estoque'},\n",
       "  {'id': '389473', 'name': 'Etios'},\n",
       "  {'id': '1007094', 'name': 'Etios Cross'},\n",
       "  {'id': '3304617', 'name': 'Etios Sedán'},\n",
       "  {'id': '2662818', 'name': 'Eulove'},\n",
       "  {'id': '1252989', 'name': 'Euro Clio'},\n",
       "  {'id': '2318089', 'name': 'Euroscort'},\n",
       "  {'id': '62727', 'name': 'Eurovan'},\n",
       "  {'id': '389474', 'name': 'Evasion'},\n",
       "  {'id': '916105', 'name': 'Evolution'},\n",
       "  {'id': '64491', 'name': 'Evoque'},\n",
       "  {'id': '503653', 'name': 'Evora 400'},\n",
       "  {'id': '503654', 'name': 'Evora Sport 410'},\n",
       "  {'id': '389475', 'name': 'Excel'},\n",
       "  {'id': '70696', 'name': 'Excursion'},\n",
       "  {'id': '64019', 'name': 'Exeo'},\n",
       "  {'id': '503643', 'name': 'Exige'},\n",
       "  {'id': '503652', 'name': 'Exige 350 Special Edition'},\n",
       "  {'id': '503649', 'name': 'Exige Sport 350'},\n",
       "  {'id': '503651', 'name': 'Exige Sport 380'},\n",
       "  {'id': '503650', 'name': 'Exige V6 Cup R'},\n",
       "  {'id': '44684', 'name': 'Expedition'},\n",
       "  {'id': '42934', 'name': 'Expert'},\n",
       "  {'id': '8859', 'name': 'Explorer'},\n",
       "  {'id': '68238', 'name': 'Explorer Sport Trac'},\n",
       "  {'id': '84835', 'name': 'Expo'},\n",
       "  {'id': '2220961', 'name': 'Expo Wagon'},\n",
       "  {'id': '11447', 'name': 'Express'},\n",
       "  {'id': '66642', 'name': 'Express Van'},\n",
       "  {'id': '2347934', 'name': 'F 355'},\n",
       "  {'id': '2347933', 'name': 'F 360'},\n",
       "  {'id': '2347935', 'name': 'F 430'},\n",
       "  {'id': '389476', 'name': 'F-100'},\n",
       "  {'id': '389477', 'name': 'F-1000'},\n",
       "  {'id': '93447', 'name': 'F-150'},\n",
       "  {'id': '93402', 'name': 'F-200'},\n",
       "  {'id': '76866', 'name': 'F-250'},\n",
       "  {'id': '1252982', 'name': 'F-308'},\n",
       "  {'id': '76864', 'name': 'F-350'},\n",
       "  {'id': '1252979', 'name': 'F-355'},\n",
       "  {'id': '1245760', 'name': 'F-400'},\n",
       "  {'id': '1252985', 'name': 'F-430'},\n",
       "  {'id': '76702', 'name': 'F-450'},\n",
       "  {'id': '1252981', 'name': 'F-456'},\n",
       "  {'id': '76703', 'name': 'F-550'},\n",
       "  {'id': '1252983', 'name': 'F-599'},\n",
       "  ...],\n",
       " 'attribute_group_id': 'FIND',\n",
       " 'attribute_group_name': 'Ficha técnica'}"
      ]
     },
     "execution_count": 13,
     "metadata": {},
     "output_type": "execute_result"
    }
   ],
   "source": [
    "url = f'https://api.mercadolibre.com/categories/MLA1744/attributes'\n",
    "r= requests.get(url, headers=header)\n",
    "r.json()[1]"
   ]
  },
  {
   "cell_type": "code",
   "execution_count": 14,
   "metadata": {},
   "outputs": [
    {
     "data": {
      "text/html": [
       "<div>\n",
       "<style scoped>\n",
       "    .dataframe tbody tr th:only-of-type {\n",
       "        vertical-align: middle;\n",
       "    }\n",
       "\n",
       "    .dataframe tbody tr th {\n",
       "        vertical-align: top;\n",
       "    }\n",
       "\n",
       "    .dataframe thead th {\n",
       "        text-align: right;\n",
       "    }\n",
       "</style>\n",
       "<table border=\"1\" class=\"dataframe\">\n",
       "  <thead>\n",
       "    <tr style=\"text-align: right;\">\n",
       "      <th></th>\n",
       "      <th>id</th>\n",
       "      <th>name</th>\n",
       "      <th>attr_name</th>\n",
       "      <th>attr_hierarchy</th>\n",
       "      <th>attr_relevance</th>\n",
       "      <th>attr_value_type</th>\n",
       "      <th>attr_value_max_length</th>\n",
       "      <th>attr_attribute_group_id</th>\n",
       "      <th>attr_attribute_group_name</th>\n",
       "      <th>attr_hint</th>\n",
       "      <th>metadata</th>\n",
       "      <th>attr_allowed_units</th>\n",
       "      <th>attr_default_unit</th>\n",
       "      <th>attr_tooltip</th>\n",
       "    </tr>\n",
       "    <tr>\n",
       "      <th>attr_id</th>\n",
       "      <th></th>\n",
       "      <th></th>\n",
       "      <th></th>\n",
       "      <th></th>\n",
       "      <th></th>\n",
       "      <th></th>\n",
       "      <th></th>\n",
       "      <th></th>\n",
       "      <th></th>\n",
       "      <th></th>\n",
       "      <th></th>\n",
       "      <th></th>\n",
       "      <th></th>\n",
       "      <th></th>\n",
       "    </tr>\n",
       "  </thead>\n",
       "  <tbody>\n",
       "    <tr>\n",
       "      <th>BRAND</th>\n",
       "      <td>2253232</td>\n",
       "      <td>AMC</td>\n",
       "      <td>Marca</td>\n",
       "      <td>PARENT_PK</td>\n",
       "      <td>1</td>\n",
       "      <td>string</td>\n",
       "      <td>255.0</td>\n",
       "      <td>FIND</td>\n",
       "      <td>Ficha técnica</td>\n",
       "      <td>Escribe la marca real del producto o 'Genérica...</td>\n",
       "      <td>NaN</td>\n",
       "      <td>NaN</td>\n",
       "      <td>NaN</td>\n",
       "      <td>NaN</td>\n",
       "    </tr>\n",
       "    <tr>\n",
       "      <th>BRAND</th>\n",
       "      <td>60244</td>\n",
       "      <td>Acura</td>\n",
       "      <td>Marca</td>\n",
       "      <td>PARENT_PK</td>\n",
       "      <td>1</td>\n",
       "      <td>string</td>\n",
       "      <td>255.0</td>\n",
       "      <td>FIND</td>\n",
       "      <td>Ficha técnica</td>\n",
       "      <td>Escribe la marca real del producto o 'Genérica...</td>\n",
       "      <td>NaN</td>\n",
       "      <td>NaN</td>\n",
       "      <td>NaN</td>\n",
       "      <td>NaN</td>\n",
       "    </tr>\n",
       "    <tr>\n",
       "      <th>BRAND</th>\n",
       "      <td>380854</td>\n",
       "      <td>Agrale</td>\n",
       "      <td>Marca</td>\n",
       "      <td>PARENT_PK</td>\n",
       "      <td>1</td>\n",
       "      <td>string</td>\n",
       "      <td>255.0</td>\n",
       "      <td>FIND</td>\n",
       "      <td>Ficha técnica</td>\n",
       "      <td>Escribe la marca real del producto o 'Genérica...</td>\n",
       "      <td>NaN</td>\n",
       "      <td>NaN</td>\n",
       "      <td>NaN</td>\n",
       "      <td>NaN</td>\n",
       "    </tr>\n",
       "    <tr>\n",
       "      <th>BRAND</th>\n",
       "      <td>2817419</td>\n",
       "      <td>Aleko</td>\n",
       "      <td>Marca</td>\n",
       "      <td>PARENT_PK</td>\n",
       "      <td>1</td>\n",
       "      <td>string</td>\n",
       "      <td>255.0</td>\n",
       "      <td>FIND</td>\n",
       "      <td>Ficha técnica</td>\n",
       "      <td>Escribe la marca real del producto o 'Genérica...</td>\n",
       "      <td>NaN</td>\n",
       "      <td>NaN</td>\n",
       "      <td>NaN</td>\n",
       "      <td>NaN</td>\n",
       "    </tr>\n",
       "    <tr>\n",
       "      <th>BRAND</th>\n",
       "      <td>67695</td>\n",
       "      <td>Alfa Romeo</td>\n",
       "      <td>Marca</td>\n",
       "      <td>PARENT_PK</td>\n",
       "      <td>1</td>\n",
       "      <td>string</td>\n",
       "      <td>255.0</td>\n",
       "      <td>FIND</td>\n",
       "      <td>Ficha técnica</td>\n",
       "      <td>Escribe la marca real del producto o 'Genérica...</td>\n",
       "      <td>NaN</td>\n",
       "      <td>NaN</td>\n",
       "      <td>NaN</td>\n",
       "      <td>NaN</td>\n",
       "    </tr>\n",
       "  </tbody>\n",
       "</table>\n",
       "</div>"
      ],
      "text/plain": [
       "              id        name attr_name attr_hierarchy  attr_relevance  \\\n",
       "attr_id                                                                 \n",
       "BRAND    2253232         AMC     Marca      PARENT_PK               1   \n",
       "BRAND      60244       Acura     Marca      PARENT_PK               1   \n",
       "BRAND     380854      Agrale     Marca      PARENT_PK               1   \n",
       "BRAND    2817419       Aleko     Marca      PARENT_PK               1   \n",
       "BRAND      67695  Alfa Romeo     Marca      PARENT_PK               1   \n",
       "\n",
       "        attr_value_type  attr_value_max_length attr_attribute_group_id  \\\n",
       "attr_id                                                                  \n",
       "BRAND            string                  255.0                    FIND   \n",
       "BRAND            string                  255.0                    FIND   \n",
       "BRAND            string                  255.0                    FIND   \n",
       "BRAND            string                  255.0                    FIND   \n",
       "BRAND            string                  255.0                    FIND   \n",
       "\n",
       "        attr_attribute_group_name  \\\n",
       "attr_id                             \n",
       "BRAND               Ficha técnica   \n",
       "BRAND               Ficha técnica   \n",
       "BRAND               Ficha técnica   \n",
       "BRAND               Ficha técnica   \n",
       "BRAND               Ficha técnica   \n",
       "\n",
       "                                                 attr_hint metadata  \\\n",
       "attr_id                                                               \n",
       "BRAND    Escribe la marca real del producto o 'Genérica...      NaN   \n",
       "BRAND    Escribe la marca real del producto o 'Genérica...      NaN   \n",
       "BRAND    Escribe la marca real del producto o 'Genérica...      NaN   \n",
       "BRAND    Escribe la marca real del producto o 'Genérica...      NaN   \n",
       "BRAND    Escribe la marca real del producto o 'Genérica...      NaN   \n",
       "\n",
       "        attr_allowed_units attr_default_unit attr_tooltip  \n",
       "attr_id                                                    \n",
       "BRAND                  NaN               NaN          NaN  \n",
       "BRAND                  NaN               NaN          NaN  \n",
       "BRAND                  NaN               NaN          NaN  \n",
       "BRAND                  NaN               NaN          NaN  \n",
       "BRAND                  NaN               NaN          NaN  "
      ]
     },
     "execution_count": 14,
     "metadata": {},
     "output_type": "execute_result"
    }
   ],
   "source": [
    "scat = 'MLA1744'\n",
    "scat_attr = get_subcat_attr(scat)\n",
    "scat_attr.head()"
   ]
  },
  {
   "cell_type": "code",
   "execution_count": 15,
   "metadata": {},
   "outputs": [
    {
     "data": {
      "text/plain": [
       "(#7) ['VEHICLE_YEAR','VEHICLE_TYPE','VEHICLE_BODY_TYPE','IS_INSURED_VEHICLE','HAS_VEHICLE_INSPECTION','VERIFIED_VEHICLES','FIPE_VEHICLE_YEAR']"
      ]
     },
     "execution_count": 15,
     "metadata": {},
     "output_type": "execute_result"
    }
   ],
   "source": [
    "L(scat_attr.index.unique(), use_list = True).filter(lambda x:'VEH' in x)"
   ]
  },
  {
   "cell_type": "code",
   "execution_count": 16,
   "metadata": {},
   "outputs": [
    {
     "data": {
      "text/plain": [
       "id                                    None\n",
       "name                                  None\n",
       "attr_name                              Año\n",
       "attr_hierarchy                   PARENT_PK\n",
       "attr_relevance                           1\n",
       "attr_value_type                     number\n",
       "attr_value_max_length                 18.0\n",
       "attr_attribute_group_id               FIND\n",
       "attr_attribute_group_name    Ficha técnica\n",
       "attr_hint                              NaN\n",
       "metadata                               NaN\n",
       "attr_allowed_units                     NaN\n",
       "attr_default_unit                      NaN\n",
       "attr_tooltip                           NaN\n",
       "Name: VEHICLE_YEAR, dtype: object"
      ]
     },
     "execution_count": 16,
     "metadata": {},
     "output_type": "execute_result"
    }
   ],
   "source": [
    "scat_attr.loc['VEHICLE_YEAR']"
   ]
  },
  {
   "cell_type": "markdown",
   "metadata": {},
   "source": [
    "Search"
   ]
  },
  {
   "cell_type": "code",
   "execution_count": 17,
   "metadata": {},
   "outputs": [],
   "source": [
    "def search(site_id='MLA', category_id='MLA1744', offset=0, limit=1000, filter=[] ,results=[] , return_filters=False):\n",
    "    url = f'https://api.mercadolibre.com/sites/{site_id}'\n",
    "    url = url + f'/search?category={category_id}&offset={offset}'\n",
    "    for f in filter:\n",
    "        url += f'&{f[\"name\"]}={f[\"value\"]}'\n",
    "    r = requests.get(url, headers=header)\n",
    "    if return_filters:\n",
    "        return r.json()['available_filters']\n",
    "    paging = r.json()['paging']\n",
    "\n",
    "    results += r.json()['results']\n",
    "\n",
    "    offset += 50\n",
    "    if offset >= paging['primary_results']:\n",
    "        return results\n",
    "    else:\n",
    "        return search(site_id=site_id, category_id=category_id, offset=offset, limit=limit, filter=filter , results=results, return_filters = False)"
   ]
  },
  {
   "cell_type": "code",
   "execution_count": 25,
   "metadata": {},
   "outputs": [],
   "source": [
    "def get_year_ranges_for_brand(brand_id):\n",
    "    filters = search(filter=[{'name': 'BRAND', 'value': brand_id}], results=[], return_filters=True)\n",
    "    years = L(filters).filter(lambda x:'VEHICLE_YEAR'==x['id'])\n",
    "    if len(years)==0:\n",
    "        return[]\n",
    "    foo = pd.DataFrame(years[0]['values'])\n",
    "    foo = foo.sort_values('name').reset_index(drop=True)\n",
    "    ranges = []\n",
    "    s = 0\n",
    "    for i,row in foo.iterrows():\n",
    "        if s==0:\n",
    "            ranges.append([row['name'], row['name']])\n",
    "            s += int(row.results)\n",
    "            if s>1000:\n",
    "                ranges[-1][1] = row['name']\n",
    "                s = 0\n",
    "    ranges[-1][1] = row['name']\n",
    "    return L(ranges).map('-'.join)\n"
   ]
  },
  {
   "cell_type": "code",
   "execution_count": 28,
   "metadata": {},
   "outputs": [
    {
     "data": {
      "text/plain": [
       "(#1) ['1989-2022']"
      ]
     },
     "execution_count": 28,
     "metadata": {},
     "output_type": "execute_result"
    }
   ],
   "source": [
    "# Check\n",
    "brand_id = 67695\n",
    "get_year_ranges_for_brand(brand_id)"
   ]
  },
  {
   "cell_type": "code",
   "execution_count": 18,
   "metadata": {},
   "outputs": [
    {
     "ename": "NameError",
     "evalue": "name 'brand_id' is not defined",
     "output_type": "error",
     "traceback": [
      "\u001b[1;31m---------------------------------------------------------------------------\u001b[0m",
      "\u001b[1;31mNameError\u001b[0m                                 Traceback (most recent call last)",
      "\u001b[1;32mC:\\Users\\LUCIA~1.LOP\\AppData\\Local\\Temp/ipykernel_18708/593557444.py\u001b[0m in \u001b[0;36m<module>\u001b[1;34m\u001b[0m\n\u001b[1;32m----> 1\u001b[1;33m \u001b[0mfilters\u001b[0m \u001b[1;33m=\u001b[0m \u001b[0msearch\u001b[0m\u001b[1;33m(\u001b[0m\u001b[0mfilter\u001b[0m\u001b[1;33m=\u001b[0m\u001b[1;33m[\u001b[0m\u001b[1;33m{\u001b[0m\u001b[1;34m'name'\u001b[0m\u001b[1;33m:\u001b[0m\u001b[1;34m'BRAND'\u001b[0m\u001b[1;33m,\u001b[0m \u001b[1;34m'value'\u001b[0m\u001b[1;33m:\u001b[0m \u001b[0mbrand_id\u001b[0m\u001b[1;33m}\u001b[0m\u001b[1;33m]\u001b[0m\u001b[1;33m,\u001b[0m \u001b[0mresults\u001b[0m\u001b[1;33m=\u001b[0m\u001b[1;33m[\u001b[0m\u001b[1;33m]\u001b[0m\u001b[1;33m,\u001b[0m \u001b[0mreturn_filters\u001b[0m\u001b[1;33m=\u001b[0m\u001b[1;32mTrue\u001b[0m\u001b[1;33m)\u001b[0m\u001b[1;33m\u001b[0m\u001b[1;33m\u001b[0m\u001b[0m\n\u001b[0m\u001b[0;32m      2\u001b[0m \u001b[0myears\u001b[0m \u001b[1;33m=\u001b[0m \u001b[0mL\u001b[0m\u001b[1;33m(\u001b[0m\u001b[0mfilters\u001b[0m\u001b[1;33m)\u001b[0m\u001b[1;33m.\u001b[0m\u001b[0mfilter\u001b[0m\u001b[1;33m(\u001b[0m\u001b[1;32mlambda\u001b[0m \u001b[0mx\u001b[0m\u001b[1;33m:\u001b[0m \u001b[1;34m'VEHICLE_YEAR'\u001b[0m\u001b[1;33m==\u001b[0m\u001b[0mx\u001b[0m\u001b[1;33m[\u001b[0m\u001b[1;34m'id'\u001b[0m\u001b[1;33m]\u001b[0m\u001b[1;33m)\u001b[0m\u001b[1;33m\u001b[0m\u001b[1;33m\u001b[0m\u001b[0m\n",
      "\u001b[1;31mNameError\u001b[0m: name 'brand_id' is not defined"
     ]
    }
   ],
   "source": [
    "filters = search(filter=[{'name':'BRAND', 'value': brand_id}], results=[], return_filters=True)\n",
    "years = L(filters).filter(lambda x: 'VEHICLE_YEAR'==x['id'])"
   ]
  },
  {
   "cell_type": "code",
   "execution_count": 19,
   "metadata": {},
   "outputs": [
    {
     "data": {
      "text/html": [
       "<div>\n",
       "<style scoped>\n",
       "    .dataframe tbody tr th:only-of-type {\n",
       "        vertical-align: middle;\n",
       "    }\n",
       "\n",
       "    .dataframe tbody tr th {\n",
       "        vertical-align: top;\n",
       "    }\n",
       "\n",
       "    .dataframe thead th {\n",
       "        text-align: right;\n",
       "    }\n",
       "</style>\n",
       "<table border=\"1\" class=\"dataframe\">\n",
       "  <thead>\n",
       "    <tr style=\"text-align: right;\">\n",
       "      <th></th>\n",
       "      <th>attr_id</th>\n",
       "      <th>id</th>\n",
       "      <th>name</th>\n",
       "      <th>attr_name</th>\n",
       "      <th>attr_hierarchy</th>\n",
       "      <th>attr_relevance</th>\n",
       "      <th>attr_value_type</th>\n",
       "      <th>attr_value_max_length</th>\n",
       "      <th>attr_attribute_group_id</th>\n",
       "      <th>attr_attribute_group_name</th>\n",
       "      <th>attr_hint</th>\n",
       "      <th>metadata</th>\n",
       "      <th>attr_allowed_units</th>\n",
       "      <th>attr_default_unit</th>\n",
       "      <th>attr_tooltip</th>\n",
       "    </tr>\n",
       "  </thead>\n",
       "  <tbody>\n",
       "    <tr>\n",
       "      <th>4</th>\n",
       "      <td>BRAND</td>\n",
       "      <td>67695</td>\n",
       "      <td>Alfa Romeo</td>\n",
       "      <td>Marca</td>\n",
       "      <td>PARENT_PK</td>\n",
       "      <td>1</td>\n",
       "      <td>string</td>\n",
       "      <td>255.0</td>\n",
       "      <td>FIND</td>\n",
       "      <td>Ficha técnica</td>\n",
       "      <td>Escribe la marca real del producto o 'Genérica...</td>\n",
       "      <td>NaN</td>\n",
       "      <td>NaN</td>\n",
       "      <td>NaN</td>\n",
       "      <td>NaN</td>\n",
       "    </tr>\n",
       "  </tbody>\n",
       "</table>\n",
       "</div>"
      ],
      "text/plain": [
       "  attr_id     id        name attr_name attr_hierarchy  attr_relevance  \\\n",
       "4   BRAND  67695  Alfa Romeo     Marca      PARENT_PK               1   \n",
       "\n",
       "  attr_value_type  attr_value_max_length attr_attribute_group_id  \\\n",
       "4          string                  255.0                    FIND   \n",
       "\n",
       "  attr_attribute_group_name  \\\n",
       "4             Ficha técnica   \n",
       "\n",
       "                                           attr_hint metadata  \\\n",
       "4  Escribe la marca real del producto o 'Genérica...      NaN   \n",
       "\n",
       "  attr_allowed_units attr_default_unit attr_tooltip  \n",
       "4                NaN               NaN          NaN  "
      ]
     },
     "execution_count": 19,
     "metadata": {},
     "output_type": "execute_result"
    }
   ],
   "source": [
    "foo = scat_attr.reset_index()\n",
    "foo.loc[foo.id.eq('67695')]"
   ]
  },
  {
   "cell_type": "code",
   "execution_count": 29,
   "metadata": {},
   "outputs": [
    {
     "data": {
      "application/vnd.jupyter.widget-view+json": {
       "model_id": "393ba2d411f44c248fd9dba647900d47",
       "version_major": 2,
       "version_minor": 0
      },
      "text/plain": [
       "  0%|          | 0/197 [00:00<?, ?it/s]"
      ]
     },
     "metadata": {},
     "output_type": "display_data"
    },
    {
     "data": {
      "application/vnd.jupyter.widget-view+json": {
       "model_id": "8097f599903c404c9dad1d13c42cbbea",
       "version_major": 2,
       "version_minor": 0
      },
      "text/plain": [
       "0it [00:00, ?it/s]"
      ]
     },
     "metadata": {},
     "output_type": "display_data"
    },
    {
     "data": {
      "application/vnd.jupyter.widget-view+json": {
       "model_id": "f495605c89934a458d73311a110573ce",
       "version_major": 2,
       "version_minor": 0
      },
      "text/plain": [
       "  0%|          | 0/1 [00:00<?, ?it/s]"
      ]
     },
     "metadata": {},
     "output_type": "display_data"
    },
    {
     "data": {
      "application/vnd.jupyter.widget-view+json": {
       "model_id": "e9bdd7835bb245e48e200f1e019754c0",
       "version_major": 2,
       "version_minor": 0
      },
      "text/plain": [
       "  0%|          | 0/1 [00:00<?, ?it/s]"
      ]
     },
     "metadata": {},
     "output_type": "display_data"
    },
    {
     "data": {
      "application/vnd.jupyter.widget-view+json": {
       "model_id": "f7daa48886ac44e8b79c3f716b50d78c",
       "version_major": 2,
       "version_minor": 0
      },
      "text/plain": [
       "0it [00:00, ?it/s]"
      ]
     },
     "metadata": {},
     "output_type": "display_data"
    },
    {
     "data": {
      "application/vnd.jupyter.widget-view+json": {
       "model_id": "6e233435ee61482f921e2f886522825e",
       "version_major": 2,
       "version_minor": 0
      },
      "text/plain": [
       "  0%|          | 0/1 [00:00<?, ?it/s]"
      ]
     },
     "metadata": {},
     "output_type": "display_data"
    },
    {
     "data": {
      "application/vnd.jupyter.widget-view+json": {
       "model_id": "f869d76dff444fd6a7fa1d83a693fcd6",
       "version_major": 2,
       "version_minor": 0
      },
      "text/plain": [
       "0it [00:00, ?it/s]"
      ]
     },
     "metadata": {},
     "output_type": "display_data"
    },
    {
     "data": {
      "application/vnd.jupyter.widget-view+json": {
       "model_id": "c1dc04ba7a264a75aa9f69c0adddcb91",
       "version_major": 2,
       "version_minor": 0
      },
      "text/plain": [
       "0it [00:00, ?it/s]"
      ]
     },
     "metadata": {},
     "output_type": "display_data"
    },
    {
     "data": {
      "application/vnd.jupyter.widget-view+json": {
       "model_id": "51627e3e853d49f9811ef4cdd5052e14",
       "version_major": 2,
       "version_minor": 0
      },
      "text/plain": [
       "  0%|          | 0/1 [00:00<?, ?it/s]"
      ]
     },
     "metadata": {},
     "output_type": "display_data"
    },
    {
     "data": {
      "application/vnd.jupyter.widget-view+json": {
       "model_id": "222e15b393d1405fa70c8f495f8c1445",
       "version_major": 2,
       "version_minor": 0
      },
      "text/plain": [
       "0it [00:00, ?it/s]"
      ]
     },
     "metadata": {},
     "output_type": "display_data"
    },
    {
     "data": {
      "application/vnd.jupyter.widget-view+json": {
       "model_id": "be42e662dd364be785efbae1eff60964",
       "version_major": 2,
       "version_minor": 0
      },
      "text/plain": [
       "  0%|          | 0/1 [00:00<?, ?it/s]"
      ]
     },
     "metadata": {},
     "output_type": "display_data"
    },
    {
     "data": {
      "application/vnd.jupyter.widget-view+json": {
       "model_id": "eea1b7987358448482f912b4c3923a39",
       "version_major": 2,
       "version_minor": 0
      },
      "text/plain": [
       "  0%|          | 0/1 [00:00<?, ?it/s]"
      ]
     },
     "metadata": {},
     "output_type": "display_data"
    },
    {
     "data": {
      "application/vnd.jupyter.widget-view+json": {
       "model_id": "35343f14f8e54c95a868d3db136a5af1",
       "version_major": 2,
       "version_minor": 0
      },
      "text/plain": [
       "  0%|          | 0/1 [00:00<?, ?it/s]"
      ]
     },
     "metadata": {},
     "output_type": "display_data"
    },
    {
     "data": {
      "application/vnd.jupyter.widget-view+json": {
       "model_id": "609566a4f7b94baa96193253dd877be6",
       "version_major": 2,
       "version_minor": 0
      },
      "text/plain": [
       "0it [00:00, ?it/s]"
      ]
     },
     "metadata": {},
     "output_type": "display_data"
    },
    {
     "data": {
      "application/vnd.jupyter.widget-view+json": {
       "model_id": "edad7d57491843cda7b96d3e70346f40",
       "version_major": 2,
       "version_minor": 0
      },
      "text/plain": [
       "0it [00:00, ?it/s]"
      ]
     },
     "metadata": {},
     "output_type": "display_data"
    },
    {
     "data": {
      "application/vnd.jupyter.widget-view+json": {
       "model_id": "dc94cc1a658e45f28e0b05e65411f186",
       "version_major": 2,
       "version_minor": 0
      },
      "text/plain": [
       "  0%|          | 0/1 [00:00<?, ?it/s]"
      ]
     },
     "metadata": {},
     "output_type": "display_data"
    },
    {
     "data": {
      "application/vnd.jupyter.widget-view+json": {
       "model_id": "747dc47d8a614c6ab9caa8762eba0f09",
       "version_major": 2,
       "version_minor": 0
      },
      "text/plain": [
       "0it [00:00, ?it/s]"
      ]
     },
     "metadata": {},
     "output_type": "display_data"
    },
    {
     "data": {
      "application/vnd.jupyter.widget-view+json": {
       "model_id": "70714afc55e24177bfee1f68f613f4bd",
       "version_major": 2,
       "version_minor": 0
      },
      "text/plain": [
       "0it [00:00, ?it/s]"
      ]
     },
     "metadata": {},
     "output_type": "display_data"
    },
    {
     "data": {
      "application/vnd.jupyter.widget-view+json": {
       "model_id": "fbfb945fdeb441ddb9e765936a05e23e",
       "version_major": 2,
       "version_minor": 0
      },
      "text/plain": [
       "  0%|          | 0/1 [00:00<?, ?it/s]"
      ]
     },
     "metadata": {},
     "output_type": "display_data"
    },
    {
     "data": {
      "application/vnd.jupyter.widget-view+json": {
       "model_id": "d51d5c6b2ada4e44bee3427f2304341f",
       "version_major": 2,
       "version_minor": 0
      },
      "text/plain": [
       "0it [00:00, ?it/s]"
      ]
     },
     "metadata": {},
     "output_type": "display_data"
    },
    {
     "data": {
      "application/vnd.jupyter.widget-view+json": {
       "model_id": "93f86da4119041c58f510da7079d1fe5",
       "version_major": 2,
       "version_minor": 0
      },
      "text/plain": [
       "0it [00:00, ?it/s]"
      ]
     },
     "metadata": {},
     "output_type": "display_data"
    },
    {
     "data": {
      "application/vnd.jupyter.widget-view+json": {
       "model_id": "66993fb32e35444f82b9872cedbe5348",
       "version_major": 2,
       "version_minor": 0
      },
      "text/plain": [
       "0it [00:00, ?it/s]"
      ]
     },
     "metadata": {},
     "output_type": "display_data"
    },
    {
     "data": {
      "application/vnd.jupyter.widget-view+json": {
       "model_id": "e2d85ca6c1d646ac8f48b3d6adf2cfe9",
       "version_major": 2,
       "version_minor": 0
      },
      "text/plain": [
       "0it [00:00, ?it/s]"
      ]
     },
     "metadata": {},
     "output_type": "display_data"
    },
    {
     "data": {
      "application/vnd.jupyter.widget-view+json": {
       "model_id": "9392459cd1364c2eafc07d78e736c465",
       "version_major": 2,
       "version_minor": 0
      },
      "text/plain": [
       "0it [00:00, ?it/s]"
      ]
     },
     "metadata": {},
     "output_type": "display_data"
    },
    {
     "data": {
      "application/vnd.jupyter.widget-view+json": {
       "model_id": "30f96388963249fda47f05db4a5040c5",
       "version_major": 2,
       "version_minor": 0
      },
      "text/plain": [
       "0it [00:00, ?it/s]"
      ]
     },
     "metadata": {},
     "output_type": "display_data"
    },
    {
     "data": {
      "application/vnd.jupyter.widget-view+json": {
       "model_id": "24e4bc55b14e48c48da6d732f4c19699",
       "version_major": 2,
       "version_minor": 0
      },
      "text/plain": [
       "0it [00:00, ?it/s]"
      ]
     },
     "metadata": {},
     "output_type": "display_data"
    },
    {
     "data": {
      "application/vnd.jupyter.widget-view+json": {
       "model_id": "836c1975796e4df5a5a95aabddd494f0",
       "version_major": 2,
       "version_minor": 0
      },
      "text/plain": [
       "0it [00:00, ?it/s]"
      ]
     },
     "metadata": {},
     "output_type": "display_data"
    },
    {
     "data": {
      "application/vnd.jupyter.widget-view+json": {
       "model_id": "842f3ed095c747429afe2e9775a22c8f",
       "version_major": 2,
       "version_minor": 0
      },
      "text/plain": [
       "0it [00:00, ?it/s]"
      ]
     },
     "metadata": {},
     "output_type": "display_data"
    },
    {
     "data": {
      "application/vnd.jupyter.widget-view+json": {
       "model_id": "2d6b55acc28949e29f905d1b1d7fad52",
       "version_major": 2,
       "version_minor": 0
      },
      "text/plain": [
       "0it [00:00, ?it/s]"
      ]
     },
     "metadata": {},
     "output_type": "display_data"
    },
    {
     "data": {
      "application/vnd.jupyter.widget-view+json": {
       "model_id": "390ac408ecc945f9bb84c8b2a810acbb",
       "version_major": 2,
       "version_minor": 0
      },
      "text/plain": [
       "  0%|          | 0/1 [00:00<?, ?it/s]"
      ]
     },
     "metadata": {},
     "output_type": "display_data"
    },
    {
     "data": {
      "application/vnd.jupyter.widget-view+json": {
       "model_id": "a3b2e362edb9469eb6ba4af7b632f53f",
       "version_major": 2,
       "version_minor": 0
      },
      "text/plain": [
       "0it [00:00, ?it/s]"
      ]
     },
     "metadata": {},
     "output_type": "display_data"
    },
    {
     "data": {
      "application/vnd.jupyter.widget-view+json": {
       "model_id": "1a3b96621cc64b64b0bf657f46d1ed98",
       "version_major": 2,
       "version_minor": 0
      },
      "text/plain": [
       "0it [00:00, ?it/s]"
      ]
     },
     "metadata": {},
     "output_type": "display_data"
    },
    {
     "data": {
      "application/vnd.jupyter.widget-view+json": {
       "model_id": "7075af660946434b8577617205648f46",
       "version_major": 2,
       "version_minor": 0
      },
      "text/plain": [
       "  0%|          | 0/1 [00:00<?, ?it/s]"
      ]
     },
     "metadata": {},
     "output_type": "display_data"
    },
    {
     "data": {
      "application/vnd.jupyter.widget-view+json": {
       "model_id": "6569a4e041724aa4b6fab6a50bc8c123",
       "version_major": 2,
       "version_minor": 0
      },
      "text/plain": [
       "0it [00:00, ?it/s]"
      ]
     },
     "metadata": {},
     "output_type": "display_data"
    },
    {
     "data": {
      "application/vnd.jupyter.widget-view+json": {
       "model_id": "601c312b83ae4b44b4e043118f2a7501",
       "version_major": 2,
       "version_minor": 0
      },
      "text/plain": [
       "0it [00:00, ?it/s]"
      ]
     },
     "metadata": {},
     "output_type": "display_data"
    },
    {
     "data": {
      "application/vnd.jupyter.widget-view+json": {
       "model_id": "e696814af4824f79a648ec895d3a47e6",
       "version_major": 2,
       "version_minor": 0
      },
      "text/plain": [
       "  0%|          | 0/1 [00:00<?, ?it/s]"
      ]
     },
     "metadata": {},
     "output_type": "display_data"
    },
    {
     "data": {
      "application/vnd.jupyter.widget-view+json": {
       "model_id": "55b5d7d2d2db42369b6370e466fcf968",
       "version_major": 2,
       "version_minor": 0
      },
      "text/plain": [
       "  0%|          | 0/1 [00:00<?, ?it/s]"
      ]
     },
     "metadata": {},
     "output_type": "display_data"
    },
    {
     "data": {
      "application/vnd.jupyter.widget-view+json": {
       "model_id": "da9889c0a77a4ccb957643b6135a8395",
       "version_major": 2,
       "version_minor": 0
      },
      "text/plain": [
       "  0%|          | 0/1 [00:00<?, ?it/s]"
      ]
     },
     "metadata": {},
     "output_type": "display_data"
    },
    {
     "data": {
      "application/vnd.jupyter.widget-view+json": {
       "model_id": "3490328dcac14037a5c2e1c771560a6e",
       "version_major": 2,
       "version_minor": 0
      },
      "text/plain": [
       "  0%|          | 0/1 [00:00<?, ?it/s]"
      ]
     },
     "metadata": {},
     "output_type": "display_data"
    },
    {
     "data": {
      "application/vnd.jupyter.widget-view+json": {
       "model_id": "bc0aac1621884e31bb1dcc121e7a9fbb",
       "version_major": 2,
       "version_minor": 0
      },
      "text/plain": [
       "0it [00:00, ?it/s]"
      ]
     },
     "metadata": {},
     "output_type": "display_data"
    },
    {
     "data": {
      "application/vnd.jupyter.widget-view+json": {
       "model_id": "f645c15f96da4c5ebc8f967fe036ca41",
       "version_major": 2,
       "version_minor": 0
      },
      "text/plain": [
       "  0%|          | 0/1 [00:00<?, ?it/s]"
      ]
     },
     "metadata": {},
     "output_type": "display_data"
    },
    {
     "data": {
      "application/vnd.jupyter.widget-view+json": {
       "model_id": "5baa35b6e5d247ee8df5ae0e8583fdac",
       "version_major": 2,
       "version_minor": 0
      },
      "text/plain": [
       "0it [00:00, ?it/s]"
      ]
     },
     "metadata": {},
     "output_type": "display_data"
    },
    {
     "data": {
      "application/vnd.jupyter.widget-view+json": {
       "model_id": "eb323d05eb7e43cd88a4573d1c45b7ea",
       "version_major": 2,
       "version_minor": 0
      },
      "text/plain": [
       "  0%|          | 0/1 [00:00<?, ?it/s]"
      ]
     },
     "metadata": {},
     "output_type": "display_data"
    },
    {
     "data": {
      "application/vnd.jupyter.widget-view+json": {
       "model_id": "24becb3c58cb4844907a10c96c7f7a87",
       "version_major": 2,
       "version_minor": 0
      },
      "text/plain": [
       "  0%|          | 0/1 [00:00<?, ?it/s]"
      ]
     },
     "metadata": {},
     "output_type": "display_data"
    },
    {
     "data": {
      "application/vnd.jupyter.widget-view+json": {
       "model_id": "c26132921cab49708098b3615285b2d1",
       "version_major": 2,
       "version_minor": 0
      },
      "text/plain": [
       "  0%|          | 0/1 [00:00<?, ?it/s]"
      ]
     },
     "metadata": {},
     "output_type": "display_data"
    },
    {
     "data": {
      "application/vnd.jupyter.widget-view+json": {
       "model_id": "31d9eadf4b7f4817a675799869087a4e",
       "version_major": 2,
       "version_minor": 0
      },
      "text/plain": [
       "  0%|          | 0/1 [00:00<?, ?it/s]"
      ]
     },
     "metadata": {},
     "output_type": "display_data"
    },
    {
     "data": {
      "application/vnd.jupyter.widget-view+json": {
       "model_id": "14363d67d39a4420966de4cde0211d50",
       "version_major": 2,
       "version_minor": 0
      },
      "text/plain": [
       "  0%|          | 0/1 [00:00<?, ?it/s]"
      ]
     },
     "metadata": {},
     "output_type": "display_data"
    },
    {
     "data": {
      "application/vnd.jupyter.widget-view+json": {
       "model_id": "c048bf7e02fd4c9cb29c63825f0429f1",
       "version_major": 2,
       "version_minor": 0
      },
      "text/plain": [
       "0it [00:00, ?it/s]"
      ]
     },
     "metadata": {},
     "output_type": "display_data"
    },
    {
     "data": {
      "application/vnd.jupyter.widget-view+json": {
       "model_id": "7026f5fb61f44c58bfc2504f6fa6da09",
       "version_major": 2,
       "version_minor": 0
      },
      "text/plain": [
       "  0%|          | 0/1 [00:00<?, ?it/s]"
      ]
     },
     "metadata": {},
     "output_type": "display_data"
    },
    {
     "data": {
      "application/vnd.jupyter.widget-view+json": {
       "model_id": "fbf25517d50f4c59a3d8110592e7dcc4",
       "version_major": 2,
       "version_minor": 0
      },
      "text/plain": [
       "0it [00:00, ?it/s]"
      ]
     },
     "metadata": {},
     "output_type": "display_data"
    },
    {
     "data": {
      "application/vnd.jupyter.widget-view+json": {
       "model_id": "03220221fb25439a8dde904ac2eb7818",
       "version_major": 2,
       "version_minor": 0
      },
      "text/plain": [
       "0it [00:00, ?it/s]"
      ]
     },
     "metadata": {},
     "output_type": "display_data"
    },
    {
     "data": {
      "application/vnd.jupyter.widget-view+json": {
       "model_id": "c98b827700264081814b49c116bd1a4a",
       "version_major": 2,
       "version_minor": 0
      },
      "text/plain": [
       "0it [00:00, ?it/s]"
      ]
     },
     "metadata": {},
     "output_type": "display_data"
    },
    {
     "data": {
      "application/vnd.jupyter.widget-view+json": {
       "model_id": "4e12c1fd9a17462f87c75a2d2261cc43",
       "version_major": 2,
       "version_minor": 0
      },
      "text/plain": [
       "0it [00:00, ?it/s]"
      ]
     },
     "metadata": {},
     "output_type": "display_data"
    },
    {
     "data": {
      "application/vnd.jupyter.widget-view+json": {
       "model_id": "c421e1bf7c6d48ce814cc0c5f1a87e5e",
       "version_major": 2,
       "version_minor": 0
      },
      "text/plain": [
       "0it [00:00, ?it/s]"
      ]
     },
     "metadata": {},
     "output_type": "display_data"
    },
    {
     "data": {
      "application/vnd.jupyter.widget-view+json": {
       "model_id": "816e8d5cbb2e4131814913ec6501f8c9",
       "version_major": 2,
       "version_minor": 0
      },
      "text/plain": [
       "  0%|          | 0/1 [00:00<?, ?it/s]"
      ]
     },
     "metadata": {},
     "output_type": "display_data"
    },
    {
     "data": {
      "application/vnd.jupyter.widget-view+json": {
       "model_id": "0123354d60924623ac5666c1c76943c9",
       "version_major": 2,
       "version_minor": 0
      },
      "text/plain": [
       "  0%|          | 0/1 [00:00<?, ?it/s]"
      ]
     },
     "metadata": {},
     "output_type": "display_data"
    },
    {
     "data": {
      "application/vnd.jupyter.widget-view+json": {
       "model_id": "1df9c45703d640fdbe79ddc5ca53707d",
       "version_major": 2,
       "version_minor": 0
      },
      "text/plain": [
       "  0%|          | 0/1 [00:00<?, ?it/s]"
      ]
     },
     "metadata": {},
     "output_type": "display_data"
    },
    {
     "data": {
      "application/vnd.jupyter.widget-view+json": {
       "model_id": "d4cda1cd90b8442dbd9827cff1bc7b02",
       "version_major": 2,
       "version_minor": 0
      },
      "text/plain": [
       "0it [00:00, ?it/s]"
      ]
     },
     "metadata": {},
     "output_type": "display_data"
    },
    {
     "data": {
      "application/vnd.jupyter.widget-view+json": {
       "model_id": "1b8355f282a14705aa922a57345f8ed1",
       "version_major": 2,
       "version_minor": 0
      },
      "text/plain": [
       "0it [00:00, ?it/s]"
      ]
     },
     "metadata": {},
     "output_type": "display_data"
    },
    {
     "data": {
      "application/vnd.jupyter.widget-view+json": {
       "model_id": "250ec39eb2bc4c45bb5d4e50d8fa8ac0",
       "version_major": 2,
       "version_minor": 0
      },
      "text/plain": [
       "  0%|          | 0/1 [00:00<?, ?it/s]"
      ]
     },
     "metadata": {},
     "output_type": "display_data"
    },
    {
     "data": {
      "application/vnd.jupyter.widget-view+json": {
       "model_id": "f64ee1bddaf34755be2c6708e974cd0c",
       "version_major": 2,
       "version_minor": 0
      },
      "text/plain": [
       "0it [00:00, ?it/s]"
      ]
     },
     "metadata": {},
     "output_type": "display_data"
    },
    {
     "data": {
      "application/vnd.jupyter.widget-view+json": {
       "model_id": "0f9f0ac1f2dd41d5b3b74f5c66c98442",
       "version_major": 2,
       "version_minor": 0
      },
      "text/plain": [
       "  0%|          | 0/1 [00:00<?, ?it/s]"
      ]
     },
     "metadata": {},
     "output_type": "display_data"
    },
    {
     "data": {
      "application/vnd.jupyter.widget-view+json": {
       "model_id": "b00872eb0b62487b8aaf2aee4640a0dd",
       "version_major": 2,
       "version_minor": 0
      },
      "text/plain": [
       "0it [00:00, ?it/s]"
      ]
     },
     "metadata": {},
     "output_type": "display_data"
    },
    {
     "data": {
      "application/vnd.jupyter.widget-view+json": {
       "model_id": "8db94b8cafd44e4abe5af5c243defc37",
       "version_major": 2,
       "version_minor": 0
      },
      "text/plain": [
       "0it [00:00, ?it/s]"
      ]
     },
     "metadata": {},
     "output_type": "display_data"
    },
    {
     "data": {
      "application/vnd.jupyter.widget-view+json": {
       "model_id": "bb5a48e394ef40bfabeb804d6ee9d088",
       "version_major": 2,
       "version_minor": 0
      },
      "text/plain": [
       "0it [00:00, ?it/s]"
      ]
     },
     "metadata": {},
     "output_type": "display_data"
    },
    {
     "data": {
      "application/vnd.jupyter.widget-view+json": {
       "model_id": "5bcf7d07e78a4aa58dac911ffd5d0da8",
       "version_major": 2,
       "version_minor": 0
      },
      "text/plain": [
       "0it [00:00, ?it/s]"
      ]
     },
     "metadata": {},
     "output_type": "display_data"
    },
    {
     "data": {
      "application/vnd.jupyter.widget-view+json": {
       "model_id": "73ff104808d24d89b6cd5d9196f2afa9",
       "version_major": 2,
       "version_minor": 0
      },
      "text/plain": [
       "0it [00:00, ?it/s]"
      ]
     },
     "metadata": {},
     "output_type": "display_data"
    },
    {
     "data": {
      "application/vnd.jupyter.widget-view+json": {
       "model_id": "34e609826e1548479e0d4fe6dd508fa3",
       "version_major": 2,
       "version_minor": 0
      },
      "text/plain": [
       "  0%|          | 0/1 [00:00<?, ?it/s]"
      ]
     },
     "metadata": {},
     "output_type": "display_data"
    },
    {
     "data": {
      "application/vnd.jupyter.widget-view+json": {
       "model_id": "e19cbfb1051c493cb9b5bb3d89097315",
       "version_major": 2,
       "version_minor": 0
      },
      "text/plain": [
       "0it [00:00, ?it/s]"
      ]
     },
     "metadata": {},
     "output_type": "display_data"
    },
    {
     "data": {
      "application/vnd.jupyter.widget-view+json": {
       "model_id": "699b09eb8b4e4fef838a2607a6479869",
       "version_major": 2,
       "version_minor": 0
      },
      "text/plain": [
       "  0%|          | 0/1 [00:00<?, ?it/s]"
      ]
     },
     "metadata": {},
     "output_type": "display_data"
    },
    {
     "data": {
      "application/vnd.jupyter.widget-view+json": {
       "model_id": "b56024cece754ac0884460f5979937b4",
       "version_major": 2,
       "version_minor": 0
      },
      "text/plain": [
       "0it [00:00, ?it/s]"
      ]
     },
     "metadata": {},
     "output_type": "display_data"
    },
    {
     "data": {
      "application/vnd.jupyter.widget-view+json": {
       "model_id": "56b54f962f134107bc4e4425a5539e96",
       "version_major": 2,
       "version_minor": 0
      },
      "text/plain": [
       "0it [00:00, ?it/s]"
      ]
     },
     "metadata": {},
     "output_type": "display_data"
    },
    {
     "data": {
      "application/vnd.jupyter.widget-view+json": {
       "model_id": "0aef21759cae4a599439790864a1158f",
       "version_major": 2,
       "version_minor": 0
      },
      "text/plain": [
       "  0%|          | 0/1 [00:00<?, ?it/s]"
      ]
     },
     "metadata": {},
     "output_type": "display_data"
    },
    {
     "data": {
      "application/vnd.jupyter.widget-view+json": {
       "model_id": "9f33919320ad4b42a7e38478b89aadac",
       "version_major": 2,
       "version_minor": 0
      },
      "text/plain": [
       "0it [00:00, ?it/s]"
      ]
     },
     "metadata": {},
     "output_type": "display_data"
    },
    {
     "data": {
      "application/vnd.jupyter.widget-view+json": {
       "model_id": "845414aacb964338a2935f3a3565ecbb",
       "version_major": 2,
       "version_minor": 0
      },
      "text/plain": [
       "0it [00:00, ?it/s]"
      ]
     },
     "metadata": {},
     "output_type": "display_data"
    },
    {
     "data": {
      "application/vnd.jupyter.widget-view+json": {
       "model_id": "f30b7719032f4291b3d5bf0860b70a35",
       "version_major": 2,
       "version_minor": 0
      },
      "text/plain": [
       "0it [00:00, ?it/s]"
      ]
     },
     "metadata": {},
     "output_type": "display_data"
    },
    {
     "data": {
      "application/vnd.jupyter.widget-view+json": {
       "model_id": "2dd6d58506cb4e52b8743b8c2d3f1580",
       "version_major": 2,
       "version_minor": 0
      },
      "text/plain": [
       "0it [00:00, ?it/s]"
      ]
     },
     "metadata": {},
     "output_type": "display_data"
    },
    {
     "data": {
      "application/vnd.jupyter.widget-view+json": {
       "model_id": "a9f7f40c83104a65ad11fce2f101a853",
       "version_major": 2,
       "version_minor": 0
      },
      "text/plain": [
       "  0%|          | 0/1 [00:00<?, ?it/s]"
      ]
     },
     "metadata": {},
     "output_type": "display_data"
    },
    {
     "data": {
      "application/vnd.jupyter.widget-view+json": {
       "model_id": "b7b716c7b3ba44b59722fe1bcf50b7a0",
       "version_major": 2,
       "version_minor": 0
      },
      "text/plain": [
       "0it [00:00, ?it/s]"
      ]
     },
     "metadata": {},
     "output_type": "display_data"
    },
    {
     "data": {
      "application/vnd.jupyter.widget-view+json": {
       "model_id": "49eb123483314b55b11dabe454cfd037",
       "version_major": 2,
       "version_minor": 0
      },
      "text/plain": [
       "  0%|          | 0/1 [00:00<?, ?it/s]"
      ]
     },
     "metadata": {},
     "output_type": "display_data"
    },
    {
     "data": {
      "application/vnd.jupyter.widget-view+json": {
       "model_id": "34c5fbdac545431ba9e50d44008e0f2e",
       "version_major": 2,
       "version_minor": 0
      },
      "text/plain": [
       "0it [00:00, ?it/s]"
      ]
     },
     "metadata": {},
     "output_type": "display_data"
    },
    {
     "data": {
      "application/vnd.jupyter.widget-view+json": {
       "model_id": "e917db6e53e94892a0f391aefa234170",
       "version_major": 2,
       "version_minor": 0
      },
      "text/plain": [
       "0it [00:00, ?it/s]"
      ]
     },
     "metadata": {},
     "output_type": "display_data"
    },
    {
     "data": {
      "application/vnd.jupyter.widget-view+json": {
       "model_id": "a358783f27a6488ab196616499efa707",
       "version_major": 2,
       "version_minor": 0
      },
      "text/plain": [
       "  0%|          | 0/1 [00:00<?, ?it/s]"
      ]
     },
     "metadata": {},
     "output_type": "display_data"
    },
    {
     "data": {
      "application/vnd.jupyter.widget-view+json": {
       "model_id": "eb11a75ed98a4280afb9f580e9cd6a98",
       "version_major": 2,
       "version_minor": 0
      },
      "text/plain": [
       "  0%|          | 0/1 [00:00<?, ?it/s]"
      ]
     },
     "metadata": {},
     "output_type": "display_data"
    },
    {
     "data": {
      "application/vnd.jupyter.widget-view+json": {
       "model_id": "ecfb96336a314460abf2230e698e7966",
       "version_major": 2,
       "version_minor": 0
      },
      "text/plain": [
       "0it [00:00, ?it/s]"
      ]
     },
     "metadata": {},
     "output_type": "display_data"
    },
    {
     "data": {
      "application/vnd.jupyter.widget-view+json": {
       "model_id": "e108098bcfb54a1895e16072d605bd4c",
       "version_major": 2,
       "version_minor": 0
      },
      "text/plain": [
       "0it [00:00, ?it/s]"
      ]
     },
     "metadata": {},
     "output_type": "display_data"
    },
    {
     "data": {
      "application/vnd.jupyter.widget-view+json": {
       "model_id": "77df7897005f49caa0016ff85de8cf98",
       "version_major": 2,
       "version_minor": 0
      },
      "text/plain": [
       "0it [00:00, ?it/s]"
      ]
     },
     "metadata": {},
     "output_type": "display_data"
    },
    {
     "data": {
      "application/vnd.jupyter.widget-view+json": {
       "model_id": "be916c52fccb4ba28185af867b253e48",
       "version_major": 2,
       "version_minor": 0
      },
      "text/plain": [
       "  0%|          | 0/1 [00:00<?, ?it/s]"
      ]
     },
     "metadata": {},
     "output_type": "display_data"
    },
    {
     "data": {
      "application/vnd.jupyter.widget-view+json": {
       "model_id": "281626541f9342c991c75506e757e8ec",
       "version_major": 2,
       "version_minor": 0
      },
      "text/plain": [
       "  0%|          | 0/1 [00:00<?, ?it/s]"
      ]
     },
     "metadata": {},
     "output_type": "display_data"
    },
    {
     "data": {
      "application/vnd.jupyter.widget-view+json": {
       "model_id": "6456dbfe4a1f442fbd91e6592ca3921a",
       "version_major": 2,
       "version_minor": 0
      },
      "text/plain": [
       "  0%|          | 0/1 [00:00<?, ?it/s]"
      ]
     },
     "metadata": {},
     "output_type": "display_data"
    },
    {
     "data": {
      "application/vnd.jupyter.widget-view+json": {
       "model_id": "02da9f6ff5d34d33b86057d9a7a0a709",
       "version_major": 2,
       "version_minor": 0
      },
      "text/plain": [
       "  0%|          | 0/1 [00:00<?, ?it/s]"
      ]
     },
     "metadata": {},
     "output_type": "display_data"
    },
    {
     "data": {
      "application/vnd.jupyter.widget-view+json": {
       "model_id": "eda93ee80a754dfb926f90b5460792fd",
       "version_major": 2,
       "version_minor": 0
      },
      "text/plain": [
       "0it [00:00, ?it/s]"
      ]
     },
     "metadata": {},
     "output_type": "display_data"
    },
    {
     "data": {
      "application/vnd.jupyter.widget-view+json": {
       "model_id": "d359a2c3865b4d67bbb12d0a78afff0d",
       "version_major": 2,
       "version_minor": 0
      },
      "text/plain": [
       "  0%|          | 0/1 [00:00<?, ?it/s]"
      ]
     },
     "metadata": {},
     "output_type": "display_data"
    },
    {
     "data": {
      "application/vnd.jupyter.widget-view+json": {
       "model_id": "8eb556f1f7e34a068c6308667845efed",
       "version_major": 2,
       "version_minor": 0
      },
      "text/plain": [
       "  0%|          | 0/1 [00:00<?, ?it/s]"
      ]
     },
     "metadata": {},
     "output_type": "display_data"
    },
    {
     "data": {
      "application/vnd.jupyter.widget-view+json": {
       "model_id": "851649048e954a5bbde1f1038db25f5b",
       "version_major": 2,
       "version_minor": 0
      },
      "text/plain": [
       "  0%|          | 0/1 [00:00<?, ?it/s]"
      ]
     },
     "metadata": {},
     "output_type": "display_data"
    },
    {
     "data": {
      "application/vnd.jupyter.widget-view+json": {
       "model_id": "e0080ce616674b6ca47127d5f4c6ba2f",
       "version_major": 2,
       "version_minor": 0
      },
      "text/plain": [
       "0it [00:00, ?it/s]"
      ]
     },
     "metadata": {},
     "output_type": "display_data"
    },
    {
     "data": {
      "application/vnd.jupyter.widget-view+json": {
       "model_id": "5d82367095624ff9a316445a9bf803cc",
       "version_major": 2,
       "version_minor": 0
      },
      "text/plain": [
       "0it [00:00, ?it/s]"
      ]
     },
     "metadata": {},
     "output_type": "display_data"
    },
    {
     "data": {
      "application/vnd.jupyter.widget-view+json": {
       "model_id": "514d0e9b24dc4d298ae1a1b8026a503f",
       "version_major": 2,
       "version_minor": 0
      },
      "text/plain": [
       "0it [00:00, ?it/s]"
      ]
     },
     "metadata": {},
     "output_type": "display_data"
    },
    {
     "data": {
      "application/vnd.jupyter.widget-view+json": {
       "model_id": "8319204222ad47c68445c033d196c42f",
       "version_major": 2,
       "version_minor": 0
      },
      "text/plain": [
       "0it [00:00, ?it/s]"
      ]
     },
     "metadata": {},
     "output_type": "display_data"
    },
    {
     "data": {
      "application/vnd.jupyter.widget-view+json": {
       "model_id": "38fc5d243ed14ca7849e1c2192885c66",
       "version_major": 2,
       "version_minor": 0
      },
      "text/plain": [
       "  0%|          | 0/1 [00:00<?, ?it/s]"
      ]
     },
     "metadata": {},
     "output_type": "display_data"
    },
    {
     "data": {
      "application/vnd.jupyter.widget-view+json": {
       "model_id": "f36ddccb47904d27afa671bec2e7235c",
       "version_major": 2,
       "version_minor": 0
      },
      "text/plain": [
       "  0%|          | 0/1 [00:00<?, ?it/s]"
      ]
     },
     "metadata": {},
     "output_type": "display_data"
    },
    {
     "data": {
      "application/vnd.jupyter.widget-view+json": {
       "model_id": "9064c4700afa4e3399abc96e96ef735a",
       "version_major": 2,
       "version_minor": 0
      },
      "text/plain": [
       "0it [00:00, ?it/s]"
      ]
     },
     "metadata": {},
     "output_type": "display_data"
    },
    {
     "data": {
      "application/vnd.jupyter.widget-view+json": {
       "model_id": "2aa2cbd6874845328c1572e722b78f04",
       "version_major": 2,
       "version_minor": 0
      },
      "text/plain": [
       "  0%|          | 0/1 [00:00<?, ?it/s]"
      ]
     },
     "metadata": {},
     "output_type": "display_data"
    },
    {
     "data": {
      "application/vnd.jupyter.widget-view+json": {
       "model_id": "e3ad81f6e6f549e8817ac2bdfbc5cbe2",
       "version_major": 2,
       "version_minor": 0
      },
      "text/plain": [
       "  0%|          | 0/1 [00:00<?, ?it/s]"
      ]
     },
     "metadata": {},
     "output_type": "display_data"
    },
    {
     "data": {
      "application/vnd.jupyter.widget-view+json": {
       "model_id": "0aab3664da8642489e9195abddae9507",
       "version_major": 2,
       "version_minor": 0
      },
      "text/plain": [
       "  0%|          | 0/1 [00:00<?, ?it/s]"
      ]
     },
     "metadata": {},
     "output_type": "display_data"
    },
    {
     "data": {
      "application/vnd.jupyter.widget-view+json": {
       "model_id": "2b3dfd5790854adbb8e012db2e547575",
       "version_major": 2,
       "version_minor": 0
      },
      "text/plain": [
       "  0%|          | 0/1 [00:00<?, ?it/s]"
      ]
     },
     "metadata": {},
     "output_type": "display_data"
    },
    {
     "data": {
      "application/vnd.jupyter.widget-view+json": {
       "model_id": "39b09dcc3fe841c8b5ad3c2cfb85e38c",
       "version_major": 2,
       "version_minor": 0
      },
      "text/plain": [
       "0it [00:00, ?it/s]"
      ]
     },
     "metadata": {},
     "output_type": "display_data"
    },
    {
     "data": {
      "application/vnd.jupyter.widget-view+json": {
       "model_id": "4f833e7f544549fd9b2e7f34b95e4309",
       "version_major": 2,
       "version_minor": 0
      },
      "text/plain": [
       "0it [00:00, ?it/s]"
      ]
     },
     "metadata": {},
     "output_type": "display_data"
    },
    {
     "data": {
      "application/vnd.jupyter.widget-view+json": {
       "model_id": "a3494644591b49ed8566926d49d2af77",
       "version_major": 2,
       "version_minor": 0
      },
      "text/plain": [
       "  0%|          | 0/1 [00:00<?, ?it/s]"
      ]
     },
     "metadata": {},
     "output_type": "display_data"
    },
    {
     "data": {
      "application/vnd.jupyter.widget-view+json": {
       "model_id": "544af4ef4ee042b9bfe9f7159f0669f5",
       "version_major": 2,
       "version_minor": 0
      },
      "text/plain": [
       "  0%|          | 0/1 [00:00<?, ?it/s]"
      ]
     },
     "metadata": {},
     "output_type": "display_data"
    },
    {
     "data": {
      "application/vnd.jupyter.widget-view+json": {
       "model_id": "fb615136717a41fbb991f8ee0931f340",
       "version_major": 2,
       "version_minor": 0
      },
      "text/plain": [
       "0it [00:00, ?it/s]"
      ]
     },
     "metadata": {},
     "output_type": "display_data"
    },
    {
     "data": {
      "application/vnd.jupyter.widget-view+json": {
       "model_id": "2f3ef12019f946618833620af4398397",
       "version_major": 2,
       "version_minor": 0
      },
      "text/plain": [
       "  0%|          | 0/1 [00:00<?, ?it/s]"
      ]
     },
     "metadata": {},
     "output_type": "display_data"
    },
    {
     "data": {
      "application/vnd.jupyter.widget-view+json": {
       "model_id": "be7155ba59aa42d39380a0fd09c221e1",
       "version_major": 2,
       "version_minor": 0
      },
      "text/plain": [
       "0it [00:00, ?it/s]"
      ]
     },
     "metadata": {},
     "output_type": "display_data"
    },
    {
     "data": {
      "application/vnd.jupyter.widget-view+json": {
       "model_id": "1bb35d5073d5472ebf25ac1865e28ba3",
       "version_major": 2,
       "version_minor": 0
      },
      "text/plain": [
       "  0%|          | 0/1 [00:00<?, ?it/s]"
      ]
     },
     "metadata": {},
     "output_type": "display_data"
    },
    {
     "data": {
      "application/vnd.jupyter.widget-view+json": {
       "model_id": "6fe0b92e40934d17b6b4aa89b524d38f",
       "version_major": 2,
       "version_minor": 0
      },
      "text/plain": [
       "0it [00:00, ?it/s]"
      ]
     },
     "metadata": {},
     "output_type": "display_data"
    },
    {
     "data": {
      "application/vnd.jupyter.widget-view+json": {
       "model_id": "33851b1584e04dc8a3ed145c2a98be51",
       "version_major": 2,
       "version_minor": 0
      },
      "text/plain": [
       "0it [00:00, ?it/s]"
      ]
     },
     "metadata": {},
     "output_type": "display_data"
    },
    {
     "data": {
      "application/vnd.jupyter.widget-view+json": {
       "model_id": "37432ba05e2147d49082b6b900a90fdd",
       "version_major": 2,
       "version_minor": 0
      },
      "text/plain": [
       "0it [00:00, ?it/s]"
      ]
     },
     "metadata": {},
     "output_type": "display_data"
    },
    {
     "data": {
      "application/vnd.jupyter.widget-view+json": {
       "model_id": "fbf98732130d44f8ba789c96afbd1e3f",
       "version_major": 2,
       "version_minor": 0
      },
      "text/plain": [
       "0it [00:00, ?it/s]"
      ]
     },
     "metadata": {},
     "output_type": "display_data"
    },
    {
     "data": {
      "application/vnd.jupyter.widget-view+json": {
       "model_id": "0fa2880526ca4f7d95a2c01bcdac11d6",
       "version_major": 2,
       "version_minor": 0
      },
      "text/plain": [
       "  0%|          | 0/1 [00:00<?, ?it/s]"
      ]
     },
     "metadata": {},
     "output_type": "display_data"
    },
    {
     "data": {
      "application/vnd.jupyter.widget-view+json": {
       "model_id": "59b6052a64b24aed94d733baac5c4cbf",
       "version_major": 2,
       "version_minor": 0
      },
      "text/plain": [
       "0it [00:00, ?it/s]"
      ]
     },
     "metadata": {},
     "output_type": "display_data"
    },
    {
     "data": {
      "application/vnd.jupyter.widget-view+json": {
       "model_id": "c34eea0aa9094f99b97b77ebf4e770f3",
       "version_major": 2,
       "version_minor": 0
      },
      "text/plain": [
       "0it [00:00, ?it/s]"
      ]
     },
     "metadata": {},
     "output_type": "display_data"
    },
    {
     "data": {
      "application/vnd.jupyter.widget-view+json": {
       "model_id": "2492f16d1ce3415bae918d9848904ef1",
       "version_major": 2,
       "version_minor": 0
      },
      "text/plain": [
       "  0%|          | 0/1 [00:00<?, ?it/s]"
      ]
     },
     "metadata": {},
     "output_type": "display_data"
    },
    {
     "data": {
      "application/vnd.jupyter.widget-view+json": {
       "model_id": "3f334a34fbfe4612b0faea6d2ef4f3f7",
       "version_major": 2,
       "version_minor": 0
      },
      "text/plain": [
       "0it [00:00, ?it/s]"
      ]
     },
     "metadata": {},
     "output_type": "display_data"
    },
    {
     "data": {
      "application/vnd.jupyter.widget-view+json": {
       "model_id": "f2b8360fba8d4d03ab6d277e4c527e9d",
       "version_major": 2,
       "version_minor": 0
      },
      "text/plain": [
       "0it [00:00, ?it/s]"
      ]
     },
     "metadata": {},
     "output_type": "display_data"
    },
    {
     "data": {
      "application/vnd.jupyter.widget-view+json": {
       "model_id": "b113135a62c247068891537606a33eda",
       "version_major": 2,
       "version_minor": 0
      },
      "text/plain": [
       "  0%|          | 0/1 [00:00<?, ?it/s]"
      ]
     },
     "metadata": {},
     "output_type": "display_data"
    },
    {
     "data": {
      "application/vnd.jupyter.widget-view+json": {
       "model_id": "e3c29a8e671646819974f411152a7dff",
       "version_major": 2,
       "version_minor": 0
      },
      "text/plain": [
       "  0%|          | 0/1 [00:00<?, ?it/s]"
      ]
     },
     "metadata": {},
     "output_type": "display_data"
    },
    {
     "data": {
      "application/vnd.jupyter.widget-view+json": {
       "model_id": "d3e7362e950743818f9c4e631e50d012",
       "version_major": 2,
       "version_minor": 0
      },
      "text/plain": [
       "0it [00:00, ?it/s]"
      ]
     },
     "metadata": {},
     "output_type": "display_data"
    },
    {
     "data": {
      "application/vnd.jupyter.widget-view+json": {
       "model_id": "fc3c77860cc64edfbea6eb732e950f6c",
       "version_major": 2,
       "version_minor": 0
      },
      "text/plain": [
       "0it [00:00, ?it/s]"
      ]
     },
     "metadata": {},
     "output_type": "display_data"
    },
    {
     "data": {
      "application/vnd.jupyter.widget-view+json": {
       "model_id": "d198a95e0776454f9fdb30b9ad0e96c6",
       "version_major": 2,
       "version_minor": 0
      },
      "text/plain": [
       "0it [00:00, ?it/s]"
      ]
     },
     "metadata": {},
     "output_type": "display_data"
    },
    {
     "data": {
      "application/vnd.jupyter.widget-view+json": {
       "model_id": "10181cca2b93427998ff59ebd6abacb6",
       "version_major": 2,
       "version_minor": 0
      },
      "text/plain": [
       "0it [00:00, ?it/s]"
      ]
     },
     "metadata": {},
     "output_type": "display_data"
    },
    {
     "data": {
      "application/vnd.jupyter.widget-view+json": {
       "model_id": "54b237470222423db4e6670a13d60795",
       "version_major": 2,
       "version_minor": 0
      },
      "text/plain": [
       "0it [00:00, ?it/s]"
      ]
     },
     "metadata": {},
     "output_type": "display_data"
    },
    {
     "data": {
      "application/vnd.jupyter.widget-view+json": {
       "model_id": "2c5befa9e270494a93cae21fb0d69c08",
       "version_major": 2,
       "version_minor": 0
      },
      "text/plain": [
       "0it [00:00, ?it/s]"
      ]
     },
     "metadata": {},
     "output_type": "display_data"
    },
    {
     "data": {
      "application/vnd.jupyter.widget-view+json": {
       "model_id": "8f83bcf540854d04ae03600091ae76dd",
       "version_major": 2,
       "version_minor": 0
      },
      "text/plain": [
       "0it [00:00, ?it/s]"
      ]
     },
     "metadata": {},
     "output_type": "display_data"
    },
    {
     "data": {
      "application/vnd.jupyter.widget-view+json": {
       "model_id": "d4f2ffb69dc14e71846957feaa5c3263",
       "version_major": 2,
       "version_minor": 0
      },
      "text/plain": [
       "0it [00:00, ?it/s]"
      ]
     },
     "metadata": {},
     "output_type": "display_data"
    },
    {
     "data": {
      "application/vnd.jupyter.widget-view+json": {
       "model_id": "df34e3117c754c09b6985632a7c0828e",
       "version_major": 2,
       "version_minor": 0
      },
      "text/plain": [
       "0it [00:00, ?it/s]"
      ]
     },
     "metadata": {},
     "output_type": "display_data"
    },
    {
     "data": {
      "application/vnd.jupyter.widget-view+json": {
       "model_id": "c935fc67040940c996dacfb4c15ff1a1",
       "version_major": 2,
       "version_minor": 0
      },
      "text/plain": [
       "  0%|          | 0/1 [00:00<?, ?it/s]"
      ]
     },
     "metadata": {},
     "output_type": "display_data"
    },
    {
     "data": {
      "application/vnd.jupyter.widget-view+json": {
       "model_id": "0688da3e6d1d4f6fb5e8593a6011130b",
       "version_major": 2,
       "version_minor": 0
      },
      "text/plain": [
       "0it [00:00, ?it/s]"
      ]
     },
     "metadata": {},
     "output_type": "display_data"
    },
    {
     "data": {
      "application/vnd.jupyter.widget-view+json": {
       "model_id": "b5c724702f184527920f04df8e6c4f6b",
       "version_major": 2,
       "version_minor": 0
      },
      "text/plain": [
       "  0%|          | 0/1 [00:00<?, ?it/s]"
      ]
     },
     "metadata": {},
     "output_type": "display_data"
    },
    {
     "data": {
      "application/vnd.jupyter.widget-view+json": {
       "model_id": "a578137c65254ba69b0927626324fad1",
       "version_major": 2,
       "version_minor": 0
      },
      "text/plain": [
       "0it [00:00, ?it/s]"
      ]
     },
     "metadata": {},
     "output_type": "display_data"
    },
    {
     "data": {
      "application/vnd.jupyter.widget-view+json": {
       "model_id": "ef61e166130f4e21aeadcfee55d55491",
       "version_major": 2,
       "version_minor": 0
      },
      "text/plain": [
       "  0%|          | 0/1 [00:00<?, ?it/s]"
      ]
     },
     "metadata": {},
     "output_type": "display_data"
    },
    {
     "data": {
      "application/vnd.jupyter.widget-view+json": {
       "model_id": "398cd13ec650460890a033e6423cc620",
       "version_major": 2,
       "version_minor": 0
      },
      "text/plain": [
       "0it [00:00, ?it/s]"
      ]
     },
     "metadata": {},
     "output_type": "display_data"
    },
    {
     "data": {
      "application/vnd.jupyter.widget-view+json": {
       "model_id": "11441187a534482097ca80d7a9b41395",
       "version_major": 2,
       "version_minor": 0
      },
      "text/plain": [
       "  0%|          | 0/1 [00:00<?, ?it/s]"
      ]
     },
     "metadata": {},
     "output_type": "display_data"
    },
    {
     "data": {
      "application/vnd.jupyter.widget-view+json": {
       "model_id": "1ac637c4409746c9a068d505d9282c34",
       "version_major": 2,
       "version_minor": 0
      },
      "text/plain": [
       "  0%|          | 0/1 [00:00<?, ?it/s]"
      ]
     },
     "metadata": {},
     "output_type": "display_data"
    },
    {
     "data": {
      "application/vnd.jupyter.widget-view+json": {
       "model_id": "035ab731a1834e599754389ad941c5f7",
       "version_major": 2,
       "version_minor": 0
      },
      "text/plain": [
       "  0%|          | 0/1 [00:00<?, ?it/s]"
      ]
     },
     "metadata": {},
     "output_type": "display_data"
    },
    {
     "data": {
      "application/vnd.jupyter.widget-view+json": {
       "model_id": "e67a20ef346b4443a5363dfc0cf43d1f",
       "version_major": 2,
       "version_minor": 0
      },
      "text/plain": [
       "  0%|          | 0/1 [00:00<?, ?it/s]"
      ]
     },
     "metadata": {},
     "output_type": "display_data"
    },
    {
     "data": {
      "application/vnd.jupyter.widget-view+json": {
       "model_id": "e0288ee6c3cc45eb94158d9388d0878c",
       "version_major": 2,
       "version_minor": 0
      },
      "text/plain": [
       "  0%|          | 0/1 [00:00<?, ?it/s]"
      ]
     },
     "metadata": {},
     "output_type": "display_data"
    },
    {
     "data": {
      "application/vnd.jupyter.widget-view+json": {
       "model_id": "f3c2d655057940109e563c3fd76a03b3",
       "version_major": 2,
       "version_minor": 0
      },
      "text/plain": [
       "0it [00:00, ?it/s]"
      ]
     },
     "metadata": {},
     "output_type": "display_data"
    },
    {
     "data": {
      "application/vnd.jupyter.widget-view+json": {
       "model_id": "cf2efb40c336476f984b49e57b1d30c7",
       "version_major": 2,
       "version_minor": 0
      },
      "text/plain": [
       "  0%|          | 0/1 [00:00<?, ?it/s]"
      ]
     },
     "metadata": {},
     "output_type": "display_data"
    },
    {
     "data": {
      "application/vnd.jupyter.widget-view+json": {
       "model_id": "298e6c9ab0924cf98f4768df0ade656e",
       "version_major": 2,
       "version_minor": 0
      },
      "text/plain": [
       "0it [00:00, ?it/s]"
      ]
     },
     "metadata": {},
     "output_type": "display_data"
    },
    {
     "data": {
      "application/vnd.jupyter.widget-view+json": {
       "model_id": "9ae447bd8f71447588cf5626464b6f19",
       "version_major": 2,
       "version_minor": 0
      },
      "text/plain": [
       "  0%|          | 0/1 [00:00<?, ?it/s]"
      ]
     },
     "metadata": {},
     "output_type": "display_data"
    },
    {
     "data": {
      "application/vnd.jupyter.widget-view+json": {
       "model_id": "d2009980ceb546f2aeffa4cf66ae292d",
       "version_major": 2,
       "version_minor": 0
      },
      "text/plain": [
       "0it [00:00, ?it/s]"
      ]
     },
     "metadata": {},
     "output_type": "display_data"
    },
    {
     "data": {
      "application/vnd.jupyter.widget-view+json": {
       "model_id": "6a352af0232045e8ab5f58e957144040",
       "version_major": 2,
       "version_minor": 0
      },
      "text/plain": [
       "0it [00:00, ?it/s]"
      ]
     },
     "metadata": {},
     "output_type": "display_data"
    },
    {
     "data": {
      "application/vnd.jupyter.widget-view+json": {
       "model_id": "81317bf6711b4dad9929884ac88d21c0",
       "version_major": 2,
       "version_minor": 0
      },
      "text/plain": [
       "  0%|          | 0/1 [00:00<?, ?it/s]"
      ]
     },
     "metadata": {},
     "output_type": "display_data"
    },
    {
     "data": {
      "application/vnd.jupyter.widget-view+json": {
       "model_id": "69a5a9399b094020be56d5274d965eda",
       "version_major": 2,
       "version_minor": 0
      },
      "text/plain": [
       "  0%|          | 0/1 [00:00<?, ?it/s]"
      ]
     },
     "metadata": {},
     "output_type": "display_data"
    },
    {
     "data": {
      "application/vnd.jupyter.widget-view+json": {
       "model_id": "72bd3b7b1ee7465a9d766d03d7188f3d",
       "version_major": 2,
       "version_minor": 0
      },
      "text/plain": [
       "0it [00:00, ?it/s]"
      ]
     },
     "metadata": {},
     "output_type": "display_data"
    },
    {
     "data": {
      "application/vnd.jupyter.widget-view+json": {
       "model_id": "32fd489874f64148bcb000216c3f6337",
       "version_major": 2,
       "version_minor": 0
      },
      "text/plain": [
       "  0%|          | 0/1 [00:00<?, ?it/s]"
      ]
     },
     "metadata": {},
     "output_type": "display_data"
    },
    {
     "data": {
      "application/vnd.jupyter.widget-view+json": {
       "model_id": "b198a81827a2456cafc1f0ef42853969",
       "version_major": 2,
       "version_minor": 0
      },
      "text/plain": [
       "0it [00:00, ?it/s]"
      ]
     },
     "metadata": {},
     "output_type": "display_data"
    },
    {
     "data": {
      "application/vnd.jupyter.widget-view+json": {
       "model_id": "4b5390283a284bd1acd512528ad7d22c",
       "version_major": 2,
       "version_minor": 0
      },
      "text/plain": [
       "0it [00:00, ?it/s]"
      ]
     },
     "metadata": {},
     "output_type": "display_data"
    },
    {
     "data": {
      "application/vnd.jupyter.widget-view+json": {
       "model_id": "66463615be224c82af6e84c71465eba4",
       "version_major": 2,
       "version_minor": 0
      },
      "text/plain": [
       "0it [00:00, ?it/s]"
      ]
     },
     "metadata": {},
     "output_type": "display_data"
    },
    {
     "data": {
      "application/vnd.jupyter.widget-view+json": {
       "model_id": "e7e9b592c8324606a5687bc12eb49de9",
       "version_major": 2,
       "version_minor": 0
      },
      "text/plain": [
       "0it [00:00, ?it/s]"
      ]
     },
     "metadata": {},
     "output_type": "display_data"
    },
    {
     "data": {
      "application/vnd.jupyter.widget-view+json": {
       "model_id": "77f37b53efef4eea9637d8773e281b3c",
       "version_major": 2,
       "version_minor": 0
      },
      "text/plain": [
       "0it [00:00, ?it/s]"
      ]
     },
     "metadata": {},
     "output_type": "display_data"
    },
    {
     "data": {
      "application/vnd.jupyter.widget-view+json": {
       "model_id": "73baf6384a9d49ca810dfcfb3135c4ea",
       "version_major": 2,
       "version_minor": 0
      },
      "text/plain": [
       "0it [00:00, ?it/s]"
      ]
     },
     "metadata": {},
     "output_type": "display_data"
    },
    {
     "data": {
      "application/vnd.jupyter.widget-view+json": {
       "model_id": "801e2414bf8848e5a5260793d7fc96d0",
       "version_major": 2,
       "version_minor": 0
      },
      "text/plain": [
       "0it [00:00, ?it/s]"
      ]
     },
     "metadata": {},
     "output_type": "display_data"
    },
    {
     "data": {
      "application/vnd.jupyter.widget-view+json": {
       "model_id": "74b9c943aa2a44929d0abe67761da2b1",
       "version_major": 2,
       "version_minor": 0
      },
      "text/plain": [
       "0it [00:00, ?it/s]"
      ]
     },
     "metadata": {},
     "output_type": "display_data"
    },
    {
     "data": {
      "application/vnd.jupyter.widget-view+json": {
       "model_id": "89ad827642ec4d09a0e1ace2f931b78e",
       "version_major": 2,
       "version_minor": 0
      },
      "text/plain": [
       "  0%|          | 0/1 [00:00<?, ?it/s]"
      ]
     },
     "metadata": {},
     "output_type": "display_data"
    },
    {
     "data": {
      "application/vnd.jupyter.widget-view+json": {
       "model_id": "ac048500520146d69883809b0ba6c643",
       "version_major": 2,
       "version_minor": 0
      },
      "text/plain": [
       "0it [00:00, ?it/s]"
      ]
     },
     "metadata": {},
     "output_type": "display_data"
    },
    {
     "data": {
      "application/vnd.jupyter.widget-view+json": {
       "model_id": "c33c594a59c345a986ccd6524db69566",
       "version_major": 2,
       "version_minor": 0
      },
      "text/plain": [
       "0it [00:00, ?it/s]"
      ]
     },
     "metadata": {},
     "output_type": "display_data"
    },
    {
     "data": {
      "application/vnd.jupyter.widget-view+json": {
       "model_id": "9ff6dad3a5c7417281150b88c63d7a4c",
       "version_major": 2,
       "version_minor": 0
      },
      "text/plain": [
       "  0%|          | 0/1 [00:00<?, ?it/s]"
      ]
     },
     "metadata": {},
     "output_type": "display_data"
    },
    {
     "data": {
      "application/vnd.jupyter.widget-view+json": {
       "model_id": "3d2bd54d4291445fbbc613f1661066fc",
       "version_major": 2,
       "version_minor": 0
      },
      "text/plain": [
       "  0%|          | 0/1 [00:00<?, ?it/s]"
      ]
     },
     "metadata": {},
     "output_type": "display_data"
    },
    {
     "data": {
      "application/vnd.jupyter.widget-view+json": {
       "model_id": "7ea2b649c0524de09e0a9d3af9c9f555",
       "version_major": 2,
       "version_minor": 0
      },
      "text/plain": [
       "0it [00:00, ?it/s]"
      ]
     },
     "metadata": {},
     "output_type": "display_data"
    },
    {
     "data": {
      "application/vnd.jupyter.widget-view+json": {
       "model_id": "0bfd6ece9fcc4d31b5274c7b71c78aa3",
       "version_major": 2,
       "version_minor": 0
      },
      "text/plain": [
       "  0%|          | 0/1 [00:00<?, ?it/s]"
      ]
     },
     "metadata": {},
     "output_type": "display_data"
    },
    {
     "data": {
      "application/vnd.jupyter.widget-view+json": {
       "model_id": "b4f86c9f78a3476a9481741a638bbfa9",
       "version_major": 2,
       "version_minor": 0
      },
      "text/plain": [
       "  0%|          | 0/1 [00:00<?, ?it/s]"
      ]
     },
     "metadata": {},
     "output_type": "display_data"
    },
    {
     "data": {
      "application/vnd.jupyter.widget-view+json": {
       "model_id": "adba4860e82c497aaa4c318b3416d230",
       "version_major": 2,
       "version_minor": 0
      },
      "text/plain": [
       "  0%|          | 0/1 [00:00<?, ?it/s]"
      ]
     },
     "metadata": {},
     "output_type": "display_data"
    },
    {
     "data": {
      "application/vnd.jupyter.widget-view+json": {
       "model_id": "8c5f3491b1eb4960b36fc7b61d5d59ae",
       "version_major": 2,
       "version_minor": 0
      },
      "text/plain": [
       "0it [00:00, ?it/s]"
      ]
     },
     "metadata": {},
     "output_type": "display_data"
    },
    {
     "data": {
      "application/vnd.jupyter.widget-view+json": {
       "model_id": "39cbbb0ff0dd496ea02c4d58a3a230e3",
       "version_major": 2,
       "version_minor": 0
      },
      "text/plain": [
       "  0%|          | 0/1 [00:00<?, ?it/s]"
      ]
     },
     "metadata": {},
     "output_type": "display_data"
    },
    {
     "data": {
      "application/vnd.jupyter.widget-view+json": {
       "model_id": "37642edfd06e4c4791e16db18958d87e",
       "version_major": 2,
       "version_minor": 0
      },
      "text/plain": [
       "  0%|          | 0/1 [00:00<?, ?it/s]"
      ]
     },
     "metadata": {},
     "output_type": "display_data"
    },
    {
     "data": {
      "application/vnd.jupyter.widget-view+json": {
       "model_id": "94bfdaee11104bf69075a962899c448a",
       "version_major": 2,
       "version_minor": 0
      },
      "text/plain": [
       "0it [00:00, ?it/s]"
      ]
     },
     "metadata": {},
     "output_type": "display_data"
    },
    {
     "data": {
      "application/vnd.jupyter.widget-view+json": {
       "model_id": "09a9bb8fae1149308d943730a2c501e9",
       "version_major": 2,
       "version_minor": 0
      },
      "text/plain": [
       "  0%|          | 0/1 [00:00<?, ?it/s]"
      ]
     },
     "metadata": {},
     "output_type": "display_data"
    },
    {
     "data": {
      "application/vnd.jupyter.widget-view+json": {
       "model_id": "b4ac405bcbf54a22b335077bc343b980",
       "version_major": 2,
       "version_minor": 0
      },
      "text/plain": [
       "0it [00:00, ?it/s]"
      ]
     },
     "metadata": {},
     "output_type": "display_data"
    },
    {
     "data": {
      "application/vnd.jupyter.widget-view+json": {
       "model_id": "28ec373b5ab8409ea71467ae32f78b23",
       "version_major": 2,
       "version_minor": 0
      },
      "text/plain": [
       "0it [00:00, ?it/s]"
      ]
     },
     "metadata": {},
     "output_type": "display_data"
    },
    {
     "data": {
      "application/vnd.jupyter.widget-view+json": {
       "model_id": "ef5f76b22f20480e9316dfeb5d8f4c8f",
       "version_major": 2,
       "version_minor": 0
      },
      "text/plain": [
       "0it [00:00, ?it/s]"
      ]
     },
     "metadata": {},
     "output_type": "display_data"
    },
    {
     "data": {
      "application/vnd.jupyter.widget-view+json": {
       "model_id": "375e4d31e0634f4783ff908fd429a7b0",
       "version_major": 2,
       "version_minor": 0
      },
      "text/plain": [
       "0it [00:00, ?it/s]"
      ]
     },
     "metadata": {},
     "output_type": "display_data"
    },
    {
     "data": {
      "application/vnd.jupyter.widget-view+json": {
       "model_id": "d63c44bc47304afeb9fe4dd66d3addf6",
       "version_major": 2,
       "version_minor": 0
      },
      "text/plain": [
       "  0%|          | 0/1 [00:00<?, ?it/s]"
      ]
     },
     "metadata": {},
     "output_type": "display_data"
    },
    {
     "data": {
      "application/vnd.jupyter.widget-view+json": {
       "model_id": "053d7c284d7443c6ba7c3e4f5c9204b3",
       "version_major": 2,
       "version_minor": 0
      },
      "text/plain": [
       "0it [00:00, ?it/s]"
      ]
     },
     "metadata": {},
     "output_type": "display_data"
    },
    {
     "data": {
      "application/vnd.jupyter.widget-view+json": {
       "model_id": "2dd6fae3df494fd3b88a587fc0ee0fca",
       "version_major": 2,
       "version_minor": 0
      },
      "text/plain": [
       "  0%|          | 0/1 [00:00<?, ?it/s]"
      ]
     },
     "metadata": {},
     "output_type": "display_data"
    },
    {
     "data": {
      "application/vnd.jupyter.widget-view+json": {
       "model_id": "28e027117fb7426d826615f43a2547f9",
       "version_major": 2,
       "version_minor": 0
      },
      "text/plain": [
       "0it [00:00, ?it/s]"
      ]
     },
     "metadata": {},
     "output_type": "display_data"
    },
    {
     "data": {
      "application/vnd.jupyter.widget-view+json": {
       "model_id": "94ea7c234a624011b224a0396b3b23fe",
       "version_major": 2,
       "version_minor": 0
      },
      "text/plain": [
       "0it [00:00, ?it/s]"
      ]
     },
     "metadata": {},
     "output_type": "display_data"
    },
    {
     "data": {
      "application/vnd.jupyter.widget-view+json": {
       "model_id": "07cbe9e00f774d4282b065631b6f8923",
       "version_major": 2,
       "version_minor": 0
      },
      "text/plain": [
       "  0%|          | 0/1 [00:00<?, ?it/s]"
      ]
     },
     "metadata": {},
     "output_type": "display_data"
    },
    {
     "data": {
      "application/vnd.jupyter.widget-view+json": {
       "model_id": "5ec4ffac2f1348138c93a134298032f9",
       "version_major": 2,
       "version_minor": 0
      },
      "text/plain": [
       "0it [00:00, ?it/s]"
      ]
     },
     "metadata": {},
     "output_type": "display_data"
    },
    {
     "data": {
      "application/vnd.jupyter.widget-view+json": {
       "model_id": "0f4b816efcc34b01a8388388fa52c26f",
       "version_major": 2,
       "version_minor": 0
      },
      "text/plain": [
       "0it [00:00, ?it/s]"
      ]
     },
     "metadata": {},
     "output_type": "display_data"
    },
    {
     "data": {
      "application/vnd.jupyter.widget-view+json": {
       "model_id": "407428bd83394412940f0575f9a2c0ad",
       "version_major": 2,
       "version_minor": 0
      },
      "text/plain": [
       "0it [00:00, ?it/s]"
      ]
     },
     "metadata": {},
     "output_type": "display_data"
    },
    {
     "data": {
      "application/vnd.jupyter.widget-view+json": {
       "model_id": "72bf75060d514b40ace2308fce086e6f",
       "version_major": 2,
       "version_minor": 0
      },
      "text/plain": [
       "0it [00:00, ?it/s]"
      ]
     },
     "metadata": {},
     "output_type": "display_data"
    },
    {
     "data": {
      "application/vnd.jupyter.widget-view+json": {
       "model_id": "c49bcc3c8a514597bab043fd7bf796a4",
       "version_major": 2,
       "version_minor": 0
      },
      "text/plain": [
       "  0%|          | 0/1 [00:00<?, ?it/s]"
      ]
     },
     "metadata": {},
     "output_type": "display_data"
    },
    {
     "data": {
      "application/vnd.jupyter.widget-view+json": {
       "model_id": "4c4d09ada2c841938adf168d85a239b5",
       "version_major": 2,
       "version_minor": 0
      },
      "text/plain": [
       "0it [00:00, ?it/s]"
      ]
     },
     "metadata": {},
     "output_type": "display_data"
    },
    {
     "data": {
      "application/vnd.jupyter.widget-view+json": {
       "model_id": "f7c86c12a8c040c9b15de65abdeb1fc7",
       "version_major": 2,
       "version_minor": 0
      },
      "text/plain": [
       "0it [00:00, ?it/s]"
      ]
     },
     "metadata": {},
     "output_type": "display_data"
    },
    {
     "data": {
      "application/vnd.jupyter.widget-view+json": {
       "model_id": "314c943cd44e4c8ea380fa451e45bb29",
       "version_major": 2,
       "version_minor": 0
      },
      "text/plain": [
       "0it [00:00, ?it/s]"
      ]
     },
     "metadata": {},
     "output_type": "display_data"
    },
    {
     "data": {
      "application/vnd.jupyter.widget-view+json": {
       "model_id": "e97d78e555704ea6bf5449a3991bc3d2",
       "version_major": 2,
       "version_minor": 0
      },
      "text/plain": [
       "0it [00:00, ?it/s]"
      ]
     },
     "metadata": {},
     "output_type": "display_data"
    },
    {
     "data": {
      "application/vnd.jupyter.widget-view+json": {
       "model_id": "821c836b76034d5db407fb5375416064",
       "version_major": 2,
       "version_minor": 0
      },
      "text/plain": [
       "0it [00:00, ?it/s]"
      ]
     },
     "metadata": {},
     "output_type": "display_data"
    }
   ],
   "source": [
    "results = []\n",
    "for brand_id in tqdm(scat_attr.loc['BRAND', 'id'].values):\n",
    "    ranges = get_year_ranges_for_brand(brand_id)\n",
    "    for years in tqdm(ranges, leave=False):\n",
    "        results = search(filter=[{'name':'BRAND', 'value': brand_id}, {'name':'VEHICLE_YEAR', 'value': ranges}], results = results)"
   ]
  },
  {
   "cell_type": "code",
   "execution_count": 60,
   "metadata": {},
   "outputs": [],
   "source": [
    "def results2df(results):\n",
    "    skip = ['prices','shipping','seller_contact','location','seller','melicoin','original_price','installments',\n",
    "            'sale_price', 'discounts','melicoin', 'offer_score','offer_share', 'match_score', 'winner_item_id','sellercar_dealer_logo',\n",
    "            'sellerhome_image_url']\n",
    "    df = pd.DataFrame()\n",
    "    results_pp = []\n",
    "    for x in tqdm(results):\n",
    "        temp = {k: v for k,v in x.items() if k not in skip}\n",
    "        for a in x['attributes']:\n",
    "            temp[a['name']] = a['value_name']\n",
    "        for k,v in x['address'].items():\n",
    "            temp[f'adress{k}'] = v \n",
    "        results_pp.append(temp)\n",
    "\n",
    "    df = pd.DataFrame(results_pp)\n",
    "    return df"
   ]
  },
  {
   "cell_type": "code",
   "execution_count": 58,
   "metadata": {},
   "outputs": [],
   "source": [
    "skip = ['prices','shipping','seller_contact','location','seller','melicoin','original_price','installments',\n",
    "            'sale_price', 'discounts','melicoin', 'offer_score','offer_share', 'match_score', 'winner_item_id','sellercar_dealer_logo',\n",
    "            'sellerhome_image_url']\n",
    "\n",
    "for k,v in results[1]['address'].items():\n",
    "            {k: v for k,v in results[1]['address'].items() if k not in skip}[f'address{k}'] = v "
   ]
  },
  {
   "cell_type": "code",
   "execution_count": 53,
   "metadata": {},
   "outputs": [
    {
     "data": {
      "text/plain": [
       "dict_items([('state_id', 'TUxBUFpPTmFpbnRl'), ('state_name', 'Buenos Aires Interior'), ('city_id', 'TUxBQ0xJTjU4Njg'), ('city_name', 'Lincoln'), ('area_code', ''), ('phone1', '')])"
      ]
     },
     "execution_count": 53,
     "metadata": {},
     "output_type": "execute_result"
    }
   ],
   "source": [
    "results[1]['address'].items()"
   ]
  },
  {
   "cell_type": "code",
   "execution_count": 61,
   "metadata": {},
   "outputs": [
    {
     "data": {
      "application/vnd.jupyter.widget-view+json": {
       "model_id": "680a5e631b004b709f29e035475f14b8",
       "version_major": 2,
       "version_minor": 0
      },
      "text/plain": [
       "  0%|          | 0/20797 [00:00<?, ?it/s]"
      ]
     },
     "metadata": {},
     "output_type": "display_data"
    },
    {
     "data": {
      "text/html": [
       "<div>\n",
       "<style scoped>\n",
       "    .dataframe tbody tr th:only-of-type {\n",
       "        vertical-align: middle;\n",
       "    }\n",
       "\n",
       "    .dataframe tbody tr th {\n",
       "        vertical-align: top;\n",
       "    }\n",
       "\n",
       "    .dataframe thead th {\n",
       "        text-align: right;\n",
       "    }\n",
       "</style>\n",
       "<table border=\"1\" class=\"dataframe\">\n",
       "  <thead>\n",
       "    <tr style=\"text-align: right;\">\n",
       "      <th></th>\n",
       "      <th>id</th>\n",
       "      <th>site_id</th>\n",
       "      <th>title</th>\n",
       "      <th>price</th>\n",
       "      <th>currency_id</th>\n",
       "      <th>available_quantity</th>\n",
       "      <th>sold_quantity</th>\n",
       "      <th>buying_mode</th>\n",
       "      <th>listing_type_id</th>\n",
       "      <th>stop_time</th>\n",
       "      <th>...</th>\n",
       "      <th>Transmisión</th>\n",
       "      <th>Aire acondicionado</th>\n",
       "      <th>Cilindrada</th>\n",
       "      <th>Largo</th>\n",
       "      <th>Capacidad de personas</th>\n",
       "      <th>Potencia</th>\n",
       "      <th>Línea</th>\n",
       "      <th>Cilindros</th>\n",
       "      <th>Horas de uso</th>\n",
       "      <th>Power trim</th>\n",
       "    </tr>\n",
       "  </thead>\n",
       "  <tbody>\n",
       "    <tr>\n",
       "      <th>0</th>\n",
       "      <td>MLA903884830</td>\n",
       "      <td>MLA</td>\n",
       "      <td>Bmw X5 3.0 Manual 3.0 Manual Tomo Permuta</td>\n",
       "      <td>2850000</td>\n",
       "      <td>ARS</td>\n",
       "      <td>1</td>\n",
       "      <td>0</td>\n",
       "      <td>classified</td>\n",
       "      <td>silver</td>\n",
       "      <td>2022-05-10T08:15:48.000Z</td>\n",
       "      <td>...</td>\n",
       "      <td>NaN</td>\n",
       "      <td>NaN</td>\n",
       "      <td>NaN</td>\n",
       "      <td>NaN</td>\n",
       "      <td>NaN</td>\n",
       "      <td>NaN</td>\n",
       "      <td>NaN</td>\n",
       "      <td>NaN</td>\n",
       "      <td>NaN</td>\n",
       "      <td>NaN</td>\n",
       "    </tr>\n",
       "    <tr>\n",
       "      <th>1</th>\n",
       "      <td>MLA932476572</td>\n",
       "      <td>MLA</td>\n",
       "      <td>Agrale Marruá Am150 Cd</td>\n",
       "      <td>4000000</td>\n",
       "      <td>ARS</td>\n",
       "      <td>1</td>\n",
       "      <td>0</td>\n",
       "      <td>classified</td>\n",
       "      <td>silver</td>\n",
       "      <td>2022-06-20T03:15:16.000Z</td>\n",
       "      <td>...</td>\n",
       "      <td>Manual</td>\n",
       "      <td>NaN</td>\n",
       "      <td>NaN</td>\n",
       "      <td>NaN</td>\n",
       "      <td>NaN</td>\n",
       "      <td>NaN</td>\n",
       "      <td>NaN</td>\n",
       "      <td>NaN</td>\n",
       "      <td>NaN</td>\n",
       "      <td>NaN</td>\n",
       "    </tr>\n",
       "    <tr>\n",
       "      <th>2</th>\n",
       "      <td>MLA1121119730</td>\n",
       "      <td>MLA</td>\n",
       "      <td>Alfa Romeo Giullieta 1.4 T Distinctive At 2016...</td>\n",
       "      <td>3700000</td>\n",
       "      <td>ARS</td>\n",
       "      <td>1</td>\n",
       "      <td>0</td>\n",
       "      <td>classified</td>\n",
       "      <td>gold_premium</td>\n",
       "      <td>2022-06-20T00:15:56.000Z</td>\n",
       "      <td>...</td>\n",
       "      <td>Automática</td>\n",
       "      <td>Sí</td>\n",
       "      <td>1368 cc</td>\n",
       "      <td>4351 mm</td>\n",
       "      <td>5</td>\n",
       "      <td>170 hp</td>\n",
       "      <td>NaN</td>\n",
       "      <td>NaN</td>\n",
       "      <td>NaN</td>\n",
       "      <td>NaN</td>\n",
       "    </tr>\n",
       "    <tr>\n",
       "      <th>3</th>\n",
       "      <td>MLA1127687379</td>\n",
       "      <td>MLA</td>\n",
       "      <td>Alfa Romeo Mito 1.4 Tbi Quadrifoglio Verde 2012</td>\n",
       "      <td>2940000</td>\n",
       "      <td>ARS</td>\n",
       "      <td>1</td>\n",
       "      <td>0</td>\n",
       "      <td>classified</td>\n",
       "      <td>gold_premium</td>\n",
       "      <td>2022-05-15T18:15:52.000Z</td>\n",
       "      <td>...</td>\n",
       "      <td>Automática</td>\n",
       "      <td>Sí</td>\n",
       "      <td>1368 cc</td>\n",
       "      <td>4065 mm</td>\n",
       "      <td>5</td>\n",
       "      <td>170 hp</td>\n",
       "      <td>NaN</td>\n",
       "      <td>NaN</td>\n",
       "      <td>NaN</td>\n",
       "      <td>NaN</td>\n",
       "    </tr>\n",
       "    <tr>\n",
       "      <th>4</th>\n",
       "      <td>MLA1133258609</td>\n",
       "      <td>MLA</td>\n",
       "      <td>Alfa Romeo Giulietta 1.4t Distinctive Mt 2013-...</td>\n",
       "      <td>2600000</td>\n",
       "      <td>ARS</td>\n",
       "      <td>1</td>\n",
       "      <td>0</td>\n",
       "      <td>classified</td>\n",
       "      <td>gold_premium</td>\n",
       "      <td>2022-05-30T04:00:00.000Z</td>\n",
       "      <td>...</td>\n",
       "      <td>Manual</td>\n",
       "      <td>Sí</td>\n",
       "      <td>1368 cc</td>\n",
       "      <td>4351 mm</td>\n",
       "      <td>5</td>\n",
       "      <td>170 hp</td>\n",
       "      <td>NaN</td>\n",
       "      <td>NaN</td>\n",
       "      <td>NaN</td>\n",
       "      <td>NaN</td>\n",
       "    </tr>\n",
       "  </tbody>\n",
       "</table>\n",
       "<p>5 rows × 52 columns</p>\n",
       "</div>"
      ],
      "text/plain": [
       "              id site_id                                              title  \\\n",
       "0   MLA903884830     MLA          Bmw X5 3.0 Manual 3.0 Manual Tomo Permuta   \n",
       "1   MLA932476572     MLA                             Agrale Marruá Am150 Cd   \n",
       "2  MLA1121119730     MLA  Alfa Romeo Giullieta 1.4 T Distinctive At 2016...   \n",
       "3  MLA1127687379     MLA    Alfa Romeo Mito 1.4 Tbi Quadrifoglio Verde 2012   \n",
       "4  MLA1133258609     MLA  Alfa Romeo Giulietta 1.4t Distinctive Mt 2013-...   \n",
       "\n",
       "     price currency_id  available_quantity  sold_quantity buying_mode  \\\n",
       "0  2850000         ARS                   1              0  classified   \n",
       "1  4000000         ARS                   1              0  classified   \n",
       "2  3700000         ARS                   1              0  classified   \n",
       "3  2940000         ARS                   1              0  classified   \n",
       "4  2600000         ARS                   1              0  classified   \n",
       "\n",
       "  listing_type_id                 stop_time  ... Transmisión  \\\n",
       "0          silver  2022-05-10T08:15:48.000Z  ...         NaN   \n",
       "1          silver  2022-06-20T03:15:16.000Z  ...      Manual   \n",
       "2    gold_premium  2022-06-20T00:15:56.000Z  ...  Automática   \n",
       "3    gold_premium  2022-05-15T18:15:52.000Z  ...  Automática   \n",
       "4    gold_premium  2022-05-30T04:00:00.000Z  ...      Manual   \n",
       "\n",
       "  Aire acondicionado Cilindrada    Largo  Capacidad de personas Potencia  \\\n",
       "0                NaN        NaN      NaN                    NaN      NaN   \n",
       "1                NaN        NaN      NaN                    NaN      NaN   \n",
       "2                 Sí    1368 cc  4351 mm                      5   170 hp   \n",
       "3                 Sí    1368 cc  4065 mm                      5   170 hp   \n",
       "4                 Sí    1368 cc  4351 mm                      5   170 hp   \n",
       "\n",
       "  Línea Cilindros Horas de uso  Power trim  \n",
       "0   NaN       NaN          NaN         NaN  \n",
       "1   NaN       NaN          NaN         NaN  \n",
       "2   NaN       NaN          NaN         NaN  \n",
       "3   NaN       NaN          NaN         NaN  \n",
       "4   NaN       NaN          NaN         NaN  \n",
       "\n",
       "[5 rows x 52 columns]"
      ]
     },
     "execution_count": 61,
     "metadata": {},
     "output_type": "execute_result"
    }
   ],
   "source": [
    "df = results2df(results)\n",
    "df.head()"
   ]
  },
  {
   "cell_type": "code",
   "execution_count": null,
   "metadata": {},
   "outputs": [],
   "source": [
    "#df = pd.DataFrame(results)\n",
    "#df.to_excel('resultados.xlsx', index=False)"
   ]
  },
  {
   "cell_type": "code",
   "execution_count": 62,
   "metadata": {},
   "outputs": [
    {
     "name": "stdout",
     "output_type": "stream",
     "text": [
      "id\n",
      "site_id\n",
      "title\n",
      "price\n",
      "currency_id\n",
      "available_quantity\n",
      "sold_quantity\n",
      "buying_mode\n",
      "listing_type_id\n",
      "stop_time\n",
      "condition\n",
      "permalink\n",
      "thumbnail\n",
      "thumbnail_id\n",
      "accepts_mercadopago\n",
      "address\n",
      "seller_address\n",
      "attributes\n",
      "category_id\n",
      "official_store_id\n",
      "domain_id\n",
      "catalog_product_id\n",
      "tags\n",
      "order_backend\n",
      "use_thumbnail_id\n",
      "Condición del ítem\n",
      "Marca\n",
      "Puertas\n",
      "Tipo de combustible\n",
      "Kilómetros\n",
      "Modelo\n",
      "Versión\n",
      "Año\n",
      "adressstate_id\n",
      "adressstate_name\n",
      "adresscity_id\n",
      "adresscity_name\n",
      "adressarea_code\n",
      "adressphone1\n",
      "Único dueño\n",
      "Control de tracción\n",
      "Motor\n",
      "Transmisión\n",
      "Aire acondicionado\n",
      "Cilindrada\n",
      "Largo\n",
      "Capacidad de personas\n",
      "Potencia\n",
      "Línea\n",
      "Cilindros\n",
      "Horas de uso\n",
      "Power trim\n"
     ]
    }
   ],
   "source": [
    "for col in df.columns:\n",
    "    print(col)"
   ]
  },
  {
   "cell_type": "code",
   "execution_count": 64,
   "metadata": {},
   "outputs": [
    {
     "data": {
      "text/plain": [
       "(20797, 52)"
      ]
     },
     "execution_count": 64,
     "metadata": {},
     "output_type": "execute_result"
    }
   ],
   "source": [
    "df.shape"
   ]
  },
  {
   "cell_type": "code",
   "execution_count": 63,
   "metadata": {},
   "outputs": [
    {
     "name": "stdout",
     "output_type": "stream",
     "text": [
      "<class 'pandas.core.frame.DataFrame'>\n",
      "RangeIndex: 20797 entries, 0 to 20796\n",
      "Data columns (total 52 columns):\n",
      " #   Column                 Non-Null Count  Dtype  \n",
      "---  ------                 --------------  -----  \n",
      " 0   id                     20797 non-null  object \n",
      " 1   site_id                20797 non-null  object \n",
      " 2   title                  20797 non-null  object \n",
      " 3   price                  20797 non-null  int64  \n",
      " 4   currency_id            20797 non-null  object \n",
      " 5   available_quantity     20797 non-null  int64  \n",
      " 6   sold_quantity          20797 non-null  int64  \n",
      " 7   buying_mode            20797 non-null  object \n",
      " 8   listing_type_id        20797 non-null  object \n",
      " 9   stop_time              20797 non-null  object \n",
      " 10  condition              20797 non-null  object \n",
      " 11  permalink              20797 non-null  object \n",
      " 12  thumbnail              20797 non-null  object \n",
      " 13  thumbnail_id           20797 non-null  object \n",
      " 14  accepts_mercadopago    20797 non-null  bool   \n",
      " 15  address                20797 non-null  object \n",
      " 16  seller_address         20797 non-null  object \n",
      " 17  attributes             20797 non-null  object \n",
      " 18  category_id            20797 non-null  object \n",
      " 19  official_store_id      3422 non-null   float64\n",
      " 20  domain_id              20797 non-null  object \n",
      " 21  catalog_product_id     18216 non-null  object \n",
      " 22  tags                   20797 non-null  object \n",
      " 23  order_backend          20797 non-null  int64  \n",
      " 24  use_thumbnail_id       20797 non-null  bool   \n",
      " 25  Condición del ítem     20797 non-null  object \n",
      " 26  Marca                  20797 non-null  object \n",
      " 27  Puertas                20797 non-null  object \n",
      " 28  Tipo de combustible    20797 non-null  object \n",
      " 29  Kilómetros             20797 non-null  object \n",
      " 30  Modelo                 20797 non-null  object \n",
      " 31  Versión                20797 non-null  object \n",
      " 32  Año                    20797 non-null  object \n",
      " 33  adressstate_id         20797 non-null  object \n",
      " 34  adressstate_name       20797 non-null  object \n",
      " 35  adresscity_id          20797 non-null  object \n",
      " 36  adresscity_name        20797 non-null  object \n",
      " 37  adressarea_code        20797 non-null  object \n",
      " 38  adressphone1           20797 non-null  object \n",
      " 39  Único dueño            6676 non-null   object \n",
      " 40  Control de tracción    19351 non-null  object \n",
      " 41  Motor                  19460 non-null  object \n",
      " 42  Transmisión            19642 non-null  object \n",
      " 43  Aire acondicionado     12069 non-null  object \n",
      " 44  Cilindrada             17780 non-null  object \n",
      " 45  Largo                  17780 non-null  object \n",
      " 46  Capacidad de personas  17975 non-null  object \n",
      " 47  Potencia               17780 non-null  object \n",
      " 48  Línea                  535 non-null    object \n",
      " 49  Cilindros              6 non-null      object \n",
      " 50  Horas de uso           1 non-null      object \n",
      " 51  Power trim             1 non-null      object \n",
      "dtypes: bool(2), float64(1), int64(4), object(45)\n",
      "memory usage: 8.0+ MB\n"
     ]
    }
   ],
   "source": [
    "df.info()\n"
   ]
  },
  {
   "cell_type": "code",
   "execution_count": 68,
   "metadata": {},
   "outputs": [
    {
     "data": {
      "text/plain": [
       "id                           0\n",
       "order_backend                0\n",
       "use_thumbnail_id             0\n",
       "Marca                        0\n",
       "Puertas                      0\n",
       "Tipo de combustible          0\n",
       "Kilómetros                   0\n",
       "Modelo                       0\n",
       "Versión                      0\n",
       "Año                          0\n",
       "adressstate_id               0\n",
       "adressstate_name             0\n",
       "adresscity_id                0\n",
       "adresscity_name              0\n",
       "adressarea_code              0\n",
       "adressphone1                 0\n",
       "tags                         0\n",
       "domain_id                    0\n",
       "Condición del ítem           0\n",
       "currency_id                  0\n",
       "site_id                      0\n",
       "title                        0\n",
       "price                        0\n",
       "category_id                  0\n",
       "available_quantity           0\n",
       "sold_quantity                0\n",
       "listing_type_id              0\n",
       "stop_time                    0\n",
       "condition                    0\n",
       "buying_mode                  0\n",
       "thumbnail                    0\n",
       "permalink                    0\n",
       "seller_address               0\n",
       "address                      0\n",
       "attributes                   0\n",
       "thumbnail_id                 0\n",
       "accepts_mercadopago          0\n",
       "Transmisión               1155\n",
       "Motor                     1337\n",
       "Control de tracción       1446\n",
       "catalog_product_id        2581\n",
       "Capacidad de personas     2822\n",
       "Potencia                  3017\n",
       "Largo                     3017\n",
       "Cilindrada                3017\n",
       "Aire acondicionado        8728\n",
       "Único dueño              14121\n",
       "official_store_id        17375\n",
       "Línea                    20262\n",
       "Cilindros                20791\n",
       "Horas de uso             20796\n",
       "Power trim               20796\n",
       "dtype: int64"
      ]
     },
     "execution_count": 68,
     "metadata": {},
     "output_type": "execute_result"
    }
   ],
   "source": [
    "df.isna().sum().sort_values()"
   ]
  },
  {
   "cell_type": "code",
   "execution_count": 70,
   "metadata": {},
   "outputs": [],
   "source": [
    "df.to_excel('data_api.xlsx', index=False)"
   ]
  }
 ],
 "metadata": {
  "interpreter": {
   "hash": "e3e9a750fc05e5a08aac5c7f68a373d320e024e5143e44a9c92a2cb2852add95"
  },
  "kernelspec": {
   "display_name": "Python 3.9.7 ('base')",
   "language": "python",
   "name": "python3"
  },
  "language_info": {
   "codemirror_mode": {
    "name": "ipython",
    "version": 3
   },
   "file_extension": ".py",
   "mimetype": "text/x-python",
   "name": "python",
   "nbconvert_exporter": "python",
   "pygments_lexer": "ipython3",
   "version": "3.9.7"
  },
  "orig_nbformat": 4
 },
 "nbformat": 4,
 "nbformat_minor": 2
}
