{
 "cells": [
  {
   "cell_type": "markdown",
   "metadata": {},
   "source": [
    "Importamos librerias"
   ]
  },
  {
   "cell_type": "code",
   "execution_count": 3,
   "metadata": {},
   "outputs": [],
   "source": [
    "from sklearn.model_selection import train_test_split\n",
    "import xgboost as xgb\n",
    "from sklearn import metrics\n",
    "from sklearn.model_selection import RandomizedSearchCV\n",
    "import pandas as pd\n",
    "import matplotlib.pyplot as plt\n",
    "import numpy as np\n",
    "from sklearn.model_selection import GridSearchCV\n",
    "from matplotlib import pyplot"
   ]
  },
  {
   "cell_type": "markdown",
   "metadata": {},
   "source": [
    "Función One Hot Enconding"
   ]
  },
  {
   "cell_type": "code",
   "execution_count": 1,
   "metadata": {},
   "outputs": [],
   "source": [
    "# Archivo utilizado para crear la función de One Hot Encoding\n",
    "############################################################# \n",
    "\n",
    "# Función auxiliar: Toma un df de variables categoricas y selección el top_x de categorias\n",
    "def one_hot_top_x(cat_df, variable,top_x_labels):\n",
    "    for label in top_x_labels:\n",
    "        cat_df[str(variable)+'_'+str(label)] = np.where(cat_df[variable]==label,1,0)\n",
    "\n",
    "# Función One Hot Encoder: Toma un DF y le hace una transformación de One Hot Encoder para con las categorias más repetidas \n",
    "def one_hot_encoder(df,top_x):\n",
    "    # Separo variables categoricas de númericas\n",
    "    num_cols = df.select_dtypes(include=['float64', 'int']).columns.to_list()\n",
    "    cat_cols = df.select_dtypes(include=['object', 'category']).columns.to_list()\n",
    "    \n",
    "    # Armo un DF solo con variables categoricas\n",
    "    cat_df = df.drop(num_cols,axis=1)\n",
    "    # Armo un DF solo con variables categoricas\n",
    "    num_df = df.drop(cat_cols,axis=1)\n",
    "   \n",
    "    # Itero entre las variables categoricas y me quedo con el top 10 variables\n",
    "    for variable in cat_cols:\n",
    "        top_10 = [x for x in cat_df[variable].value_counts().sort_values(ascending=False).head(top_x).index]\n",
    "        one_hot_top_x(cat_df,variable,top_10)\n",
    "    \n",
    "    cat_df = cat_df.drop(cat_cols,axis=1)\n",
    "    df = pd.concat([cat_df,num_df], axis =1)\n",
    "    \n",
    "    return df"
   ]
  },
  {
   "cell_type": "markdown",
   "metadata": {},
   "source": [
    "Importamos datos"
   ]
  },
  {
   "cell_type": "code",
   "execution_count": 6,
   "metadata": {},
   "outputs": [
    {
     "name": "stderr",
     "output_type": "stream",
     "text": [
      "C:\\Users\\LUCIA~1.LOP\\AppData\\Local\\Temp/ipykernel_23324/187505526.py:7: PerformanceWarning: DataFrame is highly fragmented.  This is usually the result of calling `frame.insert` many times, which has poor performance.  Consider joining all columns at once using pd.concat(axis=1) instead.  To get a de-fragmented frame, use `newframe = frame.copy()`\n",
      "  cat_df[str(variable)+'_'+str(label)] = np.where(cat_df[variable]==label,1,0)\n"
     ]
    }
   ],
   "source": [
    "\n",
    "# Levantamos los datos procesados\n",
    "datos_meli = pd.read_excel('data_ready_to_model.xlsx')\n",
    "datos_meli['type'] = 'meli'\n",
    "\n",
    "# Uno los DF\n",
    "frames = [datos_meli, datos_privados]\n",
    "datos = pd.concat(frames)\n",
    "\n",
    "# Los paso por One Hot Encoder\n",
    "datos = one_hot_encoder(datos,100)\n",
    "\n",
    "# Separo los datos de Meli\n",
    "datos_meli = datos[(datos['type_meli'] == 1)] \n",
    "datos_meli = datos_meli.drop('type_meli',axis=1)"
   ]
  },
  {
   "cell_type": "markdown",
   "metadata": {},
   "source": [
    "Creamos grupos de Train & Test"
   ]
  },
  {
   "cell_type": "code",
   "execution_count": 8,
   "metadata": {},
   "outputs": [
    {
     "name": "stdout",
     "output_type": "stream",
     "text": [
      "       id_MLA1133566298  id_MLA1132845171  id_MLA1131997388  id_MLA1131488284  \\\n",
      "0                     0                 0                 0                 0   \n",
      "1                     0                 0                 0                 0   \n",
      "2                     0                 0                 0                 0   \n",
      "3                     0                 0                 0                 0   \n",
      "4                     0                 0                 0                 0   \n",
      "...                 ...               ...               ...               ...   \n",
      "20782                 0                 0                 0                 0   \n",
      "20783                 0                 0                 0                 0   \n",
      "20784                 0                 0                 0                 0   \n",
      "20785                 0                 0                 0                 0   \n",
      "20786                 0                 0                 0                 0   \n",
      "\n",
      "       id_MLA1131377170  id_MLA1132054004  id_MLA1121119730  id_MLA1127687379  \\\n",
      "0                     0                 0                 0                 0   \n",
      "1                     0                 0                 0                 0   \n",
      "2                     0                 0                 0                 0   \n",
      "3                     0                 0                 1                 0   \n",
      "4                     0                 0                 0                 1   \n",
      "...                 ...               ...               ...               ...   \n",
      "20782                 0                 0                 0                 0   \n",
      "20783                 0                 0                 0                 0   \n",
      "20784                 0                 0                 0                 0   \n",
      "20785                 0                 0                 0                 0   \n",
      "20786                 0                 0                 0                 0   \n",
      "\n",
      "       id_MLA1133258609  id_MLA1126940402  ...  Largo  Capacidad de personas  \\\n",
      "0                     0                 0  ...    NaN                    NaN   \n",
      "1                     0                 0  ...    NaN                    NaN   \n",
      "2                     0                 0  ...    NaN                    NaN   \n",
      "3                     0                 0  ...    NaN                    NaN   \n",
      "4                     0                 0  ...    NaN                    NaN   \n",
      "...                 ...               ...  ...    ...                    ...   \n",
      "20782                 0                 0  ...    NaN                    NaN   \n",
      "20783                 0                 0  ...    NaN                    NaN   \n",
      "20784                 0                 0  ...    NaN                    NaN   \n",
      "20785                 0                 0  ...    NaN                    NaN   \n",
      "20786                 0                 0  ...    NaN                    NaN   \n",
      "\n",
      "       Potencia  sellercar_dealer_logo  sellerhome_image_url  sellereshop  \\\n",
      "0           NaN                    NaN                   NaN          NaN   \n",
      "1           NaN                    NaN                   NaN          NaN   \n",
      "2           NaN                    NaN                   NaN          NaN   \n",
      "3           NaN                    NaN                   NaN          NaN   \n",
      "4           NaN                    NaN                   NaN          NaN   \n",
      "...         ...                    ...                   ...          ...   \n",
      "20782       NaN                    NaN                   NaN          NaN   \n",
      "20783       NaN                    NaN                   NaN          NaN   \n",
      "20784       NaN                    NaN                   NaN          NaN   \n",
      "20785       NaN                    NaN                   NaN          NaN   \n",
      "20786       NaN                    NaN                   NaN          NaN   \n",
      "\n",
      "       Línea  Cilindros  Horas de uso  Power trim  \n",
      "0        NaN        NaN           NaN         NaN  \n",
      "1        NaN        NaN           NaN         NaN  \n",
      "2        NaN        NaN           NaN         NaN  \n",
      "3        NaN        NaN           NaN         NaN  \n",
      "4        NaN        NaN           NaN         NaN  \n",
      "...      ...        ...           ...         ...  \n",
      "20782    NaN        NaN           NaN         NaN  \n",
      "20783    NaN        NaN           NaN         NaN  \n",
      "20784    NaN        NaN           NaN         NaN  \n",
      "20785    NaN        NaN           NaN         NaN  \n",
      "20786    NaN        NaN           NaN         NaN  \n",
      "\n",
      "[20787 rows x 1101 columns]\n"
     ]
    }
   ],
   "source": [
    "#separate the other attributes from the predicting attribute\n",
    "x = datos_meli.drop('price',axis=1)\n",
    "print(x)\n",
    "type(x)\n",
    "x = one_hot_encoder(x,100)\n",
    "\n",
    "#separte the predicting attribute into Y for model training \n",
    "y = datos_meli['price']\n",
    "\n",
    "X_train, X_test, y_train, y_test = train_test_split(x, y, test_size=0.2, random_state=123)"
   ]
  },
  {
   "cell_type": "markdown",
   "metadata": {},
   "source": [
    "Entrenamos el modelo"
   ]
  },
  {
   "cell_type": "code",
   "execution_count": 24,
   "metadata": {},
   "outputs": [
    {
     "name": "stdout",
     "output_type": "stream",
     "text": [
      "[21:15:07] WARNING: C:/Users/Administrator/workspace/xgboost-win64_release_1.5.1/src/objective/regression_obj.cu:188: reg:linear is now deprecated in favor of reg:squarederror.\n"
     ]
    },
    {
     "data": {
      "text/plain": [
       "XGBRegressor(alpha=10, base_score=0.5, booster='gbtree', colsample_bylevel=0.4,\n",
       "             colsample_bynode=1, colsample_bytree=0.7999999999999999,\n",
       "             enable_categorical=False, gamma=0, gpu_id=-1, importance_type=None,\n",
       "             interaction_constraints='', learning_rate=0.1, max_delta_step=0,\n",
       "             max_depth=5, min_child_weight=1, missing=nan,\n",
       "             monotone_constraints='()', n_estimators=500, n_jobs=8,\n",
       "             num_parallel_tree=1, objective='reg:linear', predictor='auto',\n",
       "             random_state=0, reg_alpha=10, reg_lambda=1, scale_pos_weight=1,\n",
       "             subsample=0.7999999999999999, tree_method='exact',\n",
       "             validate_parameters=1, verbosity=None)"
      ]
     },
     "execution_count": 24,
     "metadata": {},
     "output_type": "execute_result"
    }
   ],
   "source": [
    "xg_reg = xgb.XGBRegressor(objective ='reg:linear', alpha = 10, subsample= 0.7999999999999999,\n",
    "n_estimators= 500, max_depth =5, learning_rate= 0.1, colsample_bytree= 0.7999999999999999, colsample_bylevel= 0.4)\n",
    "\n",
    "xg_reg.fit(X_train,y_train)"
   ]
  },
  {
   "cell_type": "markdown",
   "metadata": {},
   "source": [
    "Miramos resultados"
   ]
  },
  {
   "cell_type": "code",
   "execution_count": 25,
   "metadata": {},
   "outputs": [
    {
     "name": "stdout",
     "output_type": "stream",
     "text": [
      "Mean Absolute Error: 1237.42\n",
      "Mean Squared Error: 3664054077.01\n",
      "Root Mean Squared Error: 1914.17\n"
     ]
    }
   ],
   "source": [
    "y_pred = xg_reg.predict(X_test)\n",
    "\n",
    "print('Mean Absolute Error:', round(metrics.mean_absolute_error(y_test, y_pred)/1000,2))\n",
    "print('Mean Squared Error:', round(metrics.mean_squared_error(y_test, y_pred)/1000,2))\n",
    "print('Root Mean Squared Error:', round(np.sqrt(metrics.mean_squared_error(y_test, y_pred))/1000,2))\n"
   ]
  },
  {
   "cell_type": "code",
   "execution_count": null,
   "metadata": {},
   "outputs": [],
   "source": [
    "# Miro la importancia de las variables\n",
    "importance = xg_reg.feature_importances_\n",
    "x.columns\n",
    "figure(figsize=(15, 4.5), dpi=80,)\n",
    "plt.bar(x.columns, xg_reg.feature_importances_)\n",
    "plt.show()"
   ]
  },
  {
   "cell_type": "markdown",
   "metadata": {},
   "source": [
    "Optimizamos parametros"
   ]
  },
  {
   "cell_type": "code",
   "execution_count": null,
   "metadata": {},
   "outputs": [],
   "source": [
    "########################################## GridSearchCV\n",
    "from sklearn.model_selection import GridSearchCV\n",
    "\n",
    "params = { 'max_depth': [3,6,10],\n",
    "           'learning_rate': [0.01, 0.05, 0.1],\n",
    "           'n_estimators': [100, 500, 1000],\n",
    "           'colsample_bytree': [0.3, 0.7]}\n",
    "\n",
    "xgbr = xgb.XGBRegressor(seed = 20)\n",
    "clf_GS = GridSearchCV(estimator=xgbr, \n",
    "                   param_grid=params,\n",
    "                   scoring = 'neg_mean_absolute_error'\n",
    "                   verbose=1)\n",
    "clf_GridS.fit(X_train, y_train)\n",
    "print(\"Best parameters:\", clf.best_params_)\n",
    "\n",
    "y_pred_test = clf_GridS.best_estimator_(X_test)\n",
    "y_pred_train = clf_GridS.best_estimator_(X_train)\n",
    "\n",
    "print('Root Mean Squared Error:', round(np.sqrt(metrics.mean_squared_error(y_test, y_pred_test))/1000000,2))\n",
    "print('Root Mean Squared Error:', round(np.sqrt(metrics.mean_squared_error(y_train, y_pred_train))/1000000,2))\n",
    "\n",
    "\n",
    "\n",
    "print(\"Lowest RMSE: \", round(((-clf_GridS.best_score_)**(1/2.0)/1000000),2))\n",
    "print(\"Lowest MSE: \", round((-clf_GridS.best_score_/1000000),2))\n",
    "\n"
   ]
  },
  {
   "cell_type": "code",
   "execution_count": null,
   "metadata": {},
   "outputs": [],
   "source": [
    "########################################## RandomSearch\n",
    "\n",
    "params = { 'max_depth': [3, 5, 6, 10, 15, 20],\n",
    "           'learning_rate': [0.01, 0.1, 0.2, 0.3],\n",
    "           'subsample': np.arange(0.5, 1.0, 0.1),\n",
    "           'colsample_bytree': np.arange(0.4, 1.0, 0.1),\n",
    "           'colsample_bylevel': np.arange(0.4, 1.0, 0.1),\n",
    "           'n_estimators': [100, 500, 1000]}\n",
    "\n",
    "xgbr = xgb.XGBRegressor(seed = 20)\n",
    "clf_RandomS = RandomizedSearchCV(estimator=xgbr,\n",
    "                         param_distributions=params,\n",
    "                         scoring='neg_mean_squared_error',\n",
    "                         n_iter=100,\n",
    "                         verbose=1)\n",
    "clf_RandomS.fit(X_train, y_train)\n",
    "\n",
    "print(\"Best parameters:\", clf_RandomS.best_params_)\n",
    "print(\"Lowest RMSE: \", round(((-clf_RandomS.best_score_)**(1/2.0)/1000000),2))\n",
    "print(\"Lowest MSE: \", round((-clf_RandomS.best_score_/1000000),2))"
   ]
  }
 ],
 "metadata": {
  "interpreter": {
   "hash": "e3e9a750fc05e5a08aac5c7f68a373d320e024e5143e44a9c92a2cb2852add95"
  },
  "kernelspec": {
   "display_name": "Python 3.9.7 ('base')",
   "language": "python",
   "name": "python3"
  },
  "language_info": {
   "codemirror_mode": {
    "name": "ipython",
    "version": 3
   },
   "file_extension": ".py",
   "mimetype": "text/x-python",
   "name": "python",
   "nbconvert_exporter": "python",
   "pygments_lexer": "ipython3",
   "version": "3.9.7"
  },
  "orig_nbformat": 4
 },
 "nbformat": 4,
 "nbformat_minor": 2
}
