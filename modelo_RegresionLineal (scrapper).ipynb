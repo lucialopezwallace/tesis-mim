{
 "cells": [
  {
   "cell_type": "markdown",
   "metadata": {},
   "source": [
    "Importamos librerias"
   ]
  },
  {
   "cell_type": "code",
   "execution_count": 1,
   "metadata": {},
   "outputs": [],
   "source": [
    "import numpy as np\n",
    "import pandas as pd\n",
    "from sklearn.model_selection import train_test_split\n",
    "from sklearn.linear_model import LinearRegression\n",
    "from sklearn.preprocessing import StandardScaler\n",
    "from sklearn.compose import make_column_selector\n",
    "from sklearn.model_selection import cross_val_score\n",
    "from sklearn import metrics"
   ]
  },
  {
   "cell_type": "markdown",
   "metadata": {},
   "source": [
    "Importamos datos"
   ]
  },
  {
   "cell_type": "code",
   "execution_count": null,
   "metadata": {},
   "outputs": [],
   "source": [
    "# Levantamos los datos procesados\n",
    "datos_meli = pd.read_excel('data_ready_to_model.xlsx')\n",
    "datos_kavak = pd.read_csv('base_kavak.csv', sep=\";\")\n",
    "#%%\n",
    "# Uno los DF\n",
    "#%%\n",
    "frames = [datos_meli, datos_kavak]\n",
    "datos = pd.concat(frames)\n",
    "#%%\n",
    "datos = one_hot_encoder(datos,10)\n",
    "datos_meli = datos[(datos['type_meli'] == 1)] \n",
    "datos_meli = datos_meli.drop('type_kavak',axis=1)\n",
    "datos_meli = datos_meli.drop('type_meli',axis=1)\n"
   ]
  },
  {
   "cell_type": "markdown",
   "metadata": {},
   "source": [
    "Creamos grupos de Train & Test"
   ]
  },
  {
   "cell_type": "code",
   "execution_count": null,
   "metadata": {},
   "outputs": [],
   "source": [
    "x = datos_meli.drop('precio',axis=1)\n",
    "\n",
    "#separte the predicting attribute into Y for model training \n",
    "y = datos_meli['precio']\n",
    "y_ln = np.log(datos_meli['precio'])\n",
    "\n",
    "\n",
    "X_train, X_test, y_train_ln, y_test_ln = train_test_split(\n",
    "                                        x,\n",
    "                                        y_ln,\n",
    "                                        train_size   = 0.8,\n",
    "                                        random_state = 1234,\n",
    "                                        shuffle      = True\n",
    "                                    )\n",
    "\n",
    "#%%\n",
    "print(\"Partición de entrenamiento\")\n",
    "print(\"-----------------------\")\n",
    "print(y_train_ln.describe())\n",
    "\n",
    "print(\"Partición de test\")\n",
    "print(\"-----------------------\")\n",
    "print(y_test_ln.describe())"
   ]
  },
  {
   "cell_type": "markdown",
   "metadata": {},
   "source": [
    "Entrenamos el modelo"
   ]
  },
  {
   "cell_type": "code",
   "execution_count": null,
   "metadata": {},
   "outputs": [],
   "source": [
    "model = LinearRegression()\n",
    "model.fit(X_train, y_train_ln)\n",
    "y_pred_ln = model.predict(X_test)\n",
    "\n",
    "#  Saco exponencial de los valores de Y\n",
    "y_test = np.exp(y_test_ln)\n",
    "y_pred = np.exp(y_pred_ln)"
   ]
  },
  {
   "cell_type": "markdown",
   "metadata": {},
   "source": [
    "Miramos resultados"
   ]
  },
  {
   "cell_type": "code",
   "execution_count": null,
   "metadata": {},
   "outputs": [],
   "source": [
    "print('Mean Absolute Error:', round(metrics.mean_absolute_error(y_test, y_pred)/1000000,2))\n",
    "\n",
    "# MAE: Mean Absolute Error: 1.03 --> Con outliers\n",
    "# MAE: Mean Absolute Error: 0.56 --> Sin ourliers\n",
    "# Mean Absolute Error: 0.48 --> Aplicando LN a Precio (error)\n",
    "# Mean Absolute Error: 0.86\n",
    "#%%\n",
    "\n",
    "#%%\n",
    "print('Mean Squared Error:', round(metrics.mean_squared_error(y_test, y_pred)/1000000,2))\n",
    "# MSE: Mean Squared Error: 3,732,143.07\n",
    "# MSE: Mean Squared Error: 6,599,540.41 --> Con LN   \n",
    "print('Root Mean Squared Error:', round(np.sqrt(metrics.mean_squared_error(y_test, y_pred))/1000000,2))\n",
    "# Root Mean Squared Error: 1.93\n",
    "# Root Mean Squared Error: 0.74\n",
    "# Root Mean Squared Error: 2.57 --> Con LN"
   ]
  },
  {
   "cell_type": "markdown",
   "metadata": {},
   "source": [
    "Medimos los datos de Kavak"
   ]
  },
  {
   "cell_type": "code",
   "execution_count": null,
   "metadata": {},
   "outputs": [],
   "source": [
    "####################################################\n",
    "#### Prueba de datos de Kavak\n",
    "#%%\n",
    "# Separo en Y y X\n",
    "datos_kavak = datos[(datos['type_kavak'] == 1)] \n",
    "datos_kavak = datos_kavak.drop('type_kavak',axis=1)\n",
    "datos_kavak = datos_kavak.drop('type_meli',axis=1)\n",
    "\n",
    "#separate the other attributes from the predicting attribute\n",
    "x_kavak = datos_kavak.drop('precio',axis=1)\n",
    "\n",
    "#separte the predicting attribute into Y for model training \n",
    "y_kavak = datos_kavak['precio']\n",
    "\n",
    "#%%\n",
    "# Predigo las x_kavak\n",
    "y_pred_kavak_ln = model.predict(x_kavak)\n",
    "#%%\n",
    "\n",
    "#%%\n",
    "#  Saco exponencial de los valores de Y\n",
    "y_pred_kavak = np.exp(y_pred_kavak_ln)/1000\n",
    "#%%\n",
    "print('Mean Absolute Error:', round(metrics.mean_absolute_error(y_kavak, y_pred_kavak)/1000000,2))\n",
    "# Mean Absolute Error: 126.93\n",
    "#%%"
   ]
  }
 ],
 "metadata": {
  "interpreter": {
   "hash": "e3e9a750fc05e5a08aac5c7f68a373d320e024e5143e44a9c92a2cb2852add95"
  },
  "kernelspec": {
   "display_name": "Python 3.9.7 ('base')",
   "language": "python",
   "name": "python3"
  },
  "language_info": {
   "codemirror_mode": {
    "name": "ipython",
    "version": 3
   },
   "file_extension": ".py",
   "mimetype": "text/x-python",
   "name": "python",
   "nbconvert_exporter": "python",
   "pygments_lexer": "ipython3",
   "version": "3.9.7"
  },
  "orig_nbformat": 4
 },
 "nbformat": 4,
 "nbformat_minor": 2
}
