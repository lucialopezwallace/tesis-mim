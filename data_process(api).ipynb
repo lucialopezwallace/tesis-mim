{
 "cells": [
  {
   "cell_type": "markdown",
   "metadata": {},
   "source": [
    "Archivo utilizado para procesar la base de datos con la que trabajaremos"
   ]
  },
  {
   "cell_type": "markdown",
   "metadata": {},
   "source": [
    "Importamos librerias"
   ]
  },
  {
   "cell_type": "code",
   "execution_count": 1,
   "metadata": {},
   "outputs": [],
   "source": [
    "import pandas as pd\n",
    "import numpy as np"
   ]
  },
  {
   "cell_type": "markdown",
   "metadata": {},
   "source": [
    "Importamos Datos Privados"
   ]
  },
  {
   "cell_type": "code",
   "execution_count": null,
   "metadata": {},
   "outputs": [],
   "source": [
    "# Levanto la base de datos privados con la que trabajeremos\n",
    "df_k = pd.read_csv('base_privada.csv', sep=\";\")\n",
    "\n",
    "# Observamos nuestro dataset\n",
    "df_k.info()\n",
    "df_k.shape\n",
    "# (2532, 15)\n",
    "\n",
    "# Armo una lista de los modelos disponibles en el dataset\n",
    "modelos = df_k['Modelo'].unique().tolist()\n",
    "# 146 modelos"
   ]
  },
  {
   "cell_type": "markdown",
   "metadata": {},
   "source": [
    "Importamos Datos Públicos"
   ]
  },
  {
   "cell_type": "code",
   "execution_count": 3,
   "metadata": {},
   "outputs": [],
   "source": [
    "# Levanto la base de datos públicos con la que trabajeremos\n",
    "df_0 = pd.read_excel('data_api.xlsx')"
   ]
  },
  {
   "cell_type": "code",
   "execution_count": 4,
   "metadata": {},
   "outputs": [
    {
     "name": "stdout",
     "output_type": "stream",
     "text": [
      "<class 'pandas.core.frame.DataFrame'>\n",
      "RangeIndex: 72890 entries, 0 to 72889\n",
      "Data columns (total 46 columns):\n",
      " #   Column                 Non-Null Count  Dtype  \n",
      "---  ------                 --------------  -----  \n",
      " 0   id                     72890 non-null  object \n",
      " 1   site_id                72890 non-null  object \n",
      " 2   title                  72890 non-null  object \n",
      " 3   price                  72890 non-null  float64\n",
      " 4   currency_id            72890 non-null  object \n",
      " 5   available_quantity     72890 non-null  int64  \n",
      " 6   sold_quantity          72890 non-null  int64  \n",
      " 7   buying_mode            72890 non-null  object \n",
      " 8   listing_type_id        72890 non-null  object \n",
      " 9   condition              72890 non-null  object \n",
      " 10  thumbnail_id           72862 non-null  object \n",
      " 11  official_store_id      7389 non-null   float64\n",
      " 12  catalog_product_id     62859 non-null  object \n",
      " 13  tags                   72890 non-null  object \n",
      " 14  order_backend          72890 non-null  int64  \n",
      " 15  use_thumbnail_id       72890 non-null  bool   \n",
      " 16  Condición del ítem     72890 non-null  object \n",
      " 17  Único dueño            16516 non-null  object \n",
      " 18  Control de tracción    65736 non-null  object \n",
      " 19  Aire acondicionado     36774 non-null  object \n",
      " 20  Marca                  72890 non-null  object \n",
      " 21  Puertas                72890 non-null  int64  \n",
      " 22  Motor                  67621 non-null  object \n",
      " 23  Tipo de combustible    72890 non-null  object \n",
      " 24  Kilómetros             72890 non-null  object \n",
      " 25  Modelo                 72890 non-null  object \n",
      " 26  Transmisión            68306 non-null  object \n",
      " 27  Versión                72888 non-null  object \n",
      " 28  Año                    72890 non-null  int64  \n",
      " 29  adressstate_id         72890 non-null  object \n",
      " 30  adressstate_name       72890 non-null  object \n",
      " 31  adresscity_id          72837 non-null  object \n",
      " 32  adresscity_name        72890 non-null  object \n",
      " 33  adressarea_code        0 non-null      float64\n",
      " 34  adressphone1           0 non-null      float64\n",
      " 35  Cilindrada             59080 non-null  object \n",
      " 36  Largo                  60367 non-null  object \n",
      " 37  Capacidad de personas  60871 non-null  float64\n",
      " 38  Potencia               59073 non-null  object \n",
      " 39  Cilindros              51 non-null     float64\n",
      " 40  Línea                  1345 non-null   object \n",
      " 41  Horas de uso           1 non-null      object \n",
      " 42  Marca del motor        3 non-null      object \n",
      " 43  Capacidad de carga     2 non-null      object \n",
      " 44  Peso                   2 non-null      object \n",
      " 45  Combustible            1 non-null      object \n",
      "dtypes: bool(1), float64(6), int64(5), object(34)\n",
      "memory usage: 25.1+ MB\n"
     ]
    },
    {
     "data": {
      "text/plain": [
       "(72890, 46)"
      ]
     },
     "execution_count": 4,
     "metadata": {},
     "output_type": "execute_result"
    }
   ],
   "source": [
    "# Observamos nuestro dataset\n",
    "df_0.info()\n",
    "df_0.shape\n",
    "# (72890, 46)"
   ]
  },
  {
   "cell_type": "code",
   "execution_count": 5,
   "metadata": {},
   "outputs": [
    {
     "name": "stdout",
     "output_type": "stream",
     "text": [
      "0\n"
     ]
    }
   ],
   "source": [
    "# Evaluamos si tiene duplicados\n",
    "print(df_0.duplicated().sum())\n",
    "# 0 filas duplicadas"
   ]
  },
  {
   "cell_type": "code",
   "execution_count": 6,
   "metadata": {},
   "outputs": [
    {
     "data": {
      "text/plain": [
       "id                           0\n",
       "Kilómetros                   0\n",
       "Tipo de combustible          0\n",
       "Puertas                      0\n",
       "Marca                        0\n",
       "Año                          0\n",
       "adressstate_id               0\n",
       "adressstate_name             0\n",
       "Condición del ítem           0\n",
       "use_thumbnail_id             0\n",
       "order_backend                0\n",
       "Modelo                       0\n",
       "tags                         0\n",
       "adresscity_name              0\n",
       "condition                    0\n",
       "listing_type_id              0\n",
       "buying_mode                  0\n",
       "sold_quantity                0\n",
       "available_quantity           0\n",
       "currency_id                  0\n",
       "price                        0\n",
       "title                        0\n",
       "site_id                      0\n",
       "Versión                      2\n",
       "thumbnail_id                28\n",
       "adresscity_id               53\n",
       "Transmisión               4584\n",
       "Motor                     5269\n",
       "Control de tracción       7154\n",
       "catalog_product_id       10031\n",
       "Capacidad de personas    12019\n",
       "Largo                    12523\n",
       "Cilindrada               13810\n",
       "Potencia                 13817\n",
       "Aire acondicionado       36116\n",
       "Único dueño              56374\n",
       "official_store_id        65501\n",
       "Línea                    71545\n",
       "Cilindros                72839\n",
       "Marca del motor          72887\n",
       "Peso                     72888\n",
       "Capacidad de carga       72888\n",
       "Horas de uso             72889\n",
       "Combustible              72889\n",
       "adressarea_code          72890\n",
       "adressphone1             72890\n",
       "dtype: int64"
      ]
     },
     "execution_count": 6,
     "metadata": {},
     "output_type": "execute_result"
    }
   ],
   "source": [
    "# Evaluamos si tiene nulos\n",
    "df_0.isna().sum().sort_values()\n",
    "# Varias variables tienen nulos"
   ]
  },
  {
   "cell_type": "code",
   "execution_count": 7,
   "metadata": {},
   "outputs": [
    {
     "data": {
      "text/plain": [
       "id                           0\n",
       "adresscity_name              0\n",
       "adressstate_name             0\n",
       "Año                          0\n",
       "Modelo                       0\n",
       "Kilómetros                   0\n",
       "Tipo de combustible          0\n",
       "Marca                        0\n",
       "Puertas                      0\n",
       "listing_type_id              0\n",
       "tags                         0\n",
       "condition                    0\n",
       "order_backend                0\n",
       "available_quantity           0\n",
       "currency_id                  0\n",
       "price                        0\n",
       "Versión                      2\n",
       "Transmisión               4584\n",
       "Motor                     5269\n",
       "Control de tracción       7154\n",
       "catalog_product_id       10031\n",
       "Capacidad de personas    12019\n",
       "Largo                    12523\n",
       "Cilindrada               13810\n",
       "Potencia                 13817\n",
       "Aire acondicionado       36116\n",
       "Único dueño              56374\n",
       "dtype: int64"
      ]
     },
     "execution_count": 7,
     "metadata": {},
     "output_type": "execute_result"
    }
   ],
   "source": [
    "df_1 = df_0.drop(labels=['Horas de uso', 'adressarea_code','adressphone1','Cilindros','Línea', 'official_store_id','site_id','title',\n",
    "'sold_quantity','buying_mode','use_thumbnail_id','Condición del ítem','adressstate_id','adresscity_id','adressarea_code',\n",
    "'adressphone1','thumbnail_id', 'Combustible', 'Marca del motor', 'Capacidad de carga', 'Peso'], axis=1)\n",
    "df_1.isna().sum().sort_values()\n",
    "\n",
    "# Otras variables ya borradas\n",
    "# ['Power trim' 'stop_time' 'permalink' 'thumbnail' 'accepts_mercadopago'\\n 'address' 'seller_address' 'attributes' 'category_id' 'domain_id'] not found in axis\"\n"
   ]
  },
  {
   "cell_type": "code",
   "execution_count": 8,
   "metadata": {},
   "outputs": [
    {
     "data": {
      "text/plain": [
       "(62436, 27)"
      ]
     },
     "execution_count": 8,
     "metadata": {},
     "output_type": "execute_result"
    }
   ],
   "source": [
    "# Sacamos aquellas publicadas con valor en Dolares\n",
    "df_1 = df_1.drop(df_1[df_1['currency_id']=='USD'].index)\n",
    "df_1.shape\n",
    "# (62436, 27)\n",
    "#  10454 fila eliminadas"
   ]
  },
  {
   "cell_type": "code",
   "execution_count": 9,
   "metadata": {},
   "outputs": [
    {
     "data": {
      "text/plain": [
       "(49474, 27)"
      ]
     },
     "execution_count": 9,
     "metadata": {},
     "output_type": "execute_result"
    }
   ],
   "source": [
    "df_1 = df_1.drop(df_1[df_1['condition']=='new'].index)\n",
    "df_1.shape\n",
    "# (49474, 27)\n",
    "# 12962 filas eliminadas"
   ]
  },
  {
   "cell_type": "code",
   "execution_count": 10,
   "metadata": {},
   "outputs": [
    {
     "name": "stdout",
     "output_type": "stream",
     "text": [
      "<class 'pandas.core.frame.DataFrame'>\n",
      "Int64Index: 49474 entries, 0 to 72889\n",
      "Data columns (total 27 columns):\n",
      " #   Column                 Non-Null Count  Dtype  \n",
      "---  ------                 --------------  -----  \n",
      " 0   id                     49474 non-null  object \n",
      " 1   price                  49474 non-null  float64\n",
      " 2   currency_id            49474 non-null  object \n",
      " 3   available_quantity     49474 non-null  int64  \n",
      " 4   listing_type_id        49474 non-null  object \n",
      " 5   condition              49474 non-null  object \n",
      " 6   catalog_product_id     45385 non-null  object \n",
      " 7   tags                   49474 non-null  object \n",
      " 8   order_backend          49474 non-null  int64  \n",
      " 9   Único dueño            8364 non-null   object \n",
      " 10  Control de tracción    44503 non-null  object \n",
      " 11  Aire acondicionado     21823 non-null  object \n",
      " 12  Marca                  49474 non-null  object \n",
      " 13  Puertas                49474 non-null  int64  \n",
      " 14  Motor                  46252 non-null  object \n",
      " 15  Tipo de combustible    49474 non-null  object \n",
      " 16  Kilómetros             49474 non-null  object \n",
      " 17  Modelo                 49474 non-null  object \n",
      " 18  Transmisión            46566 non-null  object \n",
      " 19  Versión                49473 non-null  object \n",
      " 20  Año                    49474 non-null  int64  \n",
      " 21  adressstate_name       49474 non-null  object \n",
      " 22  adresscity_name        49474 non-null  object \n",
      " 23  Cilindrada             42531 non-null  object \n",
      " 24  Largo                  43889 non-null  object \n",
      " 25  Capacidad de personas  44149 non-null  float64\n",
      " 26  Potencia               42523 non-null  object \n",
      "dtypes: float64(2), int64(4), object(21)\n",
      "memory usage: 10.6+ MB\n"
     ]
    },
    {
     "data": {
      "text/plain": [
       "(49474, 27)"
      ]
     },
     "execution_count": 10,
     "metadata": {},
     "output_type": "execute_result"
    }
   ],
   "source": [
    "df_1.info()\n",
    "df_1.describe()\n",
    "df_1.shape\n",
    "# (49474, 27)"
   ]
  },
  {
   "cell_type": "code",
   "execution_count": 13,
   "metadata": {},
   "outputs": [
    {
     "data": {
      "text/html": [
       "<div>\n",
       "<style scoped>\n",
       "    .dataframe tbody tr th:only-of-type {\n",
       "        vertical-align: middle;\n",
       "    }\n",
       "\n",
       "    .dataframe tbody tr th {\n",
       "        vertical-align: top;\n",
       "    }\n",
       "\n",
       "    .dataframe thead th {\n",
       "        text-align: right;\n",
       "    }\n",
       "</style>\n",
       "<table border=\"1\" class=\"dataframe\">\n",
       "  <thead>\n",
       "    <tr style=\"text-align: right;\">\n",
       "      <th></th>\n",
       "      <th>id</th>\n",
       "      <th>price</th>\n",
       "      <th>currency_id</th>\n",
       "      <th>available_quantity</th>\n",
       "      <th>listing_type_id</th>\n",
       "      <th>condition</th>\n",
       "      <th>catalog_product_id</th>\n",
       "      <th>tags</th>\n",
       "      <th>order_backend</th>\n",
       "      <th>Único dueño</th>\n",
       "      <th>...</th>\n",
       "      <th>Modelo</th>\n",
       "      <th>Transmisión</th>\n",
       "      <th>Versión</th>\n",
       "      <th>Año</th>\n",
       "      <th>adressstate_name</th>\n",
       "      <th>adresscity_name</th>\n",
       "      <th>Cilindrada</th>\n",
       "      <th>Largo</th>\n",
       "      <th>Capacidad de personas</th>\n",
       "      <th>Potencia</th>\n",
       "    </tr>\n",
       "  </thead>\n",
       "  <tbody>\n",
       "    <tr>\n",
       "      <th>0</th>\n",
       "      <td>1133956632</td>\n",
       "      <td>1100000.0</td>\n",
       "      <td>ARS</td>\n",
       "      <td>1</td>\n",
       "      <td>free</td>\n",
       "      <td>used</td>\n",
       "      <td>NaN</td>\n",
       "      <td>['good_quality_thumbnail', 'dragged_visits', '...</td>\n",
       "      <td>1</td>\n",
       "      <td>No</td>\n",
       "      <td>...</td>\n",
       "      <td>Legend</td>\n",
       "      <td>Automática</td>\n",
       "      <td>AT V6 3.2L Sedan 4 puertas</td>\n",
       "      <td>1998</td>\n",
       "      <td>Santa Fe</td>\n",
       "      <td>General López</td>\n",
       "      <td>NaN</td>\n",
       "      <td>NaN</td>\n",
       "      <td>NaN</td>\n",
       "      <td>NaN</td>\n",
       "    </tr>\n",
       "    <tr>\n",
       "      <th>1</th>\n",
       "      <td>932476572</td>\n",
       "      <td>4000000.0</td>\n",
       "      <td>ARS</td>\n",
       "      <td>1</td>\n",
       "      <td>silver</td>\n",
       "      <td>used</td>\n",
       "      <td>NaN</td>\n",
       "      <td>['good_quality_picture', 'good_quality_thumbna...</td>\n",
       "      <td>1</td>\n",
       "      <td>Sí</td>\n",
       "      <td>...</td>\n",
       "      <td>AM 150 CD</td>\n",
       "      <td>Manual</td>\n",
       "      <td>Utilitario</td>\n",
       "      <td>2009</td>\n",
       "      <td>Buenos Aires Interior</td>\n",
       "      <td>Lincoln</td>\n",
       "      <td>NaN</td>\n",
       "      <td>NaN</td>\n",
       "      <td>NaN</td>\n",
       "      <td>NaN</td>\n",
       "    </tr>\n",
       "    <tr>\n",
       "      <th>2</th>\n",
       "      <td>1121119730</td>\n",
       "      <td>3700000.0</td>\n",
       "      <td>ARS</td>\n",
       "      <td>1</td>\n",
       "      <td>gold_premium</td>\n",
       "      <td>used</td>\n",
       "      <td>8687637</td>\n",
       "      <td>['good_quality_picture', 'good_quality_thumbna...</td>\n",
       "      <td>1</td>\n",
       "      <td>No</td>\n",
       "      <td>...</td>\n",
       "      <td>Giulietta</td>\n",
       "      <td>Automática</td>\n",
       "      <td>1.4 Distinctive 170cv At</td>\n",
       "      <td>2016</td>\n",
       "      <td>Capital Federal</td>\n",
       "      <td>Capital Federal</td>\n",
       "      <td>1368 cc</td>\n",
       "      <td>4351 mm</td>\n",
       "      <td>5.0</td>\n",
       "      <td>170 hp</td>\n",
       "    </tr>\n",
       "    <tr>\n",
       "      <th>3</th>\n",
       "      <td>1127687379</td>\n",
       "      <td>2940000.0</td>\n",
       "      <td>ARS</td>\n",
       "      <td>1</td>\n",
       "      <td>gold_premium</td>\n",
       "      <td>used</td>\n",
       "      <td>8689183</td>\n",
       "      <td>['dragged_visits', 'good_quality_picture', 'go...</td>\n",
       "      <td>2</td>\n",
       "      <td>No</td>\n",
       "      <td>...</td>\n",
       "      <td>Mito</td>\n",
       "      <td>Automática</td>\n",
       "      <td>1.4 Tbi Quadrifoglio Verde</td>\n",
       "      <td>2012</td>\n",
       "      <td>Bs.As. G.B.A. Oeste</td>\n",
       "      <td>Moreno</td>\n",
       "      <td>1368 cc</td>\n",
       "      <td>4065 mm</td>\n",
       "      <td>5.0</td>\n",
       "      <td>170 hp</td>\n",
       "    </tr>\n",
       "    <tr>\n",
       "      <th>4</th>\n",
       "      <td>1136612801</td>\n",
       "      <td>2880000.0</td>\n",
       "      <td>ARS</td>\n",
       "      <td>1</td>\n",
       "      <td>gold_premium</td>\n",
       "      <td>used</td>\n",
       "      <td>8713794</td>\n",
       "      <td>['good_quality_picture', 'good_quality_thumbna...</td>\n",
       "      <td>3</td>\n",
       "      <td>NaN</td>\n",
       "      <td>...</td>\n",
       "      <td>Mito</td>\n",
       "      <td>Manual</td>\n",
       "      <td>1.4 Junior 78cv</td>\n",
       "      <td>2017</td>\n",
       "      <td>Capital Federal</td>\n",
       "      <td>Capital Federal</td>\n",
       "      <td>1368 cc</td>\n",
       "      <td>4065 mm</td>\n",
       "      <td>5.0</td>\n",
       "      <td>78 hp</td>\n",
       "    </tr>\n",
       "    <tr>\n",
       "      <th>...</th>\n",
       "      <td>...</td>\n",
       "      <td>...</td>\n",
       "      <td>...</td>\n",
       "      <td>...</td>\n",
       "      <td>...</td>\n",
       "      <td>...</td>\n",
       "      <td>...</td>\n",
       "      <td>...</td>\n",
       "      <td>...</td>\n",
       "      <td>...</td>\n",
       "      <td>...</td>\n",
       "      <td>...</td>\n",
       "      <td>...</td>\n",
       "      <td>...</td>\n",
       "      <td>...</td>\n",
       "      <td>...</td>\n",
       "      <td>...</td>\n",
       "      <td>...</td>\n",
       "      <td>...</td>\n",
       "      <td>...</td>\n",
       "      <td>...</td>\n",
       "    </tr>\n",
       "    <tr>\n",
       "      <th>72866</th>\n",
       "      <td>1133844662</td>\n",
       "      <td>1500000.0</td>\n",
       "      <td>ARS</td>\n",
       "      <td>1</td>\n",
       "      <td>free</td>\n",
       "      <td>used</td>\n",
       "      <td>8699127</td>\n",
       "      <td>['dragged_visits', 'good_quality_picture', 'go...</td>\n",
       "      <td>27</td>\n",
       "      <td>Sí</td>\n",
       "      <td>...</td>\n",
       "      <td>C30</td>\n",
       "      <td>Manual</td>\n",
       "      <td>Pack Plus</td>\n",
       "      <td>2010</td>\n",
       "      <td>Capital Federal</td>\n",
       "      <td>Capital Federal</td>\n",
       "      <td>NaN</td>\n",
       "      <td>NaN</td>\n",
       "      <td>NaN</td>\n",
       "      <td>NaN</td>\n",
       "    </tr>\n",
       "    <tr>\n",
       "      <th>72868</th>\n",
       "      <td>1131200958</td>\n",
       "      <td>600000.0</td>\n",
       "      <td>ARS</td>\n",
       "      <td>1</td>\n",
       "      <td>free</td>\n",
       "      <td>used</td>\n",
       "      <td>NaN</td>\n",
       "      <td>['good_quality_thumbnail', 'dragged_visits', '...</td>\n",
       "      <td>1</td>\n",
       "      <td>Sí</td>\n",
       "      <td>...</td>\n",
       "      <td>LZW</td>\n",
       "      <td>Manual</td>\n",
       "      <td>1010 vhw fu</td>\n",
       "      <td>1999</td>\n",
       "      <td>Bs.As. G.B.A. Norte</td>\n",
       "      <td>General San Martín</td>\n",
       "      <td>NaN</td>\n",
       "      <td>NaN</td>\n",
       "      <td>NaN</td>\n",
       "      <td>NaN</td>\n",
       "    </tr>\n",
       "    <tr>\n",
       "      <th>72887</th>\n",
       "      <td>1135140880</td>\n",
       "      <td>850000.0</td>\n",
       "      <td>ARS</td>\n",
       "      <td>1</td>\n",
       "      <td>free</td>\n",
       "      <td>used</td>\n",
       "      <td>NaN</td>\n",
       "      <td>['good_quality_picture', 'good_quality_thumbna...</td>\n",
       "      <td>19</td>\n",
       "      <td>Sí</td>\n",
       "      <td>...</td>\n",
       "      <td>Zmax 200 Truck</td>\n",
       "      <td>Manual</td>\n",
       "      <td>Tres ruedas.</td>\n",
       "      <td>2018</td>\n",
       "      <td>Bs.As. G.B.A. Oeste</td>\n",
       "      <td>Hurlingham</td>\n",
       "      <td>NaN</td>\n",
       "      <td>NaN</td>\n",
       "      <td>NaN</td>\n",
       "      <td>NaN</td>\n",
       "    </tr>\n",
       "    <tr>\n",
       "      <th>72888</th>\n",
       "      <td>1133812225</td>\n",
       "      <td>340000.0</td>\n",
       "      <td>ARS</td>\n",
       "      <td>1</td>\n",
       "      <td>free</td>\n",
       "      <td>used</td>\n",
       "      <td>NaN</td>\n",
       "      <td>['dragged_visits', 'good_quality_picture', 'go...</td>\n",
       "      <td>20</td>\n",
       "      <td>Sí</td>\n",
       "      <td>...</td>\n",
       "      <td>Patagonia Eagle</td>\n",
       "      <td>NaN</td>\n",
       "      <td>Moto Chopper 250 CC</td>\n",
       "      <td>2011</td>\n",
       "      <td>Bs.As. G.B.A. Norte</td>\n",
       "      <td>Malvinas Argentinas</td>\n",
       "      <td>NaN</td>\n",
       "      <td>NaN</td>\n",
       "      <td>NaN</td>\n",
       "      <td>NaN</td>\n",
       "    </tr>\n",
       "    <tr>\n",
       "      <th>72889</th>\n",
       "      <td>1128652485</td>\n",
       "      <td>3350000.0</td>\n",
       "      <td>ARS</td>\n",
       "      <td>1</td>\n",
       "      <td>gold_premium</td>\n",
       "      <td>used</td>\n",
       "      <td>NaN</td>\n",
       "      <td>['good_quality_picture', 'good_quality_thumbna...</td>\n",
       "      <td>21</td>\n",
       "      <td>No</td>\n",
       "      <td>...</td>\n",
       "      <td>Z TRUCK</td>\n",
       "      <td>Manual</td>\n",
       "      <td>CARGA</td>\n",
       "      <td>2022</td>\n",
       "      <td>Bs.As. G.B.A. Sur</td>\n",
       "      <td>Avellaneda</td>\n",
       "      <td>NaN</td>\n",
       "      <td>NaN</td>\n",
       "      <td>NaN</td>\n",
       "      <td>NaN</td>\n",
       "    </tr>\n",
       "  </tbody>\n",
       "</table>\n",
       "<p>49474 rows × 27 columns</p>\n",
       "</div>"
      ],
      "text/plain": [
       "               id      price currency_id  available_quantity listing_type_id  \\\n",
       "0      1133956632  1100000.0         ARS                   1            free   \n",
       "1       932476572  4000000.0         ARS                   1          silver   \n",
       "2      1121119730  3700000.0         ARS                   1    gold_premium   \n",
       "3      1127687379  2940000.0         ARS                   1    gold_premium   \n",
       "4      1136612801  2880000.0         ARS                   1    gold_premium   \n",
       "...           ...        ...         ...                 ...             ...   \n",
       "72866  1133844662  1500000.0         ARS                   1            free   \n",
       "72868  1131200958   600000.0         ARS                   1            free   \n",
       "72887  1135140880   850000.0         ARS                   1            free   \n",
       "72888  1133812225   340000.0         ARS                   1            free   \n",
       "72889  1128652485  3350000.0         ARS                   1    gold_premium   \n",
       "\n",
       "      condition catalog_product_id  \\\n",
       "0          used                NaN   \n",
       "1          used                NaN   \n",
       "2          used            8687637   \n",
       "3          used            8689183   \n",
       "4          used            8713794   \n",
       "...         ...                ...   \n",
       "72866      used            8699127   \n",
       "72868      used                NaN   \n",
       "72887      used                NaN   \n",
       "72888      used                NaN   \n",
       "72889      used                NaN   \n",
       "\n",
       "                                                    tags  order_backend  \\\n",
       "0      ['good_quality_thumbnail', 'dragged_visits', '...              1   \n",
       "1      ['good_quality_picture', 'good_quality_thumbna...              1   \n",
       "2      ['good_quality_picture', 'good_quality_thumbna...              1   \n",
       "3      ['dragged_visits', 'good_quality_picture', 'go...              2   \n",
       "4      ['good_quality_picture', 'good_quality_thumbna...              3   \n",
       "...                                                  ...            ...   \n",
       "72866  ['dragged_visits', 'good_quality_picture', 'go...             27   \n",
       "72868  ['good_quality_thumbnail', 'dragged_visits', '...              1   \n",
       "72887  ['good_quality_picture', 'good_quality_thumbna...             19   \n",
       "72888  ['dragged_visits', 'good_quality_picture', 'go...             20   \n",
       "72889  ['good_quality_picture', 'good_quality_thumbna...             21   \n",
       "\n",
       "      Único dueño  ...           Modelo Transmisión  \\\n",
       "0              No  ...           Legend  Automática   \n",
       "1              Sí  ...        AM 150 CD      Manual   \n",
       "2              No  ...        Giulietta  Automática   \n",
       "3              No  ...             Mito  Automática   \n",
       "4             NaN  ...             Mito      Manual   \n",
       "...           ...  ...              ...         ...   \n",
       "72866          Sí  ...              C30      Manual   \n",
       "72868          Sí  ...              LZW      Manual   \n",
       "72887          Sí  ...   Zmax 200 Truck      Manual   \n",
       "72888          Sí  ...  Patagonia Eagle         NaN   \n",
       "72889          No  ...          Z TRUCK      Manual   \n",
       "\n",
       "                          Versión   Año       adressstate_name  \\\n",
       "0      AT V6 3.2L Sedan 4 puertas  1998               Santa Fe   \n",
       "1                      Utilitario  2009  Buenos Aires Interior   \n",
       "2        1.4 Distinctive 170cv At  2016        Capital Federal   \n",
       "3      1.4 Tbi Quadrifoglio Verde  2012    Bs.As. G.B.A. Oeste   \n",
       "4                 1.4 Junior 78cv  2017        Capital Federal   \n",
       "...                           ...   ...                    ...   \n",
       "72866                   Pack Plus  2010        Capital Federal   \n",
       "72868                 1010 vhw fu  1999    Bs.As. G.B.A. Norte   \n",
       "72887                Tres ruedas.  2018    Bs.As. G.B.A. Oeste   \n",
       "72888         Moto Chopper 250 CC  2011    Bs.As. G.B.A. Norte   \n",
       "72889                       CARGA  2022      Bs.As. G.B.A. Sur   \n",
       "\n",
       "           adresscity_name Cilindrada    Largo Capacidad de personas Potencia  \n",
       "0            General López        NaN      NaN                   NaN      NaN  \n",
       "1                  Lincoln        NaN      NaN                   NaN      NaN  \n",
       "2          Capital Federal    1368 cc  4351 mm                   5.0   170 hp  \n",
       "3                   Moreno    1368 cc  4065 mm                   5.0   170 hp  \n",
       "4          Capital Federal    1368 cc  4065 mm                   5.0    78 hp  \n",
       "...                    ...        ...      ...                   ...      ...  \n",
       "72866      Capital Federal        NaN      NaN                   NaN      NaN  \n",
       "72868   General San Martín        NaN      NaN                   NaN      NaN  \n",
       "72887           Hurlingham        NaN      NaN                   NaN      NaN  \n",
       "72888  Malvinas Argentinas        NaN      NaN                   NaN      NaN  \n",
       "72889           Avellaneda        NaN      NaN                   NaN      NaN  \n",
       "\n",
       "[49474 rows x 27 columns]"
      ]
     },
     "execution_count": 13,
     "metadata": {},
     "output_type": "execute_result"
    }
   ],
   "source": [
    "# Saco los valores de MLA para tener valores númericos\n",
    "df_1 = df_1.replace('MLA','',regex=True)\n",
    "\n",
    "# Pongo a los kilometros en el formato correcto\n",
    "df_1 = df_1.replace(' km','',regex=True)\n",
    "df_1"
   ]
  },
  {
   "cell_type": "code",
   "execution_count": 15,
   "metadata": {},
   "outputs": [],
   "source": [
    "df_2 = df_1.drop(labels=['tags','order_backend','catalog_product_id','available_quantity',\n",
    "'Único dueño','Control de tracción', 'Aire acondicionado', 'Cilindrada', 'Largo', 'Capacidad de personas', 'Potencia','listing_type_id'], axis=1)"
   ]
  },
  {
   "cell_type": "code",
   "execution_count": 16,
   "metadata": {},
   "outputs": [
    {
     "data": {
      "text/plain": [
       "(49432, 15)"
      ]
     },
     "execution_count": 16,
     "metadata": {},
     "output_type": "execute_result"
    }
   ],
   "source": [
    "# Sacamos publicaciones > 999.999 kn\n",
    "df_2['Kilómetros'] = df_2['Kilómetros'].astype(int)\n",
    "\n",
    "\n",
    "df_2 = df_2.drop(df_2[df_2['Kilómetros']>999999].index)\n",
    "df_2.shape\n",
    "# (49474, 27)\n",
    "# 42 filas eliminadas"
   ]
  },
  {
   "cell_type": "code",
   "execution_count": 17,
   "metadata": {},
   "outputs": [
    {
     "data": {
      "text/plain": [
       "(49058, 15)"
      ]
     },
     "execution_count": 17,
     "metadata": {},
     "output_type": "execute_result"
    }
   ],
   "source": [
    "# Sacamos publicaciones > 999.999 kn\n",
    "df_2['Año'] = df_2['Año'].astype(int)\n",
    "\n",
    "\n",
    "df_2 = df_2.drop(df_2[df_2['Año']<1990].index)\n",
    "df_2.shape\n",
    "# (49058, 15)\n",
    "# 416 filas eliminadas\n"
   ]
  },
  {
   "cell_type": "code",
   "execution_count": 18,
   "metadata": {},
   "outputs": [
    {
     "name": "stdout",
     "output_type": "stream",
     "text": [
      "<class 'pandas.core.frame.DataFrame'>\n",
      "Int64Index: 49058 entries, 0 to 72888\n",
      "Data columns (total 15 columns):\n",
      " #   Column               Non-Null Count  Dtype  \n",
      "---  ------               --------------  -----  \n",
      " 0   id                   49058 non-null  object \n",
      " 1   price                49058 non-null  float64\n",
      " 2   currency_id          49058 non-null  object \n",
      " 3   condition            49058 non-null  object \n",
      " 4   Marca                49058 non-null  object \n",
      " 5   Puertas              49058 non-null  int64  \n",
      " 6   Motor                46125 non-null  object \n",
      " 7   Tipo de combustible  49058 non-null  object \n",
      " 8   Kilómetros           49058 non-null  int32  \n",
      " 9   Modelo               49058 non-null  object \n",
      " 10  Transmisión          46432 non-null  object \n",
      " 11  Versión              49057 non-null  object \n",
      " 12  Año                  49058 non-null  int32  \n",
      " 13  adressstate_name     49058 non-null  object \n",
      " 14  adresscity_name      49058 non-null  object \n",
      "dtypes: float64(1), int32(2), int64(1), object(11)\n",
      "memory usage: 5.6+ MB\n"
     ]
    },
    {
     "data": {
      "text/plain": [
       "(49058, 15)"
      ]
     },
     "execution_count": 18,
     "metadata": {},
     "output_type": "execute_result"
    }
   ],
   "source": [
    "df_2.info()\n",
    "df_2.describe()\n",
    "df_2.shape\n",
    "# (5684, 15)\n",
    "# (49474, 15) --> Nuevo"
   ]
  },
  {
   "cell_type": "markdown",
   "metadata": {},
   "source": [
    "Guardamos la info en un Excel"
   ]
  },
  {
   "cell_type": "code",
   "execution_count": 19,
   "metadata": {},
   "outputs": [],
   "source": [
    "# Guardamos la información en un Excel\n",
    "\n",
    "# Exporto a un Excel\n",
    "datos_base_model_simple = df_2\n",
    "datos_base_model_simple.to_excel('data_ready_to_model_api_simple.xlsx', index=False)\n",
    "\n",
    "datos_base_model_completa = df_1\n",
    "datos_base_model_completa.to_excel('data_ready_to_model_api_completa.xlsx', index=False)"
   ]
  },
  {
   "cell_type": "code",
   "execution_count": 20,
   "metadata": {},
   "outputs": [
    {
     "data": {
      "image/png": "[encoded data removed]",
      "text/plain": [
       "<Figure size 432x288 with 1 Axes>"
      ]
     },
     "metadata": {
      "needs_background": "light"
     },
     "output_type": "display_data"
    },
    {
     "data": {
      "text/plain": [
       "count     49058.000000\n",
       "mean     110625.539015\n",
       "std       78362.633384\n",
       "min           1.000000\n",
       "25%       60700.000000\n",
       "50%       98400.000000\n",
       "75%      145000.000000\n",
       "max      999999.000000\n",
       "Name: Kilómetros, dtype: float64"
      ]
     },
     "execution_count": 20,
     "metadata": {},
     "output_type": "execute_result"
    }
   ],
   "source": [
    "# Check nueva variable de Kilotmetros\n",
    " \n",
    "import matplotlib.pyplot as plt\n",
    "\n",
    "plt.title('')\n",
    "plt.xlabel(\"Kilómetros\")\n",
    "plt.ylabel('número de publicaciones')\n",
    "plt.hist(df_2['Kilómetros'], bins = 100, color= 'xkcd:sky blue')\n",
    "plt.show()\n",
    "\n",
    "df_2['Kilómetros'].describe()"
   ]
  },
  {
   "cell_type": "code",
   "execution_count": 21,
   "metadata": {},
   "outputs": [
    {
     "data": {
      "image/png": "[encoded data removed]",
      "text/plain": [
       "<Figure size 432x288 with 1 Axes>"
      ]
     },
     "metadata": {
      "needs_background": "light"
     },
     "output_type": "display_data"
    },
    {
     "data": {
      "text/plain": [
       "count    49058.000000\n",
       "mean      2012.979718\n",
       "std          5.848048\n",
       "min       1990.000000\n",
       "25%       2010.000000\n",
       "50%       2014.000000\n",
       "75%       2017.000000\n",
       "max       2023.000000\n",
       "Name: Año, dtype: float64"
      ]
     },
     "execution_count": 21,
     "metadata": {},
     "output_type": "execute_result"
    }
   ],
   "source": [
    "# Check nueva variable de Año\n",
    " \n",
    "import matplotlib.pyplot as plt\n",
    "\n",
    "plt.title('')\n",
    "plt.xlabel('Año de fabricación')\n",
    "plt.ylabel('número de publicaciones')\n",
    "plt.hist(df_2['Año'], bins = 70,color= 'xkcd:sky blue')\n",
    "plt.show()\n",
    "\n",
    "df_2['Año'].describe()"
   ]
  },
  {
   "cell_type": "code",
   "execution_count": 23,
   "metadata": {},
   "outputs": [
    {
     "data": {
      "image/png": "[encoded data removed]",
      "text/plain": [
       "<Figure size 1152x576 with 1 Axes>"
      ]
     },
     "metadata": {
      "needs_background": "light"
     },
     "output_type": "display_data"
    }
   ],
   "source": [
    "# Kilometraje y Log(Precio)\n",
    "fig, ax = plt.subplots(figsize=(16,8))\n",
    "ax.scatter(df_2['Kilómetros'], np.log(df_2['price']))\n",
    "ax.set_xlabel('KM')\n",
    "ax.set_ylabel('Precio')\n",
    "plt.show()"
   ]
  },
  {
   "cell_type": "code",
   "execution_count": 24,
   "metadata": {},
   "outputs": [
    {
     "data": {
      "image/png": "[encoded data removed]",
      "text/plain": [
       "<Figure size 1152x576 with 1 Axes>"
      ]
     },
     "metadata": {
      "needs_background": "light"
     },
     "output_type": "display_data"
    }
   ],
   "source": [
    "# Kilometraje y Log(Precio)\n",
    "fig, ax = plt.subplots(figsize=(16,8))\n",
    "ax.scatter(df_2['Año'], np.log(df_2['price']))\n",
    "ax.set_xlabel('Año de fabricación')\n",
    "ax.set_ylabel('Precio')\n",
    "plt.show()"
   ]
  }
 ],
 "metadata": {
  "interpreter": {
   "hash": "8cf70fa425c1af7ec2a70e768ac357c0906a7df2aaa6930987a347744fc5cd8d"
  },
  "kernelspec": {
   "display_name": "Python 3.9.7 ('base')",
   "language": "python",
   "name": "python3"
  },
  "language_info": {
   "codemirror_mode": {
    "name": "ipython",
    "version": 3
   },
   "file_extension": ".py",
   "mimetype": "text/x-python",
   "name": "python",
   "nbconvert_exporter": "python",
   "pygments_lexer": "ipython3",
   "version": "3.9.7"
  },
  "orig_nbformat": 4
 },
 "nbformat": 4,
 "nbformat_minor": 2
}
