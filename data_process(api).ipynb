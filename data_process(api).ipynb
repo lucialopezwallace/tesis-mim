{
 "cells": [
  {
   "cell_type": "markdown",
   "metadata": {},
   "source": [
    "Archivo utilizado para procesar la base de datos con la que trabajaremos"
   ]
  },
  {
   "cell_type": "markdown",
   "metadata": {},
   "source": [
    "Importamos librerias"
   ]
  },
  {
   "cell_type": "code",
   "execution_count": 14,
   "metadata": {},
   "outputs": [],
   "source": [
    "import pandas as pd\n",
    "import numpy as np"
   ]
  },
  {
   "cell_type": "markdown",
   "metadata": {},
   "source": [
    "Importamos Datos Privados"
   ]
  },
  {
   "cell_type": "code",
   "execution_count": 15,
   "metadata": {},
   "outputs": [
    {
     "name": "stdout",
     "output_type": "stream",
     "text": [
      "<class 'pandas.core.frame.DataFrame'>\n",
      "RangeIndex: 2288 entries, 0 to 2287\n",
      "Data columns (total 11 columns):\n",
      " #   Column       Non-Null Count  Dtype \n",
      "---  ------       --------------  ----- \n",
      " 0   precio       2288 non-null   int64 \n",
      " 1   currency     2288 non-null   object\n",
      " 2   localidad    2288 non-null   object\n",
      " 3   provincia    2288 non-null   object\n",
      " 4   km           2288 non-null   int64 \n",
      " 5   year         2288 non-null   int64 \n",
      " 6   marca        2288 non-null   object\n",
      " 7   fecha_visto  2288 non-null   object\n",
      " 8   modelo       2288 non-null   object\n",
      " 9   id           2288 non-null   int64 \n",
      " 10  type         2288 non-null   object\n",
      "dtypes: int64(4), object(7)\n",
      "memory usage: 196.8+ KB\n"
     ]
    }
   ],
   "source": [
    "# Levanto la base de datos privados con la que trabajeremos\n",
    "df_k = pd.read_csv('base_kavak.csv', sep=\";\")\n",
    "\n",
    "# Observamos nuestro dataset\n",
    "df_k.info()\n",
    "df_k.shape\n",
    "# (2532, 15)\n",
    "\n",
    "# Armo una lista de los modelos disponibles en el dataset\n",
    "modelos = df_k['modelo'].unique().tolist()\n",
    "# 146 modelos"
   ]
  },
  {
   "cell_type": "markdown",
   "metadata": {},
   "source": [
    "Importamos Datos Públicos"
   ]
  },
  {
   "cell_type": "code",
   "execution_count": 18,
   "metadata": {},
   "outputs": [],
   "source": [
    "# Levanto la base de datos públicos con la que trabajeremos\n",
    "df_0 = pd.read_excel('data_api.xlsx')"
   ]
  },
  {
   "cell_type": "code",
   "execution_count": 19,
   "metadata": {},
   "outputs": [
    {
     "name": "stdout",
     "output_type": "stream",
     "text": [
      "<class 'pandas.core.frame.DataFrame'>\n",
      "RangeIndex: 20797 entries, 0 to 20796\n",
      "Data columns (total 52 columns):\n",
      " #   Column                 Non-Null Count  Dtype  \n",
      "---  ------                 --------------  -----  \n",
      " 0   id                     20797 non-null  object \n",
      " 1   site_id                20797 non-null  object \n",
      " 2   title                  20797 non-null  object \n",
      " 3   price                  20797 non-null  int64  \n",
      " 4   currency_id            20797 non-null  object \n",
      " 5   available_quantity     20797 non-null  int64  \n",
      " 6   sold_quantity          20797 non-null  int64  \n",
      " 7   buying_mode            20797 non-null  object \n",
      " 8   listing_type_id        20797 non-null  object \n",
      " 9   stop_time              20797 non-null  object \n",
      " 10  condition              20797 non-null  object \n",
      " 11  permalink              20797 non-null  object \n",
      " 12  thumbnail              20781 non-null  object \n",
      " 13  thumbnail_id           20781 non-null  object \n",
      " 14  accepts_mercadopago    20797 non-null  bool   \n",
      " 15  address                20797 non-null  object \n",
      " 16  seller_address         20797 non-null  object \n",
      " 17  attributes             20797 non-null  object \n",
      " 18  category_id            20797 non-null  object \n",
      " 19  official_store_id      3422 non-null   float64\n",
      " 20  domain_id              20797 non-null  object \n",
      " 21  catalog_product_id     18216 non-null  object \n",
      " 22  tags                   20797 non-null  object \n",
      " 23  order_backend          20797 non-null  int64  \n",
      " 24  use_thumbnail_id       20797 non-null  bool   \n",
      " 25  Condición del ítem     20797 non-null  object \n",
      " 26  Marca                  20797 non-null  object \n",
      " 27  Puertas                20797 non-null  int64  \n",
      " 28  Tipo de combustible    20797 non-null  object \n",
      " 29  Kilómetros             20797 non-null  object \n",
      " 30  Modelo                 20797 non-null  object \n",
      " 31  Versión                20797 non-null  object \n",
      " 32  Año                    20797 non-null  int64  \n",
      " 33  adressstate_id         20797 non-null  object \n",
      " 34  adressstate_name       20797 non-null  object \n",
      " 35  adresscity_id          20788 non-null  object \n",
      " 36  adresscity_name        20797 non-null  object \n",
      " 37  adressarea_code        0 non-null      float64\n",
      " 38  adressphone1           0 non-null      float64\n",
      " 39  Único dueño            6676 non-null   object \n",
      " 40  Control de tracción    19351 non-null  object \n",
      " 41  Motor                  19460 non-null  object \n",
      " 42  Transmisión            19642 non-null  object \n",
      " 43  Aire acondicionado     12069 non-null  object \n",
      " 44  Cilindrada             17780 non-null  object \n",
      " 45  Largo                  17780 non-null  object \n",
      " 46  Capacidad de personas  17975 non-null  float64\n",
      " 47  Potencia               17780 non-null  object \n",
      " 48  Línea                  535 non-null    object \n",
      " 49  Cilindros              6 non-null      float64\n",
      " 50  Horas de uso           1 non-null      object \n",
      " 51  Power trim             1 non-null      object \n",
      "dtypes: bool(2), float64(5), int64(6), object(39)\n",
      "memory usage: 8.0+ MB\n"
     ]
    },
    {
     "data": {
      "text/plain": [
       "(20797, 52)"
      ]
     },
     "execution_count": 19,
     "metadata": {},
     "output_type": "execute_result"
    }
   ],
   "source": [
    "# Observamos nuestro dataset\n",
    "df_0.info()\n",
    "df_0.shape\n",
    "# (51360, 9)"
   ]
  },
  {
   "cell_type": "code",
   "execution_count": 20,
   "metadata": {},
   "outputs": [
    {
     "name": "stdout",
     "output_type": "stream",
     "text": [
      "0\n"
     ]
    }
   ],
   "source": [
    "# Evaluamos si tiene duplicados\n",
    "print(df_0.duplicated().sum())\n",
    "# 0 filas duplicadas"
   ]
  },
  {
   "cell_type": "code",
   "execution_count": null,
   "metadata": {},
   "outputs": [],
   "source": [
    "# Evaluamos si tiene nulos\n",
    "df_0.isna().sum().sort_values()\n",
    "# Varias variables tienen nulos"
   ]
  },
  {
   "cell_type": "code",
   "execution_count": 12,
   "metadata": {},
   "outputs": [],
   "source": [
    "# Sacamos aquellas publicadas con valor en Dolares\n",
    "df_1 = df_0.drop(df[df['currency_id']=='USD'].index)"
   ]
  },
  {
   "cell_type": "code",
   "execution_count": 13,
   "metadata": {},
   "outputs": [
    {
     "name": "stdout",
     "output_type": "stream",
     "text": [
      "<class 'pandas.core.frame.DataFrame'>\n",
      "Int64Index: 15551 entries, 0 to 20796\n",
      "Data columns (total 52 columns):\n",
      " #   Column                 Non-Null Count  Dtype  \n",
      "---  ------                 --------------  -----  \n",
      " 0   id                     15551 non-null  object \n",
      " 1   site_id                15551 non-null  object \n",
      " 2   title                  15551 non-null  object \n",
      " 3   price                  15551 non-null  int64  \n",
      " 4   currency_id            15551 non-null  object \n",
      " 5   available_quantity     15551 non-null  int64  \n",
      " 6   sold_quantity          15551 non-null  int64  \n",
      " 7   buying_mode            15551 non-null  object \n",
      " 8   listing_type_id        15551 non-null  object \n",
      " 9   stop_time              15551 non-null  object \n",
      " 10  condition              15551 non-null  object \n",
      " 11  permalink              15551 non-null  object \n",
      " 12  thumbnail              15541 non-null  object \n",
      " 13  thumbnail_id           15541 non-null  object \n",
      " 14  accepts_mercadopago    15551 non-null  bool   \n",
      " 15  address                15551 non-null  object \n",
      " 16  seller_address         15551 non-null  object \n",
      " 17  attributes             15551 non-null  object \n",
      " 18  category_id            15551 non-null  object \n",
      " 19  official_store_id      3055 non-null   float64\n",
      " 20  domain_id              15551 non-null  object \n",
      " 21  catalog_product_id     13934 non-null  object \n",
      " 22  tags                   15551 non-null  object \n",
      " 23  order_backend          15551 non-null  int64  \n",
      " 24  use_thumbnail_id       15551 non-null  bool   \n",
      " 25  Condición del ítem     15551 non-null  object \n",
      " 26  Marca                  15551 non-null  object \n",
      " 27  Puertas                15551 non-null  int64  \n",
      " 28  Tipo de combustible    15551 non-null  object \n",
      " 29  Kilómetros             15551 non-null  object \n",
      " 30  Modelo                 15551 non-null  object \n",
      " 31  Versión                15551 non-null  object \n",
      " 32  Año                    15551 non-null  int64  \n",
      " 33  adressstate_id         15551 non-null  object \n",
      " 34  adressstate_name       15551 non-null  object \n",
      " 35  adresscity_id          15542 non-null  object \n",
      " 36  adresscity_name        15551 non-null  object \n",
      " 37  adressarea_code        0 non-null      float64\n",
      " 38  adressphone1           0 non-null      float64\n",
      " 39  Único dueño            5346 non-null   object \n",
      " 40  Control de tracción    14627 non-null  object \n",
      " 41  Motor                  14776 non-null  object \n",
      " 42  Transmisión            14838 non-null  object \n",
      " 43  Aire acondicionado     8955 non-null   object \n",
      " 44  Cilindrada             13596 non-null  object \n",
      " 45  Largo                  13620 non-null  object \n",
      " 46  Capacidad de personas  13756 non-null  float64\n",
      " 47  Potencia               13595 non-null  object \n",
      " 48  Línea                  513 non-null    object \n",
      " 49  Cilindros              4 non-null      float64\n",
      " 50  Horas de uso           1 non-null      object \n",
      " 51  Power trim             1 non-null      object \n",
      "dtypes: bool(2), float64(5), int64(6), object(39)\n",
      "memory usage: 6.1+ MB\n"
     ]
    },
    {
     "data": {
      "text/html": [
       "<div>\n",
       "<style scoped>\n",
       "    .dataframe tbody tr th:only-of-type {\n",
       "        vertical-align: middle;\n",
       "    }\n",
       "\n",
       "    .dataframe tbody tr th {\n",
       "        vertical-align: top;\n",
       "    }\n",
       "\n",
       "    .dataframe thead th {\n",
       "        text-align: right;\n",
       "    }\n",
       "</style>\n",
       "<table border=\"1\" class=\"dataframe\">\n",
       "  <thead>\n",
       "    <tr style=\"text-align: right;\">\n",
       "      <th></th>\n",
       "      <th>price</th>\n",
       "      <th>available_quantity</th>\n",
       "      <th>sold_quantity</th>\n",
       "      <th>official_store_id</th>\n",
       "      <th>order_backend</th>\n",
       "      <th>Puertas</th>\n",
       "      <th>Año</th>\n",
       "      <th>adressarea_code</th>\n",
       "      <th>adressphone1</th>\n",
       "      <th>Capacidad de personas</th>\n",
       "      <th>Cilindros</th>\n",
       "    </tr>\n",
       "  </thead>\n",
       "  <tbody>\n",
       "    <tr>\n",
       "      <th>count</th>\n",
       "      <td>1.555100e+04</td>\n",
       "      <td>15551.000000</td>\n",
       "      <td>15551.0</td>\n",
       "      <td>3055.000000</td>\n",
       "      <td>15551.000000</td>\n",
       "      <td>15551.000000</td>\n",
       "      <td>15551.000000</td>\n",
       "      <td>0.0</td>\n",
       "      <td>0.0</td>\n",
       "      <td>13756.000000</td>\n",
       "      <td>4.00</td>\n",
       "    </tr>\n",
       "    <tr>\n",
       "      <th>mean</th>\n",
       "      <td>4.161196e+06</td>\n",
       "      <td>4.042184</td>\n",
       "      <td>0.0</td>\n",
       "      <td>2202.488380</td>\n",
       "      <td>25.110668</td>\n",
       "      <td>4.372388</td>\n",
       "      <td>2016.111954</td>\n",
       "      <td>NaN</td>\n",
       "      <td>NaN</td>\n",
       "      <td>4.963652</td>\n",
       "      <td>3.75</td>\n",
       "    </tr>\n",
       "    <tr>\n",
       "      <th>std</th>\n",
       "      <td>3.392927e+06</td>\n",
       "      <td>113.847184</td>\n",
       "      <td>0.0</td>\n",
       "      <td>293.883109</td>\n",
       "      <td>14.432089</td>\n",
       "      <td>0.826744</td>\n",
       "      <td>6.918850</td>\n",
       "      <td>NaN</td>\n",
       "      <td>NaN</td>\n",
       "      <td>1.284073</td>\n",
       "      <td>0.50</td>\n",
       "    </tr>\n",
       "    <tr>\n",
       "      <th>min</th>\n",
       "      <td>1.000000e+05</td>\n",
       "      <td>1.000000</td>\n",
       "      <td>0.0</td>\n",
       "      <td>1845.000000</td>\n",
       "      <td>1.000000</td>\n",
       "      <td>-5.000000</td>\n",
       "      <td>1930.000000</td>\n",
       "      <td>NaN</td>\n",
       "      <td>NaN</td>\n",
       "      <td>2.000000</td>\n",
       "      <td>3.00</td>\n",
       "    </tr>\n",
       "    <tr>\n",
       "      <th>25%</th>\n",
       "      <td>2.299900e+06</td>\n",
       "      <td>1.000000</td>\n",
       "      <td>0.0</td>\n",
       "      <td>1920.000000</td>\n",
       "      <td>13.000000</td>\n",
       "      <td>4.000000</td>\n",
       "      <td>2013.000000</td>\n",
       "      <td>NaN</td>\n",
       "      <td>NaN</td>\n",
       "      <td>5.000000</td>\n",
       "      <td>3.75</td>\n",
       "    </tr>\n",
       "    <tr>\n",
       "      <th>50%</th>\n",
       "      <td>3.490000e+06</td>\n",
       "      <td>1.000000</td>\n",
       "      <td>0.0</td>\n",
       "      <td>2143.000000</td>\n",
       "      <td>25.000000</td>\n",
       "      <td>5.000000</td>\n",
       "      <td>2018.000000</td>\n",
       "      <td>NaN</td>\n",
       "      <td>NaN</td>\n",
       "      <td>5.000000</td>\n",
       "      <td>4.00</td>\n",
       "    </tr>\n",
       "    <tr>\n",
       "      <th>75%</th>\n",
       "      <td>5.200000e+06</td>\n",
       "      <td>1.000000</td>\n",
       "      <td>0.0</td>\n",
       "      <td>2445.000000</td>\n",
       "      <td>38.000000</td>\n",
       "      <td>5.000000</td>\n",
       "      <td>2021.000000</td>\n",
       "      <td>NaN</td>\n",
       "      <td>NaN</td>\n",
       "      <td>5.000000</td>\n",
       "      <td>4.00</td>\n",
       "    </tr>\n",
       "    <tr>\n",
       "      <th>max</th>\n",
       "      <td>1.300000e+08</td>\n",
       "      <td>5000.000000</td>\n",
       "      <td>0.0</td>\n",
       "      <td>2833.000000</td>\n",
       "      <td>50.000000</td>\n",
       "      <td>7.000000</td>\n",
       "      <td>2023.000000</td>\n",
       "      <td>NaN</td>\n",
       "      <td>NaN</td>\n",
       "      <td>20.000000</td>\n",
       "      <td>4.00</td>\n",
       "    </tr>\n",
       "  </tbody>\n",
       "</table>\n",
       "</div>"
      ],
      "text/plain": [
       "              price  available_quantity  sold_quantity  official_store_id  \\\n",
       "count  1.555100e+04        15551.000000        15551.0        3055.000000   \n",
       "mean   4.161196e+06            4.042184            0.0        2202.488380   \n",
       "std    3.392927e+06          113.847184            0.0         293.883109   \n",
       "min    1.000000e+05            1.000000            0.0        1845.000000   \n",
       "25%    2.299900e+06            1.000000            0.0        1920.000000   \n",
       "50%    3.490000e+06            1.000000            0.0        2143.000000   \n",
       "75%    5.200000e+06            1.000000            0.0        2445.000000   \n",
       "max    1.300000e+08         5000.000000            0.0        2833.000000   \n",
       "\n",
       "       order_backend       Puertas           Año  adressarea_code  \\\n",
       "count   15551.000000  15551.000000  15551.000000              0.0   \n",
       "mean       25.110668      4.372388   2016.111954              NaN   \n",
       "std        14.432089      0.826744      6.918850              NaN   \n",
       "min         1.000000     -5.000000   1930.000000              NaN   \n",
       "25%        13.000000      4.000000   2013.000000              NaN   \n",
       "50%        25.000000      5.000000   2018.000000              NaN   \n",
       "75%        38.000000      5.000000   2021.000000              NaN   \n",
       "max        50.000000      7.000000   2023.000000              NaN   \n",
       "\n",
       "       adressphone1  Capacidad de personas  Cilindros  \n",
       "count           0.0           13756.000000       4.00  \n",
       "mean            NaN               4.963652       3.75  \n",
       "std             NaN               1.284073       0.50  \n",
       "min             NaN               2.000000       3.00  \n",
       "25%             NaN               5.000000       3.75  \n",
       "50%             NaN               5.000000       4.00  \n",
       "75%             NaN               5.000000       4.00  \n",
       "max             NaN              20.000000       4.00  "
      ]
     },
     "execution_count": 13,
     "metadata": {},
     "output_type": "execute_result"
    }
   ],
   "source": [
    "df_1.shape\n",
    "df_1.info()\n",
    "df_1.describe()"
   ]
  },
  {
   "cell_type": "markdown",
   "metadata": {},
   "source": [
    "Guardamos la info en un Excel"
   ]
  },
  {
   "cell_type": "code",
   "execution_count": null,
   "metadata": {},
   "outputs": [],
   "source": [
    "# Guardamos la información en un Excel\n",
    "\n",
    "# Exporto a un Excel\n",
    "datos_api = df_1\n",
    "datos_api.to_excel('data_ready_to_model_api.xlsx', index=False)"
   ]
  }
 ],
 "metadata": {
  "interpreter": {
   "hash": "e3e9a750fc05e5a08aac5c7f68a373d320e024e5143e44a9c92a2cb2852add95"
  },
  "kernelspec": {
   "display_name": "Python 3.9.7 ('base')",
   "language": "python",
   "name": "python3"
  },
  "language_info": {
   "codemirror_mode": {
    "name": "ipython",
    "version": 3
   },
   "file_extension": ".py",
   "mimetype": "text/x-python",
   "name": "python",
   "nbconvert_exporter": "python",
   "pygments_lexer": "ipython3",
   "version": "3.9.7"
  },
  "orig_nbformat": 4
 },
 "nbformat": 4,
 "nbformat_minor": 2
}
