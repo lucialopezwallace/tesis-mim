{
 "cells": [
  {
   "cell_type": "markdown",
   "metadata": {},
   "source": [
    "Importamos librerias"
   ]
  },
  {
   "cell_type": "code",
   "execution_count": 28,
   "metadata": {},
   "outputs": [],
   "source": [
    "import numpy as np\n",
    "import pandas as pd\n",
    "from sklearn.model_selection import train_test_split\n",
    "from sklearn.linear_model import LinearRegression\n",
    "from sklearn.preprocessing import StandardScaler\n",
    "from sklearn.compose import make_column_selector\n",
    "from sklearn.model_selection import cross_val_score\n",
    "from sklearn import metrics"
   ]
  },
  {
   "cell_type": "markdown",
   "metadata": {},
   "source": [
    "Importamos One Hot Encoder"
   ]
  },
  {
   "cell_type": "code",
   "execution_count": 29,
   "metadata": {},
   "outputs": [],
   "source": [
    "# Archivo utilizado para crear la función de One Hot Encoding\n",
    "############################################################# \n",
    "\n",
    "# Función auxiliar: Toma un df de variables categoricas y selección el top_x de categorias\n",
    "def one_hot_top_x(cat_df, variable,top_x_labels):\n",
    "    for label in top_x_labels:\n",
    "        cat_df[str(variable)+'_'+str(label)] = np.where(cat_df[variable]==label,1,0)\n",
    "\n",
    "# Función One Hot Encoder: Toma un DF y le hace una transformación de One Hot Encoder para con las categorias más repetidas \n",
    "def one_hot_encoder(df,top_x):\n",
    "    # Separo variables categoricas de númericas\n",
    "    num_cols = df.select_dtypes(include=['float64', 'int']).columns.to_list()\n",
    "    cat_cols = df.select_dtypes(include=['object', 'category']).columns.to_list()\n",
    "    \n",
    "    # Armo un DF solo con variables categoricas\n",
    "    cat_df = df.drop(num_cols,axis=1)\n",
    "    # Armo un DF solo con variables categoricas\n",
    "    num_df = df.drop(cat_cols,axis=1)\n",
    "   \n",
    "    # Itero entre las variables categoricas y me quedo con el top 10 variables\n",
    "    for variable in cat_cols:\n",
    "        top_10 = [x for x in cat_df[variable].value_counts().sort_values(ascending=False).head(top_x).index]\n",
    "        one_hot_top_x(cat_df,variable,top_10)\n",
    "    \n",
    "    cat_df = cat_df.drop(cat_cols,axis=1)\n",
    "    df = pd.concat([cat_df,num_df], axis =1)\n",
    "    \n",
    "    return df"
   ]
  },
  {
   "cell_type": "markdown",
   "metadata": {},
   "source": [
    "Importamos datos"
   ]
  },
  {
   "cell_type": "code",
   "execution_count": 86,
   "metadata": {},
   "outputs": [
    {
     "name": "stderr",
     "output_type": "stream",
     "text": [
      "C:\\Users\\LUCIA~1.LOP\\AppData\\Local\\Temp/ipykernel_16944/187505526.py:7: PerformanceWarning: DataFrame is highly fragmented.  This is usually the result of calling `frame.insert` many times, which has poor performance.  Consider joining all columns at once using pd.concat(axis=1) instead.  To get a de-fragmented frame, use `newframe = frame.copy()`\n",
      "  cat_df[str(variable)+'_'+str(label)] = np.where(cat_df[variable]==label,1,0)\n"
     ]
    }
   ],
   "source": [
    "# Levantamos los datos procesados\n",
    "datos_meli = pd.read_excel('data_ready_to_model.xlsx')\n",
    "datos_meli['type'] = 'meli' \n",
    "\n",
    "# Uno los DF\n",
    "\n",
    "frames = [datos_meli, datos_privadis]\n",
    "datos = pd.concat(frames)\n",
    "\n",
    "datos = one_hot_encoder(datos,100)\n",
    "datos_meli = datos[(datos['type_meli'] == 1)] \n",
    "datos_meli = datos_meli.drop('type_meli',axis=1)"
   ]
  },
  {
   "cell_type": "markdown",
   "metadata": {},
   "source": [
    "MODELO REGRESION LINEAL - Base"
   ]
  },
  {
   "cell_type": "code",
   "execution_count": 88,
   "metadata": {},
   "outputs": [
    {
     "name": "stdout",
     "output_type": "stream",
     "text": [
      "Mean Absolute Error: 991.1\n",
      "Mean Squared Error: 9201689968.37\n",
      "Root Mean Squared Error: 3033.43\n"
     ]
    }
   ],
   "source": [
    "x = datos_meli.drop('precio',axis=1)\n",
    "\n",
    "#separte the predicting attribute into Y for model training \n",
    "y = datos_meli['precio']\n",
    "\n",
    "X_train, X_test, y_train, y_test = train_test_split(\n",
    "                                        x,\n",
    "                                        y,\n",
    "                                        train_size   = 0.8,\n",
    "                                        random_state = 1234,\n",
    "                                        shuffle      = True\n",
    "                                    )\n",
    "\n",
    "\n",
    "# Entrenamos el modelo\n",
    "model = LinearRegression()\n",
    "model.fit(X_train, y_train)\n",
    "y_pred = model.predict(X_test)\n",
    "\n",
    "# MIramos los resultados\n",
    "print('Mean Absolute Error:', round(metrics.mean_absolute_error(y_test, y_pred)/1000,2))\n",
    "print('Mean Squared Error:', round(metrics.mean_squared_error(y_test, y_pred)/1000,2))\n",
    "print('Root Mean Squared Error:', round(np.sqrt(metrics.mean_squared_error(y_test, y_pred))/1000,2))"
   ]
  },
  {
   "cell_type": "markdown",
   "metadata": {},
   "source": [
    "MODELO DE REGRESION LINEAL - Logaritmo de Precio"
   ]
  },
  {
   "cell_type": "code",
   "execution_count": 90,
   "metadata": {},
   "outputs": [
    {
     "name": "stdout",
     "output_type": "stream",
     "text": [
      "Partición de entrenamiento\n",
      "-----------------------\n",
      "count    19712.000000\n",
      "mean        14.776689\n",
      "std          0.506936\n",
      "min         12.180755\n",
      "25%         14.452087\n",
      "50%         14.731801\n",
      "75%         15.065412\n",
      "max         18.064006\n",
      "Name: precio, dtype: float64\n",
      "Partición de test\n",
      "-----------------------\n",
      "count    4929.000000\n",
      "mean       14.790185\n",
      "std         0.519188\n",
      "min        12.180755\n",
      "25%        14.457364\n",
      "50%        14.751604\n",
      "75%        15.068274\n",
      "max        18.526041\n",
      "Name: precio, dtype: float64\n",
      "Mean Absolute Error: 881.68\n",
      "Mean Squared Error: 9166898967.02\n",
      "Root Mean Squared Error: 3027.69\n"
     ]
    }
   ],
   "source": [
    "x = datos_meli.drop('precio',axis=1)\n",
    "\n",
    "#separte the predicting attribute into Y for model training \n",
    "y = datos_meli['precio']\n",
    "y_ln = np.log(datos_meli['precio'])\n",
    "\n",
    "\n",
    "X_train, X_test, y_train_ln, y_test_ln = train_test_split(\n",
    "                                        x,\n",
    "                                        y_ln,\n",
    "                                        train_size   = 0.8,\n",
    "                                        random_state = 1234,\n",
    "                                        shuffle      = True\n",
    "                                    )\n",
    "\n",
    "\n",
    "print(\"Partición de entrenamiento\")\n",
    "print(\"-----------------------\")\n",
    "print(y_train_ln.describe())\n",
    "\n",
    "print(\"Partición de test\")\n",
    "print(\"-----------------------\")\n",
    "print(y_test_ln.describe())\n",
    "\n",
    "# Entrenamos el modelo\n",
    "model_ln = LinearRegression()\n",
    "model_ln.fit(X_train, y_train_ln)\n",
    "y_pred_ln = model_ln.predict(X_test)\n",
    "\n",
    "#  Saco exponencial de los valores de Y\n",
    "y_test = np.exp(y_test_ln)\n",
    "y_pred = np.exp(y_pred_ln)\n",
    "\n",
    "# MIramos los resultados\n",
    "\n",
    "print('Mean Absolute Error:', round(metrics.mean_absolute_error(y_test, y_pred)/1000,2))\n",
    "print('Mean Squared Error:', round(metrics.mean_squared_error(y_test, y_pred)/1000,2))\n",
    "print('Root Mean Squared Error:', round(np.sqrt(metrics.mean_squared_error(y_test, y_pred))/1000,2))\n"
   ]
  }
 ],
 "metadata": {
  "interpreter": {
   "hash": "8cf70fa425c1af7ec2a70e768ac357c0906a7df2aaa6930987a347744fc5cd8d"
  },
  "kernelspec": {
   "display_name": "Python 3.9.7 ('base')",
   "language": "python",
   "name": "python3"
  },
  "language_info": {
   "codemirror_mode": {
    "name": "ipython",
    "version": 3
   },
   "file_extension": ".py",
   "mimetype": "text/x-python",
   "name": "python",
   "nbconvert_exporter": "python",
   "pygments_lexer": "ipython3",
   "version": "3.9.7"
  },
  "orig_nbformat": 4
 },
 "nbformat": 4,
 "nbformat_minor": 2
}
